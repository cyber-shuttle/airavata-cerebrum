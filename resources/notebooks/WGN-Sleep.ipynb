{
 "cells": [
  {
   "cell_type": "code",
   "execution_count": 1,
   "id": "f933cf90-e3fe-45fd-abe1-0bd8ae522c26",
   "metadata": {
    "tags": []
   },
   "outputs": [],
   "source": [
    "%load_ext autoreload\n",
    "%autoreload 2 "
   ]
  },
  {
   "cell_type": "code",
   "execution_count": 2,
   "id": "a121e7e3-15e6-477c-9990-c07aa27ba12f",
   "metadata": {
    "tags": []
   },
   "outputs": [],
   "source": [
    "import logging\n",
    "import itertools\n",
    "import ast\n",
    "#\n",
    "import airavata_cerebrum.model.setup as cbm_setup\n",
    "import airavata_cerebrum.view.tree as cbm_tree\n",
    "import airavata_cerebrum.model.recipe as cbm_recipe\n",
    "import airavata_cerebrum.util.io as cbm_io\n",
    "import wbn_sleep.model as wbn_model"
   ]
  },
  {
   "cell_type": "markdown",
   "id": "0b863ec2-abd5-423c-a8f0-a50f6d7d9c31",
   "metadata": {},
   "source": [
    "# Setup the Model Recipe and the Recipe Templates\n",
    "\n",
    "Model recipe is defined by a recipe file named recipe.json and template file name recipe_template.json. \n",
    "The files are placed in the recipe directory, canonically under the base directory of the model.\n",
    "\n",
    "## recipe.json\n",
    "\n",
    "recipe.json contains two sections: (1) data2model_map and (2) source_data. \n",
    "data2model_map maps between how the different parts of the model map to the source data. \n",
    "The source_data describes how the source databases are connected and different operations such as filters are applied to the data available from the specific database.\n",
    "\n",
    "\n",
    "**Currently this is not used in the construction. In the future, this may be added to the consturction**"
   ]
  },
  {
   "cell_type": "code",
   "execution_count": 3,
   "id": "cd55b3d9-efd6-457e-aa35-546d64526d28",
   "metadata": {
    "tags": []
   },
   "outputs": [],
   "source": [
    "import pathlib\n",
    "model_base_dir = \"./\"\n",
    "model_name = \"wbn_sleep\"\n",
    "custom_mod_file = \"./wbn_sleep/recipe/custom_mod.json\"\n",
    "recipe_dir = \"./wbn_sleep/recipe/\"\n",
    "recipe_files={\"recipe\": [\"recipe.json\"], \"templates\": [\"recipe_template.json\"] }\n",
    "recipe_main_file = pathlib.Path(recipe_dir, recipe_files[\"recipe\"][0])"
   ]
  },
  {
   "cell_type": "code",
   "execution_count": 4,
   "id": "7c922aeb-0e94-4158-b585-28f697df5baf",
   "metadata": {
    "tags": []
   },
   "outputs": [
    {
     "data": {
      "application/json": {
       "data2model_map": {
        "connections": {},
        "locations": {
         "Left": {
          "'CX": {
           "property_map": {
            "ei": "e"
           },
           "source_data": {}
          },
          "'CX3": {
           "property_map": {
            "ei": "e"
           },
           "source_data": {}
          },
          "'CX4": {
           "property_map": {
            "ei": "e"
           },
           "source_data": {}
          },
          "'CX5a": {
           "property_map": {
            "ei": "e"
           },
           "source_data": {}
          },
          "'CX6": {
           "property_map": {
            "ei": "e"
           },
           "source_data": {}
          },
          "'IN": {
           "property_map": {
            "ei": "i"
           },
           "source_data": {}
          },
          "'IN3": {
           "property_map": {
            "ei": "i"
           },
           "source_data": {}
          },
          "'IN4": {
           "property_map": {
            "ei": "i"
           },
           "source_data": {}
          },
          "'IN5a": {
           "property_map": {
            "ei": "i"
           },
           "source_data": {}
          },
          "'IN5b": {
           "property_map": {
            "ei": "i"
           },
           "source_data": {}
          },
          "'IN6": {
           "property_map": {
            "ei": "i"
           },
           "source_data": {}
          },
          "'RE": {
           "property_map": {
            "ei": "e"
           },
           "source_data": {}
          },
          "'REa": {
           "property_map": {
            "ei": "e"
           },
           "source_data": {}
          },
          "'TC": {
           "property_map": {
            "ei": "e"
           },
           "source_data": {}
          },
          "'TCa": {
           "property_map": {
            "ei": "e"
           },
           "source_data": {}
          },
          "property_map": {
           "neurons": [
            "RE",
            "REa",
            "TC",
            "TCa",
            "CX",
            "CX3",
            "CX4",
            "CX5a",
            "CX6",
            "IN",
            "IN3",
            "IN4",
            "IN5a",
            "IN5b",
            "IN6"
           ],
           "source_data": {}
          }
         },
         "Right": {
          "'CX": {
           "property_map": {
            "ei": "i"
           },
           "source_data": {}
          },
          "'CX3": {
           "property_map": {
            "ei": "i"
           },
           "source_data": {}
          },
          "'CX4": {
           "property_map": {
            "ei": "i"
           },
           "source_data": {}
          },
          "'CX5a": {
           "property_map": {
            "ei": "i"
           },
           "source_data": {}
          },
          "'CX6": {
           "property_map": {
            "ei": "i"
           },
           "source_data": {}
          },
          "'IN": {
           "property_map": {
            "ei": "i"
           },
           "source_data": {}
          },
          "'IN3": {
           "property_map": {
            "ei": "i"
           },
           "source_data": {}
          },
          "'IN4": {
           "property_map": {
            "ei": "i"
           },
           "source_data": {}
          },
          "'IN5a": {
           "property_map": {
            "ei": "i"
           },
           "source_data": {}
          },
          "'IN5b": {
           "property_map": {
            "ei": "i"
           },
           "source_data": {}
          },
          "'IN6": {
           "property_map": {
            "ei": "i"
           },
           "source_data": {}
          },
          "'RE": {
           "property_map": {
            "ei": "i"
           },
           "source_data": {}
          },
          "'REa": {
           "property_map": {
            "ei": "i"
           },
           "source_data": {}
          },
          "'TC": {
           "property_map": {
            "ei": "i"
           },
           "source_data": {}
          },
          "'TCa": {
           "property_map": {
            "ei": "i"
           },
           "source_data": {}
          },
          "property_map": {
           "neurons": [
            "'rRE",
            "'rREa",
            "'rTC",
            "'rTCa",
            "'rCX",
            "'rCX3",
            "'rCX4",
            "'rCX5a",
            "'rCX6",
            "'rIN",
            "'rIN3",
            "'rIN4",
            "'rIN5a",
            "'rIN5b",
            "'rIN6"
           ],
           "source_data": {}
          }
         }
        }
       },
       "source_data": {}
      },
      "text/plain": [
       "<IPython.core.display.JSON object>"
      ]
     },
     "execution_count": 4,
     "metadata": {
      "application/json": {
       "expanded": false,
       "root": "root"
      }
     },
     "output_type": "execute_result"
    }
   ],
   "source": [
    "import IPython.display\n",
    "import json\n",
    "with open(recipe_main_file) as ifx:\n",
    "    config_dict = json.load(ifx)\n",
    "IPython.display.JSON(config_dict)"
   ]
  },
  {
   "cell_type": "code",
   "execution_count": 5,
   "id": "a5a537ed-6a8d-4e4c-9919-7e34df469d2c",
   "metadata": {
    "tags": []
   },
   "outputs": [
    {
     "name": "stderr",
     "output_type": "stream",
     "text": [
      "Loading View Templates\n"
     ]
    }
   ],
   "source": [
    "mdr_setup = cbm_setup.init_model_setup(\n",
    "    name=model_name,\n",
    "    model_base_dir=model_base_dir,\n",
    "    recipe_files=recipe_files,\n",
    "    recipe_dir=recipe_dir,\n",
    ")"
   ]
  },
  {
   "cell_type": "markdown",
   "id": "19d078dd-2e85-4861-bcb9-40a1e520bde3",
   "metadata": {},
   "source": [
    "## Whole brain Network\n",
    "\n",
    "The network is defined byt the \"custom_mod.json\". It includes:\n",
    "- Details required for network construction that are either not available in the linked databases or over-ride specific information.\n",
    "- Utilities to visualize these modifications in Jupyter Notebook.\n",
    "\n",
    "For the Whole brain network, it includes\n",
    "1. Neuron Types and Dimensions.\n",
    "2. Connection Types and Parameters.\n",
    "3. Input Data files. \n",
    "\n",
    "Using the templates we can view the user custom modifications with Jupter notebook widgets. Running the next cell should produce a visualization in the image below:\n",
    "\n"
   ]
  },
  {
   "cell_type": "code",
   "execution_count": 6,
   "id": "1faef629-3291-4886-81a3-35a5fcbf3aa5",
   "metadata": {
    "tags": []
   },
   "outputs": [
    {
     "data": {
      "application/json": {
       "connections": {
        "CX,CX": {
         "connect_models": {
          "CX,CX,AMPAMap_D1": {
           "name": "CX,CX,AMPAMap_D1",
           "property_map": {
            "col_sci": 1000,
            "distribution": "fixed",
            "mini_f": 500,
            "mini_s": 1.6e-06,
            "name": "AMPAMap_D1",
            "prob": 1,
            "prob_oc": 1,
            "radius": 10.1,
            "strength": 0.0002
           }
          },
          "CX,CX,NMDAMap_D1": {
           "name": "CX,CX,NMDAMap_D1",
           "property_map": {
            "col_sci": 1000,
            "distribution": "fixed",
            "mini_f": 0,
            "mini_s": 0,
            "name": "NMDAMap_D1",
            "prob": 1,
            "prob_oc": 1,
            "radius": 10.1,
            "strength": 1e-08
           }
          }
         },
         "name": "CX,CX",
         "post": [
          "x",
          "CX"
         ],
         "pre": [
          "x",
          "CX"
         ]
        },
        "CX,CX3": {
         "connect_models": {
          "CX,CX3,AMPAMap_D1": {
           "name": "CX,CX3,AMPAMap_D1",
           "property_map": {
            "col_sci": 1000,
            "distribution": "fixed",
            "mini_f": 500,
            "mini_s": 1.6e-06,
            "name": "AMPAMap_D1",
            "prob": 1,
            "prob_oc": 1,
            "radius": 10.1,
            "strength": 0.0002
           }
          },
          "CX,CX3,NMDAMap_D1": {
           "name": "CX,CX3,NMDAMap_D1",
           "property_map": {
            "col_sci": 1000,
            "distribution": "fixed",
            "mini_f": 0,
            "mini_s": 0,
            "name": "NMDAMap_D1",
            "prob": 1,
            "prob_oc": 1,
            "radius": 10.1,
            "strength": 1e-08
           }
          }
         },
         "name": "CX,CX3",
         "post": [
          "x",
          "CX3"
         ],
         "pre": [
          "x",
          "CX"
         ]
        },
        "CX,CX5a": {
         "connect_models": {
          "CX,CX5a,AMPAMap_D1": {
           "name": "CX,CX5a,AMPAMap_D1",
           "property_map": {
            "col_sci": 1000,
            "distribution": "fixed",
            "mini_f": 500,
            "mini_s": 1.6e-06,
            "name": "AMPAMap_D1",
            "prob": 1,
            "prob_oc": 1,
            "radius": 10.1,
            "strength": 0.0002
           }
          },
          "CX,CX5a,NMDAMap_D1": {
           "name": "CX,CX5a,NMDAMap_D1",
           "property_map": {
            "col_sci": 1000,
            "distribution": "fixed",
            "mini_f": 0,
            "mini_s": 0,
            "name": "NMDAMap_D1",
            "prob": 1,
            "prob_oc": 1,
            "radius": 10.1,
            "strength": 1e-08
           }
          }
         },
         "name": "CX,CX5a",
         "post": [
          "x",
          "CX5a"
         ],
         "pre": [
          "x",
          "CX"
         ]
        },
        "CX,CX5b": {
         "connect_models": {
          "CX,CX5b,AMPAMap_D1": {
           "name": "CX,CX5b,AMPAMap_D1",
           "property_map": {
            "col_sci": 1000,
            "distribution": "fixed",
            "mini_f": 500,
            "mini_s": 1.6e-06,
            "name": "AMPAMap_D1",
            "prob": 1,
            "prob_oc": 1,
            "radius": 10.1,
            "strength": 0.0002
           }
          },
          "CX,CX5b,NMDAMap_D1": {
           "name": "CX,CX5b,NMDAMap_D1",
           "property_map": {
            "col_sci": 1000,
            "distribution": "fixed",
            "mini_f": 0,
            "mini_s": 0,
            "name": "NMDAMap_D1",
            "prob": 1,
            "prob_oc": 1,
            "radius": 10.1,
            "strength": 1e-08
           }
          }
         },
         "name": "CX,CX5b",
         "post": [
          "x",
          "CX5b"
         ],
         "pre": [
          "x",
          "CX"
         ]
        },
        "CX,IN": {
         "connect_models": {
          "CX,IN,AMPAMap_D1": {
           "name": "CX,IN,AMPAMap_D1",
           "property_map": {
            "col_sci": 1000,
            "distribution": "fixed",
            "mini_f": 500,
            "mini_s": 1.6e-06,
            "name": "AMPAMap_D1",
            "prob": 1,
            "prob_oc": 1,
            "radius": 0.0136,
            "strength": 0.00063
           }
          },
          "CX,IN,NMDAMap_D1": {
           "name": "CX,IN,NMDAMap_D1",
           "property_map": {
            "col_sci": 1000,
            "distribution": "fixed",
            "mini_f": 0,
            "mini_s": 0,
            "name": "NMDAMap_D1",
            "prob": 1,
            "prob_oc": 1,
            "radius": 0.0136,
            "strength": 1e-07
           }
          }
         },
         "name": "CX,IN",
         "post": [
          "x",
          "IN"
         ],
         "pre": [
          "x",
          "CX"
         ]
        },
        "CX3,CX": {
         "connect_models": {
          "CX3,CX,AMPAMap_D1": {
           "name": "CX3,CX,AMPAMap_D1",
           "property_map": {
            "col_sci": 1000,
            "distribution": "fixed",
            "mini_f": 500,
            "mini_s": 1.6e-06,
            "name": "AMPAMap_D1",
            "prob": 1,
            "prob_oc": 1,
            "radius": 10.1,
            "strength": 0.0002
           }
          },
          "CX3,CX,NMDAMap_D1": {
           "name": "CX3,CX,NMDAMap_D1",
           "property_map": {
            "col_sci": 1000,
            "distribution": "fixed",
            "mini_f": 0,
            "mini_s": 0,
            "name": "NMDAMap_D1",
            "prob": 1,
            "prob_oc": 1,
            "radius": 10.1,
            "strength": 1e-08
           }
          }
         },
         "name": "CX3,CX",
         "post": [
          "x",
          "CX"
         ],
         "pre": [
          "x",
          "CX3"
         ]
        },
        "CX3,CX3": {
         "connect_models": {
          "CX3,CX3,AMPAMap_D1": {
           "name": "CX3,CX3,AMPAMap_D1",
           "property_map": {
            "col_sci": 1000,
            "distribution": "fixed",
            "mini_f": 500,
            "mini_s": 1.6e-06,
            "name": "AMPAMap_D1",
            "prob": 1,
            "prob_oc": 1,
            "radius": 10.1,
            "strength": 0.0002
           }
          },
          "CX3,CX3,NMDAMap_D1": {
           "name": "CX3,CX3,NMDAMap_D1",
           "property_map": {
            "col_sci": 1000,
            "distribution": "fixed",
            "mini_f": 0,
            "mini_s": 0,
            "name": "NMDAMap_D1",
            "prob": 1,
            "prob_oc": 1,
            "radius": 10.1,
            "strength": 1e-08
           }
          }
         },
         "name": "CX3,CX3",
         "post": [
          "x",
          "CX3"
         ],
         "pre": [
          "x",
          "CX3"
         ]
        },
        "CX3,CX4": {
         "connect_models": {
          "CX3,CX4,AMPAMap_D1": {
           "name": "CX3,CX4,AMPAMap_D1",
           "property_map": {
            "col_sci": 1000,
            "distribution": "fixed",
            "mini_f": 500,
            "mini_s": 1.6e-06,
            "name": "AMPAMap_D1",
            "prob": 1,
            "prob_oc": 1,
            "radius": 10.1,
            "strength": 0.0002
           }
          },
          "CX3,CX4,NMDAMap_D1": {
           "name": "CX3,CX4,NMDAMap_D1",
           "property_map": {
            "col_sci": 1000,
            "distribution": "fixed",
            "mini_f": 0,
            "mini_s": 0,
            "name": "NMDAMap_D1",
            "prob": 1,
            "prob_oc": 1,
            "radius": 10.1,
            "strength": 1e-08
           }
          }
         },
         "name": "CX3,CX4",
         "post": [
          "x",
          "CX4"
         ],
         "pre": [
          "x",
          "CX3"
         ]
        },
        "CX3,CX5a": {
         "connect_models": {
          "CX3,CX5a,AMPAMap_D1": {
           "name": "CX3,CX5a,AMPAMap_D1",
           "property_map": {
            "col_sci": 1000,
            "distribution": "fixed",
            "mini_f": 500,
            "mini_s": 1.6e-06,
            "name": "AMPAMap_D1",
            "prob": 1,
            "prob_oc": 1,
            "radius": 10.1,
            "strength": 0.0002
           }
          },
          "CX3,CX5a,NMDAMap_D1": {
           "name": "CX3,CX5a,NMDAMap_D1",
           "property_map": {
            "col_sci": 1000,
            "distribution": "fixed",
            "mini_f": 0,
            "mini_s": 0,
            "name": "NMDAMap_D1",
            "prob": 1,
            "prob_oc": 1,
            "radius": 10.1,
            "strength": 1e-08
           }
          }
         },
         "name": "CX3,CX5a",
         "post": [
          "x",
          "CX5a"
         ],
         "pre": [
          "x",
          "CX3"
         ]
        },
        "CX3,CX5b": {
         "connect_models": {
          "CX3,CX5b,AMPAMap_D1": {
           "name": "CX3,CX5b,AMPAMap_D1",
           "property_map": {
            "col_sci": 1000,
            "distribution": "fixed",
            "mini_f": 500,
            "mini_s": 1.6e-06,
            "name": "AMPAMap_D1",
            "prob": 1,
            "prob_oc": 1,
            "radius": 10.1,
            "strength": 0.0002
           }
          },
          "CX3,CX5b,NMDAMap_D1": {
           "name": "CX3,CX5b,NMDAMap_D1",
           "property_map": {
            "col_sci": 1000,
            "distribution": "fixed",
            "mini_f": 0,
            "mini_s": 0,
            "name": "NMDAMap_D1",
            "prob": 1,
            "prob_oc": 1,
            "radius": 10.1,
            "strength": 1e-08
           }
          }
         },
         "name": "CX3,CX5b",
         "post": [
          "x",
          "CX5b"
         ],
         "pre": [
          "x",
          "CX3"
         ]
        },
        "CX3,IN3": {
         "connect_models": {
          "CX3,IN3,AMPAMap_D1": {
           "name": "CX3,IN3,AMPAMap_D1",
           "property_map": {
            "col_sci": 1000,
            "distribution": "fixed",
            "mini_f": 500,
            "mini_s": 1.6e-06,
            "name": "AMPAMap_D1",
            "prob": 1,
            "prob_oc": 1,
            "radius": 0.0136,
            "strength": 0.00063
           }
          },
          "CX3,IN3,NMDAMap_D1": {
           "name": "CX3,IN3,NMDAMap_D1",
           "property_map": {
            "col_sci": 1000,
            "distribution": "fixed",
            "mini_f": 0,
            "mini_s": 0,
            "name": "NMDAMap_D1",
            "prob": 1,
            "prob_oc": 1,
            "radius": 0.0136,
            "strength": 1e-07
           }
          }
         },
         "name": "CX3,IN3",
         "post": [
          "x",
          "IN3"
         ],
         "pre": [
          "x",
          "CX3"
         ]
        },
        "CX4,CX": {
         "connect_models": {
          "CX4,CX,AMPAMap_D1": {
           "name": "CX4,CX,AMPAMap_D1",
           "property_map": {
            "col_sci": 1000,
            "distribution": "fixed",
            "mini_f": 500,
            "mini_s": 1.6e-06,
            "name": "AMPAMap_D1",
            "prob": 1,
            "prob_oc": 1,
            "radius": 10.1,
            "strength": 0.0002
           }
          },
          "CX4,CX,NMDAMap_D1": {
           "name": "CX4,CX,NMDAMap_D1",
           "property_map": {
            "col_sci": 1000,
            "distribution": "fixed",
            "mini_f": 0,
            "mini_s": 0,
            "name": "NMDAMap_D1",
            "prob": 1,
            "prob_oc": 1,
            "radius": 10.1,
            "strength": 1e-08
           }
          }
         },
         "name": "CX4,CX",
         "post": [
          "x",
          "CX"
         ],
         "pre": [
          "x",
          "CX4"
         ]
        },
        "CX4,CX3": {
         "connect_models": {
          "CX4,CX3,AMPAMap_D1": {
           "name": "CX4,CX3,AMPAMap_D1",
           "property_map": {
            "col_sci": 1000,
            "distribution": "fixed",
            "mini_f": 500,
            "mini_s": 1.6e-06,
            "name": "AMPAMap_D1",
            "prob": 1,
            "prob_oc": 1,
            "radius": 10.1,
            "strength": 0.0002
           }
          },
          "CX4,CX3,NMDAMap_D1": {
           "name": "CX4,CX3,NMDAMap_D1",
           "property_map": {
            "col_sci": 1000,
            "distribution": "fixed",
            "mini_f": 0,
            "mini_s": 0,
            "name": "NMDAMap_D1",
            "prob": 1,
            "prob_oc": 1,
            "radius": 10.1,
            "strength": 1e-08
           }
          }
         },
         "name": "CX4,CX3",
         "post": [
          "x",
          "CX3"
         ],
         "pre": [
          "x",
          "CX4"
         ]
        },
        "CX4,CX4": {
         "connect_models": {
          "CX4,CX4,AMPAMap_D1": {
           "name": "CX4,CX4,AMPAMap_D1",
           "property_map": {
            "col_sci": 1000,
            "distribution": "fixed",
            "mini_f": 500,
            "mini_s": 1.6e-06,
            "name": "AMPAMap_D1",
            "prob": 1,
            "prob_oc": 1,
            "radius": 10.1,
            "strength": 0.0002
           }
          },
          "CX4,CX4,NMDAMap_D1": {
           "name": "CX4,CX4,NMDAMap_D1",
           "property_map": {
            "col_sci": 1000,
            "distribution": "fixed",
            "mini_f": 0,
            "mini_s": 0,
            "name": "NMDAMap_D1",
            "prob": 1,
            "prob_oc": 1,
            "radius": 10.1,
            "strength": 1e-08
           }
          }
         },
         "name": "CX4,CX4",
         "post": [
          "x",
          "CX4"
         ],
         "pre": [
          "x",
          "CX4"
         ]
        },
        "CX4,CX5a": {
         "connect_models": {
          "CX4,CX5a,AMPAMap_D1": {
           "name": "CX4,CX5a,AMPAMap_D1",
           "property_map": {
            "col_sci": 1000,
            "distribution": "fixed",
            "mini_f": 500,
            "mini_s": 1.6e-06,
            "name": "AMPAMap_D1",
            "prob": 1,
            "prob_oc": 1,
            "radius": 10.1,
            "strength": 0.0002
           }
          },
          "CX4,CX5a,NMDAMap_D1": {
           "name": "CX4,CX5a,NMDAMap_D1",
           "property_map": {
            "col_sci": 1000,
            "distribution": "fixed",
            "mini_f": 0,
            "mini_s": 0,
            "name": "NMDAMap_D1",
            "prob": 1,
            "prob_oc": 1,
            "radius": 10.1,
            "strength": 1e-08
           }
          }
         },
         "name": "CX4,CX5a",
         "post": [
          "x",
          "CX5a"
         ],
         "pre": [
          "x",
          "CX4"
         ]
        },
        "CX4,CX5b": {
         "connect_models": {
          "CX4,CX5b,AMPAMap_D1": {
           "name": "CX4,CX5b,AMPAMap_D1",
           "property_map": {
            "col_sci": 1000,
            "distribution": "fixed",
            "mini_f": 500,
            "mini_s": 1.6e-06,
            "name": "AMPAMap_D1",
            "prob": 1,
            "prob_oc": 1,
            "radius": 10.1,
            "strength": 0.0002
           }
          },
          "CX4,CX5b,NMDAMap_D1": {
           "name": "CX4,CX5b,NMDAMap_D1",
           "property_map": {
            "col_sci": 1000,
            "distribution": "fixed",
            "mini_f": 0,
            "mini_s": 0,
            "name": "NMDAMap_D1",
            "prob": 1,
            "prob_oc": 1,
            "radius": 10.1,
            "strength": 1e-08
           }
          }
         },
         "name": "CX4,CX5b",
         "post": [
          "x",
          "CX5b"
         ],
         "pre": [
          "x",
          "CX4"
         ]
        },
        "CX4,CX6": {
         "connect_models": {
          "CX4,CX6,AMPAMap_D1": {
           "name": "CX4,CX6,AMPAMap_D1",
           "property_map": {
            "col_sci": 1000,
            "distribution": "fixed",
            "mini_f": 500,
            "mini_s": 1.6e-06,
            "name": "AMPAMap_D1",
            "prob": 1,
            "prob_oc": 1,
            "radius": 10.1,
            "strength": 0.0002
           }
          },
          "CX4,CX6,NMDAMap_D1": {
           "name": "CX4,CX6,NMDAMap_D1",
           "property_map": {
            "col_sci": 1000,
            "distribution": "fixed",
            "mini_f": 0,
            "mini_s": 0,
            "name": "NMDAMap_D1",
            "prob": 1,
            "prob_oc": 1,
            "radius": 10.1,
            "strength": 1e-08
           }
          }
         },
         "name": "CX4,CX6",
         "post": [
          "x",
          "CX6"
         ],
         "pre": [
          "x",
          "CX4"
         ]
        },
        "CX4,IN4": {
         "connect_models": {
          "CX4,IN4,AMPAMap_D1": {
           "name": "CX4,IN4,AMPAMap_D1",
           "property_map": {
            "col_sci": 1000,
            "distribution": "fixed",
            "mini_f": 500,
            "mini_s": 1.6e-06,
            "name": "AMPAMap_D1",
            "prob": 1,
            "prob_oc": 1,
            "radius": 0.0136,
            "strength": 0.00063
           }
          },
          "CX4,IN4,NMDAMap_D1": {
           "name": "CX4,IN4,NMDAMap_D1",
           "property_map": {
            "col_sci": 1000,
            "distribution": "fixed",
            "mini_f": 0,
            "mini_s": 0,
            "name": "NMDAMap_D1",
            "prob": 1,
            "prob_oc": 1,
            "radius": 0.0136,
            "strength": 1e-07
           }
          }
         },
         "name": "CX4,IN4",
         "post": [
          "x",
          "IN4"
         ],
         "pre": [
          "x",
          "CX4"
         ]
        },
        "CX5a,CX": {
         "connect_models": {
          "CX5a,CX,AMPAMap_D1": {
           "name": "CX5a,CX,AMPAMap_D1",
           "property_map": {
            "col_sci": 1000,
            "distribution": "fixed",
            "mini_f": 500,
            "mini_s": 1.6e-06,
            "name": "AMPAMap_D1",
            "prob": 1,
            "prob_oc": 1,
            "radius": 10.1,
            "strength": 0.0002
           }
          },
          "CX5a,CX,NMDAMap_D1": {
           "name": "CX5a,CX,NMDAMap_D1",
           "property_map": {
            "col_sci": 1000,
            "distribution": "fixed",
            "mini_f": 0,
            "mini_s": 0,
            "name": "NMDAMap_D1",
            "prob": 1,
            "prob_oc": 1,
            "radius": 10.1,
            "strength": 1e-08
           }
          }
         },
         "name": "CX5a,CX",
         "post": [
          "x",
          "CX"
         ],
         "pre": [
          "x",
          "CX5a"
         ]
        },
        "CX5a,CX3": {
         "connect_models": {
          "CX5a,CX3,AMPAMap_D1": {
           "name": "CX5a,CX3,AMPAMap_D1",
           "property_map": {
            "col_sci": 1000,
            "distribution": "fixed",
            "mini_f": 500,
            "mini_s": 1.6e-06,
            "name": "AMPAMap_D1",
            "prob": 1,
            "prob_oc": 1,
            "radius": 10.1,
            "strength": 0.0002
           }
          },
          "CX5a,CX3,NMDAMap_D1": {
           "name": "CX5a,CX3,NMDAMap_D1",
           "property_map": {
            "col_sci": 1000,
            "distribution": "fixed",
            "mini_f": 0,
            "mini_s": 0,
            "name": "NMDAMap_D1",
            "prob": 1,
            "prob_oc": 1,
            "radius": 10.1,
            "strength": 1e-08
           }
          }
         },
         "name": "CX5a,CX3",
         "post": [
          "x",
          "CX3"
         ],
         "pre": [
          "x",
          "CX5a"
         ]
        },
        "CX5a,CX4": {
         "connect_models": {
          "CX5a,CX4,AMPAMap_D1": {
           "name": "CX5a,CX4,AMPAMap_D1",
           "property_map": {
            "col_sci": 1000,
            "distribution": "fixed",
            "mini_f": 500,
            "mini_s": 1.6e-06,
            "name": "AMPAMap_D1",
            "prob": 1,
            "prob_oc": 1,
            "radius": 10.1,
            "strength": 0.0002
           }
          },
          "CX5a,CX4,NMDAMap_D1": {
           "name": "CX5a,CX4,NMDAMap_D1",
           "property_map": {
            "col_sci": 1000,
            "distribution": "fixed",
            "mini_f": 0,
            "mini_s": 0,
            "name": "NMDAMap_D1",
            "prob": 1,
            "prob_oc": 1,
            "radius": 10.1,
            "strength": 1e-08
           }
          }
         },
         "name": "CX5a,CX4",
         "post": [
          "x",
          "CX4"
         ],
         "pre": [
          "x",
          "CX5a"
         ]
        },
        "CX5a,CX5a": {
         "connect_models": {
          "CX5a,CX5a,AMPAMap_D1": {
           "name": "CX5a,CX5a,AMPAMap_D1",
           "property_map": {
            "col_sci": 1000,
            "distribution": "fixed",
            "mini_f": 500,
            "mini_s": 1.6e-06,
            "name": "AMPAMap_D1",
            "prob": 1,
            "prob_oc": 1,
            "radius": 10.1,
            "strength": 0.0002
           }
          },
          "CX5a,CX5a,NMDAMap_D1": {
           "name": "CX5a,CX5a,NMDAMap_D1",
           "property_map": {
            "col_sci": 1000,
            "distribution": "fixed",
            "mini_f": 0,
            "mini_s": 0,
            "name": "NMDAMap_D1",
            "prob": 1,
            "prob_oc": 1,
            "radius": 10.1,
            "strength": 1e-08
           }
          }
         },
         "name": "CX5a,CX5a",
         "post": [
          "x",
          "CX5a"
         ],
         "pre": [
          "x",
          "CX5a"
         ]
        },
        "CX5a,CX5b": {
         "connect_models": {
          "CX5a,CX5b,AMPAMap_D1": {
           "name": "CX5a,CX5b,AMPAMap_D1",
           "property_map": {
            "col_sci": 1000,
            "distribution": "fixed",
            "mini_f": 500,
            "mini_s": 1.6e-06,
            "name": "AMPAMap_D1",
            "prob": 1,
            "prob_oc": 1,
            "radius": 10.1,
            "strength": 0.0002
           }
          },
          "CX5a,CX5b,NMDAMap_D1": {
           "name": "CX5a,CX5b,NMDAMap_D1",
           "property_map": {
            "col_sci": 1000,
            "distribution": "fixed",
            "mini_f": 0,
            "mini_s": 0,
            "name": "NMDAMap_D1",
            "prob": 1,
            "prob_oc": 1,
            "radius": 10.1,
            "strength": 1e-08
           }
          }
         },
         "name": "CX5a,CX5b",
         "post": [
          "x",
          "CX5b"
         ],
         "pre": [
          "x",
          "CX5a"
         ]
        },
        "CX5a,IN5a": {
         "connect_models": {
          "CX5a,IN5a,AMPAMap_D1": {
           "name": "CX5a,IN5a,AMPAMap_D1",
           "property_map": {
            "col_sci": 1000,
            "distribution": "fixed",
            "mini_f": 500,
            "mini_s": 1.6e-06,
            "name": "AMPAMap_D1",
            "prob": 1,
            "prob_oc": 1,
            "radius": 0.0136,
            "strength": 0.00063
           }
          },
          "CX5a,IN5a,NMDAMap_D1": {
           "name": "CX5a,IN5a,NMDAMap_D1",
           "property_map": {
            "col_sci": 1000,
            "distribution": "fixed",
            "mini_f": 0,
            "mini_s": 0,
            "name": "NMDAMap_D1",
            "prob": 1,
            "prob_oc": 1,
            "radius": 0.0136,
            "strength": 1e-07
           }
          }
         },
         "name": "CX5a,IN5a",
         "post": [
          "x",
          "IN5a"
         ],
         "pre": [
          "x",
          "CX5a"
         ]
        },
        "CX5b,CX": {
         "connect_models": {
          "CX5b,CX,AMPAMap_D1": {
           "name": "CX5b,CX,AMPAMap_D1",
           "property_map": {
            "col_sci": 1000,
            "distribution": "fixed",
            "mini_f": 500,
            "mini_s": 1.6e-06,
            "name": "AMPAMap_D1",
            "prob": 1,
            "prob_oc": 1,
            "radius": 10.1,
            "strength": 0.0002
           }
          },
          "CX5b,CX,NMDAMap_D1": {
           "name": "CX5b,CX,NMDAMap_D1",
           "property_map": {
            "col_sci": 1000,
            "distribution": "fixed",
            "mini_f": 0,
            "mini_s": 0,
            "name": "NMDAMap_D1",
            "prob": 1,
            "prob_oc": 1,
            "radius": 10.1,
            "strength": 1e-08
           }
          }
         },
         "name": "CX5b,CX",
         "post": [
          "x",
          "CX"
         ],
         "pre": [
          "x",
          "CX5b"
         ]
        },
        "CX5b,CX3": {
         "connect_models": {
          "CX5b,CX3,AMPAMap_D1": {
           "name": "CX5b,CX3,AMPAMap_D1",
           "property_map": {
            "col_sci": 1000,
            "distribution": "fixed",
            "mini_f": 500,
            "mini_s": 1.6e-06,
            "name": "AMPAMap_D1",
            "prob": 1,
            "prob_oc": 1,
            "radius": 10.1,
            "strength": 0.0002
           }
          },
          "CX5b,CX3,NMDAMap_D1": {
           "name": "CX5b,CX3,NMDAMap_D1",
           "property_map": {
            "col_sci": 1000,
            "distribution": "fixed",
            "mini_f": 0,
            "mini_s": 0,
            "name": "NMDAMap_D1",
            "prob": 1,
            "prob_oc": 1,
            "radius": 10.1,
            "strength": 1e-08
           }
          }
         },
         "name": "CX5b,CX3",
         "post": [
          "x",
          "CX3"
         ],
         "pre": [
          "x",
          "CX5b"
         ]
        },
        "CX5b,CX5b": {
         "connect_models": {
          "CX5b,CX5b,AMPAMap_D1": {
           "name": "CX5b,CX5b,AMPAMap_D1",
           "property_map": {
            "col_sci": 1000,
            "distribution": "fixed",
            "mini_f": 500,
            "mini_s": 1.6e-06,
            "name": "AMPAMap_D1",
            "prob": 1,
            "prob_oc": 1,
            "radius": 10.1,
            "strength": 0.0002
           }
          },
          "CX5b,CX5b,NMDAMap_D1": {
           "name": "CX5b,CX5b,NMDAMap_D1",
           "property_map": {
            "col_sci": 1000,
            "distribution": "fixed",
            "mini_f": 0,
            "mini_s": 0,
            "name": "NMDAMap_D1",
            "prob": 1,
            "prob_oc": 1,
            "radius": 10.1,
            "strength": 1e-08
           }
          }
         },
         "name": "CX5b,CX5b",
         "post": [
          "x",
          "CX5b"
         ],
         "pre": [
          "x",
          "CX5b"
         ]
        },
        "CX5b,CX6": {
         "connect_models": {
          "CX5b,CX6,AMPAMap_D1": {
           "name": "CX5b,CX6,AMPAMap_D1",
           "property_map": {
            "col_sci": 1000,
            "distribution": "fixed",
            "mini_f": 500,
            "mini_s": 1.6e-06,
            "name": "AMPAMap_D1",
            "prob": 1,
            "prob_oc": 1,
            "radius": 10.1,
            "strength": 0.0002
           }
          },
          "CX5b,CX6,NMDAMap_D1": {
           "name": "CX5b,CX6,NMDAMap_D1",
           "property_map": {
            "col_sci": 1000,
            "distribution": "fixed",
            "mini_f": 0,
            "mini_s": 0,
            "name": "NMDAMap_D1",
            "prob": 1,
            "prob_oc": 1,
            "radius": 10.1,
            "strength": 1e-08
           }
          }
         },
         "name": "CX5b,CX6",
         "post": [
          "x",
          "CX6"
         ],
         "pre": [
          "x",
          "CX5b"
         ]
        },
        "CX5b,IN5b": {
         "connect_models": {
          "CX5b,IN5b,AMPAMap_D1": {
           "name": "CX5b,IN5b,AMPAMap_D1",
           "property_map": {
            "col_sci": 1000,
            "distribution": "fixed",
            "mini_f": 500,
            "mini_s": 1.6e-06,
            "name": "AMPAMap_D1",
            "prob": 1,
            "prob_oc": 1,
            "radius": 0.0136,
            "strength": 0.00063
           }
          },
          "CX5b,IN5b,NMDAMap_D1": {
           "name": "CX5b,IN5b,NMDAMap_D1",
           "property_map": {
            "col_sci": 1000,
            "distribution": "fixed",
            "mini_f": 0,
            "mini_s": 0,
            "name": "NMDAMap_D1",
            "prob": 1,
            "prob_oc": 1,
            "radius": 0.0136,
            "strength": 1e-07
           }
          }
         },
         "name": "CX5b,IN5b",
         "post": [
          "x",
          "IN5b"
         ],
         "pre": [
          "x",
          "CX5b"
         ]
        },
        "CX5b,REa": {
         "connect_models": {
          "CX5b,REa,AMPA": {
           "name": "CX5b,REa,AMPA",
           "property_map": {
            "col_sci": 1000,
            "distribution": "fixed",
            "mini_f": 0,
            "mini_s": 0,
            "name": "AMPA",
            "prob": 1,
            "prob_oc": 0.5,
            "radius": 0.0575,
            "strength": 0.00016
           }
          }
         },
         "name": "CX5b,REa",
         "post": [
          "x",
          "REa"
         ],
         "pre": [
          "x",
          "CX5b"
         ]
        },
        "CX5b,TCa": {
         "connect_models": {
          "CX5b,TCa,AMPA": {
           "name": "CX5b,TCa,AMPA",
           "property_map": {
            "col_sci": 1000,
            "distribution": "fixed",
            "mini_f": 0,
            "mini_s": 0,
            "name": "AMPA",
            "prob": 1,
            "prob_oc": 0.5,
            "radius": 0.0575,
            "strength": 8e-05
           }
          }
         },
         "name": "CX5b,TCa",
         "post": [
          "x",
          "TCa"
         ],
         "pre": [
          "x",
          "CX5b"
         ]
        },
        "CX6,CX": {
         "connect_models": {
          "CX6,CX,AMPAMap_D1": {
           "name": "CX6,CX,AMPAMap_D1",
           "property_map": {
            "col_sci": 1000,
            "distribution": "fixed",
            "mini_f": 500,
            "mini_s": 1.6e-06,
            "name": "AMPAMap_D1",
            "prob": 1,
            "prob_oc": 1,
            "radius": 10.1,
            "strength": 0.0002
           }
          },
          "CX6,CX,NMDAMap_D1": {
           "name": "CX6,CX,NMDAMap_D1",
           "property_map": {
            "col_sci": 1000,
            "distribution": "fixed",
            "mini_f": 0,
            "mini_s": 0,
            "name": "NMDAMap_D1",
            "prob": 1,
            "prob_oc": 1,
            "radius": 10.1,
            "strength": 1e-08
           }
          }
         },
         "name": "CX6,CX",
         "post": [
          "x",
          "CX"
         ],
         "pre": [
          "x",
          "CX6"
         ]
        },
        "CX6,CX3": {
         "connect_models": {
          "CX6,CX3,AMPAMap_D1": {
           "name": "CX6,CX3,AMPAMap_D1",
           "property_map": {
            "col_sci": 1000,
            "distribution": "fixed",
            "mini_f": 500,
            "mini_s": 1.6e-06,
            "name": "AMPAMap_D1",
            "prob": 1,
            "prob_oc": 1,
            "radius": 10.1,
            "strength": 0.0002
           }
          },
          "CX6,CX3,NMDAMap_D1": {
           "name": "CX6,CX3,NMDAMap_D1",
           "property_map": {
            "col_sci": 1000,
            "distribution": "fixed",
            "mini_f": 0,
            "mini_s": 0,
            "name": "NMDAMap_D1",
            "prob": 1,
            "prob_oc": 1,
            "radius": 10.1,
            "strength": 1e-08
           }
          }
         },
         "name": "CX6,CX3",
         "post": [
          "x",
          "CX3"
         ],
         "pre": [
          "x",
          "CX6"
         ]
        },
        "CX6,CX4": {
         "connect_models": {
          "CX6,CX4,AMPAMap_D1": {
           "name": "CX6,CX4,AMPAMap_D1",
           "property_map": {
            "col_sci": 1000,
            "distribution": "fixed",
            "mini_f": 500,
            "mini_s": 1.6e-06,
            "name": "AMPAMap_D1",
            "prob": 1,
            "prob_oc": 1,
            "radius": 10.1,
            "strength": 0.0002
           }
          },
          "CX6,CX4,NMDAMap_D1": {
           "name": "CX6,CX4,NMDAMap_D1",
           "property_map": {
            "col_sci": 1000,
            "distribution": "fixed",
            "mini_f": 0,
            "mini_s": 0,
            "name": "NMDAMap_D1",
            "prob": 1,
            "prob_oc": 1,
            "radius": 10.1,
            "strength": 1e-08
           }
          }
         },
         "name": "CX6,CX4",
         "post": [
          "x",
          "CX4"
         ],
         "pre": [
          "x",
          "CX6"
         ]
        },
        "CX6,CX5b": {
         "connect_models": {
          "CX6,CX5b,AMPAMap_D1": {
           "name": "CX6,CX5b,AMPAMap_D1",
           "property_map": {
            "col_sci": 1000,
            "distribution": "fixed",
            "mini_f": 500,
            "mini_s": 1.6e-06,
            "name": "AMPAMap_D1",
            "prob": 1,
            "prob_oc": 1,
            "radius": 10.1,
            "strength": 0.0002
           }
          },
          "CX6,CX5b,NMDAMap_D1": {
           "name": "CX6,CX5b,NMDAMap_D1",
           "property_map": {
            "col_sci": 1000,
            "distribution": "fixed",
            "mini_f": 0,
            "mini_s": 0,
            "name": "NMDAMap_D1",
            "prob": 1,
            "prob_oc": 1,
            "radius": 10.1,
            "strength": 1e-08
           }
          }
         },
         "name": "CX6,CX5b",
         "post": [
          "x",
          "CX5b"
         ],
         "pre": [
          "x",
          "CX6"
         ]
        },
        "CX6,CX6": {
         "connect_models": {
          "CX6,CX6,AMPAMap_D1": {
           "name": "CX6,CX6,AMPAMap_D1",
           "property_map": {
            "col_sci": 1000,
            "distribution": "fixed",
            "mini_f": 500,
            "mini_s": 1.6e-06,
            "name": "AMPAMap_D1",
            "prob": 1,
            "prob_oc": 1,
            "radius": 10.1,
            "strength": 0.0002
           }
          },
          "CX6,CX6,NMDAMap_D1": {
           "name": "CX6,CX6,NMDAMap_D1",
           "property_map": {
            "col_sci": 1000,
            "distribution": "fixed",
            "mini_f": 0,
            "mini_s": 0,
            "name": "NMDAMap_D1",
            "prob": 1,
            "prob_oc": 1,
            "radius": 10.1,
            "strength": 1e-08
           }
          }
         },
         "name": "CX6,CX6",
         "post": [
          "x",
          "CX6"
         ],
         "pre": [
          "x",
          "CX6"
         ]
        },
        "CX6,IN6": {
         "connect_models": {
          "CX6,IN6,AMPAMap_D1": {
           "name": "CX6,IN6,AMPAMap_D1",
           "property_map": {
            "col_sci": 1000,
            "distribution": "fixed",
            "mini_f": 500,
            "mini_s": 1.6e-06,
            "name": "AMPAMap_D1",
            "prob": 1,
            "prob_oc": 1,
            "radius": 0.0136,
            "strength": 0.00063
           }
          },
          "CX6,IN6,NMDAMap_D1": {
           "name": "CX6,IN6,NMDAMap_D1",
           "property_map": {
            "col_sci": 1000,
            "distribution": "fixed",
            "mini_f": 0,
            "mini_s": 0,
            "name": "NMDAMap_D1",
            "prob": 1,
            "prob_oc": 1,
            "radius": 0.0136,
            "strength": 1e-07
           }
          }
         },
         "name": "CX6,IN6",
         "post": [
          "x",
          "IN6"
         ],
         "pre": [
          "x",
          "CX6"
         ]
        },
        "CX6,RE": {
         "connect_models": {
          "CX6,RE,AMPA": {
           "name": "CX6,RE,AMPA",
           "property_map": {
            "col_sci": 1000,
            "distribution": "fixed",
            "mini_f": 0,
            "mini_s": 0,
            "name": "AMPA",
            "prob": 1,
            "prob_oc": 1,
            "radius": 0.0143,
            "strength": 0.00016
           }
          }
         },
         "name": "CX6,RE",
         "post": [
          "x",
          "RE"
         ],
         "pre": [
          "x",
          "CX6"
         ]
        },
        "CX6,TC": {
         "connect_models": {
          "CX6,TC,AMPA": {
           "name": "CX6,TC,AMPA",
           "property_map": {
            "col_sci": 1000,
            "distribution": "fixed",
            "mini_f": 0,
            "mini_s": 0,
            "name": "AMPA",
            "prob": 1,
            "prob_oc": 1,
            "radius": 0.0143,
            "strength": 8e-05
           }
          }
         },
         "name": "CX6,TC",
         "post": [
          "x",
          "TC"
         ],
         "pre": [
          "x",
          "CX6"
         ]
        },
        "IN,CX": {
         "connect_models": {
          "IN,CX,GABAMap_A_D1": {
           "name": "IN,CX,GABAMap_A_D1",
           "property_map": {
            "col_sci": 1000,
            "distribution": "fixed",
            "mini_f": 0,
            "mini_s": 0,
            "name": "GABAMap_A_D1",
            "prob": 1,
            "prob_oc": 1,
            "radius": 0.014,
            "strength": 5e-05
           }
          }
         },
         "name": "IN,CX",
         "post": [
          "x",
          "CX"
         ],
         "pre": [
          "x",
          "IN"
         ]
        },
        "IN3,CX3": {
         "connect_models": {
          "IN3,CX3,GABAMap_A_D1": {
           "name": "IN3,CX3,GABAMap_A_D1",
           "property_map": {
            "col_sci": 1000,
            "distribution": "fixed",
            "mini_f": 0,
            "mini_s": 0,
            "name": "GABAMap_A_D1",
            "prob": 1,
            "prob_oc": 1,
            "radius": 0.014,
            "strength": 5e-05
           }
          }
         },
         "name": "IN3,CX3",
         "post": [
          "x",
          "CX3"
         ],
         "pre": [
          "x",
          "IN3"
         ]
        },
        "IN4,CX4": {
         "connect_models": {
          "IN4,CX4,GABAMap_A_D1": {
           "name": "IN4,CX4,GABAMap_A_D1",
           "property_map": {
            "col_sci": 1000,
            "distribution": "fixed",
            "mini_f": 0,
            "mini_s": 0,
            "name": "GABAMap_A_D1",
            "prob": 1,
            "prob_oc": 1,
            "radius": 0.014,
            "strength": 5e-05
           }
          }
         },
         "name": "IN4,CX4",
         "post": [
          "x",
          "CX4"
         ],
         "pre": [
          "x",
          "IN4"
         ]
        },
        "IN5a,CX5a": {
         "connect_models": {
          "IN5a,CX5a,GABAMap_A_D1": {
           "name": "IN5a,CX5a,GABAMap_A_D1",
           "property_map": {
            "col_sci": 1000,
            "distribution": "fixed",
            "mini_f": 0,
            "mini_s": 0,
            "name": "GABAMap_A_D1",
            "prob": 1,
            "prob_oc": 1,
            "radius": 0.014,
            "strength": 5e-05
           }
          }
         },
         "name": "IN5a,CX5a",
         "post": [
          "x",
          "CX5a"
         ],
         "pre": [
          "x",
          "IN5a"
         ]
        },
        "IN5b,CX5b": {
         "connect_models": {
          "IN5b,CX5b,GABAMap_A_D1": {
           "name": "IN5b,CX5b,GABAMap_A_D1",
           "property_map": {
            "col_sci": 1000,
            "distribution": "fixed",
            "mini_f": 0,
            "mini_s": 0,
            "name": "GABAMap_A_D1",
            "prob": 1,
            "prob_oc": 1,
            "radius": 0.014,
            "strength": 5e-05
           }
          }
         },
         "name": "IN5b,CX5b",
         "post": [
          "x",
          "CX5b"
         ],
         "pre": [
          "x",
          "IN5b"
         ]
        },
        "IN6,CX6": {
         "connect_models": {
          "IN6,CX6,GABAMap_A_D1": {
           "name": "IN6,CX6,GABAMap_A_D1",
           "property_map": {
            "col_sci": 1000,
            "distribution": "fixed",
            "mini_f": 0,
            "mini_s": 0,
            "name": "GABAMap_A_D1",
            "prob": 1,
            "prob_oc": 1,
            "radius": 0.014,
            "strength": 5e-05
           }
          }
         },
         "name": "IN6,CX6",
         "post": [
          "x",
          "CX6"
         ],
         "pre": [
          "x",
          "IN6"
         ]
        },
        "RE,RE": {
         "connect_models": {
          "RE,RE,GABA_A": {
           "name": "RE,RE,GABA_A",
           "property_map": {
            "col_sci": 1000,
            "distribution": "fixed",
            "mini_f": 0,
            "mini_s": 0,
            "name": "GABA_A",
            "prob": 1,
            "prob_oc": 1,
            "radius": 0.1,
            "strength": 0.0001
           }
          }
         },
         "name": "RE,RE",
         "post": [
          "x",
          "RE"
         ],
         "pre": [
          "x",
          "RE"
         ]
        },
        "RE,TC": {
         "connect_models": {
          "RE,TC,GABA_A": {
           "name": "RE,TC,GABA_A",
           "property_map": {
            "col_sci": 1000,
            "distribution": "fixed",
            "mini_f": 0,
            "mini_s": 0,
            "name": "GABA_A",
            "prob": 1,
            "prob_oc": 1,
            "radius": 0.11,
            "strength": 6e-05
           }
          },
          "RE,TC,GABA_B": {
           "name": "RE,TC,GABA_B",
           "property_map": {
            "col_sci": 1000,
            "distribution": "fixed",
            "mini_f": 0,
            "mini_s": 0,
            "name": "GABA_B",
            "prob": 1,
            "prob_oc": 1,
            "radius": 0.11,
            "strength": 2.5e-06
           }
          }
         },
         "name": "RE,TC",
         "post": [
          "x",
          "TC"
         ],
         "pre": [
          "x",
          "RE"
         ]
        },
        "REa,REa": {
         "connect_models": {
          "REa,REa,GABA_A": {
           "name": "REa,REa,GABA_A",
           "property_map": {
            "col_sci": 1000,
            "distribution": "fixed",
            "mini_f": 0,
            "mini_s": 0,
            "name": "GABA_A",
            "prob": 1,
            "prob_oc": 1,
            "radius": 0.1,
            "strength": 0.0001
           }
          }
         },
         "name": "REa,REa",
         "post": [
          "x",
          "REa"
         ],
         "pre": [
          "x",
          "REa"
         ]
        },
        "REa,TCa": {
         "connect_models": {
          "REa,TCa,GABA_A": {
           "name": "REa,TCa,GABA_A",
           "property_map": {
            "col_sci": 1000,
            "distribution": "fixed",
            "mini_f": 0,
            "mini_s": 0,
            "name": "GABA_A",
            "prob": 1,
            "prob_oc": 1,
            "radius": 0.11,
            "strength": 6e-05
           }
          },
          "REa,TCa,GABA_B": {
           "name": "REa,TCa,GABA_B",
           "property_map": {
            "col_sci": 1000,
            "distribution": "fixed",
            "mini_f": 0,
            "mini_s": 0,
            "name": "GABA_B",
            "prob": 1,
            "prob_oc": 1,
            "radius": 0.11,
            "strength": 2.5e-06
           }
          }
         },
         "name": "REa,TCa",
         "post": [
          "x",
          "TCa"
         ],
         "pre": [
          "x",
          "REa"
         ]
        },
        "TC,CX3": {
         "connect_models": {
          "TC,CX3,AMPAMap_D1": {
           "name": "TC,CX3,AMPAMap_D1",
           "property_map": {
            "col_sci": 1000,
            "distribution": "fixed",
            "mini_f": 0,
            "mini_s": 0,
            "name": "AMPAMap_D1",
            "prob": 1,
            "prob_oc": 1,
            "radius": 0.0117,
            "strength": 3e-05
           }
          }
         },
         "name": "TC,CX3",
         "post": [
          "x",
          "CX3"
         ],
         "pre": [
          "x",
          "TC"
         ]
        },
        "TC,CX4": {
         "connect_models": {
          "TC,CX4,AMPAMap_D1": {
           "name": "TC,CX4,AMPAMap_D1",
           "property_map": {
            "col_sci": 1000,
            "distribution": "fixed",
            "mini_f": 0,
            "mini_s": 0,
            "name": "AMPAMap_D1",
            "prob": 1,
            "prob_oc": 1,
            "radius": 0.0117,
            "strength": 3e-05
           }
          }
         },
         "name": "TC,CX4",
         "post": [
          "x",
          "CX4"
         ],
         "pre": [
          "x",
          "TC"
         ]
        },
        "TC,CX6": {
         "connect_models": {
          "TC,CX6,AMPAMap_D1": {
           "name": "TC,CX6,AMPAMap_D1",
           "property_map": {
            "col_sci": 1000,
            "distribution": "fixed",
            "mini_f": 0,
            "mini_s": 0,
            "name": "AMPAMap_D1",
            "prob": 1,
            "prob_oc": 1,
            "radius": 0.0117,
            "strength": 3e-05
           }
          }
         },
         "name": "TC,CX6",
         "post": [
          "x",
          "CX6"
         ],
         "pre": [
          "x",
          "TC"
         ]
        },
        "TC,IN3": {
         "connect_models": {
          "TC,IN3,AMPAMap_D1": {
           "name": "TC,IN3,AMPAMap_D1",
           "property_map": {
            "col_sci": 1000,
            "distribution": "fixed",
            "mini_f": 0,
            "mini_s": 0,
            "name": "AMPAMap_D1",
            "prob": 1,
            "prob_oc": 1,
            "radius": 0.0132,
            "strength": 1.5e-05
           }
          }
         },
         "name": "TC,IN3",
         "post": [
          "x",
          "IN3"
         ],
         "pre": [
          "x",
          "TC"
         ]
        },
        "TC,IN4": {
         "connect_models": {
          "TC,IN4,AMPAMap_D1": {
           "name": "TC,IN4,AMPAMap_D1",
           "property_map": {
            "col_sci": 1000,
            "distribution": "fixed",
            "mini_f": 0,
            "mini_s": 0,
            "name": "AMPAMap_D1",
            "prob": 1,
            "prob_oc": 1,
            "radius": 0.0132,
            "strength": 1.5e-05
           }
          }
         },
         "name": "TC,IN4",
         "post": [
          "x",
          "IN4"
         ],
         "pre": [
          "x",
          "TC"
         ]
        },
        "TC,IN6": {
         "connect_models": {
          "TC,IN6,AMPAMap_D1": {
           "name": "TC,IN6,AMPAMap_D1",
           "property_map": {
            "col_sci": 1000,
            "distribution": "fixed",
            "mini_f": 0,
            "mini_s": 0,
            "name": "AMPAMap_D1",
            "prob": 1,
            "prob_oc": 1,
            "radius": 0.0132,
            "strength": 1.5e-05
           }
          }
         },
         "name": "TC,IN6",
         "post": [
          "x",
          "IN6"
         ],
         "pre": [
          "x",
          "TC"
         ]
        },
        "TC,RE": {
         "connect_models": {
          "TC,RE,AMPA": {
           "name": "TC,RE,AMPA",
           "property_map": {
            "col_sci": 1000,
            "distribution": "fixed",
            "mini_f": 0,
            "mini_s": 0,
            "name": "AMPA",
            "prob": 1,
            "prob_oc": 1,
            "radius": 0.11,
            "strength": 6e-05
           }
          }
         },
         "name": "TC,RE",
         "post": [
          "x",
          "RE"
         ],
         "pre": [
          "x",
          "TC"
         ]
        },
        "TCa,CX": {
         "connect_models": {
          "TCa,CX,AMPAMap_D1": {
           "name": "TCa,CX,AMPAMap_D1",
           "property_map": {
            "col_sci": 1000,
            "distribution": "fixed",
            "mini_f": 0,
            "mini_s": 0,
            "name": "AMPAMap_D1",
            "prob": 1,
            "prob_oc": 1,
            "radius": 0.045,
            "strength": 4.5e-05
           }
          }
         },
         "name": "TCa,CX",
         "post": [
          "x",
          "CX"
         ],
         "pre": [
          "x",
          "TCa"
         ]
        },
        "TCa,CX3": {
         "connect_models": {
          "TCa,CX3,AMPAMap_D1": {
           "name": "TCa,CX3,AMPAMap_D1",
           "property_map": {
            "col_sci": 1000,
            "distribution": "fixed",
            "mini_f": 0,
            "mini_s": 0,
            "name": "AMPAMap_D1",
            "prob": 1,
            "prob_oc": 1,
            "radius": 0.045,
            "strength": 4.5e-05
           }
          }
         },
         "name": "TCa,CX3",
         "post": [
          "x",
          "CX3"
         ],
         "pre": [
          "x",
          "TCa"
         ]
        },
        "TCa,CX5a": {
         "connect_models": {
          "TCa,CX5a,AMPAMap_D1": {
           "name": "TCa,CX5a,AMPAMap_D1",
           "property_map": {
            "col_sci": 1000,
            "distribution": "fixed",
            "mini_f": 0,
            "mini_s": 0,
            "name": "AMPAMap_D1",
            "prob": 1,
            "prob_oc": 1,
            "radius": 0.045,
            "strength": 4.5e-05
           }
          }
         },
         "name": "TCa,CX5a",
         "post": [
          "x",
          "CX5a"
         ],
         "pre": [
          "x",
          "TCa"
         ]
        },
        "TCa,CX5b": {
         "connect_models": {
          "TCa,CX5b,AMPAMap_D1": {
           "name": "TCa,CX5b,AMPAMap_D1",
           "property_map": {
            "col_sci": 1000,
            "distribution": "fixed",
            "mini_f": 0,
            "mini_s": 0,
            "name": "AMPAMap_D1",
            "prob": 1,
            "prob_oc": 1,
            "radius": 0.045,
            "strength": 4.5e-05
           }
          }
         },
         "name": "TCa,CX5b",
         "post": [
          "x",
          "CX5b"
         ],
         "pre": [
          "x",
          "TCa"
         ]
        },
        "TCa,CX6": {
         "connect_models": {
          "TCa,CX6,AMPAMap_D1": {
           "name": "TCa,CX6,AMPAMap_D1",
           "property_map": {
            "col_sci": 1000,
            "distribution": "fixed",
            "mini_f": 0,
            "mini_s": 0,
            "name": "AMPAMap_D1",
            "prob": 1,
            "prob_oc": 1,
            "radius": 0.045,
            "strength": 4.5e-05
           }
          }
         },
         "name": "TCa,CX6",
         "post": [
          "x",
          "CX6"
         ],
         "pre": [
          "x",
          "TCa"
         ]
        },
        "TCa,IN": {
         "connect_models": {
          "TCa,IN,AMPAMap_D1": {
           "name": "TCa,IN,AMPAMap_D1",
           "property_map": {
            "col_sci": 1000,
            "distribution": "fixed",
            "mini_f": 0,
            "mini_s": 0,
            "name": "AMPAMap_D1",
            "prob": 1,
            "prob_oc": 1,
            "radius": 0.079,
            "strength": 2e-05
           }
          }
         },
         "name": "TCa,IN",
         "post": [
          "x",
          "IN"
         ],
         "pre": [
          "x",
          "TCa"
         ]
        },
        "TCa,IN3": {
         "connect_models": {
          "TCa,IN3,AMPAMap_D1": {
           "name": "TCa,IN3,AMPAMap_D1",
           "property_map": {
            "col_sci": 1000,
            "distribution": "fixed",
            "mini_f": 0,
            "mini_s": 0,
            "name": "AMPAMap_D1",
            "prob": 1,
            "prob_oc": 1,
            "radius": 0.079,
            "strength": 2e-05
           }
          }
         },
         "name": "TCa,IN3",
         "post": [
          "x",
          "IN3"
         ],
         "pre": [
          "x",
          "TCa"
         ]
        },
        "TCa,IN5a": {
         "connect_models": {
          "TCa,IN5a,AMPAMap_D1": {
           "name": "TCa,IN5a,AMPAMap_D1",
           "property_map": {
            "col_sci": 1000,
            "distribution": "fixed",
            "mini_f": 0,
            "mini_s": 0,
            "name": "AMPAMap_D1",
            "prob": 1,
            "prob_oc": 1,
            "radius": 0.079,
            "strength": 2e-05
           }
          }
         },
         "name": "TCa,IN5a",
         "post": [
          "x",
          "IN5a"
         ],
         "pre": [
          "x",
          "TCa"
         ]
        },
        "TCa,IN5b": {
         "connect_models": {
          "TCa,IN5b,AMPAMap_D1": {
           "name": "TCa,IN5b,AMPAMap_D1",
           "property_map": {
            "col_sci": 1000,
            "distribution": "fixed",
            "mini_f": 0,
            "mini_s": 0,
            "name": "AMPAMap_D1",
            "prob": 1,
            "prob_oc": 1,
            "radius": 0.079,
            "strength": 2e-05
           }
          }
         },
         "name": "TCa,IN5b",
         "post": [
          "x",
          "IN5b"
         ],
         "pre": [
          "x",
          "TCa"
         ]
        },
        "TCa,IN6": {
         "connect_models": {
          "TCa,IN6,AMPAMap_D1": {
           "name": "TCa,IN6,AMPAMap_D1",
           "property_map": {
            "col_sci": 1000,
            "distribution": "fixed",
            "mini_f": 0,
            "mini_s": 0,
            "name": "AMPAMap_D1",
            "prob": 1,
            "prob_oc": 1,
            "radius": 0.079,
            "strength": 2e-05
           }
          }
         },
         "name": "TCa,IN6",
         "post": [
          "x",
          "IN6"
         ],
         "pre": [
          "x",
          "TCa"
         ]
        },
        "TCa,REa": {
         "connect_models": {
          "TCa,REa,AMPA": {
           "name": "TCa,REa,AMPA",
           "property_map": {
            "col_sci": 1000,
            "distribution": "fixed",
            "mini_f": 0,
            "mini_s": 0,
            "name": "AMPA",
            "prob": 1,
            "prob_oc": 1,
            "radius": 0.11,
            "strength": 6e-05
           }
          }
         },
         "name": "TCa,REa",
         "post": [
          "x",
          "REa"
         ],
         "pre": [
          "x",
          "TCa"
         ]
        }
       },
       "data_files": [
        {
         "name": "left_subnet",
         "path": "./wbn_sleep/data/Map_642_To_10242_30-Aug-2017_LH.txt"
        },
        {
         "name": "right_subnet",
         "path": "./wbn_sleep/data/Map_642_To_10242_30-Aug-2017_RH.txt"
        },
        {
         "name": "left_right_map",
         "path": "./wbn_sleep/data/Map_LH_RH_10242_30-Aug-2017.txt"
        },
        {
         "name": "left_right_map_small",
         "path": "./wbn_sleep/data/Map_LH_RH_642_30-Aug-2017.txt"
        },
        {
         "name": "dist3d_probability",
         "path": "./wbn_sleep/data/dist_inMeters_prob_LH_onesOnDiag.txt"
        },
        {
         "name": "weight_factor",
         "path": "./wbn_sleep/data/weights_LH.txt"
        },
        {
         "name": "weight_factor_inpy",
         "path": "./wbn_sleep/data/weights_INPY_both_hemi.txt"
        },
        {
         "name": "thalamus_cortex_distance",
         "path": "./wbn_sleep/data/thalCort_dist_inMeters_LH.txt"
        },
        {
         "name": "intra_thalamus_distance",
         "path": "./wbn_sleep/data/dist_TC_LH_zeroDiag.txt"
        }
       ],
       "dims": {},
       "locations": {
        "Left": {
         "dims": {},
         "exc_ncells": 7136,
         "inh_fraction": 0,
         "inh_ncells": 6252,
         "name": "Left",
         "ncells": 13388,
         "neurons": {
          "CX": {
           "N": 10242,
           "dims": {
            "x": 10242,
            "y": 1
           },
           "ei": "e",
           "name": "CX",
           "neuron_models": {}
          },
          "CX3": {
           "N": 10242,
           "dims": {
            "x": 10242,
            "y": 1
           },
           "ei": "e",
           "name": "CX3",
           "neuron_models": {}
          },
          "CX4": {
           "N": 10242,
           "dims": {
            "x": 10242,
            "y": 1
           },
           "ei": "e",
           "name": "CX4",
           "neuron_models": {}
          },
          "CX5a": {
           "N": 10242,
           "dims": {
            "x": 10242,
            "y": 1
           },
           "ei": "e",
           "name": "CX5a",
           "neuron_models": {}
          },
          "CX5b": {
           "N": 10242,
           "dims": {
            "x": 10242,
            "y": 1
           },
           "ei": "e",
           "name": "CX5b",
           "neuron_models": {}
          },
          "CX6": {
           "N": 10242,
           "dims": {
            "x": 10242,
            "y": 1
           },
           "ei": "e",
           "name": "CX6",
           "neuron_models": {}
          },
          "IN": {
           "N": 10242,
           "dims": {
            "x": 10242,
            "y": 1
           },
           "ei": "i",
           "name": "IN",
           "neuron_models": {}
          },
          "IN3": {
           "N": 10242,
           "dims": {
            "x": 10242,
            "y": 1
           },
           "ei": "i",
           "name": "IN3",
           "neuron_models": {}
          },
          "IN4": {
           "N": 10242,
           "dims": {
            "x": 10242,
            "y": 1
           },
           "ei": "i",
           "name": "IN4",
           "neuron_models": {}
          },
          "IN5a": {
           "N": 10242,
           "dims": {
            "x": 10242,
            "y": 1
           },
           "ei": "i",
           "name": "IN5a",
           "neuron_models": {}
          },
          "IN5b": {
           "N": 10242,
           "dims": {
            "x": 10242,
            "y": 1
           },
           "ei": "i",
           "name": "IN5b",
           "neuron_models": {}
          },
          "IN6": {
           "N": 10242,
           "dims": {
            "x": 10242,
            "y": 1
           },
           "ei": "i",
           "name": "IN6",
           "neuron_models": {}
          },
          "RE": {
           "N": 642,
           "dims": {
            "x": 642,
            "y": 1
           },
           "ei": "e",
           "name": "RE",
           "neuron_models": {}
          },
          "REa": {
           "N": 642,
           "dims": {
            "x": 642,
            "y": 1
           },
           "ei": "e",
           "name": "REa",
           "neuron_models": {}
          },
          "TC": {
           "N": 642,
           "dims": {
            "x": 642,
            "y": 1
           },
           "ei": "e",
           "name": "TC",
           "neuron_models": {}
          },
          "TCa": {
           "N": 642,
           "dims": {
            "x": 642,
            "y": 1
           },
           "ei": "e",
           "name": "TCa",
           "neuron_models": {}
          }
         },
         "region_fraction": 0.5
        },
        "Right": {
         "dims": {},
         "exc_ncells": 7136,
         "inh_fraction": 0,
         "inh_ncells": 6252,
         "name": "Right",
         "ncells": 13388,
         "neurons": {
          "rCX": {
           "N": 10242,
           "dims": {
            "x": 10242,
            "y": 1
           },
           "ei": "e",
           "name": "rCX",
           "neuron_models": {}
          },
          "rCX3": {
           "N": 10242,
           "dims": {
            "x": 10242,
            "y": 1
           },
           "ei": "e",
           "name": "rCX3",
           "neuron_models": {}
          },
          "rCX4": {
           "N": 10242,
           "dims": {
            "x": 10242,
            "y": 1
           },
           "ei": "e",
           "name": "rCX4",
           "neuron_models": {}
          },
          "rCX5a": {
           "N": 10242,
           "dims": {
            "x": 10242,
            "y": 1
           },
           "ei": "e",
           "name": "rCX5a",
           "neuron_models": {}
          },
          "rCX5b": {
           "N": 10242,
           "dims": {
            "x": 10242,
            "y": 1
           },
           "ei": "e",
           "name": "rCX5b",
           "neuron_models": {}
          },
          "rCX6": {
           "N": 10242,
           "dims": {
            "x": 10242,
            "y": 1
           },
           "ei": "e",
           "name": "rCX6",
           "neuron_models": {}
          },
          "rIN": {
           "N": 10242,
           "dims": {
            "x": 10242,
            "y": 1
           },
           "ei": "i",
           "name": "rIN",
           "neuron_models": {}
          },
          "rIN3": {
           "N": 10242,
           "dims": {
            "x": 10242,
            "y": 1
           },
           "ei": "i",
           "name": "rIN3",
           "neuron_models": {}
          },
          "rIN4": {
           "N": 10242,
           "dims": {
            "x": 10242,
            "y": 1
           },
           "ei": "i",
           "name": "rIN4",
           "neuron_models": {}
          },
          "rIN5a": {
           "N": 10242,
           "dims": {
            "x": 10242,
            "y": 1
           },
           "ei": "i",
           "name": "rIN5a",
           "neuron_models": {}
          },
          "rIN5b": {
           "N": 10242,
           "dims": {
            "x": 10242,
            "y": 1
           },
           "ei": "i",
           "name": "rIN5b",
           "neuron_models": {}
          },
          "rIN6": {
           "N": 10242,
           "dims": {
            "x": 10242,
            "y": 1
           },
           "ei": "i",
           "name": "rIN6",
           "neuron_models": {}
          },
          "rRE": {
           "N": 642,
           "dims": {
            "x": 642,
            "y": 1
           },
           "ei": "e",
           "name": "rRE",
           "neuron_models": {}
          },
          "rREa": {
           "N": 642,
           "dims": {
            "x": 642,
            "y": 1
           },
           "ei": "e",
           "name": "rREa",
           "neuron_models": {}
          },
          "rTC": {
           "N": 642,
           "dims": {
            "x": 642,
            "y": 1
           },
           "ei": "e",
           "name": "rTC",
           "neuron_models": {}
          },
          "rTCa": {
           "N": 642,
           "dims": {
            "x": 642,
            "y": 1
           },
           "ei": "e",
           "name": "rTCa",
           "neuron_models": {}
          }
         },
         "region_fraction": 0.5
        }
       },
       "name": "WGN-Sleep"
      },
      "text/plain": [
       "<IPython.core.display.JSON object>"
      ]
     },
     "execution_count": 6,
     "metadata": {
      "application/json": {
       "expanded": false,
       "root": "root"
      }
     },
     "output_type": "execute_result"
    }
   ],
   "source": [
    "import IPython.display\n",
    "import json\n",
    "with open(custom_mod_file) as ifx:\n",
    "    custom_mod_dict = json.load(ifx)\n",
    "IPython.display.JSON(custom_mod_dict)"
   ]
  },
  {
   "cell_type": "code",
   "execution_count": 7,
   "id": "0457fe3a-96c8-4d6c-95fc-fadb57dcb382",
   "metadata": {
    "tags": []
   },
   "outputs": [
    {
     "data": {
      "application/vnd.jupyter.widget-view+json": {
       "model_id": "0be6b7cc4b6245e1bc865fc4dc1b14cf",
       "version_major": 2,
       "version_minor": 0
      },
      "text/plain": [
       "TwoByTwoLayout(children=(Tree(layout=Layout(grid_area='top-left', width='55%'), multiple_selection=False, node…"
      ]
     },
     "execution_count": 7,
     "metadata": {},
     "output_type": "execute_result"
    }
   ],
   "source": [
    "custom_mods = cbm_recipe.netstruct_from_file(custom_mod_file)\n",
    "cmod_view = cbm_tree.NetworkTreeView(custom_mods, left_width=\"55%\")\n",
    "cmod_view.build()\n",
    "cmod_view.layout"
   ]
  },
  {
   "cell_type": "markdown",
   "id": "7c538cc6-ed2e-4edc-903d-063068657081",
   "metadata": {},
   "source": [
    "# Genrate Config Files from UI\n",
    "\n",
    "Generated Config files as shown in the UI"
   ]
  },
  {
   "cell_type": "code",
   "execution_count": 8,
   "id": "67181fa7-6768-4171-b686-f3c94abb3fbe",
   "metadata": {},
   "outputs": [],
   "source": [
    "def get_node_by_key(parent_node, node_key):\n",
    "    if parent_node.node_key == node_key:\n",
    "        return parent_node\n",
    "    for child_node in parent_node.nodes:\n",
    "        found_node = get_node_by_key(child_node, node_key)\n",
    "        if found_node:\n",
    "            return found_node\n",
    "    return None\n",
    "\n",
    "## \n",
    "root_node = cmod_view.tree.nodes[0]\n",
    "location_node = get_node_by_key(root_node, \"net.locations\")\n",
    "connections_node = get_node_by_key(root_node, \"net.connections\")\n",
    "data_links_node = get_node_by_key(root_node, \"net.data_links\")\n",
    "#\n",
    "left_loc_node = get_node_by_key(location_node, \"Left\")\n",
    "right_loc_node = get_node_by_key(location_node, \"Right\")"
   ]
  },
  {
   "cell_type": "code",
   "execution_count": 9,
   "id": "ace2cc7f-1df6-41a8-b1b4-c1febca42d24",
   "metadata": {},
   "outputs": [],
   "source": [
    "#\n",
    "\n",
    "def conn_config(conn_node):\n",
    "    return ({\n",
    "        \"from\": ast.literal_eval(conn_node.pre)[1],\n",
    "        \"to\": ast.literal_eval(conn_node.post)[1],\n",
    "        \"type\": cmx_node.property_map[\"name\"],\n",
    "        \"property_map\": cmx_node.property_map\n",
    "    } for cmx_node in conn_node.nodes)\n",
    "\n",
    "def region_config(loc_node):\n",
    "    return ({\n",
    "        \"name\": node.name, \n",
    "        \"dims\": node.dims\n",
    "    } for node in loc_node.nodes)\n",
    "\n",
    "\n",
    "network_cfg = {\n",
    "    \"ratio_x\": 1,\n",
    "    \"ratio_y\": 1,\n",
    "    \"types\": list(\n",
    "        itertools.chain(region_config(left_loc_node),\n",
    "                        region_config(right_loc_node))\n",
    "    ),\n",
    "    \"connections\":list(\n",
    "        itertools.chain(\n",
    "            *(conn_config(cx_node) for cx_node in connections_node.nodes)\n",
    "        )\n",
    "    )\n",
    "}\n",
    "data_files_config = {node.name:node.path for node in data_links_node.nodes}\n",
    "\n",
    "# \n",
    "cbm_io.dump_json(network_cfg, \"./wbn_sleep/network_config.json\", indent=4)\n",
    "cbm_io.dump_json(data_files_config, \"./wbn_sleep/data_config.json\", indent=4)\n"
   ]
  },
  {
   "cell_type": "markdown",
   "id": "5c06ae74-1bcd-419f-810c-3d3c509f3b35",
   "metadata": {},
   "source": [
    "# Generate Networks\n",
    "\n",
    "1. Data files are placed in the data directory\n",
    "2. generate_network is in the appropriate path\n",
    "3. Run generate_network"
   ]
  },
  {
   "cell_type": "code",
   "execution_count": 10,
   "id": "efeef6a4-46d1-42ea-bf2e-8279ab6b96f8",
   "metadata": {},
   "outputs": [
    {
     "name": "stdout",
     "output_type": "stream",
     "text": [
      "Usage: /storage/home/hhive1/schockalingam6/data2/wbn_sleep/build/generate_network [OPTIONS]\n",
      "\n",
      "Options:\n",
      "  -h,--help                   Print this help message and exit\n",
      "  -c,--config TEXT:FILE REQUIRED\n",
      "                              Path to the Input Config File\n",
      "  -s,--connect_summary TEXT [connSummaryFileexample.txt] \n",
      "                              Path to Connection Summary File\n",
      "  -d,--data-config TEXT:FILE  Path to Data Config File\n",
      "  -o,--output-file TEXT [network_output.txt]  REQUIRED\n",
      "                              Path to Output File\n",
      "  -p,--parallel               Flag if Parallel Run\n",
      "  --parallel-read             Flag if Parallel Read of input file\n",
      "  --parallel-build            Flag if Parallel Build \n"
     ]
    }
   ],
   "source": [
    "!$HOME/data2/wbn_sleep/build/generate_network -h "
   ]
  },
  {
   "cell_type": "code",
   "execution_count": 11,
   "id": "9ca4a1ba-aaec-4040-9a7e-13342efe7439",
   "metadata": {},
   "outputs": [
    {
     "name": "stdout",
     "output_type": "stream",
     "text": [
      " ┌──────────────────────────────────────────────────────────────┐\n",
      " │ Network Config. File       : ./wbn_sleep/network_config.json │\n",
      " │ Output File                : ./wbn_sleep/wbn_network.txt     │\n",
      " │ Connection Summary File    : ./wbn_sleep/connect_summary.txt │\n",
      " │ Data Config. File          : ./wbn_sleep/data_config.json    │\n",
      " │ Parallel Constr.           : false                           │\n",
      " │ Parallel Weights Reading.  : false                           │\n",
      " │ Parallel Network Build.    : false                           │\n",
      " └──────────────────────────────────────────────────────────────┘\n",
      " ┌───────────────────────────────────────────────────────────────────────────────────┐\n",
      " │ left_subnet               : ./wbn_sleep/data/Map_642_To_10242_30-Aug-2017_LH.txt  │\n",
      " │ right_subnet              : ./wbn_sleep/data/Map_642_To_10242_30-Aug-2017_RH.txt  │\n",
      " │ left_right_map            : ./wbn_sleep/data/Map_LH_RH_10242_30-Aug-2017.txt      │\n",
      " │ left_right_map_small      : ./wbn_sleep/data/Map_LH_RH_642_30-Aug-2017.txt        │\n",
      " │ dist3d_probability        : ./wbn_sleep/data/dist_inMeters_prob_LH_onesOnDiag.txt │\n",
      " │ weight_factor             : ./wbn_sleep/data/weights_LH.txt                       │\n",
      " │ weight_factor_inpy        : ./wbn_sleep/data/weights_INPY_both_hemi.txt           │\n",
      " │ thalamus_cortex_distance  : ./wbn_sleep/data/thalCort_dist_inMeters_LH.txt        │\n",
      " │ intra_thalamus_distance   : ./wbn_sleep/data/dist_TC_LH_zeroDiag.txt              │\n",
      " └───────────────────────────────────────────────────────────────────────────────────┘\n",
      "Configuration for both-hemisphere connections detected (rXXX cell type found).\n",
      "Init. Config :        3.7 ms (    0.0037 sec/   6.2e-05 min).;     429388 KB (       419 MB/         0 GB).\n",
      "Loading 3D sub network (hemisphere): ./wbn_sleep/data/Map_642_To_10242_30-Aug-2017_LH.txt(L)\n",
      "Loading 3D sub network (hemisphere): ./wbn_sleep/data/Map_642_To_10242_30-Aug-2017_RH.txt(R)\n",
      "Loading 3D LH-RH interhemispheric mapping : ./wbn_sleep/data/Map_LH_RH_10242_30-Aug-2017.txt\n",
      "Loading 3D LH-RH interhemispheric mapping : ./wbn_sleep/data/Map_LH_RH_642_30-Aug-2017.txt\n",
      "Load 3D Subnet & LH-RH corres. :         57 ms (     0.057 sec/   0.00096 min).;     429388 KB (       419 MB/         0 GB).\n",
      "Load 3D_dist_prob : ./wbn_sleep/data/dist_inMeters_prob_LH_onesOnDiag.txt\n",
      "Load 3D Dist :    3.7e+04 ms (        37 sec/      0.62 min).;    4519788 KB (      4413 MB/         4 GB).\n",
      "Load dist3d_probability :    3.7e+04 ms (        37 sec/      0.62 min).;    4519788 KB (      4413 MB/         4 GB).\n",
      "load_weightFactors_INPY\n",
      "Load IN PY :    3.7e+04 ms (        37 sec/      0.62 min).;    8159676 KB (      7968 MB/         7 GB).\n",
      "seq load_weight_factors : ./wbn_sleep/data/weights_LH.txt\n",
      "Seq Init weight_factor :    1.4e+04 ms (        14 sec/      0.23 min).;   61965052 KB (     60512 MB/        59 GB).\n",
      "Seq Loaded weight_factor :    6.1e+05 ms (   6.1e+02 sec/        10 min).;   98748988 KB (     96434 MB/        94 GB).\n",
      "Load Weight Factor :    6.2e+05 ms (   6.2e+02 sec/        10 min).;   98748988 KB (     96434 MB/        94 GB).\n",
      "Load thalCort_dist : ./wbn_sleep/data/thalCort_dist_inMeters_LH.txt\n",
      "Load intraThalamus_dist : ./wbn_sleep/data/dist_TC_LH_zeroDiag.txt\n",
      "Load Thalamus-Cortex & Intra Thalamic Dist :    1.4e+02 ms (      0.14 sec/    0.0023 min).;   98748988 KB (     96434 MB/        94 GB).\n",
      "Generating connection file from pre-set 3D MRI data, new MultiLayer connections, hemisphere: 0\n",
      "Full set(CX): 10242; Subnet(TC,RE,IN...): 642\n",
      "Generate Connections (Left) :    7.3e+05 ms (   7.3e+02 sec/        12 min).;   98748988 KB (     96434 MB/        94 GB).\n",
      "Generating connection file from pre-set 3D MRI data, new MultiLayer connections, hemisphere: 1\n",
      "Full set(CX): 10242; Subnet(TC,RE,IN...): 642\n",
      "Generate Connections (Right) :       0.35 ms (   0.00035 sec/   5.8e-06 min).;   98748988 KB (     96434 MB/        94 GB).\n",
      "Sorting connections\n",
      "Adjusting synaptic types\n",
      "Apply Synaptic Types :    1.8e+03 ms (       1.8 sec/      0.03 min).;  98748988 KB (     96434 MB/        94 GB).\n",
      "Writing output file\n",
      "Total counts (hemisphere 0): 115716 neurons, 7987640 edges.\n",
      "Write Connections :    1.5e+04 ms (        15 sec/      0.25 min).;   98748988 KB (     96434 MB/        94 GB).\n",
      "Gen. Network (complete) :    1.4e+06 ms (   1.4e+03 sec/        24 min).;   98748988 KB (     96434 MB/        94 GB).\n"
     ]
    }
   ],
   "source": [
    "!$HOME/data2/wbn_sleep/build/generate_network -c ./wbn_sleep/network_config.json -d ./wbn_sleep/data_config.json -o ./wbn_sleep/wbn_network.txt -s ./wbn_sleep/connect_summary.txt\n"
   ]
  },
  {
   "cell_type": "markdown",
   "id": "d523387c-a37d-4726-bab9-7a37b10331a2",
   "metadata": {},
   "source": [
    "# Generate Networks in Parallel\n",
    "\n",
    "The new version of generate_network has '-p' option to run the generation in parallel. However, the parallel version has a limitation that it can not generate deterministic outputs since random generation in each thread proceeds with a unique seed. \n",
    "\n",
    "Shown below is a run with 24 cores, which took 4 minutes compared to 24 minutes it took for the sequential run.\n"
   ]
  },
  {
   "cell_type": "code",
   "execution_count": 12,
   "id": "4f42d7fe-e1dd-42a5-90f7-1b7d5884dc47",
   "metadata": {},
   "outputs": [
    {
     "name": "stdout",
     "output_type": "stream",
     "text": [
      " ┌──────────────────────────────────────────────────────────────────┐\n",
      " │ Network Config. File       : ./wbn_sleep/network_config.json     │\n",
      " │ Output File                : ./wbn_sleep/wbn_network_par.txt     │\n",
      " │ Connection Summary File    : ./wbn_sleep/connect_summary_par.txt │\n",
      " │ Data Config. File          : ./wbn_sleep/data_config.json        │\n",
      " │ Parallel Constr.           : true                                │\n",
      " │ Parallel Weights Reading.  : true                                │\n",
      " │ Parallel Network Build.    : true                                │\n",
      " └──────────────────────────────────────────────────────────────────┘\n",
      " ┌───────────────────────────────────────────────────────────────────────────────────┐\n",
      " │ left_subnet               : ./wbn_sleep/data/Map_642_To_10242_30-Aug-2017_LH.txt  │\n",
      " │ right_subnet              : ./wbn_sleep/data/Map_642_To_10242_30-Aug-2017_RH.txt  │\n",
      " │ left_right_map            : ./wbn_sleep/data/Map_LH_RH_10242_30-Aug-2017.txt      │\n",
      " │ left_right_map_small      : ./wbn_sleep/data/Map_LH_RH_642_30-Aug-2017.txt        │\n",
      " │ dist3d_probability        : ./wbn_sleep/data/dist_inMeters_prob_LH_onesOnDiag.txt │\n",
      " │ weight_factor             : ./wbn_sleep/data/weights_LH.txt                       │\n",
      " │ weight_factor_inpy        : ./wbn_sleep/data/weights_INPY_both_hemi.txt           │\n",
      " │ thalamus_cortex_distance  : ./wbn_sleep/data/thalCort_dist_inMeters_LH.txt        │\n",
      " │ intra_thalamus_distance   : ./wbn_sleep/data/dist_TC_LH_zeroDiag.txt              │\n",
      " └───────────────────────────────────────────────────────────────────────────────────┘\n",
      "Configuration for both-hemisphere connections detected (rXXX cell type found).\n",
      "Init. Config :         13 ms (     0.013 sec/   0.00022 min).;     323228 KB (       315 MB/         0 GB).\n",
      "Loading 3D sub network (hemisphere): ./wbn_sleep/data/Map_642_To_10242_30-Aug-2017_LH.txt(L)\n",
      "Loading 3D sub network (hemisphere): ./wbn_sleep/data/Map_642_To_10242_30-Aug-2017_RH.txt(R)\n",
      "Loading 3D LH-RH interhemispheric mapping : ./wbn_sleep/data/Map_LH_RH_10242_30-Aug-2017.txt\n",
      "Loading 3D LH-RH interhemispheric mapping : ./wbn_sleep/data/Map_LH_RH_642_30-Aug-2017.txt\n",
      "Load 3D Subnet & LH-RH corres. :        4.5 ms (    0.0045 sec/   7.4e-05 min).;     323228 KB (       315 MB/         0 GB).\n",
      "Load 3D_dist_prob : ./wbn_sleep/data/dist_inMeters_prob_LH_onesOnDiag.txt\n",
      "Load 3D Dist :    3.7e+04 ms (        37 sec/      0.62 min).;    4519596 KB (      4413 MB/         4 GB).\n",
      "Load dist3d_probability :    3.7e+04 ms (        37 sec/      0.62 min).;    4519596 KB (      4413 MB/         4 GB).\n",
      "load_weightFactors_INPY\n",
      "Read weight_factor_INPY Records 419594269 \n",
      "Load IN PY :    1.4e+04 ms (        14 sec/      0.23 min).;    7929416 KB (      7743 MB/         7 GB).\n",
      "load_weight_factors : ./wbn_sleep/data/weights_LH.txt\n",
      "Init weight_factor :    1.5e+04 ms (        15 sec/      0.25 min).;   61964224 KB (     60511 MB/        59 GB).\n",
      "Read weight_factor Records -518618981 \n",
      "Loaded weight_factor :    1.1e+05 ms (   1.1e+02 sec/       1.9 min).;   98640380 KB (     96328 MB/        94 GB).\n",
      "Load Weight Factor :    1.3e+05 ms (   1.3e+02 sec/       2.2 min).;   98640380 KB (     96328 MB/        94 GB).\n",
      "Load thalCort_dist : ./wbn_sleep/data/thalCort_dist_inMeters_LH.txt\n",
      "Load intraThalamus_dist : ./wbn_sleep/data/dist_TC_LH_zeroDiag.txt\n",
      "Load Thalamus-Cortex & Intra Thalamic Dist :    1.2e+02 ms (      0.12 sec/     0.002 min).;   98640380 KB (     96328 MB/        94 GB).\n",
      "Generating connection file from pre-set 3D MRI data, new MultiLayer connections, hemisphere: 0\n",
      "Full set(CX): 10242; Subnet(TC,RE,IN...): 642\n",
      "Generate Connections (Left) :      4e+04 ms (        40 sec/      0.66 min).;   98640380 KB (     96328 MB/        94 GB).\n",
      "Generating connection file from pre-set 3D MRI data, new MultiLayer connections, hemisphere: 1\n",
      "Full set(CX): 10242; Subnet(TC,RE,IN...): 642\n",
      "Generate Connections (Right) :       0.38 ms (   0.00038 sec/   6.3e-06 min).;   98640380 KB (     96328 MB/        94 GB).\n",
      "Sorting connections\n",
      "Adjusting synaptic types\n",
      "Apply Synaptic Types :      2e+03 ms (         2 sec/     0.033 min).;  98640380 KB (     96328 MB/        94 GB).\n",
      "Writing output file\n",
      "Total counts (hemisphere 0): 115716 neurons, 7981005 edges.\n",
      "Write Connections :    1.5e+04 ms (        15 sec/      0.25 min).;   98640380 KB (     96328 MB/        94 GB).\n",
      "Gen. Network (complete) :    2.4e+05 ms (   2.4e+02 sec/         4 min).;   98640380 KB (     96328 MB/        94 GB).\n"
     ]
    }
   ],
   "source": [
    "!$HOME/data2/wbn_sleep/build/generate_network -p -c ./wbn_sleep/network_config.json -d ./wbn_sleep/data_config.json -o ./wbn_sleep/wbn_network_par.txt -s ./wbn_sleep/connect_summary_par.txt\n"
   ]
  },
  {
   "cell_type": "markdown",
   "id": "590e83d4-32fb-4e63-9b72-2dcd8c405581",
   "metadata": {},
   "source": [
    "# Genration with model Recipe\n",
    "\n",
    "**TODO: future work**"
   ]
  },
  {
   "cell_type": "code",
   "execution_count": 14,
   "id": "07056fc0-c1ea-4072-8084-c77905d11797",
   "metadata": {},
   "outputs": [],
   "source": [
    "model_recipe = cbm_recipe.ModelRecipe(\n",
    "    recipe_setup=mdr_setup,\n",
    "    region_mapper=wbn_model.WGNRegionMapper,                                                                                                                                                                                                         \n",
    "    neuron_mapper=wbn_model.WGNNeuronMapper,                                                                                                                                                                                                         \n",
    "    connection_mapper=wbn_model.WGNConnectionMapper,                                                                                                                                                                                                     \n",
    "    network_builder=wbn_model.WGNNetworkBuilder,                                                                                                                                                                                                   \n",
    "    custom_mod=custom_mods,                                                                                                                                                                                                               \n",
    "    save_flag=True,\n",
    ")                                                                                                                                                                                                                                   \n",
    "# logging.basicConfig(level=logging.INFO)"
   ]
  },
  {
   "cell_type": "code",
   "execution_count": null,
   "id": "5fdd7719-cb32-48b3-9c8b-655045d58974",
   "metadata": {},
   "outputs": [],
   "source": []
  }
 ],
 "metadata": {
  "kernelspec": {
   "display_name": "Python 3 (ipykernel)",
   "language": "python",
   "name": "python3"
  },
  "language_info": {
   "codemirror_mode": {
    "name": "ipython",
    "version": 3
   },
   "file_extension": ".py",
   "mimetype": "text/x-python",
   "name": "python",
   "nbconvert_exporter": "python",
   "pygments_lexer": "ipython3",
   "version": "3.10.16"
  }
 },
 "nbformat": 4,
 "nbformat_minor": 5
}
