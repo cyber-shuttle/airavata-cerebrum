{
 "cells": [
  {
   "cell_type": "code",
   "execution_count": 1,
   "id": "f933cf90-e3fe-45fd-abe1-0bd8ae522c26",
   "metadata": {},
   "outputs": [],
   "source": [
    "%load_ext autoreload\n",
    "%autoreload 2 "
   ]
  },
  {
   "cell_type": "code",
   "execution_count": 22,
   "id": "a121e7e3-15e6-477c-9990-c07aa27ba12f",
   "metadata": {},
   "outputs": [],
   "source": [
    "import logging\n",
    "#\n",
    "import airavata_cerebrum.model.setup as cbm_setup\n",
    "import airavata_cerebrum.view.tree as cbm_tree\n",
    "import airavata_cerebrum.model.recipe as cbm_recipe\n",
    "import wgn_sleep.model as wgn_model"
   ]
  },
  {
   "cell_type": "code",
   "execution_count": 23,
   "id": "cd55b3d9-efd6-457e-aa35-546d64526d28",
   "metadata": {},
   "outputs": [],
   "source": [
    "import pathlib\n",
    "model_base_dir = \"./\"\n",
    "model_name = \"wgn_sleep\"\n",
    "custom_mod_file = \"./wgn_sleep/recipe/custom_mod.json\"\n",
    "recipe_dir = \"./wgn_sleep/recipe/\"\n",
    "recipe_files={\"recipe\": [\"recipe.json\"], \"templates\": [\"recipe_template.json\"] }\n",
    "recipe_main_file = pathlib.Path(recipe_dir, recipe_files[\"recipe\"][0])"
   ]
  },
  {
   "cell_type": "code",
   "execution_count": 24,
   "id": "7c922aeb-0e94-4158-b585-28f697df5baf",
   "metadata": {},
   "outputs": [
    {
     "data": {
      "application/json": {
       "data2model_map": {
        "connections": {},
        "locations": {
         "Left": {
          "'CX": {
           "property_map": {
            "ei": "e"
           },
           "source_data": {}
          },
          "'CX3": {
           "property_map": {
            "ei": "e"
           },
           "source_data": {}
          },
          "'CX4": {
           "property_map": {
            "ei": "e"
           },
           "source_data": {}
          },
          "'CX5a": {
           "property_map": {
            "ei": "e"
           },
           "source_data": {}
          },
          "'CX6": {
           "property_map": {
            "ei": "e"
           },
           "source_data": {}
          },
          "'IN": {
           "property_map": {
            "ei": "i"
           },
           "source_data": {}
          },
          "'IN3": {
           "property_map": {
            "ei": "i"
           },
           "source_data": {}
          },
          "'IN4": {
           "property_map": {
            "ei": "i"
           },
           "source_data": {}
          },
          "'IN5a": {
           "property_map": {
            "ei": "i"
           },
           "source_data": {}
          },
          "'IN5b": {
           "property_map": {
            "ei": "i"
           },
           "source_data": {}
          },
          "'IN6": {
           "property_map": {
            "ei": "i"
           },
           "source_data": {}
          },
          "'RE": {
           "property_map": {
            "ei": "e"
           },
           "source_data": {}
          },
          "'REa": {
           "property_map": {
            "ei": "e"
           },
           "source_data": {}
          },
          "'TC": {
           "property_map": {
            "ei": "e"
           },
           "source_data": {}
          },
          "'TCa": {
           "property_map": {
            "ei": "e"
           },
           "source_data": {}
          },
          "property_map": {
           "neurons": [
            "RE",
            "REa",
            "TC",
            "TCa",
            "CX",
            "CX3",
            "CX4",
            "CX5a",
            "CX6",
            "IN",
            "IN3",
            "IN4",
            "IN5a",
            "IN5b",
            "IN6"
           ],
           "source_data": {}
          }
         },
         "Right": {
          "'CX": {
           "property_map": {
            "ei": "i"
           },
           "source_data": {}
          },
          "'CX3": {
           "property_map": {
            "ei": "i"
           },
           "source_data": {}
          },
          "'CX4": {
           "property_map": {
            "ei": "i"
           },
           "source_data": {}
          },
          "'CX5a": {
           "property_map": {
            "ei": "i"
           },
           "source_data": {}
          },
          "'CX6": {
           "property_map": {
            "ei": "i"
           },
           "source_data": {}
          },
          "'IN": {
           "property_map": {
            "ei": "i"
           },
           "source_data": {}
          },
          "'IN3": {
           "property_map": {
            "ei": "i"
           },
           "source_data": {}
          },
          "'IN4": {
           "property_map": {
            "ei": "i"
           },
           "source_data": {}
          },
          "'IN5a": {
           "property_map": {
            "ei": "i"
           },
           "source_data": {}
          },
          "'IN5b": {
           "property_map": {
            "ei": "i"
           },
           "source_data": {}
          },
          "'IN6": {
           "property_map": {
            "ei": "i"
           },
           "source_data": {}
          },
          "'RE": {
           "property_map": {
            "ei": "i"
           },
           "source_data": {}
          },
          "'REa": {
           "property_map": {
            "ei": "i"
           },
           "source_data": {}
          },
          "'TC": {
           "property_map": {
            "ei": "i"
           },
           "source_data": {}
          },
          "'TCa": {
           "property_map": {
            "ei": "i"
           },
           "source_data": {}
          },
          "property_map": {
           "neurons": [
            "'rRE",
            "'rREa",
            "'rTC",
            "'rTCa",
            "'rCX",
            "'rCX3",
            "'rCX4",
            "'rCX5a",
            "'rCX6",
            "'rIN",
            "'rIN3",
            "'rIN4",
            "'rIN5a",
            "'rIN5b",
            "'rIN6"
           ],
           "source_data": {}
          }
         }
        }
       },
       "source_data": {}
      },
      "text/plain": [
       "<IPython.core.display.JSON object>"
      ]
     },
     "execution_count": 24,
     "metadata": {
      "application/json": {
       "expanded": false,
       "root": "root"
      }
     },
     "output_type": "execute_result"
    }
   ],
   "source": [
    "import IPython.display\n",
    "import json\n",
    "with open(recipe_main_file) as ifx:\n",
    "    config_dict = json.load(ifx)\n",
    "IPython.display.JSON(config_dict)"
   ]
  },
  {
   "cell_type": "code",
   "execution_count": 25,
   "id": "a5a537ed-6a8d-4e4c-9919-7e34df469d2c",
   "metadata": {},
   "outputs": [
    {
     "name": "stderr",
     "output_type": "stream",
     "text": [
      "Loading View Templates\n"
     ]
    }
   ],
   "source": [
    "mdr_setup = cbm_setup.init_model_setup(\n",
    "    name=model_name,\n",
    "    model_base_dir=model_base_dir,\n",
    "    recipe_files=recipe_files,\n",
    "    recipe_dir=recipe_dir,\n",
    ")"
   ]
  },
  {
   "cell_type": "code",
   "execution_count": 26,
   "id": "1faef629-3291-4886-81a3-35a5fcbf3aa5",
   "metadata": {},
   "outputs": [
    {
     "data": {
      "application/json": {
       "connections": {
        "CX,CX": {
         "connect_models": {
          "CX,CX,AMPAMap_D1": {
           "name": "CX,CX,AMPAMap_D1",
           "property_map": {
            "col_sci": 1000,
            "distribution": "fixed",
            "mini_f": 500,
            "mini_s": 1.6e-06,
            "name": "AMPAMap_D1",
            "prob": 1,
            "prob_oc": 1,
            "radius": 10.1,
            "strength": 0.0002
           }
          },
          "CX,CX,NMDAMap_D1": {
           "name": "CX,CX,NMDAMap_D1",
           "property_map": {
            "col_sci": 1000,
            "distribution": "fixed",
            "mini_f": 0,
            "mini_s": 0,
            "name": "NMDAMap_D1",
            "prob": 1,
            "prob_oc": 1,
            "radius": 10.1,
            "strength": 1e-08
           }
          }
         },
         "name": "CX,CX",
         "post": [
          "x",
          "CX"
         ],
         "pre": [
          "x",
          "CX"
         ]
        },
        "CX,CX3": {
         "connect_models": {
          "CX,CX3,AMPAMap_D1": {
           "name": "CX,CX3,AMPAMap_D1",
           "property_map": {
            "col_sci": 1000,
            "distribution": "fixed",
            "mini_f": 500,
            "mini_s": 1.6e-06,
            "name": "AMPAMap_D1",
            "prob": 1,
            "prob_oc": 1,
            "radius": 10.1,
            "strength": 0.0002
           }
          },
          "CX,CX3,NMDAMap_D1": {
           "name": "CX,CX3,NMDAMap_D1",
           "property_map": {
            "col_sci": 1000,
            "distribution": "fixed",
            "mini_f": 0,
            "mini_s": 0,
            "name": "NMDAMap_D1",
            "prob": 1,
            "prob_oc": 1,
            "radius": 10.1,
            "strength": 1e-08
           }
          }
         },
         "name": "CX,CX3",
         "post": [
          "x",
          "CX3"
         ],
         "pre": [
          "x",
          "CX"
         ]
        },
        "CX,CX5a": {
         "connect_models": {
          "CX,CX5a,AMPAMap_D1": {
           "name": "CX,CX5a,AMPAMap_D1",
           "property_map": {
            "col_sci": 1000,
            "distribution": "fixed",
            "mini_f": 500,
            "mini_s": 1.6e-06,
            "name": "AMPAMap_D1",
            "prob": 1,
            "prob_oc": 1,
            "radius": 10.1,
            "strength": 0.0002
           }
          },
          "CX,CX5a,NMDAMap_D1": {
           "name": "CX,CX5a,NMDAMap_D1",
           "property_map": {
            "col_sci": 1000,
            "distribution": "fixed",
            "mini_f": 0,
            "mini_s": 0,
            "name": "NMDAMap_D1",
            "prob": 1,
            "prob_oc": 1,
            "radius": 10.1,
            "strength": 1e-08
           }
          }
         },
         "name": "CX,CX5a",
         "post": [
          "x",
          "CX5a"
         ],
         "pre": [
          "x",
          "CX"
         ]
        },
        "CX,CX5b": {
         "connect_models": {
          "CX,CX5b,AMPAMap_D1": {
           "name": "CX,CX5b,AMPAMap_D1",
           "property_map": {
            "col_sci": 1000,
            "distribution": "fixed",
            "mini_f": 500,
            "mini_s": 1.6e-06,
            "name": "AMPAMap_D1",
            "prob": 1,
            "prob_oc": 1,
            "radius": 10.1,
            "strength": 0.0002
           }
          },
          "CX,CX5b,NMDAMap_D1": {
           "name": "CX,CX5b,NMDAMap_D1",
           "property_map": {
            "col_sci": 1000,
            "distribution": "fixed",
            "mini_f": 0,
            "mini_s": 0,
            "name": "NMDAMap_D1",
            "prob": 1,
            "prob_oc": 1,
            "radius": 10.1,
            "strength": 1e-08
           }
          }
         },
         "name": "CX,CX5b",
         "post": [
          "x",
          "CX5b"
         ],
         "pre": [
          "x",
          "CX"
         ]
        },
        "CX,IN": {
         "connect_models": {
          "CX,IN,AMPAMap_D1": {
           "name": "CX,IN,AMPAMap_D1",
           "property_map": {
            "col_sci": 1000,
            "distribution": "fixed",
            "mini_f": 500,
            "mini_s": 1.6e-06,
            "name": "AMPAMap_D1",
            "prob": 1,
            "prob_oc": 1,
            "radius": 0.0136,
            "strength": 0.00063
           }
          },
          "CX,IN,NMDAMap_D1": {
           "name": "CX,IN,NMDAMap_D1",
           "property_map": {
            "col_sci": 1000,
            "distribution": "fixed",
            "mini_f": 0,
            "mini_s": 0,
            "name": "NMDAMap_D1",
            "prob": 1,
            "prob_oc": 1,
            "radius": 0.0136,
            "strength": 1e-07
           }
          }
         },
         "name": "CX,IN",
         "post": [
          "x",
          "IN"
         ],
         "pre": [
          "x",
          "CX"
         ]
        },
        "CX3,CX": {
         "connect_models": {
          "CX3,CX,AMPAMap_D1": {
           "name": "CX3,CX,AMPAMap_D1",
           "property_map": {
            "col_sci": 1000,
            "distribution": "fixed",
            "mini_f": 500,
            "mini_s": 1.6e-06,
            "name": "AMPAMap_D1",
            "prob": 1,
            "prob_oc": 1,
            "radius": 10.1,
            "strength": 0.0002
           }
          },
          "CX3,CX,NMDAMap_D1": {
           "name": "CX3,CX,NMDAMap_D1",
           "property_map": {
            "col_sci": 1000,
            "distribution": "fixed",
            "mini_f": 0,
            "mini_s": 0,
            "name": "NMDAMap_D1",
            "prob": 1,
            "prob_oc": 1,
            "radius": 10.1,
            "strength": 1e-08
           }
          }
         },
         "name": "CX3,CX",
         "post": [
          "x",
          "CX"
         ],
         "pre": [
          "x",
          "CX3"
         ]
        },
        "CX3,CX3": {
         "connect_models": {
          "CX3,CX3,AMPAMap_D1": {
           "name": "CX3,CX3,AMPAMap_D1",
           "property_map": {
            "col_sci": 1000,
            "distribution": "fixed",
            "mini_f": 500,
            "mini_s": 1.6e-06,
            "name": "AMPAMap_D1",
            "prob": 1,
            "prob_oc": 1,
            "radius": 10.1,
            "strength": 0.0002
           }
          },
          "CX3,CX3,NMDAMap_D1": {
           "name": "CX3,CX3,NMDAMap_D1",
           "property_map": {
            "col_sci": 1000,
            "distribution": "fixed",
            "mini_f": 0,
            "mini_s": 0,
            "name": "NMDAMap_D1",
            "prob": 1,
            "prob_oc": 1,
            "radius": 10.1,
            "strength": 1e-08
           }
          }
         },
         "name": "CX3,CX3",
         "post": [
          "x",
          "CX3"
         ],
         "pre": [
          "x",
          "CX3"
         ]
        },
        "CX3,CX4": {
         "connect_models": {
          "CX3,CX4,AMPAMap_D1": {
           "name": "CX3,CX4,AMPAMap_D1",
           "property_map": {
            "col_sci": 1000,
            "distribution": "fixed",
            "mini_f": 500,
            "mini_s": 1.6e-06,
            "name": "AMPAMap_D1",
            "prob": 1,
            "prob_oc": 1,
            "radius": 10.1,
            "strength": 0.0002
           }
          },
          "CX3,CX4,NMDAMap_D1": {
           "name": "CX3,CX4,NMDAMap_D1",
           "property_map": {
            "col_sci": 1000,
            "distribution": "fixed",
            "mini_f": 0,
            "mini_s": 0,
            "name": "NMDAMap_D1",
            "prob": 1,
            "prob_oc": 1,
            "radius": 10.1,
            "strength": 1e-08
           }
          }
         },
         "name": "CX3,CX4",
         "post": [
          "x",
          "CX4"
         ],
         "pre": [
          "x",
          "CX3"
         ]
        },
        "CX3,CX5a": {
         "connect_models": {
          "CX3,CX5a,AMPAMap_D1": {
           "name": "CX3,CX5a,AMPAMap_D1",
           "property_map": {
            "col_sci": 1000,
            "distribution": "fixed",
            "mini_f": 500,
            "mini_s": 1.6e-06,
            "name": "AMPAMap_D1",
            "prob": 1,
            "prob_oc": 1,
            "radius": 10.1,
            "strength": 0.0002
           }
          },
          "CX3,CX5a,NMDAMap_D1": {
           "name": "CX3,CX5a,NMDAMap_D1",
           "property_map": {
            "col_sci": 1000,
            "distribution": "fixed",
            "mini_f": 0,
            "mini_s": 0,
            "name": "NMDAMap_D1",
            "prob": 1,
            "prob_oc": 1,
            "radius": 10.1,
            "strength": 1e-08
           }
          }
         },
         "name": "CX3,CX5a",
         "post": [
          "x",
          "CX5a"
         ],
         "pre": [
          "x",
          "CX3"
         ]
        },
        "CX3,CX5b": {
         "connect_models": {
          "CX3,CX5b,AMPAMap_D1": {
           "name": "CX3,CX5b,AMPAMap_D1",
           "property_map": {
            "col_sci": 1000,
            "distribution": "fixed",
            "mini_f": 500,
            "mini_s": 1.6e-06,
            "name": "AMPAMap_D1",
            "prob": 1,
            "prob_oc": 1,
            "radius": 10.1,
            "strength": 0.0002
           }
          },
          "CX3,CX5b,NMDAMap_D1": {
           "name": "CX3,CX5b,NMDAMap_D1",
           "property_map": {
            "col_sci": 1000,
            "distribution": "fixed",
            "mini_f": 0,
            "mini_s": 0,
            "name": "NMDAMap_D1",
            "prob": 1,
            "prob_oc": 1,
            "radius": 10.1,
            "strength": 1e-08
           }
          }
         },
         "name": "CX3,CX5b",
         "post": [
          "x",
          "CX5b"
         ],
         "pre": [
          "x",
          "CX3"
         ]
        },
        "CX3,IN3": {
         "connect_models": {
          "CX3,IN3,AMPAMap_D1": {
           "name": "CX3,IN3,AMPAMap_D1",
           "property_map": {
            "col_sci": 1000,
            "distribution": "fixed",
            "mini_f": 500,
            "mini_s": 1.6e-06,
            "name": "AMPAMap_D1",
            "prob": 1,
            "prob_oc": 1,
            "radius": 0.0136,
            "strength": 0.00063
           }
          },
          "CX3,IN3,NMDAMap_D1": {
           "name": "CX3,IN3,NMDAMap_D1",
           "property_map": {
            "col_sci": 1000,
            "distribution": "fixed",
            "mini_f": 0,
            "mini_s": 0,
            "name": "NMDAMap_D1",
            "prob": 1,
            "prob_oc": 1,
            "radius": 0.0136,
            "strength": 1e-07
           }
          }
         },
         "name": "CX3,IN3",
         "post": [
          "x",
          "IN3"
         ],
         "pre": [
          "x",
          "CX3"
         ]
        },
        "CX4,CX": {
         "connect_models": {
          "CX4,CX,AMPAMap_D1": {
           "name": "CX4,CX,AMPAMap_D1",
           "property_map": {
            "col_sci": 1000,
            "distribution": "fixed",
            "mini_f": 500,
            "mini_s": 1.6e-06,
            "name": "AMPAMap_D1",
            "prob": 1,
            "prob_oc": 1,
            "radius": 10.1,
            "strength": 0.0002
           }
          },
          "CX4,CX,NMDAMap_D1": {
           "name": "CX4,CX,NMDAMap_D1",
           "property_map": {
            "col_sci": 1000,
            "distribution": "fixed",
            "mini_f": 0,
            "mini_s": 0,
            "name": "NMDAMap_D1",
            "prob": 1,
            "prob_oc": 1,
            "radius": 10.1,
            "strength": 1e-08
           }
          }
         },
         "name": "CX4,CX",
         "post": [
          "x",
          "CX"
         ],
         "pre": [
          "x",
          "CX4"
         ]
        },
        "CX4,CX3": {
         "connect_models": {
          "CX4,CX3,AMPAMap_D1": {
           "name": "CX4,CX3,AMPAMap_D1",
           "property_map": {
            "col_sci": 1000,
            "distribution": "fixed",
            "mini_f": 500,
            "mini_s": 1.6e-06,
            "name": "AMPAMap_D1",
            "prob": 1,
            "prob_oc": 1,
            "radius": 10.1,
            "strength": 0.0002
           }
          },
          "CX4,CX3,NMDAMap_D1": {
           "name": "CX4,CX3,NMDAMap_D1",
           "property_map": {
            "col_sci": 1000,
            "distribution": "fixed",
            "mini_f": 0,
            "mini_s": 0,
            "name": "NMDAMap_D1",
            "prob": 1,
            "prob_oc": 1,
            "radius": 10.1,
            "strength": 1e-08
           }
          }
         },
         "name": "CX4,CX3",
         "post": [
          "x",
          "CX3"
         ],
         "pre": [
          "x",
          "CX4"
         ]
        },
        "CX4,CX4": {
         "connect_models": {
          "CX4,CX4,AMPAMap_D1": {
           "name": "CX4,CX4,AMPAMap_D1",
           "property_map": {
            "col_sci": 1000,
            "distribution": "fixed",
            "mini_f": 500,
            "mini_s": 1.6e-06,
            "name": "AMPAMap_D1",
            "prob": 1,
            "prob_oc": 1,
            "radius": 10.1,
            "strength": 0.0002
           }
          },
          "CX4,CX4,NMDAMap_D1": {
           "name": "CX4,CX4,NMDAMap_D1",
           "property_map": {
            "col_sci": 1000,
            "distribution": "fixed",
            "mini_f": 0,
            "mini_s": 0,
            "name": "NMDAMap_D1",
            "prob": 1,
            "prob_oc": 1,
            "radius": 10.1,
            "strength": 1e-08
           }
          }
         },
         "name": "CX4,CX4",
         "post": [
          "x",
          "CX4"
         ],
         "pre": [
          "x",
          "CX4"
         ]
        },
        "CX4,CX5a": {
         "connect_models": {
          "CX4,CX5a,AMPAMap_D1": {
           "name": "CX4,CX5a,AMPAMap_D1",
           "property_map": {
            "col_sci": 1000,
            "distribution": "fixed",
            "mini_f": 500,
            "mini_s": 1.6e-06,
            "name": "AMPAMap_D1",
            "prob": 1,
            "prob_oc": 1,
            "radius": 10.1,
            "strength": 0.0002
           }
          },
          "CX4,CX5a,NMDAMap_D1": {
           "name": "CX4,CX5a,NMDAMap_D1",
           "property_map": {
            "col_sci": 1000,
            "distribution": "fixed",
            "mini_f": 0,
            "mini_s": 0,
            "name": "NMDAMap_D1",
            "prob": 1,
            "prob_oc": 1,
            "radius": 10.1,
            "strength": 1e-08
           }
          }
         },
         "name": "CX4,CX5a",
         "post": [
          "x",
          "CX5a"
         ],
         "pre": [
          "x",
          "CX4"
         ]
        },
        "CX4,CX5b": {
         "connect_models": {
          "CX4,CX5b,AMPAMap_D1": {
           "name": "CX4,CX5b,AMPAMap_D1",
           "property_map": {
            "col_sci": 1000,
            "distribution": "fixed",
            "mini_f": 500,
            "mini_s": 1.6e-06,
            "name": "AMPAMap_D1",
            "prob": 1,
            "prob_oc": 1,
            "radius": 10.1,
            "strength": 0.0002
           }
          },
          "CX4,CX5b,NMDAMap_D1": {
           "name": "CX4,CX5b,NMDAMap_D1",
           "property_map": {
            "col_sci": 1000,
            "distribution": "fixed",
            "mini_f": 0,
            "mini_s": 0,
            "name": "NMDAMap_D1",
            "prob": 1,
            "prob_oc": 1,
            "radius": 10.1,
            "strength": 1e-08
           }
          }
         },
         "name": "CX4,CX5b",
         "post": [
          "x",
          "CX5b"
         ],
         "pre": [
          "x",
          "CX4"
         ]
        },
        "CX4,CX6": {
         "connect_models": {
          "CX4,CX6,AMPAMap_D1": {
           "name": "CX4,CX6,AMPAMap_D1",
           "property_map": {
            "col_sci": 1000,
            "distribution": "fixed",
            "mini_f": 500,
            "mini_s": 1.6e-06,
            "name": "AMPAMap_D1",
            "prob": 1,
            "prob_oc": 1,
            "radius": 10.1,
            "strength": 0.0002
           }
          },
          "CX4,CX6,NMDAMap_D1": {
           "name": "CX4,CX6,NMDAMap_D1",
           "property_map": {
            "col_sci": 1000,
            "distribution": "fixed",
            "mini_f": 0,
            "mini_s": 0,
            "name": "NMDAMap_D1",
            "prob": 1,
            "prob_oc": 1,
            "radius": 10.1,
            "strength": 1e-08
           }
          }
         },
         "name": "CX4,CX6",
         "post": [
          "x",
          "CX6"
         ],
         "pre": [
          "x",
          "CX4"
         ]
        },
        "CX4,IN4": {
         "connect_models": {
          "CX4,IN4,AMPAMap_D1": {
           "name": "CX4,IN4,AMPAMap_D1",
           "property_map": {
            "col_sci": 1000,
            "distribution": "fixed",
            "mini_f": 500,
            "mini_s": 1.6e-06,
            "name": "AMPAMap_D1",
            "prob": 1,
            "prob_oc": 1,
            "radius": 0.0136,
            "strength": 0.00063
           }
          },
          "CX4,IN4,NMDAMap_D1": {
           "name": "CX4,IN4,NMDAMap_D1",
           "property_map": {
            "col_sci": 1000,
            "distribution": "fixed",
            "mini_f": 0,
            "mini_s": 0,
            "name": "NMDAMap_D1",
            "prob": 1,
            "prob_oc": 1,
            "radius": 0.0136,
            "strength": 1e-07
           }
          }
         },
         "name": "CX4,IN4",
         "post": [
          "x",
          "IN4"
         ],
         "pre": [
          "x",
          "CX4"
         ]
        },
        "CX5a,CX": {
         "connect_models": {
          "CX5a,CX,AMPAMap_D1": {
           "name": "CX5a,CX,AMPAMap_D1",
           "property_map": {
            "col_sci": 1000,
            "distribution": "fixed",
            "mini_f": 500,
            "mini_s": 1.6e-06,
            "name": "AMPAMap_D1",
            "prob": 1,
            "prob_oc": 1,
            "radius": 10.1,
            "strength": 0.0002
           }
          },
          "CX5a,CX,NMDAMap_D1": {
           "name": "CX5a,CX,NMDAMap_D1",
           "property_map": {
            "col_sci": 1000,
            "distribution": "fixed",
            "mini_f": 0,
            "mini_s": 0,
            "name": "NMDAMap_D1",
            "prob": 1,
            "prob_oc": 1,
            "radius": 10.1,
            "strength": 1e-08
           }
          }
         },
         "name": "CX5a,CX",
         "post": [
          "x",
          "CX"
         ],
         "pre": [
          "x",
          "CX5a"
         ]
        },
        "CX5a,CX3": {
         "connect_models": {
          "CX5a,CX3,AMPAMap_D1": {
           "name": "CX5a,CX3,AMPAMap_D1",
           "property_map": {
            "col_sci": 1000,
            "distribution": "fixed",
            "mini_f": 500,
            "mini_s": 1.6e-06,
            "name": "AMPAMap_D1",
            "prob": 1,
            "prob_oc": 1,
            "radius": 10.1,
            "strength": 0.0002
           }
          },
          "CX5a,CX3,NMDAMap_D1": {
           "name": "CX5a,CX3,NMDAMap_D1",
           "property_map": {
            "col_sci": 1000,
            "distribution": "fixed",
            "mini_f": 0,
            "mini_s": 0,
            "name": "NMDAMap_D1",
            "prob": 1,
            "prob_oc": 1,
            "radius": 10.1,
            "strength": 1e-08
           }
          }
         },
         "name": "CX5a,CX3",
         "post": [
          "x",
          "CX3"
         ],
         "pre": [
          "x",
          "CX5a"
         ]
        },
        "CX5a,CX4": {
         "connect_models": {
          "CX5a,CX4,AMPAMap_D1": {
           "name": "CX5a,CX4,AMPAMap_D1",
           "property_map": {
            "col_sci": 1000,
            "distribution": "fixed",
            "mini_f": 500,
            "mini_s": 1.6e-06,
            "name": "AMPAMap_D1",
            "prob": 1,
            "prob_oc": 1,
            "radius": 10.1,
            "strength": 0.0002
           }
          },
          "CX5a,CX4,NMDAMap_D1": {
           "name": "CX5a,CX4,NMDAMap_D1",
           "property_map": {
            "col_sci": 1000,
            "distribution": "fixed",
            "mini_f": 0,
            "mini_s": 0,
            "name": "NMDAMap_D1",
            "prob": 1,
            "prob_oc": 1,
            "radius": 10.1,
            "strength": 1e-08
           }
          }
         },
         "name": "CX5a,CX4",
         "post": [
          "x",
          "CX4"
         ],
         "pre": [
          "x",
          "CX5a"
         ]
        },
        "CX5a,CX5a": {
         "connect_models": {
          "CX5a,CX5a,AMPAMap_D1": {
           "name": "CX5a,CX5a,AMPAMap_D1",
           "property_map": {
            "col_sci": 1000,
            "distribution": "fixed",
            "mini_f": 500,
            "mini_s": 1.6e-06,
            "name": "AMPAMap_D1",
            "prob": 1,
            "prob_oc": 1,
            "radius": 10.1,
            "strength": 0.0002
           }
          },
          "CX5a,CX5a,NMDAMap_D1": {
           "name": "CX5a,CX5a,NMDAMap_D1",
           "property_map": {
            "col_sci": 1000,
            "distribution": "fixed",
            "mini_f": 0,
            "mini_s": 0,
            "name": "NMDAMap_D1",
            "prob": 1,
            "prob_oc": 1,
            "radius": 10.1,
            "strength": 1e-08
           }
          }
         },
         "name": "CX5a,CX5a",
         "post": [
          "x",
          "CX5a"
         ],
         "pre": [
          "x",
          "CX5a"
         ]
        },
        "CX5a,CX5b": {
         "connect_models": {
          "CX5a,CX5b,AMPAMap_D1": {
           "name": "CX5a,CX5b,AMPAMap_D1",
           "property_map": {
            "col_sci": 1000,
            "distribution": "fixed",
            "mini_f": 500,
            "mini_s": 1.6e-06,
            "name": "AMPAMap_D1",
            "prob": 1,
            "prob_oc": 1,
            "radius": 10.1,
            "strength": 0.0002
           }
          },
          "CX5a,CX5b,NMDAMap_D1": {
           "name": "CX5a,CX5b,NMDAMap_D1",
           "property_map": {
            "col_sci": 1000,
            "distribution": "fixed",
            "mini_f": 0,
            "mini_s": 0,
            "name": "NMDAMap_D1",
            "prob": 1,
            "prob_oc": 1,
            "radius": 10.1,
            "strength": 1e-08
           }
          }
         },
         "name": "CX5a,CX5b",
         "post": [
          "x",
          "CX5b"
         ],
         "pre": [
          "x",
          "CX5a"
         ]
        },
        "CX5a,IN5a": {
         "connect_models": {
          "CX5a,IN5a,AMPAMap_D1": {
           "name": "CX5a,IN5a,AMPAMap_D1",
           "property_map": {
            "col_sci": 1000,
            "distribution": "fixed",
            "mini_f": 500,
            "mini_s": 1.6e-06,
            "name": "AMPAMap_D1",
            "prob": 1,
            "prob_oc": 1,
            "radius": 0.0136,
            "strength": 0.00063
           }
          },
          "CX5a,IN5a,NMDAMap_D1": {
           "name": "CX5a,IN5a,NMDAMap_D1",
           "property_map": {
            "col_sci": 1000,
            "distribution": "fixed",
            "mini_f": 0,
            "mini_s": 0,
            "name": "NMDAMap_D1",
            "prob": 1,
            "prob_oc": 1,
            "radius": 0.0136,
            "strength": 1e-07
           }
          }
         },
         "name": "CX5a,IN5a",
         "post": [
          "x",
          "IN5a"
         ],
         "pre": [
          "x",
          "CX5a"
         ]
        },
        "CX5b,CX": {
         "connect_models": {
          "CX5b,CX,AMPAMap_D1": {
           "name": "CX5b,CX,AMPAMap_D1",
           "property_map": {
            "col_sci": 1000,
            "distribution": "fixed",
            "mini_f": 500,
            "mini_s": 1.6e-06,
            "name": "AMPAMap_D1",
            "prob": 1,
            "prob_oc": 1,
            "radius": 10.1,
            "strength": 0.0002
           }
          },
          "CX5b,CX,NMDAMap_D1": {
           "name": "CX5b,CX,NMDAMap_D1",
           "property_map": {
            "col_sci": 1000,
            "distribution": "fixed",
            "mini_f": 0,
            "mini_s": 0,
            "name": "NMDAMap_D1",
            "prob": 1,
            "prob_oc": 1,
            "radius": 10.1,
            "strength": 1e-08
           }
          }
         },
         "name": "CX5b,CX",
         "post": [
          "x",
          "CX"
         ],
         "pre": [
          "x",
          "CX5b"
         ]
        },
        "CX5b,CX3": {
         "connect_models": {
          "CX5b,CX3,AMPAMap_D1": {
           "name": "CX5b,CX3,AMPAMap_D1",
           "property_map": {
            "col_sci": 1000,
            "distribution": "fixed",
            "mini_f": 500,
            "mini_s": 1.6e-06,
            "name": "AMPAMap_D1",
            "prob": 1,
            "prob_oc": 1,
            "radius": 10.1,
            "strength": 0.0002
           }
          },
          "CX5b,CX3,NMDAMap_D1": {
           "name": "CX5b,CX3,NMDAMap_D1",
           "property_map": {
            "col_sci": 1000,
            "distribution": "fixed",
            "mini_f": 0,
            "mini_s": 0,
            "name": "NMDAMap_D1",
            "prob": 1,
            "prob_oc": 1,
            "radius": 10.1,
            "strength": 1e-08
           }
          }
         },
         "name": "CX5b,CX3",
         "post": [
          "x",
          "CX3"
         ],
         "pre": [
          "x",
          "CX5b"
         ]
        },
        "CX5b,CX5b": {
         "connect_models": {
          "CX5b,CX5b,AMPAMap_D1": {
           "name": "CX5b,CX5b,AMPAMap_D1",
           "property_map": {
            "col_sci": 1000,
            "distribution": "fixed",
            "mini_f": 500,
            "mini_s": 1.6e-06,
            "name": "AMPAMap_D1",
            "prob": 1,
            "prob_oc": 1,
            "radius": 10.1,
            "strength": 0.0002
           }
          },
          "CX5b,CX5b,NMDAMap_D1": {
           "name": "CX5b,CX5b,NMDAMap_D1",
           "property_map": {
            "col_sci": 1000,
            "distribution": "fixed",
            "mini_f": 0,
            "mini_s": 0,
            "name": "NMDAMap_D1",
            "prob": 1,
            "prob_oc": 1,
            "radius": 10.1,
            "strength": 1e-08
           }
          }
         },
         "name": "CX5b,CX5b",
         "post": [
          "x",
          "CX5b"
         ],
         "pre": [
          "x",
          "CX5b"
         ]
        },
        "CX5b,CX6": {
         "connect_models": {
          "CX5b,CX6,AMPAMap_D1": {
           "name": "CX5b,CX6,AMPAMap_D1",
           "property_map": {
            "col_sci": 1000,
            "distribution": "fixed",
            "mini_f": 500,
            "mini_s": 1.6e-06,
            "name": "AMPAMap_D1",
            "prob": 1,
            "prob_oc": 1,
            "radius": 10.1,
            "strength": 0.0002
           }
          },
          "CX5b,CX6,NMDAMap_D1": {
           "name": "CX5b,CX6,NMDAMap_D1",
           "property_map": {
            "col_sci": 1000,
            "distribution": "fixed",
            "mini_f": 0,
            "mini_s": 0,
            "name": "NMDAMap_D1",
            "prob": 1,
            "prob_oc": 1,
            "radius": 10.1,
            "strength": 1e-08
           }
          }
         },
         "name": "CX5b,CX6",
         "post": [
          "x",
          "CX6"
         ],
         "pre": [
          "x",
          "CX5b"
         ]
        },
        "CX5b,IN5b": {
         "connect_models": {
          "CX5b,IN5b,AMPAMap_D1": {
           "name": "CX5b,IN5b,AMPAMap_D1",
           "property_map": {
            "col_sci": 1000,
            "distribution": "fixed",
            "mini_f": 500,
            "mini_s": 1.6e-06,
            "name": "AMPAMap_D1",
            "prob": 1,
            "prob_oc": 1,
            "radius": 0.0136,
            "strength": 0.00063
           }
          },
          "CX5b,IN5b,NMDAMap_D1": {
           "name": "CX5b,IN5b,NMDAMap_D1",
           "property_map": {
            "col_sci": 1000,
            "distribution": "fixed",
            "mini_f": 0,
            "mini_s": 0,
            "name": "NMDAMap_D1",
            "prob": 1,
            "prob_oc": 1,
            "radius": 0.0136,
            "strength": 1e-07
           }
          }
         },
         "name": "CX5b,IN5b",
         "post": [
          "x",
          "IN5b"
         ],
         "pre": [
          "x",
          "CX5b"
         ]
        },
        "CX5b,REa": {
         "connect_models": {
          "CX5b,REa,AMPA": {
           "name": "CX5b,REa,AMPA",
           "property_map": {
            "col_sci": 1000,
            "distribution": "fixed",
            "mini_f": 0,
            "mini_s": 0,
            "name": "AMPA",
            "prob": 1,
            "prob_oc": 0.5,
            "radius": 0.0575,
            "strength": 0.00016
           }
          }
         },
         "name": "CX5b,REa",
         "post": [
          "x",
          "REa"
         ],
         "pre": [
          "x",
          "CX5b"
         ]
        },
        "CX5b,TCa": {
         "connect_models": {
          "CX5b,TCa,AMPA": {
           "name": "CX5b,TCa,AMPA",
           "property_map": {
            "col_sci": 1000,
            "distribution": "fixed",
            "mini_f": 0,
            "mini_s": 0,
            "name": "AMPA",
            "prob": 1,
            "prob_oc": 0.5,
            "radius": 0.0575,
            "strength": 8e-05
           }
          }
         },
         "name": "CX5b,TCa",
         "post": [
          "x",
          "TCa"
         ],
         "pre": [
          "x",
          "CX5b"
         ]
        },
        "CX6,CX": {
         "connect_models": {
          "CX6,CX,AMPAMap_D1": {
           "name": "CX6,CX,AMPAMap_D1",
           "property_map": {
            "col_sci": 1000,
            "distribution": "fixed",
            "mini_f": 500,
            "mini_s": 1.6e-06,
            "name": "AMPAMap_D1",
            "prob": 1,
            "prob_oc": 1,
            "radius": 10.1,
            "strength": 0.0002
           }
          },
          "CX6,CX,NMDAMap_D1": {
           "name": "CX6,CX,NMDAMap_D1",
           "property_map": {
            "col_sci": 1000,
            "distribution": "fixed",
            "mini_f": 0,
            "mini_s": 0,
            "name": "NMDAMap_D1",
            "prob": 1,
            "prob_oc": 1,
            "radius": 10.1,
            "strength": 1e-08
           }
          }
         },
         "name": "CX6,CX",
         "post": [
          "x",
          "CX"
         ],
         "pre": [
          "x",
          "CX6"
         ]
        },
        "CX6,CX3": {
         "connect_models": {
          "CX6,CX3,AMPAMap_D1": {
           "name": "CX6,CX3,AMPAMap_D1",
           "property_map": {
            "col_sci": 1000,
            "distribution": "fixed",
            "mini_f": 500,
            "mini_s": 1.6e-06,
            "name": "AMPAMap_D1",
            "prob": 1,
            "prob_oc": 1,
            "radius": 10.1,
            "strength": 0.0002
           }
          },
          "CX6,CX3,NMDAMap_D1": {
           "name": "CX6,CX3,NMDAMap_D1",
           "property_map": {
            "col_sci": 1000,
            "distribution": "fixed",
            "mini_f": 0,
            "mini_s": 0,
            "name": "NMDAMap_D1",
            "prob": 1,
            "prob_oc": 1,
            "radius": 10.1,
            "strength": 1e-08
           }
          }
         },
         "name": "CX6,CX3",
         "post": [
          "x",
          "CX3"
         ],
         "pre": [
          "x",
          "CX6"
         ]
        },
        "CX6,CX4": {
         "connect_models": {
          "CX6,CX4,AMPAMap_D1": {
           "name": "CX6,CX4,AMPAMap_D1",
           "property_map": {
            "col_sci": 1000,
            "distribution": "fixed",
            "mini_f": 500,
            "mini_s": 1.6e-06,
            "name": "AMPAMap_D1",
            "prob": 1,
            "prob_oc": 1,
            "radius": 10.1,
            "strength": 0.0002
           }
          },
          "CX6,CX4,NMDAMap_D1": {
           "name": "CX6,CX4,NMDAMap_D1",
           "property_map": {
            "col_sci": 1000,
            "distribution": "fixed",
            "mini_f": 0,
            "mini_s": 0,
            "name": "NMDAMap_D1",
            "prob": 1,
            "prob_oc": 1,
            "radius": 10.1,
            "strength": 1e-08
           }
          }
         },
         "name": "CX6,CX4",
         "post": [
          "x",
          "CX4"
         ],
         "pre": [
          "x",
          "CX6"
         ]
        },
        "CX6,CX5b": {
         "connect_models": {
          "CX6,CX5b,AMPAMap_D1": {
           "name": "CX6,CX5b,AMPAMap_D1",
           "property_map": {
            "col_sci": 1000,
            "distribution": "fixed",
            "mini_f": 500,
            "mini_s": 1.6e-06,
            "name": "AMPAMap_D1",
            "prob": 1,
            "prob_oc": 1,
            "radius": 10.1,
            "strength": 0.0002
           }
          },
          "CX6,CX5b,NMDAMap_D1": {
           "name": "CX6,CX5b,NMDAMap_D1",
           "property_map": {
            "col_sci": 1000,
            "distribution": "fixed",
            "mini_f": 0,
            "mini_s": 0,
            "name": "NMDAMap_D1",
            "prob": 1,
            "prob_oc": 1,
            "radius": 10.1,
            "strength": 1e-08
           }
          }
         },
         "name": "CX6,CX5b",
         "post": [
          "x",
          "CX5b"
         ],
         "pre": [
          "x",
          "CX6"
         ]
        },
        "CX6,CX6": {
         "connect_models": {
          "CX6,CX6,AMPAMap_D1": {
           "name": "CX6,CX6,AMPAMap_D1",
           "property_map": {
            "col_sci": 1000,
            "distribution": "fixed",
            "mini_f": 500,
            "mini_s": 1.6e-06,
            "name": "AMPAMap_D1",
            "prob": 1,
            "prob_oc": 1,
            "radius": 10.1,
            "strength": 0.0002
           }
          },
          "CX6,CX6,NMDAMap_D1": {
           "name": "CX6,CX6,NMDAMap_D1",
           "property_map": {
            "col_sci": 1000,
            "distribution": "fixed",
            "mini_f": 0,
            "mini_s": 0,
            "name": "NMDAMap_D1",
            "prob": 1,
            "prob_oc": 1,
            "radius": 10.1,
            "strength": 1e-08
           }
          }
         },
         "name": "CX6,CX6",
         "post": [
          "x",
          "CX6"
         ],
         "pre": [
          "x",
          "CX6"
         ]
        },
        "CX6,IN6": {
         "connect_models": {
          "CX6,IN6,AMPAMap_D1": {
           "name": "CX6,IN6,AMPAMap_D1",
           "property_map": {
            "col_sci": 1000,
            "distribution": "fixed",
            "mini_f": 500,
            "mini_s": 1.6e-06,
            "name": "AMPAMap_D1",
            "prob": 1,
            "prob_oc": 1,
            "radius": 0.0136,
            "strength": 0.00063
           }
          },
          "CX6,IN6,NMDAMap_D1": {
           "name": "CX6,IN6,NMDAMap_D1",
           "property_map": {
            "col_sci": 1000,
            "distribution": "fixed",
            "mini_f": 0,
            "mini_s": 0,
            "name": "NMDAMap_D1",
            "prob": 1,
            "prob_oc": 1,
            "radius": 0.0136,
            "strength": 1e-07
           }
          }
         },
         "name": "CX6,IN6",
         "post": [
          "x",
          "IN6"
         ],
         "pre": [
          "x",
          "CX6"
         ]
        },
        "CX6,RE": {
         "connect_models": {
          "CX6,RE,AMPA": {
           "name": "CX6,RE,AMPA",
           "property_map": {
            "col_sci": 1000,
            "distribution": "fixed",
            "mini_f": 0,
            "mini_s": 0,
            "name": "AMPA",
            "prob": 1,
            "prob_oc": 1,
            "radius": 0.0143,
            "strength": 0.00016
           }
          }
         },
         "name": "CX6,RE",
         "post": [
          "x",
          "RE"
         ],
         "pre": [
          "x",
          "CX6"
         ]
        },
        "CX6,TC": {
         "connect_models": {
          "CX6,TC,AMPA": {
           "name": "CX6,TC,AMPA",
           "property_map": {
            "col_sci": 1000,
            "distribution": "fixed",
            "mini_f": 0,
            "mini_s": 0,
            "name": "AMPA",
            "prob": 1,
            "prob_oc": 1,
            "radius": 0.0143,
            "strength": 8e-05
           }
          }
         },
         "name": "CX6,TC",
         "post": [
          "x",
          "TC"
         ],
         "pre": [
          "x",
          "CX6"
         ]
        },
        "IN,CX": {
         "connect_models": {
          "IN,CX,GABAMap_A_D1": {
           "name": "IN,CX,GABAMap_A_D1",
           "property_map": {
            "col_sci": 1000,
            "distribution": "fixed",
            "mini_f": 0,
            "mini_s": 0,
            "name": "GABAMap_A_D1",
            "prob": 1,
            "prob_oc": 1,
            "radius": 0.014,
            "strength": 5e-05
           }
          }
         },
         "name": "IN,CX",
         "post": [
          "x",
          "CX"
         ],
         "pre": [
          "x",
          "IN"
         ]
        },
        "IN3,CX3": {
         "connect_models": {
          "IN3,CX3,GABAMap_A_D1": {
           "name": "IN3,CX3,GABAMap_A_D1",
           "property_map": {
            "col_sci": 1000,
            "distribution": "fixed",
            "mini_f": 0,
            "mini_s": 0,
            "name": "GABAMap_A_D1",
            "prob": 1,
            "prob_oc": 1,
            "radius": 0.014,
            "strength": 5e-05
           }
          }
         },
         "name": "IN3,CX3",
         "post": [
          "x",
          "CX3"
         ],
         "pre": [
          "x",
          "IN3"
         ]
        },
        "IN4,CX4": {
         "connect_models": {
          "IN4,CX4,GABAMap_A_D1": {
           "name": "IN4,CX4,GABAMap_A_D1",
           "property_map": {
            "col_sci": 1000,
            "distribution": "fixed",
            "mini_f": 0,
            "mini_s": 0,
            "name": "GABAMap_A_D1",
            "prob": 1,
            "prob_oc": 1,
            "radius": 0.014,
            "strength": 5e-05
           }
          }
         },
         "name": "IN4,CX4",
         "post": [
          "x",
          "CX4"
         ],
         "pre": [
          "x",
          "IN4"
         ]
        },
        "IN5a,CX5a": {
         "connect_models": {
          "IN5a,CX5a,GABAMap_A_D1": {
           "name": "IN5a,CX5a,GABAMap_A_D1",
           "property_map": {
            "col_sci": 1000,
            "distribution": "fixed",
            "mini_f": 0,
            "mini_s": 0,
            "name": "GABAMap_A_D1",
            "prob": 1,
            "prob_oc": 1,
            "radius": 0.014,
            "strength": 5e-05
           }
          }
         },
         "name": "IN5a,CX5a",
         "post": [
          "x",
          "CX5a"
         ],
         "pre": [
          "x",
          "IN5a"
         ]
        },
        "IN5b,CX5b": {
         "connect_models": {
          "IN5b,CX5b,GABAMap_A_D1": {
           "name": "IN5b,CX5b,GABAMap_A_D1",
           "property_map": {
            "col_sci": 1000,
            "distribution": "fixed",
            "mini_f": 0,
            "mini_s": 0,
            "name": "GABAMap_A_D1",
            "prob": 1,
            "prob_oc": 1,
            "radius": 0.014,
            "strength": 5e-05
           }
          }
         },
         "name": "IN5b,CX5b",
         "post": [
          "x",
          "CX5b"
         ],
         "pre": [
          "x",
          "IN5b"
         ]
        },
        "IN6,CX6": {
         "connect_models": {
          "IN6,CX6,GABAMap_A_D1": {
           "name": "IN6,CX6,GABAMap_A_D1",
           "property_map": {
            "col_sci": 1000,
            "distribution": "fixed",
            "mini_f": 0,
            "mini_s": 0,
            "name": "GABAMap_A_D1",
            "prob": 1,
            "prob_oc": 1,
            "radius": 0.014,
            "strength": 5e-05
           }
          }
         },
         "name": "IN6,CX6",
         "post": [
          "x",
          "CX6"
         ],
         "pre": [
          "x",
          "IN6"
         ]
        },
        "RE,RE": {
         "connect_models": {
          "RE,RE,GABA_A": {
           "name": "RE,RE,GABA_A",
           "property_map": {
            "col_sci": 1000,
            "distribution": "fixed",
            "mini_f": 0,
            "mini_s": 0,
            "name": "GABA_A",
            "prob": 1,
            "prob_oc": 1,
            "radius": 0.1,
            "strength": 0.0001
           }
          }
         },
         "name": "RE,RE",
         "post": [
          "x",
          "RE"
         ],
         "pre": [
          "x",
          "RE"
         ]
        },
        "RE,TC": {
         "connect_models": {
          "RE,TC,GABA_A": {
           "name": "RE,TC,GABA_A",
           "property_map": {
            "col_sci": 1000,
            "distribution": "fixed",
            "mini_f": 0,
            "mini_s": 0,
            "name": "GABA_A",
            "prob": 1,
            "prob_oc": 1,
            "radius": 0.11,
            "strength": 6e-05
           }
          },
          "RE,TC,GABA_B": {
           "name": "RE,TC,GABA_B",
           "property_map": {
            "col_sci": 1000,
            "distribution": "fixed",
            "mini_f": 0,
            "mini_s": 0,
            "name": "GABA_B",
            "prob": 1,
            "prob_oc": 1,
            "radius": 0.11,
            "strength": 2.5e-06
           }
          }
         },
         "name": "RE,TC",
         "post": [
          "x",
          "TC"
         ],
         "pre": [
          "x",
          "RE"
         ]
        },
        "REa,REa": {
         "connect_models": {
          "REa,REa,GABA_A": {
           "name": "REa,REa,GABA_A",
           "property_map": {
            "col_sci": 1000,
            "distribution": "fixed",
            "mini_f": 0,
            "mini_s": 0,
            "name": "GABA_A",
            "prob": 1,
            "prob_oc": 1,
            "radius": 0.1,
            "strength": 0.0001
           }
          }
         },
         "name": "REa,REa",
         "post": [
          "x",
          "REa"
         ],
         "pre": [
          "x",
          "REa"
         ]
        },
        "REa,TCa": {
         "connect_models": {
          "REa,TCa,GABA_A": {
           "name": "REa,TCa,GABA_A",
           "property_map": {
            "col_sci": 1000,
            "distribution": "fixed",
            "mini_f": 0,
            "mini_s": 0,
            "name": "GABA_A",
            "prob": 1,
            "prob_oc": 1,
            "radius": 0.11,
            "strength": 6e-05
           }
          },
          "REa,TCa,GABA_B": {
           "name": "REa,TCa,GABA_B",
           "property_map": {
            "col_sci": 1000,
            "distribution": "fixed",
            "mini_f": 0,
            "mini_s": 0,
            "name": "GABA_B",
            "prob": 1,
            "prob_oc": 1,
            "radius": 0.11,
            "strength": 2.5e-06
           }
          }
         },
         "name": "REa,TCa",
         "post": [
          "x",
          "TCa"
         ],
         "pre": [
          "x",
          "REa"
         ]
        },
        "TC,CX3": {
         "connect_models": {
          "TC,CX3,AMPAMap_D1": {
           "name": "TC,CX3,AMPAMap_D1",
           "property_map": {
            "col_sci": 1000,
            "distribution": "fixed",
            "mini_f": 0,
            "mini_s": 0,
            "name": "AMPAMap_D1",
            "prob": 1,
            "prob_oc": 1,
            "radius": 0.0117,
            "strength": 3e-05
           }
          }
         },
         "name": "TC,CX3",
         "post": [
          "x",
          "CX3"
         ],
         "pre": [
          "x",
          "TC"
         ]
        },
        "TC,CX4": {
         "connect_models": {
          "TC,CX4,AMPAMap_D1": {
           "name": "TC,CX4,AMPAMap_D1",
           "property_map": {
            "col_sci": 1000,
            "distribution": "fixed",
            "mini_f": 0,
            "mini_s": 0,
            "name": "AMPAMap_D1",
            "prob": 1,
            "prob_oc": 1,
            "radius": 0.0117,
            "strength": 3e-05
           }
          }
         },
         "name": "TC,CX4",
         "post": [
          "x",
          "CX4"
         ],
         "pre": [
          "x",
          "TC"
         ]
        },
        "TC,CX6": {
         "connect_models": {
          "TC,CX6,AMPAMap_D1": {
           "name": "TC,CX6,AMPAMap_D1",
           "property_map": {
            "col_sci": 1000,
            "distribution": "fixed",
            "mini_f": 0,
            "mini_s": 0,
            "name": "AMPAMap_D1",
            "prob": 1,
            "prob_oc": 1,
            "radius": 0.0117,
            "strength": 3e-05
           }
          }
         },
         "name": "TC,CX6",
         "post": [
          "x",
          "CX6"
         ],
         "pre": [
          "x",
          "TC"
         ]
        },
        "TC,IN3": {
         "connect_models": {
          "TC,IN3,AMPAMap_D1": {
           "name": "TC,IN3,AMPAMap_D1",
           "property_map": {
            "col_sci": 1000,
            "distribution": "fixed",
            "mini_f": 0,
            "mini_s": 0,
            "name": "AMPAMap_D1",
            "prob": 1,
            "prob_oc": 1,
            "radius": 0.0132,
            "strength": 1.5e-05
           }
          }
         },
         "name": "TC,IN3",
         "post": [
          "x",
          "IN3"
         ],
         "pre": [
          "x",
          "TC"
         ]
        },
        "TC,IN4": {
         "connect_models": {
          "TC,IN4,AMPAMap_D1": {
           "name": "TC,IN4,AMPAMap_D1",
           "property_map": {
            "col_sci": 1000,
            "distribution": "fixed",
            "mini_f": 0,
            "mini_s": 0,
            "name": "AMPAMap_D1",
            "prob": 1,
            "prob_oc": 1,
            "radius": 0.0132,
            "strength": 1.5e-05
           }
          }
         },
         "name": "TC,IN4",
         "post": [
          "x",
          "IN4"
         ],
         "pre": [
          "x",
          "TC"
         ]
        },
        "TC,IN6": {
         "connect_models": {
          "TC,IN6,AMPAMap_D1": {
           "name": "TC,IN6,AMPAMap_D1",
           "property_map": {
            "col_sci": 1000,
            "distribution": "fixed",
            "mini_f": 0,
            "mini_s": 0,
            "name": "AMPAMap_D1",
            "prob": 1,
            "prob_oc": 1,
            "radius": 0.0132,
            "strength": 1.5e-05
           }
          }
         },
         "name": "TC,IN6",
         "post": [
          "x",
          "IN6"
         ],
         "pre": [
          "x",
          "TC"
         ]
        },
        "TC,RE": {
         "connect_models": {
          "TC,RE,AMPA": {
           "name": "TC,RE,AMPA",
           "property_map": {
            "col_sci": 1000,
            "distribution": "fixed",
            "mini_f": 0,
            "mini_s": 0,
            "name": "AMPA",
            "prob": 1,
            "prob_oc": 1,
            "radius": 0.11,
            "strength": 6e-05
           }
          }
         },
         "name": "TC,RE",
         "post": [
          "x",
          "RE"
         ],
         "pre": [
          "x",
          "TC"
         ]
        },
        "TCa,CX": {
         "connect_models": {
          "TCa,CX,AMPAMap_D1": {
           "name": "TCa,CX,AMPAMap_D1",
           "property_map": {
            "col_sci": 1000,
            "distribution": "fixed",
            "mini_f": 0,
            "mini_s": 0,
            "name": "AMPAMap_D1",
            "prob": 1,
            "prob_oc": 1,
            "radius": 0.045,
            "strength": 4.5e-05
           }
          }
         },
         "name": "TCa,CX",
         "post": [
          "x",
          "CX"
         ],
         "pre": [
          "x",
          "TCa"
         ]
        },
        "TCa,CX3": {
         "connect_models": {
          "TCa,CX3,AMPAMap_D1": {
           "name": "TCa,CX3,AMPAMap_D1",
           "property_map": {
            "col_sci": 1000,
            "distribution": "fixed",
            "mini_f": 0,
            "mini_s": 0,
            "name": "AMPAMap_D1",
            "prob": 1,
            "prob_oc": 1,
            "radius": 0.045,
            "strength": 4.5e-05
           }
          }
         },
         "name": "TCa,CX3",
         "post": [
          "x",
          "CX3"
         ],
         "pre": [
          "x",
          "TCa"
         ]
        },
        "TCa,CX5a": {
         "connect_models": {
          "TCa,CX5a,AMPAMap_D1": {
           "name": "TCa,CX5a,AMPAMap_D1",
           "property_map": {
            "col_sci": 1000,
            "distribution": "fixed",
            "mini_f": 0,
            "mini_s": 0,
            "name": "AMPAMap_D1",
            "prob": 1,
            "prob_oc": 1,
            "radius": 0.045,
            "strength": 4.5e-05
           }
          }
         },
         "name": "TCa,CX5a",
         "post": [
          "x",
          "CX5a"
         ],
         "pre": [
          "x",
          "TCa"
         ]
        },
        "TCa,CX5b": {
         "connect_models": {
          "TCa,CX5b,AMPAMap_D1": {
           "name": "TCa,CX5b,AMPAMap_D1",
           "property_map": {
            "col_sci": 1000,
            "distribution": "fixed",
            "mini_f": 0,
            "mini_s": 0,
            "name": "AMPAMap_D1",
            "prob": 1,
            "prob_oc": 1,
            "radius": 0.045,
            "strength": 4.5e-05
           }
          }
         },
         "name": "TCa,CX5b",
         "post": [
          "x",
          "CX5b"
         ],
         "pre": [
          "x",
          "TCa"
         ]
        },
        "TCa,CX6": {
         "connect_models": {
          "TCa,CX6,AMPAMap_D1": {
           "name": "TCa,CX6,AMPAMap_D1",
           "property_map": {
            "col_sci": 1000,
            "distribution": "fixed",
            "mini_f": 0,
            "mini_s": 0,
            "name": "AMPAMap_D1",
            "prob": 1,
            "prob_oc": 1,
            "radius": 0.045,
            "strength": 4.5e-05
           }
          }
         },
         "name": "TCa,CX6",
         "post": [
          "x",
          "CX6"
         ],
         "pre": [
          "x",
          "TCa"
         ]
        },
        "TCa,IN": {
         "connect_models": {
          "TCa,IN,AMPAMap_D1": {
           "name": "TCa,IN,AMPAMap_D1",
           "property_map": {
            "col_sci": 1000,
            "distribution": "fixed",
            "mini_f": 0,
            "mini_s": 0,
            "name": "AMPAMap_D1",
            "prob": 1,
            "prob_oc": 1,
            "radius": 0.079,
            "strength": 2e-05
           }
          }
         },
         "name": "TCa,IN",
         "post": [
          "x",
          "IN"
         ],
         "pre": [
          "x",
          "TCa"
         ]
        },
        "TCa,IN3": {
         "connect_models": {
          "TCa,IN3,AMPAMap_D1": {
           "name": "TCa,IN3,AMPAMap_D1",
           "property_map": {
            "col_sci": 1000,
            "distribution": "fixed",
            "mini_f": 0,
            "mini_s": 0,
            "name": "AMPAMap_D1",
            "prob": 1,
            "prob_oc": 1,
            "radius": 0.079,
            "strength": 2e-05
           }
          }
         },
         "name": "TCa,IN3",
         "post": [
          "x",
          "IN3"
         ],
         "pre": [
          "x",
          "TCa"
         ]
        },
        "TCa,IN5a": {
         "connect_models": {
          "TCa,IN5a,AMPAMap_D1": {
           "name": "TCa,IN5a,AMPAMap_D1",
           "property_map": {
            "col_sci": 1000,
            "distribution": "fixed",
            "mini_f": 0,
            "mini_s": 0,
            "name": "AMPAMap_D1",
            "prob": 1,
            "prob_oc": 1,
            "radius": 0.079,
            "strength": 2e-05
           }
          }
         },
         "name": "TCa,IN5a",
         "post": [
          "x",
          "IN5a"
         ],
         "pre": [
          "x",
          "TCa"
         ]
        },
        "TCa,IN5b": {
         "connect_models": {
          "TCa,IN5b,AMPAMap_D1": {
           "name": "TCa,IN5b,AMPAMap_D1",
           "property_map": {
            "col_sci": 1000,
            "distribution": "fixed",
            "mini_f": 0,
            "mini_s": 0,
            "name": "AMPAMap_D1",
            "prob": 1,
            "prob_oc": 1,
            "radius": 0.079,
            "strength": 2e-05
           }
          }
         },
         "name": "TCa,IN5b",
         "post": [
          "x",
          "IN5b"
         ],
         "pre": [
          "x",
          "TCa"
         ]
        },
        "TCa,IN6": {
         "connect_models": {
          "TCa,IN6,AMPAMap_D1": {
           "name": "TCa,IN6,AMPAMap_D1",
           "property_map": {
            "col_sci": 1000,
            "distribution": "fixed",
            "mini_f": 0,
            "mini_s": 0,
            "name": "AMPAMap_D1",
            "prob": 1,
            "prob_oc": 1,
            "radius": 0.079,
            "strength": 2e-05
           }
          }
         },
         "name": "TCa,IN6",
         "post": [
          "x",
          "IN6"
         ],
         "pre": [
          "x",
          "TCa"
         ]
        },
        "TCa,REa": {
         "connect_models": {
          "TCa,REa,AMPA": {
           "name": "TCa,REa,AMPA",
           "property_map": {
            "col_sci": 1000,
            "distribution": "fixed",
            "mini_f": 0,
            "mini_s": 0,
            "name": "AMPA",
            "prob": 1,
            "prob_oc": 1,
            "radius": 0.11,
            "strength": 6e-05
           }
          }
         },
         "name": "TCa,REa",
         "post": [
          "x",
          "REa"
         ],
         "pre": [
          "x",
          "TCa"
         ]
        }
       },
       "data_connect": {
        "name": "Source Data",
        "property_map": {
         "dist3d_probability": "./data/dist_inMeters_prob_LH_onesOnDiag.txt",
         "intra_thalamus_distance": "./data/dist_TC_LH_zeroDiag.txt",
         "left_right_map": "./data/Map_LH_RH_10242_30-Aug-2017.txt",
         "left_right_map_small": "./data/Map_LH_RH_642_30-Aug-2017.txt",
         "left_subnet": "./data/Map_642_To_10242_30-Aug-2017_LH.txt",
         "right_subnet": "./data/Map_642_To_10242_30-Aug-2017_RH.txt",
         "thalamus_cortex_distance": "./data/thalCort_dist_inMeters_LH.txt",
         "weight_factor": "./data/weights_LH.txt",
         "weight_factor_inpy": "./data/weights_INPY_both_hemi.txt"
        }
       },
       "dims": {},
       "locations": {
        "Left": {
         "dims": {},
         "exc_ncells": 7136,
         "inh_fraction": 0,
         "inh_ncells": 6252,
         "name": "Left",
         "ncells": 13388,
         "neurons": {
          "CX": {
           "N": 1042,
           "dims": {
            "x": 1042,
            "y": 1
           },
           "ei": "e",
           "name": "CX",
           "neuron_models": {}
          },
          "CX3": {
           "N": 1042,
           "dims": {
            "x": 1042,
            "y": 1
           },
           "ei": "e",
           "name": "CX3",
           "neuron_models": {}
          },
          "CX4": {
           "N": 1042,
           "dims": {
            "x": 1042,
            "y": 1
           },
           "ei": "e",
           "name": "CX4",
           "neuron_models": {}
          },
          "CX5a": {
           "N": 1042,
           "dims": {
            "x": 1042,
            "y": 1
           },
           "ei": "e",
           "name": "CX5a",
           "neuron_models": {}
          },
          "CX6": {
           "N": 1042,
           "dims": {
            "x": 1042,
            "y": 1
           },
           "ei": "e",
           "name": "CX6",
           "neuron_models": {}
          },
          "IN": {
           "N": 1042,
           "dims": {
            "x": 1042,
            "y": 1
           },
           "ei": "i",
           "name": "IN",
           "neuron_models": {}
          },
          "IN3": {
           "N": 1042,
           "dims": {
            "x": 1042,
            "y": 1
           },
           "ei": "i",
           "name": "IN3",
           "neuron_models": {}
          },
          "IN4": {
           "N": 1042,
           "dims": {
            "x": 1042,
            "y": 1
           },
           "ei": "i",
           "name": "IN4",
           "neuron_models": {}
          },
          "IN5a": {
           "N": 1042,
           "dims": {
            "x": 1042,
            "y": 1
           },
           "ei": "i",
           "name": "IN5a",
           "neuron_models": {}
          },
          "IN5b": {
           "N": 1042,
           "dims": {
            "x": 1042,
            "y": 1
           },
           "ei": "i",
           "name": "IN5b",
           "neuron_models": {}
          },
          "IN6": {
           "N": 1042,
           "dims": {
            "x": 1042,
            "y": 1
           },
           "ei": "i",
           "name": "IN6",
           "neuron_models": {}
          },
          "RE": {
           "N": 642,
           "dims": {
            "x": 642,
            "y": 1
           },
           "ei": "e",
           "name": "RE",
           "neuron_models": {}
          },
          "REa": {
           "N": 642,
           "dims": {
            "x": 642,
            "y": 1
           },
           "ei": "e",
           "name": "REa",
           "neuron_models": {}
          },
          "TC": {
           "N": 642,
           "dims": {
            "x": 642,
            "y": 1
           },
           "ei": "e",
           "name": "TC",
           "neuron_models": {}
          },
          "TCa": {
           "N": 642,
           "dims": {
            "x": 642,
            "y": 1
           },
           "ei": "e",
           "name": "TCa",
           "neuron_models": {}
          }
         },
         "region_fraction": 0.5
        },
        "Right": {
         "dims": {},
         "exc_ncells": 7136,
         "inh_fraction": 0,
         "inh_ncells": 6252,
         "name": "Right",
         "ncells": 13388,
         "neurons": {
          "rCX": {
           "N": 1042,
           "dims": {
            "x": 1042,
            "y": 1
           },
           "ei": "e",
           "name": "rCX",
           "neuron_models": {}
          },
          "rCX3": {
           "N": 1042,
           "dims": {
            "x": 1042,
            "y": 1
           },
           "ei": "e",
           "name": "rCX3",
           "neuron_models": {}
          },
          "rCX4": {
           "N": 1042,
           "dims": {
            "x": 1042,
            "y": 1
           },
           "ei": "e",
           "name": "rCX4",
           "neuron_models": {}
          },
          "rCX5a": {
           "N": 1042,
           "dims": {
            "x": 1042,
            "y": 1
           },
           "ei": "e",
           "name": "rCX5a",
           "neuron_models": {}
          },
          "rCX6": {
           "N": 1042,
           "dims": {
            "x": 1042,
            "y": 1
           },
           "ei": "e",
           "name": "rCX6",
           "neuron_models": {}
          },
          "rIN": {
           "N": 1042,
           "dims": {
            "x": 1042,
            "y": 1
           },
           "ei": "i",
           "name": "rIN",
           "neuron_models": {}
          },
          "rIN3": {
           "N": 1042,
           "dims": {
            "x": 1042,
            "y": 1
           },
           "ei": "i",
           "name": "rIN3",
           "neuron_models": {}
          },
          "rIN4": {
           "N": 1042,
           "dims": {
            "x": 1042,
            "y": 1
           },
           "ei": "i",
           "name": "rIN4",
           "neuron_models": {}
          },
          "rIN5a": {
           "N": 1042,
           "dims": {
            "x": 1042,
            "y": 1
           },
           "ei": "i",
           "name": "rIN5a",
           "neuron_models": {}
          },
          "rIN5b": {
           "N": 1042,
           "dims": {
            "x": 1042,
            "y": 1
           },
           "ei": "i",
           "name": "rIN5b",
           "neuron_models": {}
          },
          "rIN6": {
           "N": 1042,
           "dims": {
            "x": 1042,
            "y": 1
           },
           "ei": "i",
           "name": "rIN6",
           "neuron_models": {}
          },
          "rRE": {
           "N": 642,
           "dims": {
            "x": 642,
            "y": 1
           },
           "ei": "e",
           "name": "rRE",
           "neuron_models": {}
          },
          "rREa": {
           "N": 642,
           "dims": {
            "x": 642,
            "y": 1
           },
           "ei": "e",
           "name": "rREa",
           "neuron_models": {}
          },
          "rTC": {
           "N": 642,
           "dims": {
            "x": 642,
            "y": 1
           },
           "ei": "e",
           "name": "rTC",
           "neuron_models": {}
          },
          "rTCa": {
           "N": 642,
           "dims": {
            "x": 642,
            "y": 1
           },
           "ei": "e",
           "name": "rTCa",
           "neuron_models": {}
          }
         },
         "region_fraction": 0.5
        }
       },
       "name": "WGN-Sleep"
      },
      "text/plain": [
       "<IPython.core.display.JSON object>"
      ]
     },
     "execution_count": 26,
     "metadata": {
      "application/json": {
       "expanded": false,
       "root": "root"
      }
     },
     "output_type": "execute_result"
    }
   ],
   "source": [
    "import IPython.display\n",
    "import json\n",
    "with open(custom_mod_file) as ifx:\n",
    "    custom_mod_dict = json.load(ifx)\n",
    "IPython.display.JSON(custom_mod_dict)"
   ]
  },
  {
   "cell_type": "code",
   "execution_count": 27,
   "id": "0457fe3a-96c8-4d6c-95fc-fadb57dcb382",
   "metadata": {},
   "outputs": [
    {
     "data": {
      "application/vnd.jupyter.widget-view+json": {
       "model_id": "d0cd7bc4a01e45d595db9b67b95c2236",
       "version_major": 2,
       "version_minor": 0
      },
      "text/plain": [
       "TwoByTwoLayout(children=(Tree(layout=Layout(grid_area='top-left', width='55%'), multiple_selection=False, node…"
      ]
     },
     "execution_count": 27,
     "metadata": {},
     "output_type": "execute_result"
    }
   ],
   "source": [
    "custom_mods = cbm_recipe.netstruct_from_file(custom_mod_file)\n",
    "cmod_view = cbm_tree.NetworkTreeView(custom_mods, left_width=\"55%\")\n",
    "cmod_view.build()\n",
    "cmod_view.layout"
   ]
  },
  {
   "cell_type": "code",
   "execution_count": 21,
   "id": "9b3025ab-faaf-4d53-8044-5a5b7cd2e3e0",
   "metadata": {},
   "outputs": [
    {
     "data": {
      "text/plain": [
       "DataLink(name='Source Data', property_map={'left_subnet': './data/Map_642_To_10242_30-Aug-2017_LH.txt', 'right_subnet': './data/Map_642_To_10242_30-Aug-2017_RH.txt', 'left_right_map': './data/Map_LH_RH_10242_30-Aug-2017.txt', 'left_right_map_small': './data/Map_LH_RH_642_30-Aug-2017.txt', 'dist3d_probability': './data/dist_inMeters_prob_LH_onesOnDiag.txt', 'weight_factor': './data/weights_LH.txt', 'weight_factor_inpy': './data/weights_INPY_both_hemi.txt', 'thalamus_cortex_distance': './data/thalCort_dist_inMeters_LH.txt', 'intra_thalamus_distance': './data/dist_TC_LH_zeroDiag.txt'})"
      ]
     },
     "execution_count": 21,
     "metadata": {},
     "output_type": "execute_result"
    }
   ],
   "source": [
    "custom_mods.data_connect"
   ]
  },
  {
   "cell_type": "code",
   "execution_count": 72,
   "id": "d88cc7ab-61ca-4033-bafb-cb85ed5e3351",
   "metadata": {},
   "outputs": [
    {
     "data": {
      "text/plain": [
       "'{\\n    \"x\": 642,\\n    \"y\": 1\\n}'"
      ]
     },
     "execution_count": 72,
     "metadata": {},
     "output_type": "execute_result"
    }
   ],
   "source": [
    "cmod_view.panel_dict['RE'].widget_map[\"dims\"].value"
   ]
  },
  {
   "cell_type": "code",
   "execution_count": 76,
   "id": "9613911b-54ea-4b39-bbec-1b90a90193b0",
   "metadata": {},
   "outputs": [
    {
     "ename": "NameError",
     "evalue": "name 'literal' is not defined",
     "output_type": "error",
     "traceback": [
      "\u001b[0;31m---------------------------------------------------------------------------\u001b[0m",
      "\u001b[0;31mNameError\u001b[0m                                 Traceback (most recent call last)",
      "Cell \u001b[0;32mIn[76], line 1\u001b[0m\n\u001b[0;32m----> 1\u001b[0m \u001b[43mliteral\u001b[49m({\u001b[38;5;124m\"\u001b[39m\u001b[38;5;124ma\u001b[39m\u001b[38;5;124m\"\u001b[39m: \u001b[38;5;241m1\u001b[39m, \u001b[38;5;124m\"\u001b[39m\u001b[38;5;124mb\u001b[39m\u001b[38;5;124m\"\u001b[39m: \u001b[38;5;241m1\u001b[39m})\n",
      "\u001b[0;31mNameError\u001b[0m: name 'literal' is not defined"
     ]
    }
   ],
   "source": [
    "literal({\"a\": 1, \"b\": 1})"
   ]
  },
  {
   "cell_type": "code",
   "execution_count": 74,
   "id": "e985380b-5c03-471e-b810-c2f8790c3454",
   "metadata": {},
   "outputs": [
    {
     "name": "stdout",
     "output_type": "stream",
     "text": [
      "RegionNode(name='Left', nodes=(NeuronNode(name='RE'), NeuronNode(name='REa'), NeuronNode(name='TC'), NeuronNode(name='TCa'), NeuronNode(name='CX'), NeuronNode(name='CX3'), NeuronNode(name='CX4'), NeuronNode(name='CX5a'), NeuronNode(name='CX6'), NeuronNode(name='IN'), NeuronNode(name='IN3'), NeuronNode(name='IN4'), NeuronNode(name='IN5a'), NeuronNode(name='IN5b'), NeuronNode(name='IN6', selected=True)))\n"
     ]
    },
    {
     "data": {
      "text/plain": [
       "[{'name': 'RE',\n",
       "  'N': 642,\n",
       "  'fraction': 0.0,\n",
       "  'ei': 'e',\n",
       "  'dims': '{\\n    \"x\": 642,\\n    \"y\": 1\\n}'},\n",
       " {'name': 'REa',\n",
       "  'N': 642,\n",
       "  'fraction': 0.0,\n",
       "  'ei': 'e',\n",
       "  'dims': '{\\n    \"x\": 642,\\n    \"y\": 1\\n}'},\n",
       " {'name': 'TC',\n",
       "  'N': 642,\n",
       "  'fraction': 0.0,\n",
       "  'ei': 'e',\n",
       "  'dims': '{\\n    \"x\": 642,\\n    \"y\": 1\\n}'},\n",
       " {'name': 'TCa',\n",
       "  'N': 642,\n",
       "  'fraction': 0.0,\n",
       "  'ei': 'e',\n",
       "  'dims': '{\\n    \"x\": 642,\\n    \"y\": 1\\n}'},\n",
       " {'name': 'CX',\n",
       "  'N': 1042,\n",
       "  'fraction': 0.0,\n",
       "  'ei': 'e',\n",
       "  'dims': '{\\n    \"x\": 1042,\\n    \"y\": 1\\n}'},\n",
       " {'name': 'CX3',\n",
       "  'N': 1042,\n",
       "  'fraction': 0.0,\n",
       "  'ei': 'e',\n",
       "  'dims': '{\\n    \"x\": 1042,\\n    \"y\": 1\\n}'},\n",
       " {'name': 'CX4',\n",
       "  'N': 1042,\n",
       "  'fraction': 0.0,\n",
       "  'ei': 'e',\n",
       "  'dims': '{\\n    \"x\": 1042,\\n    \"y\": 1\\n}'},\n",
       " {'name': 'CX5a',\n",
       "  'N': 1042,\n",
       "  'fraction': 0.0,\n",
       "  'ei': 'e',\n",
       "  'dims': '{\\n    \"x\": 1042,\\n    \"y\": 1\\n}'},\n",
       " {'name': 'CX6',\n",
       "  'N': 1042,\n",
       "  'fraction': 0.0,\n",
       "  'ei': 'e',\n",
       "  'dims': '{\\n    \"x\": 1042,\\n    \"y\": 1\\n}'},\n",
       " {'name': 'IN',\n",
       "  'N': 1042,\n",
       "  'fraction': 0.0,\n",
       "  'ei': 'i',\n",
       "  'dims': '{\\n    \"x\": 1042,\\n    \"y\": 1\\n}'},\n",
       " {'name': 'IN3',\n",
       "  'N': 1042,\n",
       "  'fraction': 0.0,\n",
       "  'ei': 'i',\n",
       "  'dims': '{\\n    \"x\": 1042,\\n    \"y\": 1\\n}'},\n",
       " {'name': 'IN4',\n",
       "  'N': 1042,\n",
       "  'fraction': 0.0,\n",
       "  'ei': 'i',\n",
       "  'dims': '{\\n    \"x\": 1042,\\n    \"y\": 1\\n}'},\n",
       " {'name': 'IN5a',\n",
       "  'N': 1042,\n",
       "  'fraction': 0.0,\n",
       "  'ei': 'i',\n",
       "  'dims': '{\\n    \"x\": 1042,\\n    \"y\": 1\\n}'},\n",
       " {'name': 'IN5b',\n",
       "  'N': 1042,\n",
       "  'fraction': 0.0,\n",
       "  'ei': 'i',\n",
       "  'dims': '{\\n    \"x\": 1042,\\n    \"y\": 1\\n}'},\n",
       " {'name': 'IN6',\n",
       "  'N': 1042,\n",
       "  'fraction': 0.0,\n",
       "  'ei': 'i',\n",
       "  'dims': '{\\n    \"x\": 1042,\\n    \"y\": 1\\n}'}]"
      ]
     },
     "execution_count": 74,
     "metadata": {},
     "output_type": "execute_result"
    }
   ],
   "source": [
    "import ast\n",
    "\n",
    "rgn_node = cmod_view.tree.nodes[0].nodes[0].nodes[0]\n",
    "print(rgn_node)\n",
    "[{kx: vx.value for kx, vx in cmod_view.panel_dict[nx.name].widget_map.items()} for nx in rgn_node.nodes]"
   ]
  },
  {
   "cell_type": "code",
   "execution_count": 39,
   "id": "07056fc0-c1ea-4072-8084-c77905d11797",
   "metadata": {},
   "outputs": [],
   "source": [
    "[0model_recipe = cbm_recipe.ModelRecipe(\n",
    "    recipe_setup=mdr_setup,\n",
    "    region_mapper=wgn_model.WGNRegionMapper,                                                                                                                                                                                                         \n",
    "    neuron_mapper=wgn_model.WGNNeuronMapper,                                                                                                                                                                                                         \n",
    "    connection_mapper=wgn_model.WGNConnectionMapper,                                                                                                                                                                                                     \n",
    "    network_builder=wgn_model.WGNNetworkBuilder,                                                                                                                                                                                                   \n",
    "    custom_mod=\"./wgn_sleep/recipe/custom_mod.json\",                                                                                                                                                                                                               \n",
    "    save_flag=True,\n",
    ")                                                                                                                                                                                                                                   \n",
    "# logging.basicConfig(level=logging.INFO)"
   ]
  },
  {
   "cell_type": "code",
   "execution_count": null,
   "id": "5fdd7719-cb32-48b3-9c8b-655045d58974",
   "metadata": {},
   "outputs": [],
   "source": []
  }
 ],
 "metadata": {
  "kernelspec": {
   "display_name": "Python 3 (ipykernel)",
   "language": "python",
   "name": "python3"
  },
  "language_info": {
   "codemirror_mode": {
    "name": "ipython",
    "version": 3
   },
   "file_extension": ".py",
   "mimetype": "text/x-python",
   "name": "python",
   "nbconvert_exporter": "python",
   "pygments_lexer": "ipython3",
   "version": "3.10.14"
  }
 },
 "nbformat": 4,
 "nbformat_minor": 5
}
