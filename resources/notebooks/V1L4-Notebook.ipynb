{
 "cells": [
  {
   "cell_type": "markdown",
   "id": "20df0e2c-02d5-4981-9242-78a0738cde9b",
   "metadata": {},
   "source": [
    "# V1 L4 Model \n",
    "\n",
    "V1 L4 model "
   ]
  },
  {
   "cell_type": "code",
   "execution_count": 1,
   "id": "9589784c-d306-4606-8d0e-535d4ac219c4",
   "metadata": {
    "tags": []
   },
   "outputs": [],
   "source": [
    "%load_ext autoreload\n",
    "%autoreload 2 "
   ]
  },
  {
   "cell_type": "code",
   "execution_count": 2,
   "id": "2e0db3b6-b61c-47a1-98e3-59d62b15d708",
   "metadata": {
    "tags": []
   },
   "outputs": [
    {
     "name": "stdout",
     "output_type": "stream",
     "text": [
      "\n",
      "              -- N E S T --\n",
      "  Copyright (C) 2004 The NEST Initiative\n",
      "\n",
      " Version: 3.8.0\n",
      " Built: Aug 27 2024 04:32:09\n",
      "\n",
      " This program is provided AS IS and comes with\n",
      " NO WARRANTY. See the file LICENSE for details.\n",
      "\n",
      " Problems or suggestions?\n",
      "   Visit https://www.nest-simulator.org\n",
      "\n",
      " Type 'nest.help()' to find out more about NEST.\n",
      "\n"
     ]
    }
   ],
   "source": [
    "import logging\n",
    "#\n",
    "import airavata_cerebrum.view.tree as cbm_tree\n",
    "import airavata_cerebrum.recipe as cbm_recipe\n",
    "import mousev1.model as mousev1"
   ]
  },
  {
   "cell_type": "markdown",
   "id": "315ec88a-cb99-4347-b561-b907fd6f8501",
   "metadata": {},
   "source": [
    "# Setup the Model Recipe and the Recipe Templates\n",
    "\n",
    "Model recipe is defined by a recipe file named recipe.json and template file name recipe_template.json. \n",
    "The files are placed in the recipe directory, canonically under the base directory of the model.\n",
    "\n",
    "## recipe.json\n",
    "\n",
    "recipe.json contains two sections: (1) data2model_map and (2) source_data. \n",
    "data2model_map maps between how the different parts of the model map to the source data. \n",
    "The source_data describes how the source databases are connected and different operations such as filters are applied to the data available from the specific database."
   ]
  },
  {
   "cell_type": "code",
   "execution_count": 3,
   "id": "45bb69f2-37c3-4c3b-be27-f74b516cb4e5",
   "metadata": {
    "tags": []
   },
   "outputs": [],
   "source": [
    "custom_mod_file = \"./v1l4/recipe/custom_mod.json\"\n",
    "m_base_dir = \"./\"\n",
    "m_name = \"v1l4\"\n",
    "rcp_files = {\"recipe\": [\"recipe.json\"], \"templates\": [\"recipe_template.json\"] }\n",
    "rcp_dir = \"./v1l4/recipe/\"\n",
    "custom_mods = cbm_recipe.netstruct_from_file(custom_mod_file)\n",
    "mdr_setup = cbm_recipe.init_recipe_setup(\n",
    "    name=m_name,\n",
    "    base_dir=m_base_dir,\n",
    "    recipe_files=rcp_files,\n",
    "    recipe_dir=rcp_dir,\n",
    ")\n"
   ]
  },
  {
   "cell_type": "code",
   "execution_count": 4,
   "id": "3d1f3d5e-17bd-48af-b3a7-7c8f5663244a",
   "metadata": {
    "tags": []
   },
   "outputs": [
    {
     "data": {
      "application/json": {
       "data2model_map": {
        "connections": {
         "(('4', 'Pvalb'), ('4', 'Pvalb'))": {
          "source_data": {
           "airavata_cerebrum.dataset.ai_synphys": {
            "label": "AI Syn Phys",
            "workflow": [
             {
              "exec_params": {
               "post": "L4-Pvalb",
               "pre": "L4-Pvalb"
              },
              "init_params": {},
              "label": "Filter by Pair",
              "name": "airavata_cerebrum.operations.ai_synphys.AISynPhysPairFilter",
              "type": "xform"
             }
            ]
           }
          }
         },
         "(('4', 'Pvalb'), ('4', 'Sst'))": {
          "source_data": {
           "airavata_cerebrum.dataset.ai_synphys": {
            "label": "AI Syn Phys",
            "workflow": [
             {
              "exec_params": {
               "post": "L4-Sst",
               "pre": "L4-Pvalb"
              },
              "init_params": {},
              "label": "Filter by Pair",
              "name": "airavata_cerebrum.operations.ai_synphys.AISynPhysPairFilter",
              "type": "xform"
             }
            ]
           }
          }
         },
         "(('4', 'Pvalb'), ('4', 'Vip'))": {
          "source_data": {
           "airavata_cerebrum.dataset.ai_synphys": {
            "label": "AI Syn Phys",
            "workflow": [
             {
              "exec_params": {
               "post": "L4-Vip",
               "pre": "L4-Pvalb"
              },
              "init_params": {},
              "label": "Filter by Pair",
              "name": "airavata_cerebrum.operations.ai_synphys.AISynPhysPairFilter",
              "type": "xform"
             }
            ]
           }
          }
         },
         "(('4', 'Sst'), ('4', 'Pvalb'))": {
          "source_data": {
           "airavata_cerebrum.dataset.ai_synphys": {
            "label": "AI Syn Phys",
            "workflow": [
             {
              "exec_params": {
               "post": "L4-Pvalb",
               "pre": "L4-Sst"
              },
              "init_params": {},
              "label": "Filter by Pair",
              "name": "airavata_cerebrum.operations.ai_synphys.AISynPhysPairFilter",
              "type": "xform"
             }
            ]
           }
          }
         },
         "(('4', 'Sst'), ('4', 'Sst'))": {
          "source_data": {
           "airavata_cerebrum.dataset.ai_synphys": {
            "label": "AI Syn Phys",
            "workflow": [
             {
              "exec_params": {
               "post": "L4-Sst",
               "pre": "L4-Sst"
              },
              "init_params": {},
              "label": "Filter by Pair",
              "name": "airavata_cerebrum.operations.ai_synphys.AISynPhysPairFilter",
              "type": "xform"
             }
            ]
           }
          }
         },
         "(('4', 'Sst'), ('4', 'Vip'))": {
          "source_data": {
           "airavata_cerebrum.dataset.ai_synphys": {
            "label": "AI Syn Phys",
            "workflow": [
             {
              "exec_params": {
               "post": "L4-Vip",
               "pre": "L4-Sst"
              },
              "init_params": {},
              "label": "Filter by Pair",
              "name": "airavata_cerebrum.operations.ai_synphys.AISynPhysPairFilter",
              "type": "xform"
             }
            ]
           }
          }
         },
         "(('4', 'Vip'), ('4', 'Pvalb'))": {
          "source_data": {
           "airavata_cerebrum.dataset.ai_synphys": {
            "label": "AI Syn Phys",
            "workflow": [
             {
              "exec_params": {
               "post": "L4-Pvalb",
               "pre": "L4-Vip"
              },
              "init_params": {},
              "label": "Filter by Pair",
              "name": "airavata_cerebrum.operations.ai_synphys.AISynPhysPairFilter",
              "type": "xform"
             }
            ]
           }
          }
         },
         "(('4', 'Vip'), ('4', 'Sst'))": {
          "source_data": {
           "airavata_cerebrum.dataset.ai_synphys": {
            "label": "AI Syn Phys",
            "workflow": [
             {
              "exec_params": {
               "post": "L4-Sst",
               "pre": "L4-Vip"
              },
              "init_params": {},
              "label": "Filter by Pair",
              "name": "airavata_cerebrum.operations.ai_synphys.AISynPhysPairFilter",
              "type": "xform"
             }
            ]
           }
          }
         },
         "(('4', 'Vip'), ('4', 'Vip'))": {
          "source_data": {
           "airavata_cerebrum.dataset.ai_synphys": {
            "label": "AI Syn Phys",
            "workflow": [
             {
              "exec_params": {
               "post": "L4-Vip",
               "pre": "L4-Vip"
              },
              "init_params": {},
              "label": "Filter by Pair",
              "name": "airavata_cerebrum.operations.ai_synphys.AISynPhysPairFilter",
              "type": "xform"
             }
            ]
           }
          }
         }
        },
        "locations": {
         "VISp4": {
          "('4', 'Pvalb')": {
           "property_map": {
            "ei": "i"
           },
           "source_data": {
            "airavata_cerebrum.dataset.abc_mouse": {
             "label": "Brain Atlas:Cell Fraction",
             "workflow": [
              {
               "exec_params": {
                "cell_type": "Pvalb",
                "region": "VISp4"
               },
               "init_params": {},
               "label": "Select Region/Type",
               "name": "airavata_cerebrum.operations.abc_mouse.ABCDbMERFISH_CCFFractionFilter",
               "type": "xform"
              }
             ]
            },
            "airavata_cerebrum.dataset.abm_celltypes": {
             "label": "Cell Types DB:Filter",
             "workflow": [
              {
               "exec_params": {
                "key": "ct",
                "line": "Pvalb-IRES",
                "reporter_status": "positive"
               },
               "init_params": {},
               "label": "Select Line",
               "name": "airavata_cerebrum.operations.abm_celltypes.CTPropertyFilter",
               "type": "xform"
              }
             ]
            }
           }
          },
          "('4', 'Rorb')": {
           "property_map": {
            "ei": "e"
           },
           "source_data": {
            "airavata_cerebrum.dataset.abc_mouse": {
             "label": "Brain Atlas:Cell Fraction",
             "workflow": [
              {
               "exec_params": {
                "cell_type": "IT",
                "region": "VISp4"
               },
               "init_params": {},
               "label": "Select Region/Type",
               "name": "airavata_cerebrum.operations.abc_mouse.ABCDbMERFISH_CCFFractionFilter",
               "type": "xform"
              }
             ]
            },
            "airavata_cerebrum.dataset.abm_celltypes": {
             "label": "Cell Types DB:Filter",
             "workflow": [
              {
               "exec_params": {
                "key": "ct",
                "line": "Rorb",
                "reporter_status": "positive"
               },
               "init_params": {},
               "label": "Select Line",
               "name": "airavata_cerebrum.operations.abm_celltypes.CTPropertyFilter",
               "type": "xform"
              }
             ]
            }
           }
          },
          "('4', 'Scnn1a')": {
           "property_map": {
            "ei": "e"
           },
           "source_data": {
            "airavata_cerebrum.dataset.abc_mouse": {
             "label": "Brain Atlas:Cell Fraction",
             "workflow": [
              {
               "exec_params": {
                "cell_type": "IT",
                "region": "VISp4"
               },
               "init_params": {},
               "label": "Select Region/Type",
               "name": "airavata_cerebrum.operations.abc_mouse.ABCDbMERFISH_CCFFractionFilter",
               "type": "xform"
              }
             ]
            },
            "airavata_cerebrum.dataset.abm_celltypes": {
             "label": "Cell Types DB:Filter",
             "workflow": [
              {
               "exec_params": {
                "key": "ct",
                "line": "Scnn1a",
                "reporter_status": "positive"
               },
               "init_params": {},
               "label": "Select Line",
               "name": "airavata_cerebrum.operations.abm_celltypes.CTPropertyFilter",
               "type": "xform"
              }
             ]
            }
           }
          },
          "('4', 'Sst')": {
           "property_map": {
            "ei": "i"
           },
           "source_data": {
            "airavata_cerebrum.dataset.abc_mouse": {
             "label": "Brain Atlas:Cell Fraction",
             "workflow": [
              {
               "exec_params": {
                "cell_type": "Pvalb",
                "region": "VISp4"
               },
               "init_params": {},
               "label": "Select Region/Type",
               "name": "airavata_cerebrum.operations.abc_mouse.ABCDbMERFISH_CCFFractionFilter",
               "type": "xform"
              }
             ]
            },
            "airavata_cerebrum.dataset.abm_celltypes": {
             "label": "Cell Types DB:Filter",
             "workflow": [
              {
               "exec_params": {
                "key": "ct",
                "line": "Sst",
                "reporter_status": "positive"
               },
               "init_params": {},
               "label": "Select Line",
               "name": "airavata_cerebrum.operations.abm_celltypes.CTPropertyFilter",
               "type": "xform"
              }
             ]
            }
           }
          },
          "('4', 'Vip')": {
           "property_map": {
            "ei": "i"
           },
           "source_data": {
            "airavata_cerebrum.dataset.abc_mouse": {
             "label": "Brain Atlas:Cell Fraction",
             "workflow": [
              {
               "exec_params": {
                "cell_type": "Vip",
                "region": "VISp4"
               },
               "init_params": {},
               "label": "Select Region/Type",
               "name": "airavata_cerebrum.operations.abc_mouse.ABCDbMERFISH_CCFFractionFilter",
               "type": "xform"
              }
             ]
            },
            "airavata_cerebrum.dataset.abm_celltypes": {
             "label": "Cell Types DB:Filter",
             "workflow": [
              {
               "exec_params": {
                "key": "ct",
                "line": "Vip-",
                "reporter_status": "positive"
               },
               "init_params": {},
               "label": "Select Line",
               "name": "airavata_cerebrum.operations.abm_celltypes.CTPropertyFilter",
               "type": "xform"
              }
             ]
            }
           }
          },
          "property_map": {
           "neurons": [
            "('4', 'Scnn1a')",
            "('4', 'Rorb')",
            "('4', 'Vip')",
            "('4', 'Pvalb')",
            "('4', 'Sst')"
           ],
           "source_data": {
            "airavata_cerebrum.dataset.abc_mouse": {
             "label": "Region Filters",
             "workflow": [
              {
               "exec_params": {
                "region": "VISp4"
               },
               "init_params": {},
               "label": "Select Region",
               "name": "airavata_cerebrum.operations.abc_mouse.ABCDbMERFISH_CCFFractionFilter",
               "type": "xform"
              }
             ]
            }
           }
          }
         }
        }
       },
       "source_data": {
        "airavata_cerebrum.dataset.abc_mouse": {
         "db_connect": {
          "label": "Query Allen Brain Cell Atlas",
          "workflow": [
           {
            "exec_params": {
             "region": [
              "VISp"
             ]
            },
            "init_params": {
             "download_base": "./cache/abc_mouse/"
            },
            "label": "Query ABC MERFISH dataset",
            "name": "airavata_cerebrum.dataset.abc_mouse.ABCDbMERFISH_CCFQuery",
            "type": "query"
           }
          ]
         },
         "label": "Allen Brain Cell Atlas",
         "post_ops": {
          "label": "Filter ABC by Region",
          "workflow": [
           {
            "exec_params": {
             "region": "VISp",
             "sub_region": "VISp4"
            },
            "init_params": {},
            "label": "Region filter",
            "name": "airavata_cerebrum.operations.abc_mouse.ABCDbMERFISH_CCFLayerRegionFilter",
            "type": "xform"
           }
          ]
         }
        },
        "airavata_cerebrum.dataset.abm_celltypes": {
         "db_connect": {
          "label": "Query Allen Cell Types Databse",
          "workflow": [
           {
            "exec_params": {
             "species": "Mus musculus"
            },
            "init_params": {},
            "label": "Query w. CT API",
            "name": "airavata_cerebrum.dataset.abm_celltypes.CTDbCellApiQuery",
            "type": "query"
           },
           {
            "exec_params": {
             "jupyter": true
            },
            "init_params": {},
            "label": "Progress Bar",
            "name": "airavata_cerebrum.operations.xform.TQDMWrapper",
            "type": "xform"
           },
           {
            "exec_params": {
             "layer": "4",
             "region": "VISp"
            },
            "init_params": {},
            "label": "Filter by Layer",
            "name": "airavata_cerebrum.operations.abm_celltypes.CTPropertyFilter",
            "type": "xform"
           },
           {
            "exec_params": {
             "first": true,
             "key": "specimen__id"
            },
            "init_params": {},
            "label": "Query GLIF Models",
            "name": "airavata_cerebrum.dataset.abm_celltypes.CTDbGlifApiQuery",
            "type": "query"
           }
          ]
         },
         "label": "Allen Cell Types Databse",
         "post_ops": {
          "label": "Filter GLIF Models w. Explained Variance",
          "workflow": [
           {
            "exec_params": {
             "name": "3 LIF + Afterspike Currents"
            },
            "init_params": {},
            "label": "Filter 3 LIF Models",
            "name": "airavata_cerebrum.operations.abm_celltypes.CTModelNameFilter",
            "type": "xform"
           },
           {
            "exec_params": {
             "ratio": 0.7
            },
            "init_params": {},
            "label": "Filter Explained variance",
            "name": "airavata_cerebrum.operations.abm_celltypes.CTExplainedRatioFilter",
            "type": "xform"
           },
           {
            "exec_params": {
             "output_dir": "v1l4/components/point_neuron_models/",
             "suffix": "_glif_lif_asc_config.json"
            },
            "init_params": {},
            "label": "ABM Model Download",
            "name": "airavata_cerebrum.dataset.abm_celltypes.CTDbGlifApiModelConfigQry",
            "type": "query"
           }
          ]
         }
        },
        "airavata_cerebrum.dataset.ai_synphys": {
         "db_connect": {
          "label": "Query Allen Syn Phys Database",
          "workflow": [
           {
            "exec_params": {
             "layer": [
              "L4"
             ]
            },
            "init_params": {
             "download_base": "./cache/ai_synphys/"
            },
            "label": "AI Syn. Phys. Query",
            "name": "airavata_cerebrum.dataset.ai_synphys.AISynPhysQuery",
            "type": "query"
           }
          ]
         },
         "label": "AI Syn Phys",
         "post_ops": {
          "workflow": []
         }
        }
       }
      },
      "text/plain": [
       "<IPython.core.display.JSON object>"
      ]
     },
     "execution_count": 4,
     "metadata": {
      "application/json": {
       "expanded": false,
       "root": "root"
      }
     },
     "output_type": "execute_result"
    }
   ],
   "source": [
    "import IPython.display\n",
    "import json\n",
    "with open(\"./v1l4/recipe/recipe.json\") as ifx:\n",
    "    config_dict = json.load(ifx)\n",
    "IPython.display.JSON(config_dict)"
   ]
  },
  {
   "attachments": {
    "58a40355-aab0-41f2-9889-9d21f00546fd.png": {
     "image/png": "[encoded data removed]"
    }
   },
   "cell_type": "markdown",
   "id": "05b81dd0-a5d6-4b58-9972-f8df5605b3d7",
   "metadata": {},
   "source": [
    "# Visualize Structure for Source Data \n",
    "\n",
    "Data provider module includes\n",
    "  - Methods for defining the querying from the database and filter the data based on specific criteria. \n",
    "  - Utilities to visualize the data provider configurations in easy-to-understand explorer view inside Jupyter notebook with the relevant parameters displayed in the side panel.\n",
    "\n",
    "Construction of Layer 4 of Mouse V1 is shown below with three different data providers: \n",
    "  - Allen Cell Types database,\n",
    "  - Allen Brain Cell Atlas and\n",
    "  - AI Synaptic Physiology Database. \n",
    "\n",
    "Using the templates we can view the links to the source data and the model with Jupter notebook widgets. Running the next cell should produce a visualization in the image below:\n",
    "\n",
    "![image.png](attachment:58a40355-aab0-41f2-9889-9d21f00546fd.png)"
   ]
  },
  {
   "cell_type": "code",
   "execution_count": 5,
   "id": "b388cce9-f220-4006-b761-5104ff59c7f7",
   "metadata": {
    "tags": []
   },
   "outputs": [
    {
     "data": {
      "application/vnd.jupyter.widget-view+json": {
       "model_id": "4810946db92a43c3bf856ab76774b731",
       "version_major": 2,
       "version_minor": 0
      },
      "text/plain": [
       "TwoByTwoLayout(children=(Tree(data={'id': '-source_data', 'text': 'Data Sources', 'state': {'selected': True, …"
      ]
     },
     "execution_count": 5,
     "metadata": {},
     "output_type": "execute_result"
    }
   ],
   "source": [
    "sd_tree = cbm_tree.DataSourceRecipeView(mdr_setup, left_width=\"55%\")\n",
    "sd_tree.build()\n",
    "sd_tree.layout"
   ]
  },
  {
   "attachments": {},
   "cell_type": "markdown",
   "id": "773d5250-e153-46b0-80a6-7dbcef67c599",
   "metadata": {},
   "source": [
    "# Data2Model Map\n",
    "\n",
    "Definitions for data2model includes two parts:\n",
    "\n",
    "1. *Locations:* Cell types database and the MERFISH atlas data map to neuron models and the distribution of neuron types, respectively\n",
    "2. *Connections:* AI synaptic physiology data is mapped to the connection probabilities between the pairs of neuron classes.     \n",
    "\n",
    "## View for Locations\n",
    "\n",
    "Locations are defined hiearchially with each section defining the data links. For V1 layer 4, we map five different neuron types to the specific models and the region fractions.\n",
    "\n",
    "Using the templates we can view the links to the neurons and the source data with Jupter notebook widgets. Running the next cell should produce a visualization in the image below:\n",
    "\n",
    "## View for Connections\n",
    "\n",
    "Connections are defined as section for each pair to neuron sets, with each section defining the data links. For V1 layer 4, we map eight different neuron pairs to the AI Syn. Phys. Data outputs.\n",
    "\n",
    "Using the templates we can view the links to the neuron pairs and the source data with Jupter notebook widgets. Running the next cell should produce a visualization in the image below:\n",
    "\n",
    "\n"
   ]
  },
  {
   "cell_type": "code",
   "execution_count": 6,
   "id": "7a1d3e86-5274-4aff-ab18-ff8b3809c09b",
   "metadata": {
    "tags": []
   },
   "outputs": [
    {
     "data": {
      "application/vnd.jupyter.widget-view+json": {
       "model_id": "9739fbb433244c7180c2f4cf882a237a",
       "version_major": 2,
       "version_minor": 0
      },
      "text/plain": [
       "TwoByTwoLayout(children=(Tree(data={'id': '-data2model_map', 'text': 'Data->Model', 'state': {'selected': True…"
      ]
     },
     "execution_count": 6,
     "metadata": {},
     "output_type": "execute_result"
    }
   ],
   "source": [
    "dm_tree = cbm_tree.Data2ModelRecipeView(mdr_setup, width=\"55%\")\n",
    "dm_tree.build()\n",
    "dm_tree.layout"
   ]
  },
  {
   "attachments": {
    "f5f2ee12-7d4b-4d11-8e18-402faf2785ac.png": {
     "image/png": "[encoded data removed]"
    }
   },
   "cell_type": "markdown",
   "id": "9c9bb4e7-daa2-4fee-9d25-df4e3384c387",
   "metadata": {
    "tags": []
   },
   "source": [
    "## Custom Modification\n",
    "\n",
    "Custom modifications if defined byt the \"custom_mod.json\". It includes:\n",
    "- Users can provide details required for network construction that are either not available in the linked databases or over-ride specific information.\n",
    "- Utilities to visualize these modifications in Jupyter Notebook.\n",
    "\n",
    "For the Layer 4 of Mouse V1, custom modifications include \n",
    "1. Dimensions of each region in the model.\n",
    "2. Connection Parameters not available with the AI Syn. Phys. database.\n",
    "3. Details of the networks that are external to V1 \u0013 LGN and the  background networks. \n",
    "\n",
    "Using the templates we can view the user custom modifications with Jupter notebook widgets. Running the next cell should produce a visualization in the image below:\n",
    "\n",
    "![image.png](attachment:f5f2ee12-7d4b-4d11-8e18-402faf2785ac.png)"
   ]
  },
  {
   "cell_type": "code",
   "execution_count": 7,
   "id": "4de935c0-55ee-433c-99a3-67039b0ab1db",
   "metadata": {
    "tags": []
   },
   "outputs": [
    {
     "data": {
      "application/json": {
       "connections": {
        "(('4', 'Pvalb'), ('4', 'Pvalb'))": {
         "connect_models": {
          "(('4', 'Pvalb', ''), ('4', 'Pvalb', '478793814'))": {
           "delay": 1.01,
           "name": "(('4', 'Pvalb', ''), ('4', 'Pvalb', '478793814'))",
           "property_map": {
            "PSP_scale_factor": 0.037,
            "lognorm_scale": 0.5199354476,
            "lognorm_shape": 0.6828453321,
            "params_file": "pv_to_pv.json",
            "synphys_mean": 0.6521111955
           },
           "source_model_id": "",
           "target_model_id": "478793814",
           "weight_max": -6.3513513514
          },
          "(('4', 'Pvalb', ''), ('4', 'Pvalb', '478958894'))": {
           "delay": 1.01,
           "name": "(('4', 'Pvalb', ''), ('4', 'Pvalb', '478958894'))",
           "property_map": {
            "PSP_scale_factor": 0.036,
            "lognorm_scale": 0.5199354476,
            "lognorm_shape": 0.6828453321,
            "params_file": "pv_to_pv.json",
            "synphys_mean": 0.6521111955
           },
           "source_model_id": "",
           "target_model_id": "478958894",
           "weight_max": -6.9117647059
          },
          "(('4', 'Pvalb', ''), ('4', 'Pvalb', '481127173'))": {
           "delay": 1.01,
           "name": "(('4', 'Pvalb', ''), ('4', 'Pvalb', '481127173'))",
           "property_map": {
            "PSP_scale_factor": 0.043,
            "lognorm_scale": 0.5199354476,
            "lognorm_shape": 0.6828453321,
            "params_file": "pv_to_pv.json",
            "synphys_mean": 0.6521111955
           },
           "source_model_id": "",
           "target_model_id": "481127173",
           "weight_max": -5.9493670886
          },
          "(('4', 'Pvalb', ''), ('4', 'Pvalb', '481127348'))": {
           "delay": 1.01,
           "name": "(('4', 'Pvalb', ''), ('4', 'Pvalb', '481127348'))",
           "property_map": {
            "PSP_scale_factor": 0.055,
            "lognorm_scale": 0.5199354476,
            "lognorm_shape": 0.6828453321,
            "params_file": "pv_to_pv.json",
            "synphys_mean": 0.6521111955
           },
           "source_model_id": "",
           "target_model_id": "481127348",
           "weight_max": -4.3518518519
          },
          "(('4', 'Pvalb', ''), ('4', 'Pvalb', '487405644'))": {
           "delay": 1.01,
           "name": "(('4', 'Pvalb', ''), ('4', 'Pvalb', '487405644'))",
           "property_map": {
            "PSP_scale_factor": 0.065,
            "lognorm_scale": 0.5199354476,
            "lognorm_shape": 0.6828453321,
            "params_file": "pv_to_pv.json",
            "synphys_mean": 0.6521111955
           },
           "source_model_id": "",
           "target_model_id": "487405644",
           "weight_max": -3.9830508475
          },
          "(('4', 'Pvalb', ''), ('4', 'Pvalb', '487667205'))": {
           "delay": 1.01,
           "name": "(('4', 'Pvalb', ''), ('4', 'Pvalb', '487667205'))",
           "property_map": {
            "PSP_scale_factor": 0.044,
            "lognorm_scale": 0.5199354476,
            "lognorm_shape": 0.6828453321,
            "params_file": "pv_to_pv.json",
            "synphys_mean": 0.6521111955
           },
           "source_model_id": "",
           "target_model_id": "487667205",
           "weight_max": -5.5952380952
          },
          "(('4', 'Pvalb', ''), ('4', 'Pvalb', '491038812'))": {
           "delay": 1.01,
           "name": "(('4', 'Pvalb', ''), ('4', 'Pvalb', '491038812'))",
           "property_map": {
            "PSP_scale_factor": 0.034,
            "lognorm_scale": 0.5199354476,
            "lognorm_shape": 0.6828453321,
            "params_file": "pv_to_pv.json",
            "synphys_mean": 0.6521111955
           },
           "source_model_id": "",
           "target_model_id": "491038812",
           "weight_max": -7.8333333333
          },
          "(('4', 'Pvalb', ''), ('4', 'Pvalb', '569997187'))": {
           "delay": 1.01,
           "name": "(('4', 'Pvalb', ''), ('4', 'Pvalb', '569997187'))",
           "property_map": {
            "PSP_scale_factor": 0.053,
            "lognorm_scale": 0.5199354476,
            "lognorm_shape": 0.6828453321,
            "params_file": "pv_to_pv.json",
            "synphys_mean": 0.6521111955
           },
           "source_model_id": "",
           "target_model_id": "569997187",
           "weight_max": -4.1228070175
          },
          "(('4', 'Pvalb', ''), ('4', 'Pvalb', '571314481'))": {
           "delay": 1.01,
           "name": "(('4', 'Pvalb', ''), ('4', 'Pvalb', '571314481'))",
           "property_map": {
            "PSP_scale_factor": 0.055,
            "lognorm_scale": 0.5199354476,
            "lognorm_shape": 0.6828453321,
            "params_file": "pv_to_pv.json",
            "synphys_mean": 0.6521111955
           },
           "source_model_id": "",
           "target_model_id": "571314481",
           "weight_max": -4.4339622642
          },
          "(('4', 'Pvalb', ''), ('4', 'Pvalb', '572375809'))": {
           "delay": 1.01,
           "name": "(('4', 'Pvalb', ''), ('4', 'Pvalb', '572375809'))",
           "property_map": {
            "PSP_scale_factor": 0.043,
            "lognorm_scale": 0.5199354476,
            "lognorm_shape": 0.6828453321,
            "params_file": "pv_to_pv.json",
            "synphys_mean": 0.6521111955
           },
           "source_model_id": "",
           "target_model_id": "572375809",
           "weight_max": -5.6626506024
          },
          "(('4', 'Pvalb', ''), ('4', 'Pvalb', '579414994'))": {
           "delay": 1.01,
           "name": "(('4', 'Pvalb', ''), ('4', 'Pvalb', '579414994'))",
           "property_map": {
            "PSP_scale_factor": 0.035,
            "lognorm_scale": 0.5199354476,
            "lognorm_shape": 0.6828453321,
            "params_file": "pv_to_pv.json",
            "synphys_mean": 0.6521111955
           },
           "source_model_id": "",
           "target_model_id": "579414994",
           "weight_max": 0
          }
         },
         "name": "(('4', 'Pvalb'), ('4', 'Pvalb'))",
         "post": [
          "4",
          "Pvalb"
         ],
         "pre": [
          "4",
          "Pvalb"
         ],
         "probability": 0,
         "property_map": {
          "A_literature": [
           0.633215339219893
          ],
          "A_literature_src": [
           0.633215339219893
          ],
          "B_ratio": null,
          "R0": 75,
          "is_pmax": 1,
          "nsyn_range": [
           3,
           8
          ],
          "post_ei": "i",
          "pre_ei": "i",
          "sigma": 126.77
         }
        },
        "(('4', 'Pvalb'), ('4', 'Rorb'))": {
         "connect_models": {
          "(('4', 'Pvalb', ''), ('4', 'Rorb', '322723785'))": {
           "delay": 0.96,
           "name": "(('4', 'Pvalb', ''), ('4', 'Rorb', '322723785'))",
           "property_map": {
            "PSP_scale_factor": 0.053,
            "lognorm_scale": 0.5930918658,
            "lognorm_shape": 0.6574717379,
            "params_file": "pv_to_e4.json",
            "synphys_mean": 0.7292007006
           },
           "source_model_id": "",
           "target_model_id": "322723785",
           "weight_max": -5.1612903226
          },
          "(('4', 'Pvalb', ''), ('4', 'Rorb', '322761772'))": {
           "delay": 0.96,
           "name": "(('4', 'Pvalb', ''), ('4', 'Rorb', '322761772'))",
           "property_map": {
            "PSP_scale_factor": 0.054,
            "lognorm_scale": 0.5930918658,
            "lognorm_shape": 0.6574717379,
            "params_file": "pv_to_e4.json",
            "synphys_mean": 0.7292007006
           },
           "source_model_id": "",
           "target_model_id": "322761772",
           "weight_max": -4.5283018868
          },
          "(('4', 'Pvalb', ''), ('4', 'Rorb', '324065524'))": {
           "delay": 0.96,
           "name": "(('4', 'Pvalb', ''), ('4', 'Rorb', '324065524'))",
           "property_map": {
            "PSP_scale_factor": 0.071,
            "lognorm_scale": 0.5930918658,
            "lognorm_shape": 0.6574717379,
            "params_file": "pv_to_e4.json",
            "synphys_mean": 0.7292007006
           },
           "source_model_id": "",
           "target_model_id": "324065524",
           "weight_max": -3.8095238095
          },
          "(('4', 'Pvalb', ''), ('4', 'Rorb', '329550277'))": {
           "delay": 0.96,
           "name": "(('4', 'Pvalb', ''), ('4', 'Rorb', '329550277'))",
           "property_map": {
            "PSP_scale_factor": 0.054,
            "lognorm_scale": 0.5930918658,
            "lognorm_shape": 0.6574717379,
            "params_file": "pv_to_e4.json",
            "synphys_mean": 0.7292007006
           },
           "source_model_id": "",
           "target_model_id": "329550277",
           "weight_max": -5.1612903226
          },
          "(('4', 'Pvalb', ''), ('4', 'Rorb', '466378900'))": {
           "delay": 0.96,
           "name": "(('4', 'Pvalb', ''), ('4', 'Rorb', '466378900'))",
           "property_map": {
            "PSP_scale_factor": 0.082,
            "lognorm_scale": 0.5930918658,
            "lognorm_shape": 0.6574717379,
            "params_file": "pv_to_e4.json",
            "synphys_mean": 0.7292007006
           },
           "source_model_id": "",
           "target_model_id": "466378900",
           "weight_max": -3.2214765101
          },
          "(('4', 'Pvalb', ''), ('4', 'Rorb', '467003163'))": {
           "delay": 0.96,
           "name": "(('4', 'Pvalb', ''), ('4', 'Rorb', '467003163'))",
           "property_map": {
            "PSP_scale_factor": 0.052,
            "lognorm_scale": 0.5930918658,
            "lognorm_shape": 0.6574717379,
            "params_file": "pv_to_e4.json",
            "synphys_mean": 0.7292007006
           },
           "source_model_id": "",
           "target_model_id": "467003163",
           "weight_max": -6.0759493671
          },
          "(('4', 'Pvalb', ''), ('4', 'Rorb', '467357834'))": {
           "delay": 0.96,
           "name": "(('4', 'Pvalb', ''), ('4', 'Rorb', '467357834'))",
           "property_map": {
            "PSP_scale_factor": 0.048,
            "lognorm_scale": 0.5930918658,
            "lognorm_shape": 0.6574717379,
            "params_file": "pv_to_e4.json",
            "synphys_mean": 0.7292007006
           },
           "source_model_id": "",
           "target_model_id": "467357834",
           "weight_max": -5.5813953488
          },
          "(('4', 'Pvalb', ''), ('4', 'Rorb', '469763389'))": {
           "delay": 0.96,
           "name": "(('4', 'Pvalb', ''), ('4', 'Rorb', '469763389'))",
           "property_map": {
            "PSP_scale_factor": 0.059,
            "lognorm_scale": 0.5930918658,
            "lognorm_shape": 0.6574717379,
            "params_file": "pv_to_e4.json",
            "synphys_mean": 0.7292007006
           },
           "source_model_id": "",
           "target_model_id": "469763389",
           "weight_max": -4.5283018868
          },
          "(('4', 'Pvalb', ''), ('4', 'Rorb', '473020156'))": {
           "delay": 0.96,
           "name": "(('4', 'Pvalb', ''), ('4', 'Rorb', '473020156'))",
           "property_map": {
            "PSP_scale_factor": 0.071,
            "lognorm_scale": 0.5930918658,
            "lognorm_shape": 0.6574717379,
            "params_file": "pv_to_e4.json",
            "synphys_mean": 0.7292007006
           },
           "source_model_id": "",
           "target_model_id": "473020156",
           "weight_max": -3.5820895522
          },
          "(('4', 'Pvalb', ''), ('4', 'Rorb', '476562817'))": {
           "delay": 0.96,
           "name": "(('4', 'Pvalb', ''), ('4', 'Rorb', '476562817'))",
           "property_map": {
            "PSP_scale_factor": 0.054,
            "lognorm_scale": 0.5930918658,
            "lognorm_shape": 0.6574717379,
            "params_file": "pv_to_e4.json",
            "synphys_mean": 0.7292007006
           },
           "source_model_id": "",
           "target_model_id": "476562817",
           "weight_max": -5.1063829787
          },
          "(('4', 'Pvalb', ''), ('4', 'Rorb', '478586425'))": {
           "delay": 0.96,
           "name": "(('4', 'Pvalb', ''), ('4', 'Rorb', '478586425'))",
           "property_map": {
            "PSP_scale_factor": 0.058,
            "lognorm_scale": 0.5930918658,
            "lognorm_shape": 0.6574717379,
            "params_file": "pv_to_e4.json",
            "synphys_mean": 0.7292007006
           },
           "source_model_id": "",
           "target_model_id": "478586425",
           "weight_max": -4.8
          },
          "(('4', 'Pvalb', ''), ('4', 'Rorb', '479179020'))": {
           "delay": 0.96,
           "name": "(('4', 'Pvalb', ''), ('4', 'Rorb', '479179020'))",
           "property_map": {
            "PSP_scale_factor": 0.051,
            "lognorm_scale": 0.5930918658,
            "lognorm_shape": 0.6574717379,
            "params_file": "pv_to_e4.json",
            "synphys_mean": 0.7292007006
           },
           "source_model_id": "",
           "target_model_id": "479179020",
           "weight_max": -5.2173913043
          },
          "(('4', 'Pvalb', ''), ('4', 'Rorb', '484679812'))": {
           "delay": 0.96,
           "name": "(('4', 'Pvalb', ''), ('4', 'Rorb', '484679812'))",
           "property_map": {
            "PSP_scale_factor": 0.069,
            "lognorm_scale": 0.5930918658,
            "lognorm_shape": 0.6574717379,
            "params_file": "pv_to_e4.json",
            "synphys_mean": 0.7292007006
           },
           "source_model_id": "",
           "target_model_id": "484679812",
           "weight_max": -3.7209302326
          },
          "(('4', 'Pvalb', ''), ('4', 'Rorb', '484770879'))": {
           "delay": 0.96,
           "name": "(('4', 'Pvalb', ''), ('4', 'Rorb', '484770879'))",
           "property_map": {
            "PSP_scale_factor": 0.051,
            "lognorm_scale": 0.5930918658,
            "lognorm_shape": 0.6574717379,
            "params_file": "pv_to_e4.json",
            "synphys_mean": 0.7292007006
           },
           "source_model_id": "",
           "target_model_id": "484770879",
           "weight_max": -5.5172413793
          },
          "(('4', 'Pvalb', ''), ('4', 'Rorb', '485836906'))": {
           "delay": 0.96,
           "name": "(('4', 'Pvalb', ''), ('4', 'Rorb', '485836906'))",
           "property_map": {
            "PSP_scale_factor": 0.043,
            "lognorm_scale": 0.5930918658,
            "lognorm_shape": 0.6574717379,
            "params_file": "pv_to_e4.json",
            "synphys_mean": 0.7292007006
           },
           "source_model_id": "",
           "target_model_id": "485836906",
           "weight_max": -6.4
          },
          "(('4', 'Pvalb', ''), ('4', 'Rorb', '486472847'))": {
           "delay": 0.96,
           "name": "(('4', 'Pvalb', ''), ('4', 'Rorb', '486472847'))",
           "property_map": {
            "PSP_scale_factor": 0.07,
            "lognorm_scale": 0.5930918658,
            "lognorm_shape": 0.6574717379,
            "params_file": "pv_to_e4.json",
            "synphys_mean": 0.7292007006
           },
           "source_model_id": "",
           "target_model_id": "486472847",
           "weight_max": -3.8709677419
          },
          "(('4', 'Pvalb', ''), ('4', 'Rorb', '486500736'))": {
           "delay": 0.96,
           "name": "(('4', 'Pvalb', ''), ('4', 'Rorb', '486500736'))",
           "property_map": {
            "PSP_scale_factor": 0.037,
            "lognorm_scale": 0.5930918658,
            "lognorm_shape": 0.6574717379,
            "params_file": "pv_to_e4.json",
            "synphys_mean": 0.7292007006
           },
           "source_model_id": "",
           "target_model_id": "486500736",
           "weight_max": -7.2727272727
          },
          "(('4', 'Pvalb', ''), ('4', 'Rorb', '490626718'))": {
           "delay": 0.96,
           "name": "(('4', 'Pvalb', ''), ('4', 'Rorb', '490626718'))",
           "property_map": {
            "PSP_scale_factor": 0.06,
            "lognorm_scale": 0.5930918658,
            "lognorm_shape": 0.6574717379,
            "params_file": "pv_to_e4.json",
            "synphys_mean": 0.7292007006
           },
           "source_model_id": "",
           "target_model_id": "490626718",
           "weight_max": -5.5813953488
          },
          "(('4', 'Pvalb', ''), ('4', 'Rorb', '490626827'))": {
           "delay": 0.96,
           "name": "(('4', 'Pvalb', ''), ('4', 'Rorb', '490626827'))",
           "property_map": {
            "PSP_scale_factor": 0.057,
            "lognorm_scale": 0.5930918658,
            "lognorm_shape": 0.6574717379,
            "params_file": "pv_to_e4.json",
            "synphys_mean": 0.7292007006
           },
           "source_model_id": "",
           "target_model_id": "490626827",
           "weight_max": -5.393258427
          },
          "(('4', 'Pvalb', ''), ('4', 'Rorb', '500859045'))": {
           "delay": 0.96,
           "name": "(('4', 'Pvalb', ''), ('4', 'Rorb', '500859045'))",
           "property_map": {
            "PSP_scale_factor": 0.054,
            "lognorm_scale": 0.5930918658,
            "lognorm_shape": 0.6574717379,
            "params_file": "pv_to_e4.json",
            "synphys_mean": 0.7292007006
           },
           "source_model_id": "",
           "target_model_id": "500859045",
           "weight_max": -5.0526315789
          },
          "(('4', 'Pvalb', ''), ('4', 'Rorb', '500894271'))": {
           "delay": 0.96,
           "name": "(('4', 'Pvalb', ''), ('4', 'Rorb', '500894271'))",
           "property_map": {
            "PSP_scale_factor": 0.055,
            "lognorm_scale": 0.5930918658,
            "lognorm_shape": 0.6574717379,
            "params_file": "pv_to_e4.json",
            "synphys_mean": 0.7292007006
           },
           "source_model_id": "",
           "target_model_id": "500894271",
           "weight_max": 0
          }
         },
         "name": "(('4', 'Pvalb'), ('4', 'Rorb'))",
         "post": [
          "4",
          "Rorb"
         ],
         "pre": [
          "4",
          "Pvalb"
         ],
         "probability": 0,
         "property_map": {
          "A_literature": [
           0.488046931160011
          ],
          "A_literature_src": [
           0.488046931160011
          ],
          "B_ratio": null,
          "R0": 75,
          "is_pmax": 1,
          "nsyn_range": [
           3,
           8
          ],
          "post_ei": "e",
          "pre_ei": "i",
          "sigma": 96.6
         }
        },
        "(('4', 'Pvalb'), ('4', 'Scnn1a'))": {
         "connect_models": {
          "(('4', 'Pvalb', ''), ('4', 'Scnn1a', '320207387'))": {
           "delay": 0.96,
           "name": "(('4', 'Pvalb', ''), ('4', 'Scnn1a', '320207387'))",
           "property_map": {
            "PSP_scale_factor": 0.046,
            "lognorm_scale": 0.5930918658,
            "lognorm_shape": 0.6574717379,
            "params_file": "pv_to_e4.json",
            "synphys_mean": 0.7292007006
           },
           "source_model_id": "",
           "target_model_id": "320207387",
           "weight_max": -6.4864864865
          },
          "(('4', 'Pvalb', ''), ('4', 'Scnn1a', '323838579'))": {
           "delay": 0.96,
           "name": "(('4', 'Pvalb', ''), ('4', 'Scnn1a', '323838579'))",
           "property_map": {
            "PSP_scale_factor": 0.053,
            "lognorm_scale": 0.5930918658,
            "lognorm_shape": 0.6574717379,
            "params_file": "pv_to_e4.json",
            "synphys_mean": 0.7292007006
           },
           "source_model_id": "",
           "target_model_id": "323838579",
           "weight_max": -5.3333333333
          },
          "(('4', 'Pvalb', ''), ('4', 'Scnn1a', '476266853'))": {
           "delay": 0.96,
           "name": "(('4', 'Pvalb', ''), ('4', 'Scnn1a', '476266853'))",
           "property_map": {
            "PSP_scale_factor": 0.052,
            "lognorm_scale": 0.5930918658,
            "lognorm_shape": 0.6574717379,
            "params_file": "pv_to_e4.json",
            "synphys_mean": 0.7292007006
           },
           "source_model_id": "",
           "target_model_id": "476266853",
           "weight_max": -5.5813953488
          },
          "(('4', 'Pvalb', ''), ('4', 'Scnn1a', '500964358'))": {
           "delay": 0.96,
           "name": "(('4', 'Pvalb', ''), ('4', 'Scnn1a', '500964358'))",
           "property_map": {
            "PSP_scale_factor": 0.05,
            "lognorm_scale": 0.5930918658,
            "lognorm_shape": 0.6574717379,
            "params_file": "pv_to_e4.json",
            "synphys_mean": 0.7292007006
           },
           "source_model_id": "",
           "target_model_id": "500964358",
           "weight_max": -5
          },
          "(('4', 'Pvalb', ''), ('4', 'Scnn1a', '517647182'))": {
           "delay": 0.96,
           "name": "(('4', 'Pvalb', ''), ('4', 'Scnn1a', '517647182'))",
           "property_map": {
            "PSP_scale_factor": 0.052,
            "lognorm_scale": 0.5930918658,
            "lognorm_shape": 0.6574717379,
            "params_file": "pv_to_e4.json",
            "synphys_mean": 0.7292007006
           },
           "source_model_id": "",
           "target_model_id": "517647182",
           "weight_max": 0
          }
         },
         "name": "(('4', 'Pvalb'), ('4', 'Scnn1a'))",
         "post": [
          "4",
          "Scnn1a"
         ],
         "pre": [
          "4",
          "Pvalb"
         ],
         "probability": 0,
         "property_map": {
          "A_literature": [
           0.488046931160011
          ],
          "A_literature_src": [
           0.488046931160011
          ],
          "B_ratio": null,
          "R0": 75,
          "is_pmax": 1,
          "nsyn_range": [
           3,
           8
          ],
          "post_ei": "e",
          "pre_ei": "i",
          "sigma": 96.6
         }
        },
        "(('4', 'Pvalb'), ('4', 'Sst'))": {
         "connect_models": {
          "(('4', 'Pvalb', ''), ('4', 'Sst', '476099282'))": {
           "delay": 1.06,
           "name": "(('4', 'Pvalb', ''), ('4', 'Sst', '476099282'))",
           "property_map": {
            "PSP_scale_factor": 0.171,
            "lognorm_scale": 0.5805745709,
            "lognorm_shape": 0.5667170502,
            "params_file": "pv_to_sst.json",
            "synphys_mean": 0.6758774351
           },
           "source_model_id": "",
           "target_model_id": "476099282",
           "weight_max": -1.6447368421
          },
          "(('4', 'Pvalb', ''), ('4', 'Sst', '476753465'))": {
           "delay": 1.06,
           "name": "(('4', 'Pvalb', ''), ('4', 'Sst', '476753465'))",
           "property_map": {
            "PSP_scale_factor": 0.16,
            "lognorm_scale": 0.5805745709,
            "lognorm_shape": 0.5667170502,
            "params_file": "pv_to_sst.json",
            "synphys_mean": 0.6758774351
           },
           "source_model_id": "",
           "target_model_id": "476753465",
           "weight_max": -1.5923566879
          },
          "(('4', 'Pvalb', ''), ('4', 'Sst', '485061364'))": {
           "delay": 1.06,
           "name": "(('4', 'Pvalb', ''), ('4', 'Sst', '485061364'))",
           "property_map": {
            "PSP_scale_factor": 0.123,
            "lognorm_scale": 0.5805745709,
            "lognorm_shape": 0.5667170502,
            "params_file": "pv_to_sst.json",
            "synphys_mean": 0.6758774351
           },
           "source_model_id": "",
           "target_model_id": "485061364",
           "weight_max": -2.6595744681
          },
          "(('4', 'Pvalb', ''), ('4', 'Sst', '501280518'))": {
           "delay": 1.06,
           "name": "(('4', 'Pvalb', ''), ('4', 'Sst', '501280518'))",
           "property_map": {
            "PSP_scale_factor": 0.123,
            "lognorm_scale": 0.5805745709,
            "lognorm_shape": 0.5667170502,
            "params_file": "pv_to_sst.json",
            "synphys_mean": 0.6758774351
           },
           "source_model_id": "",
           "target_model_id": "501280518",
           "weight_max": -2.380952381
          },
          "(('4', 'Pvalb', ''), ('4', 'Sst', '501282204'))": {
           "delay": 1.06,
           "name": "(('4', 'Pvalb', ''), ('4', 'Sst', '501282204'))",
           "property_map": {
            "PSP_scale_factor": 0.063,
            "lognorm_scale": 0.5805745709,
            "lognorm_shape": 0.5667170502,
            "params_file": "pv_to_sst.json",
            "synphys_mean": 0.6758774351
           },
           "source_model_id": "",
           "target_model_id": "501282204",
           "weight_max": -4.3103448276
          },
          "(('4', 'Pvalb', ''), ('4', 'Sst', '573622646'))": {
           "delay": 1.06,
           "name": "(('4', 'Pvalb', ''), ('4', 'Sst', '573622646'))",
           "property_map": {
            "PSP_scale_factor": 0.101,
            "lognorm_scale": 0.5805745709,
            "lognorm_shape": 0.5667170502,
            "params_file": "pv_to_sst.json",
            "synphys_mean": 0.6758774351
           },
           "source_model_id": "",
           "target_model_id": "573622646",
           "weight_max": 0
          }
         },
         "name": "(('4', 'Pvalb'), ('4', 'Sst'))",
         "post": [
          "4",
          "Sst"
         ],
         "pre": [
          "4",
          "Pvalb"
         ],
         "probability": 0,
         "property_map": {
          "A_literature": [
           0.388413662252793
          ],
          "A_literature_src": [
           0.388413662252793
          ],
          "B_ratio": null,
          "R0": 75,
          "is_pmax": 1,
          "nsyn_range": [
           3,
           8
          ],
          "post_ei": "i",
          "pre_ei": "i",
          "sigma": 126.77
         }
        },
        "(('4', 'Pvalb'), ('4', 'Vip'))": {
         "connect_models": {
          "(('4', 'Pvalb', ''), ('4', 'Vip', '501570114'))": {
           "delay": 0.92,
           "name": "(('4', 'Pvalb', ''), ('4', 'Vip', '501570114'))",
           "property_map": {
            "PSP_scale_factor": 0.075,
            "lognorm_scale": 0.4623438127,
            "lognorm_shape": 0.4646536968,
            "params_file": "pv_to_vip.json",
            "synphys_mean": 0.5119038678
           },
           "source_model_id": "",
           "target_model_id": "501570114",
           "weight_max": -1.6363636364
          },
          "(('4', 'Pvalb', ''), ('4', 'Vip', '531121585'))": {
           "delay": 0.92,
           "name": "(('4', 'Pvalb', ''), ('4', 'Vip', '531121585'))",
           "property_map": {
            "PSP_scale_factor": 0.062,
            "lognorm_scale": 0.4623438127,
            "lognorm_shape": 0.4646536968,
            "params_file": "pv_to_vip.json",
            "synphys_mean": 0.5119038678
           },
           "source_model_id": "",
           "target_model_id": "531121585",
           "weight_max": -1.9708029197
          },
          "(('4', 'Pvalb', ''), ('4', 'Vip', '535728342'))": {
           "delay": 0.92,
           "name": "(('4', 'Pvalb', ''), ('4', 'Vip', '535728342'))",
           "property_map": {
            "PSP_scale_factor": 0.091,
            "lognorm_scale": 0.4623438127,
            "lognorm_shape": 0.4646536968,
            "params_file": "pv_to_vip.json",
            "synphys_mean": 0.5119038678
           },
           "source_model_id": "",
           "target_model_id": "535728342",
           "weight_max": -1.2980769231
          },
          "(('4', 'Pvalb', ''), ('4', 'Vip', '560690291'))": {
           "delay": 0.92,
           "name": "(('4', 'Pvalb', ''), ('4', 'Vip', '560690291'))",
           "property_map": {
            "PSP_scale_factor": 0.058,
            "lognorm_scale": 0.4623438127,
            "lognorm_shape": 0.4646536968,
            "params_file": "pv_to_vip.json",
            "synphys_mean": 0.5119038678
           },
           "source_model_id": "",
           "target_model_id": "560690291",
           "weight_max": -2.3275862069
          },
          "(('4', 'Pvalb', ''), ('4', 'Vip', '561934585'))": {
           "delay": 0.92,
           "name": "(('4', 'Pvalb', ''), ('4', 'Vip', '561934585'))",
           "property_map": {
            "PSP_scale_factor": 0.037,
            "lognorm_scale": 0.4623438127,
            "lognorm_shape": 0.4646536968,
            "params_file": "pv_to_vip.json",
            "synphys_mean": 0.5119038678
           },
           "source_model_id": "",
           "target_model_id": "561934585",
           "weight_max": -3.3333333333
          },
          "(('4', 'Pvalb', ''), ('4', 'Vip', '562540395'))": {
           "delay": 0.92,
           "name": "(('4', 'Pvalb', ''), ('4', 'Vip', '562540395'))",
           "property_map": {
            "PSP_scale_factor": 0.057,
            "lognorm_scale": 0.4623438127,
            "lognorm_shape": 0.4646536968,
            "params_file": "pv_to_vip.json",
            "synphys_mean": 0.5119038678
           },
           "source_model_id": "",
           "target_model_id": "562540395",
           "weight_max": 0
          }
         },
         "name": "(('4', 'Pvalb'), ('4', 'Vip'))",
         "post": [
          "4",
          "Vip"
         ],
         "pre": [
          "4",
          "Pvalb"
         ],
         "probability": 0,
         "property_map": {
          "A_literature": [
           0.194864242166707
          ],
          "A_literature_src": [
           0.194864242166707
          ],
          "B_ratio": null,
          "R0": 75,
          "is_pmax": 1,
          "nsyn_range": [
           3,
           8
          ],
          "post_ei": "i",
          "pre_ei": "i",
          "sigma": 126.77
         }
        },
        "(('4', 'Rorb'), ('4', 'Pvalb'))": {
         "connect_models": {
          "(('4', 'Rorb', ''), ('4', 'Pvalb', '478793814'))": {
           "delay": 1.13,
           "name": "(('4', 'Rorb', ''), ('4', 'Pvalb', '478793814'))",
           "property_map": {
            "PSP_scale_factor": 0.031,
            "lognorm_scale": 0.6799802917,
            "lognorm_shape": 0.5876306305,
            "params_file": "e4_to_pv.json",
            "synphys_mean": 0.7958240058
           },
           "source_model_id": "",
           "target_model_id": "478793814",
           "weight_max": 9
          },
          "(('4', 'Rorb', ''), ('4', 'Pvalb', '478958894'))": {
           "delay": 1.13,
           "name": "(('4', 'Rorb', ''), ('4', 'Pvalb', '478958894'))",
           "property_map": {
            "PSP_scale_factor": 0.03,
            "lognorm_scale": 0.6799802917,
            "lognorm_shape": 0.5876306305,
            "params_file": "e4_to_pv.json",
            "synphys_mean": 0.7958240058
           },
           "source_model_id": "",
           "target_model_id": "478958894",
           "weight_max": 9.375
          },
          "(('4', 'Rorb', ''), ('4', 'Pvalb', '481127173'))": {
           "delay": 1.13,
           "name": "(('4', 'Rorb', ''), ('4', 'Pvalb', '481127173'))",
           "property_map": {
            "PSP_scale_factor": 0.036,
            "lognorm_scale": 0.6799802917,
            "lognorm_shape": 0.5876306305,
            "params_file": "e4_to_pv.json",
            "synphys_mean": 0.7958240058
           },
           "source_model_id": "",
           "target_model_id": "481127173",
           "weight_max": 8.0357142857
          },
          "(('4', 'Rorb', ''), ('4', 'Pvalb', '481127348'))": {
           "delay": 1.13,
           "name": "(('4', 'Rorb', ''), ('4', 'Pvalb', '481127348'))",
           "property_map": {
            "PSP_scale_factor": 0.046,
            "lognorm_scale": 0.6799802917,
            "lognorm_shape": 0.5876306305,
            "params_file": "e4_to_pv.json",
            "synphys_mean": 0.7958240058
           },
           "source_model_id": "",
           "target_model_id": "481127348",
           "weight_max": 6.0810810811
          },
          "(('4', 'Rorb', ''), ('4', 'Pvalb', '487405644'))": {
           "delay": 1.13,
           "name": "(('4', 'Rorb', ''), ('4', 'Pvalb', '487405644'))",
           "property_map": {
            "PSP_scale_factor": 0.055,
            "lognorm_scale": 0.6799802917,
            "lognorm_shape": 0.5876306305,
            "params_file": "e4_to_pv.json",
            "synphys_mean": 0.7958240058
           },
           "source_model_id": "",
           "target_model_id": "487405644",
           "weight_max": 5.2325581395
          },
          "(('4', 'Rorb', ''), ('4', 'Pvalb', '487667205'))": {
           "delay": 1.13,
           "name": "(('4', 'Rorb', ''), ('4', 'Pvalb', '487667205'))",
           "property_map": {
            "PSP_scale_factor": 0.037,
            "lognorm_scale": 0.6799802917,
            "lognorm_shape": 0.5876306305,
            "params_file": "e4_to_pv.json",
            "synphys_mean": 0.7958240058
           },
           "source_model_id": "",
           "target_model_id": "487667205",
           "weight_max": 7.6271186441
          },
          "(('4', 'Rorb', ''), ('4', 'Pvalb', '491038812'))": {
           "delay": 1.13,
           "name": "(('4', 'Rorb', ''), ('4', 'Pvalb', '491038812'))",
           "property_map": {
            "PSP_scale_factor": 0.029,
            "lognorm_scale": 0.6799802917,
            "lognorm_shape": 0.5876306305,
            "params_file": "e4_to_pv.json",
            "synphys_mean": 0.7958240058
           },
           "source_model_id": "",
           "target_model_id": "491038812",
           "weight_max": 10.2272727273
          },
          "(('4', 'Rorb', ''), ('4', 'Pvalb', '569997187'))": {
           "delay": 1.13,
           "name": "(('4', 'Rorb', ''), ('4', 'Pvalb', '569997187'))",
           "property_map": {
            "PSP_scale_factor": 0.043,
            "lognorm_scale": 0.6799802917,
            "lognorm_shape": 0.5876306305,
            "params_file": "e4_to_pv.json",
            "synphys_mean": 0.7958240058
           },
           "source_model_id": "",
           "target_model_id": "569997187",
           "weight_max": 6.1643835616
          },
          "(('4', 'Rorb', ''), ('4', 'Pvalb', '571314481'))": {
           "delay": 1.13,
           "name": "(('4', 'Rorb', ''), ('4', 'Pvalb', '571314481'))",
           "property_map": {
            "PSP_scale_factor": 0.046,
            "lognorm_scale": 0.6799802917,
            "lognorm_shape": 0.5876306305,
            "params_file": "e4_to_pv.json",
            "synphys_mean": 0.7958240058
           },
           "source_model_id": "",
           "target_model_id": "571314481",
           "weight_max": 6.0810810811
          },
          "(('4', 'Rorb', ''), ('4', 'Pvalb', '572375809'))": {
           "delay": 1.13,
           "name": "(('4', 'Rorb', ''), ('4', 'Pvalb', '572375809'))",
           "property_map": {
            "PSP_scale_factor": 0.035,
            "lognorm_scale": 0.6799802917,
            "lognorm_shape": 0.5876306305,
            "params_file": "e4_to_pv.json",
            "synphys_mean": 0.7958240058
           },
           "source_model_id": "",
           "target_model_id": "572375809",
           "weight_max": 7.8947368421
          },
          "(('4', 'Rorb', ''), ('4', 'Pvalb', '579414994'))": {
           "delay": 1.13,
           "name": "(('4', 'Rorb', ''), ('4', 'Pvalb', '579414994'))",
           "property_map": {
            "PSP_scale_factor": 0.029,
            "lognorm_scale": 0.6799802917,
            "lognorm_shape": 0.5876306305,
            "params_file": "e4_to_pv.json",
            "synphys_mean": 0.7958240058
           },
           "source_model_id": "",
           "target_model_id": "579414994",
           "weight_max": 0
          }
         },
         "name": "(('4', 'Rorb'), ('4', 'Pvalb'))",
         "post": [
          "4",
          "Pvalb"
         ],
         "pre": [
          "4",
          "Rorb"
         ],
         "probability": 0,
         "property_map": {
          "A_literature": [
           0.315678465282962
          ],
          "A_literature_src": [
           0.315678465282962
          ],
          "B_ratio": null,
          "R0": 75,
          "is_pmax": 1,
          "nsyn_range": [
           3,
           8
          ],
          "post_ei": "i",
          "pre_ei": "e",
          "sigma": 99.84
         }
        },
        "(('4', 'Rorb'), ('4', 'Rorb'))": {
         "connect_models": {
          "(('4', 'Rorb', ''), ('4', 'Rorb', '322723785'))": {
           "delay": 1.48,
           "name": "(('4', 'Rorb', ''), ('4', 'Rorb', '322723785'))",
           "property_map": {
            "PSP_scale_factor": 0.063,
            "lognorm_scale": 0.3730737936,
            "lognorm_shape": 0.6032438129,
            "params_file": "e4_to_e4.json",
            "synphys_mean": 0.4558436608
           },
           "source_model_id": "",
           "target_model_id": "322723785",
           "weight_max": 2.4
          },
          "(('4', 'Rorb', ''), ('4', 'Rorb', '322761772'))": {
           "delay": 1.48,
           "name": "(('4', 'Rorb', ''), ('4', 'Rorb', '322761772'))",
           "property_map": {
            "PSP_scale_factor": 0.06,
            "lognorm_scale": 0.3730737936,
            "lognorm_shape": 0.6032438129,
            "params_file": "e4_to_e4.json",
            "synphys_mean": 0.4558436608
           },
           "source_model_id": "",
           "target_model_id": "322761772",
           "weight_max": 2.25
          },
          "(('4', 'Rorb', ''), ('4', 'Rorb', '324065524'))": {
           "delay": 1.48,
           "name": "(('4', 'Rorb', ''), ('4', 'Rorb', '324065524'))",
           "property_map": {
            "PSP_scale_factor": 0.084,
            "lognorm_scale": 0.3730737936,
            "lognorm_shape": 0.6032438129,
            "params_file": "e4_to_e4.json",
            "synphys_mean": 0.4558436608
           },
           "source_model_id": "",
           "target_model_id": "324065524",
           "weight_max": 1.7821782178
          },
          "(('4', 'Rorb', ''), ('4', 'Rorb', '329550277'))": {
           "delay": 1.48,
           "name": "(('4', 'Rorb', ''), ('4', 'Rorb', '329550277'))",
           "property_map": {
            "PSP_scale_factor": 0.064,
            "lognorm_scale": 0.3730737936,
            "lognorm_shape": 0.6032438129,
            "params_file": "e4_to_e4.json",
            "synphys_mean": 0.4558436608
           },
           "source_model_id": "",
           "target_model_id": "329550277",
           "weight_max": 2.3684210526
          },
          "(('4', 'Rorb', ''), ('4', 'Rorb', '466378900'))": {
           "delay": 1.48,
           "name": "(('4', 'Rorb', ''), ('4', 'Rorb', '466378900'))",
           "property_map": {
            "PSP_scale_factor": 0.096,
            "lognorm_scale": 0.3730737936,
            "lognorm_shape": 0.6032438129,
            "params_file": "e4_to_e4.json",
            "synphys_mean": 0.4558436608
           },
           "source_model_id": "",
           "target_model_id": "466378900",
           "weight_max": 1.5254237288
          },
          "(('4', 'Rorb', ''), ('4', 'Rorb', '467003163'))": {
           "delay": 1.48,
           "name": "(('4', 'Rorb', ''), ('4', 'Rorb', '467003163'))",
           "property_map": {
            "PSP_scale_factor": 0.063,
            "lognorm_scale": 0.3730737936,
            "lognorm_shape": 0.6032438129,
            "params_file": "e4_to_e4.json",
            "synphys_mean": 0.4558436608
           },
           "source_model_id": "",
           "target_model_id": "467003163",
           "weight_max": 2.6865671642
          },
          "(('4', 'Rorb', ''), ('4', 'Rorb', '467357834'))": {
           "delay": 1.48,
           "name": "(('4', 'Rorb', ''), ('4', 'Rorb', '467357834'))",
           "property_map": {
            "PSP_scale_factor": 0.056,
            "lognorm_scale": 0.3730737936,
            "lognorm_shape": 0.6032438129,
            "params_file": "e4_to_e4.json",
            "synphys_mean": 0.4558436608
           },
           "source_model_id": "",
           "target_model_id": "467357834",
           "weight_max": 2.6470588235
          },
          "(('4', 'Rorb', ''), ('4', 'Rorb', '469763389'))": {
           "delay": 1.48,
           "name": "(('4', 'Rorb', ''), ('4', 'Rorb', '469763389'))",
           "property_map": {
            "PSP_scale_factor": 0.069,
            "lognorm_scale": 0.3730737936,
            "lognorm_shape": 0.6032438129,
            "params_file": "e4_to_e4.json",
            "synphys_mean": 0.4558436608
           },
           "source_model_id": "",
           "target_model_id": "469763389",
           "weight_max": 2.1428571429
          },
          "(('4', 'Rorb', ''), ('4', 'Rorb', '473020156'))": {
           "delay": 1.48,
           "name": "(('4', 'Rorb', ''), ('4', 'Rorb', '473020156'))",
           "property_map": {
            "PSP_scale_factor": 0.08,
            "lognorm_scale": 0.3730737936,
            "lognorm_shape": 0.6032438129,
            "params_file": "e4_to_e4.json",
            "synphys_mean": 0.4558436608
           },
           "source_model_id": "",
           "target_model_id": "473020156",
           "weight_max": 1.7307692308
          },
          "(('4', 'Rorb', ''), ('4', 'Rorb', '476562817'))": {
           "delay": 1.48,
           "name": "(('4', 'Rorb', ''), ('4', 'Rorb', '476562817'))",
           "property_map": {
            "PSP_scale_factor": 0.064,
            "lognorm_scale": 0.3730737936,
            "lognorm_shape": 0.6032438129,
            "params_file": "e4_to_e4.json",
            "synphys_mean": 0.4558436608
           },
           "source_model_id": "",
           "target_model_id": "476562817",
           "weight_max": 2.3684210526
          },
          "(('4', 'Rorb', ''), ('4', 'Rorb', '478586425'))": {
           "delay": 1.48,
           "name": "(('4', 'Rorb', ''), ('4', 'Rorb', '478586425'))",
           "property_map": {
            "PSP_scale_factor": 0.069,
            "lognorm_scale": 0.3730737936,
            "lognorm_shape": 0.6032438129,
            "params_file": "e4_to_e4.json",
            "synphys_mean": 0.4558436608
           },
           "source_model_id": "",
           "target_model_id": "478586425",
           "weight_max": 2.2222222222
          },
          "(('4', 'Rorb', ''), ('4', 'Rorb', '479179020'))": {
           "delay": 1.48,
           "name": "(('4', 'Rorb', ''), ('4', 'Rorb', '479179020'))",
           "property_map": {
            "PSP_scale_factor": 0.059,
            "lognorm_scale": 0.3730737936,
            "lognorm_shape": 0.6032438129,
            "params_file": "e4_to_e4.json",
            "synphys_mean": 0.4558436608
           },
           "source_model_id": "",
           "target_model_id": "479179020",
           "weight_max": 2.4657534247
          },
          "(('4', 'Rorb', ''), ('4', 'Rorb', '484679812'))": {
           "delay": 1.48,
           "name": "(('4', 'Rorb', ''), ('4', 'Rorb', '484679812'))",
           "property_map": {
            "PSP_scale_factor": 0.08,
            "lognorm_scale": 0.3730737936,
            "lognorm_shape": 0.6032438129,
            "params_file": "e4_to_e4.json",
            "synphys_mean": 0.4558436608
           },
           "source_model_id": "",
           "target_model_id": "484679812",
           "weight_max": 1.7821782178
          },
          "(('4', 'Rorb', ''), ('4', 'Rorb', '484770879'))": {
           "delay": 1.48,
           "name": "(('4', 'Rorb', ''), ('4', 'Rorb', '484770879'))",
           "property_map": {
            "PSP_scale_factor": 0.061,
            "lognorm_scale": 0.3730737936,
            "lognorm_shape": 0.6032438129,
            "params_file": "e4_to_e4.json",
            "synphys_mean": 0.4558436608
           },
           "source_model_id": "",
           "target_model_id": "484770879",
           "weight_max": 2.5352112676
          },
          "(('4', 'Rorb', ''), ('4', 'Rorb', '485836906'))": {
           "delay": 1.48,
           "name": "(('4', 'Rorb', ''), ('4', 'Rorb', '485836906'))",
           "property_map": {
            "PSP_scale_factor": 0.051,
            "lognorm_scale": 0.3730737936,
            "lognorm_shape": 0.6032438129,
            "params_file": "e4_to_e4.json",
            "synphys_mean": 0.4558436608
           },
           "source_model_id": "",
           "target_model_id": "485836906",
           "weight_max": 3
          },
          "(('4', 'Rorb', ''), ('4', 'Rorb', '486472847'))": {
           "delay": 1.48,
           "name": "(('4', 'Rorb', ''), ('4', 'Rorb', '486472847'))",
           "property_map": {
            "PSP_scale_factor": 0.082,
            "lognorm_scale": 0.3730737936,
            "lognorm_shape": 0.6032438129,
            "params_file": "e4_to_e4.json",
            "synphys_mean": 0.4558436608
           },
           "source_model_id": "",
           "target_model_id": "486472847",
           "weight_max": 1.8181818182
          },
          "(('4', 'Rorb', ''), ('4', 'Rorb', '486500736'))": {
           "delay": 1.48,
           "name": "(('4', 'Rorb', ''), ('4', 'Rorb', '486500736'))",
           "property_map": {
            "PSP_scale_factor": 0.043,
            "lognorm_scale": 0.3730737936,
            "lognorm_shape": 0.6032438129,
            "params_file": "e4_to_e4.json",
            "synphys_mean": 0.4558436608
           },
           "source_model_id": "",
           "target_model_id": "486500736",
           "weight_max": 3.4615384615
          },
          "(('4', 'Rorb', ''), ('4', 'Rorb', '490626718'))": {
           "delay": 1.48,
           "name": "(('4', 'Rorb', ''), ('4', 'Rorb', '490626718'))",
           "property_map": {
            "PSP_scale_factor": 0.074,
            "lognorm_scale": 0.3730737936,
            "lognorm_shape": 0.6032438129,
            "params_file": "e4_to_e4.json",
            "synphys_mean": 0.4558436608
           },
           "source_model_id": "",
           "target_model_id": "490626718",
           "weight_max": 2.4
          },
          "(('4', 'Rorb', ''), ('4', 'Rorb', '490626827'))": {
           "delay": 1.48,
           "name": "(('4', 'Rorb', ''), ('4', 'Rorb', '490626827'))",
           "property_map": {
            "PSP_scale_factor": 0.07,
            "lognorm_scale": 0.3730737936,
            "lognorm_shape": 0.6032438129,
            "params_file": "e4_to_e4.json",
            "synphys_mean": 0.4558436608
           },
           "source_model_id": "",
           "target_model_id": "490626827",
           "weight_max": 2.4
          },
          "(('4', 'Rorb', ''), ('4', 'Rorb', '500859045'))": {
           "delay": 1.48,
           "name": "(('4', 'Rorb', ''), ('4', 'Rorb', '500859045'))",
           "property_map": {
            "PSP_scale_factor": 0.063,
            "lognorm_scale": 0.3730737936,
            "lognorm_shape": 0.6032438129,
            "params_file": "e4_to_e4.json",
            "synphys_mean": 0.4558436608
           },
           "source_model_id": "",
           "target_model_id": "500859045",
           "weight_max": 2.3684210526
          },
          "(('4', 'Rorb', ''), ('4', 'Rorb', '500894271'))": {
           "delay": 1.48,
           "name": "(('4', 'Rorb', ''), ('4', 'Rorb', '500894271'))",
           "property_map": {
            "PSP_scale_factor": 0.063,
            "lognorm_scale": 0.3730737936,
            "lognorm_shape": 0.6032438129,
            "params_file": "e4_to_e4.json",
            "synphys_mean": 0.4558436608
           },
           "source_model_id": "",
           "target_model_id": "500894271",
           "weight_max": 0
          }
         },
         "name": "(('4', 'Rorb'), ('4', 'Rorb'))",
         "post": [
          "4",
          "Rorb"
         ],
         "pre": [
          "4",
          "Rorb"
         ],
         "probability": 0,
         "property_map": {
          "A_literature": [
           0.0305413259819695
          ],
          "A_literature_src": [
           0.0305413259819695
          ],
          "B_ratio": 0.5,
          "R0": 75,
          "is_pmax": 1,
          "nsyn_range": [
           3,
           8
          ],
          "post_ei": "e",
          "pre_ei": "e",
          "sigma": 127
         }
        },
        "(('4', 'Rorb'), ('4', 'Scnn1a'))": {
         "connect_models": {
          "(('4', 'Rorb', ''), ('4', 'Scnn1a', '320207387'))": {
           "delay": 1.48,
           "name": "(('4', 'Rorb', ''), ('4', 'Scnn1a', '320207387'))",
           "property_map": {
            "PSP_scale_factor": 0.056,
            "lognorm_scale": 0.3730737936,
            "lognorm_shape": 0.6032438129,
            "params_file": "e4_to_e4.json",
            "synphys_mean": 0.4558436608
           },
           "source_model_id": "",
           "target_model_id": "320207387",
           "weight_max": 2.9032258065
          },
          "(('4', 'Rorb', ''), ('4', 'Scnn1a', '323838579'))": {
           "delay": 1.48,
           "name": "(('4', 'Rorb', ''), ('4', 'Scnn1a', '323838579'))",
           "property_map": {
            "PSP_scale_factor": 0.063,
            "lognorm_scale": 0.3730737936,
            "lognorm_shape": 0.6032438129,
            "params_file": "e4_to_e4.json",
            "synphys_mean": 0.4558436608
           },
           "source_model_id": "",
           "target_model_id": "323838579",
           "weight_max": 2.4657534247
          },
          "(('4', 'Rorb', ''), ('4', 'Scnn1a', '476266853'))": {
           "delay": 1.48,
           "name": "(('4', 'Rorb', ''), ('4', 'Scnn1a', '476266853'))",
           "property_map": {
            "PSP_scale_factor": 0.062,
            "lognorm_scale": 0.3730737936,
            "lognorm_shape": 0.6032438129,
            "params_file": "e4_to_e4.json",
            "synphys_mean": 0.4558436608
           },
           "source_model_id": "",
           "target_model_id": "476266853",
           "weight_max": 2.5352112676
          },
          "(('4', 'Rorb', ''), ('4', 'Scnn1a', '500964358'))": {
           "delay": 1.48,
           "name": "(('4', 'Rorb', ''), ('4', 'Scnn1a', '500964358'))",
           "property_map": {
            "PSP_scale_factor": 0.057,
            "lognorm_scale": 0.3730737936,
            "lognorm_shape": 0.6032438129,
            "params_file": "e4_to_e4.json",
            "synphys_mean": 0.4558436608
           },
           "source_model_id": "",
           "target_model_id": "500964358",
           "weight_max": 2.4324324324
          },
          "(('4', 'Rorb', ''), ('4', 'Scnn1a', '517647182'))": {
           "delay": 1.48,
           "name": "(('4', 'Rorb', ''), ('4', 'Scnn1a', '517647182'))",
           "property_map": {
            "PSP_scale_factor": 0.059,
            "lognorm_scale": 0.3730737936,
            "lognorm_shape": 0.6032438129,
            "params_file": "e4_to_e4.json",
            "synphys_mean": 0.4558436608
           },
           "source_model_id": "",
           "target_model_id": "517647182",
           "weight_max": 0
          }
         },
         "name": "(('4', 'Rorb'), ('4', 'Scnn1a'))",
         "post": [
          "4",
          "Scnn1a"
         ],
         "pre": [
          "4",
          "Rorb"
         ],
         "probability": 0,
         "property_map": {
          "A_literature": [
           0.0305413259819695
          ],
          "A_literature_src": [
           0.0305413259819695
          ],
          "B_ratio": 0.5,
          "R0": 75,
          "is_pmax": 1,
          "nsyn_range": [
           3,
           8
          ],
          "post_ei": "e",
          "pre_ei": "e",
          "sigma": 127
         }
        },
        "(('4', 'Rorb'), ('4', 'Sst'))": {
         "connect_models": {
          "(('4', 'Rorb', ''), ('4', 'Sst', '476099282'))": {
           "delay": 1.1,
           "name": "(('4', 'Rorb', ''), ('4', 'Sst', '476099282'))",
           "property_map": {
            "PSP_scale_factor": 0.083,
            "lognorm_scale": 0.3577175718,
            "lognorm_shape": 0.7822724783,
            "params_file": "e4_to_sst.json",
            "synphys_mean": 0.4618269056
           },
           "source_model_id": "",
           "target_model_id": "476099282",
           "weight_max": 0.5154639175
          },
          "(('4', 'Rorb', ''), ('4', 'Sst', '476753465'))": {
           "delay": 1.1,
           "name": "(('4', 'Rorb', ''), ('4', 'Sst', '476753465'))",
           "property_map": {
            "PSP_scale_factor": 0.077,
            "lognorm_scale": 0.3577175718,
            "lognorm_shape": 0.7822724783,
            "params_file": "e4_to_sst.json",
            "synphys_mean": 0.4618269056
           },
           "source_model_id": "",
           "target_model_id": "476753465",
           "weight_max": 0.5376344086
          },
          "(('4', 'Rorb', ''), ('4', 'Sst', '485061364'))": {
           "delay": 1.1,
           "name": "(('4', 'Rorb', ''), ('4', 'Sst', '485061364'))",
           "property_map": {
            "PSP_scale_factor": 0.061,
            "lognorm_scale": 0.3577175718,
            "lognorm_shape": 0.7822724783,
            "params_file": "e4_to_sst.json",
            "synphys_mean": 0.4618269056
           },
           "source_model_id": "",
           "target_model_id": "485061364",
           "weight_max": 0.7462686567
          },
          "(('4', 'Rorb', ''), ('4', 'Sst', '501280518'))": {
           "delay": 1.1,
           "name": "(('4', 'Rorb', ''), ('4', 'Sst', '501280518'))",
           "property_map": {
            "PSP_scale_factor": 0.06,
            "lognorm_scale": 0.3577175718,
            "lognorm_shape": 0.7822724783,
            "params_file": "e4_to_sst.json",
            "synphys_mean": 0.4618269056
           },
           "source_model_id": "",
           "target_model_id": "501280518",
           "weight_max": 0.7246376812
          },
          "(('4', 'Rorb', ''), ('4', 'Sst', '501282204'))": {
           "delay": 1.1,
           "name": "(('4', 'Rorb', ''), ('4', 'Sst', '501282204'))",
           "property_map": {
            "PSP_scale_factor": 0.031,
            "lognorm_scale": 0.3577175718,
            "lognorm_shape": 0.7822724783,
            "params_file": "e4_to_sst.json",
            "synphys_mean": 0.4618269056
           },
           "source_model_id": "",
           "target_model_id": "501282204",
           "weight_max": 1.3888888889
          },
          "(('4', 'Rorb', ''), ('4', 'Sst', '573622646'))": {
           "delay": 1.1,
           "name": "(('4', 'Rorb', ''), ('4', 'Sst', '573622646'))",
           "property_map": {
            "PSP_scale_factor": 0.049,
            "lognorm_scale": 0.3577175718,
            "lognorm_shape": 0.7822724783,
            "params_file": "e4_to_sst.json",
            "synphys_mean": 0.4618269056
           },
           "source_model_id": "",
           "target_model_id": "573622646",
           "weight_max": 0
          }
         },
         "name": "(('4', 'Rorb'), ('4', 'Sst'))",
         "post": [
          "4",
          "Sst"
         ],
         "pre": [
          "4",
          "Rorb"
         ],
         "probability": 0,
         "property_map": {
          "A_literature": [
           0.324284555241534
          ],
          "A_literature_src": [
           0.324284555241534
          ],
          "B_ratio": null,
          "R0": 75,
          "is_pmax": 1,
          "nsyn_range": [
           3,
           8
          ],
          "post_ei": "i",
          "pre_ei": "e",
          "sigma": 99.84
         }
        },
        "(('4', 'Rorb'), ('4', 'Vip'))": {
         "connect_models": {
          "(('4', 'Rorb', ''), ('4', 'Vip', '501570114'))": {
           "delay": 1.46,
           "name": "(('4', 'Rorb', ''), ('4', 'Vip', '501570114'))",
           "property_map": {
            "PSP_scale_factor": 0.089,
            "lognorm_scale": 1.3675847718,
            "lognorm_shape": 0.6435686435,
            "params_file": "e4_to_vip.json",
            "synphys_mean": 1.6206456373
           },
           "source_model_id": "",
           "target_model_id": "501570114",
           "weight_max": 6.6666666667
          },
          "(('4', 'Rorb', ''), ('4', 'Vip', '531121585'))": {
           "delay": 1.46,
           "name": "(('4', 'Rorb', ''), ('4', 'Vip', '531121585'))",
           "property_map": {
            "PSP_scale_factor": 0.073,
            "lognorm_scale": 1.3675847718,
            "lognorm_shape": 0.6435686435,
            "params_file": "e4_to_vip.json",
            "synphys_mean": 1.6206456373
           },
           "source_model_id": "",
           "target_model_id": "531121585",
           "weight_max": 8.1481481481
          },
          "(('4', 'Rorb', ''), ('4', 'Vip', '535728342'))": {
           "delay": 1.46,
           "name": "(('4', 'Rorb', ''), ('4', 'Vip', '535728342'))",
           "property_map": {
            "PSP_scale_factor": 0.106,
            "lognorm_scale": 1.3675847718,
            "lognorm_shape": 0.6435686435,
            "params_file": "e4_to_vip.json",
            "synphys_mean": 1.6206456373
           },
           "source_model_id": "",
           "target_model_id": "535728342",
           "weight_max": 5.5462184874
          },
          "(('4', 'Rorb', ''), ('4', 'Vip', '560690291'))": {
           "delay": 1.46,
           "name": "(('4', 'Rorb', ''), ('4', 'Vip', '560690291'))",
           "property_map": {
            "PSP_scale_factor": 0.071,
            "lognorm_scale": 1.3675847718,
            "lognorm_shape": 0.6435686435,
            "params_file": "e4_to_vip.json",
            "synphys_mean": 1.6206456373
           },
           "source_model_id": "",
           "target_model_id": "560690291",
           "weight_max": 8.6842105263
          },
          "(('4', 'Rorb', ''), ('4', 'Vip', '561934585'))": {
           "delay": 1.46,
           "name": "(('4', 'Rorb', ''), ('4', 'Vip', '561934585'))",
           "property_map": {
            "PSP_scale_factor": 0.045,
            "lognorm_scale": 1.3675847718,
            "lognorm_shape": 0.6435686435,
            "params_file": "e4_to_vip.json",
            "synphys_mean": 1.6206456373
           },
           "source_model_id": "",
           "target_model_id": "561934585",
           "weight_max": 13.4693877551
          },
          "(('4', 'Rorb', ''), ('4', 'Vip', '562540395'))": {
           "delay": 1.46,
           "name": "(('4', 'Rorb', ''), ('4', 'Vip', '562540395'))",
           "property_map": {
            "PSP_scale_factor": 0.069,
            "lognorm_scale": 1.3675847718,
            "lognorm_shape": 0.6435686435,
            "params_file": "e4_to_vip.json",
            "synphys_mean": 1.6206456373
           },
           "source_model_id": "",
           "target_model_id": "562540395",
           "weight_max": 0
          }
         },
         "name": "(('4', 'Rorb'), ('4', 'Vip'))",
         "post": [
          "4",
          "Vip"
         ],
         "pre": [
          "4",
          "Rorb"
         ],
         "probability": 0,
         "property_map": {
          "A_literature": [
           0.0845196761302092
          ],
          "A_literature_src": [
           0.0845196761302092
          ],
          "B_ratio": null,
          "R0": 75,
          "is_pmax": 1,
          "nsyn_range": [
           3,
           8
          ],
          "post_ei": "i",
          "pre_ei": "e",
          "sigma": 99.84
         }
        },
        "(('4', 'Scnn1a'), ('4', 'Pvalb'))": {
         "connect_models": {
          "(('4', 'Scnn1a', ''), ('4', 'Pvalb', '478793814'))": {
           "delay": 1.13,
           "name": "(('4', 'Scnn1a', ''), ('4', 'Pvalb', '478793814'))",
           "property_map": {
            "PSP_scale_factor": 0.031,
            "lognorm_scale": 0.6799802917,
            "lognorm_shape": 0.5876306305,
            "params_file": "e4_to_pv.json",
            "synphys_mean": 0.7958240058
           },
           "source_model_id": "",
           "target_model_id": "478793814",
           "weight_max": 9
          },
          "(('4', 'Scnn1a', ''), ('4', 'Pvalb', '478958894'))": {
           "delay": 1.13,
           "name": "(('4', 'Scnn1a', ''), ('4', 'Pvalb', '478958894'))",
           "property_map": {
            "PSP_scale_factor": 0.03,
            "lognorm_scale": 0.6799802917,
            "lognorm_shape": 0.5876306305,
            "params_file": "e4_to_pv.json",
            "synphys_mean": 0.7958240058
           },
           "source_model_id": "",
           "target_model_id": "478958894",
           "weight_max": 9.375
          },
          "(('4', 'Scnn1a', ''), ('4', 'Pvalb', '481127173'))": {
           "delay": 1.13,
           "name": "(('4', 'Scnn1a', ''), ('4', 'Pvalb', '481127173'))",
           "property_map": {
            "PSP_scale_factor": 0.036,
            "lognorm_scale": 0.6799802917,
            "lognorm_shape": 0.5876306305,
            "params_file": "e4_to_pv.json",
            "synphys_mean": 0.7958240058
           },
           "source_model_id": "",
           "target_model_id": "481127173",
           "weight_max": 8.0357142857
          },
          "(('4', 'Scnn1a', ''), ('4', 'Pvalb', '481127348'))": {
           "delay": 1.13,
           "name": "(('4', 'Scnn1a', ''), ('4', 'Pvalb', '481127348'))",
           "property_map": {
            "PSP_scale_factor": 0.046,
            "lognorm_scale": 0.6799802917,
            "lognorm_shape": 0.5876306305,
            "params_file": "e4_to_pv.json",
            "synphys_mean": 0.7958240058
           },
           "source_model_id": "",
           "target_model_id": "481127348",
           "weight_max": 6.0810810811
          },
          "(('4', 'Scnn1a', ''), ('4', 'Pvalb', '487405644'))": {
           "delay": 1.13,
           "name": "(('4', 'Scnn1a', ''), ('4', 'Pvalb', '487405644'))",
           "property_map": {
            "PSP_scale_factor": 0.055,
            "lognorm_scale": 0.6799802917,
            "lognorm_shape": 0.5876306305,
            "params_file": "e4_to_pv.json",
            "synphys_mean": 0.7958240058
           },
           "source_model_id": "",
           "target_model_id": "487405644",
           "weight_max": 5.2325581395
          },
          "(('4', 'Scnn1a', ''), ('4', 'Pvalb', '487667205'))": {
           "delay": 1.13,
           "name": "(('4', 'Scnn1a', ''), ('4', 'Pvalb', '487667205'))",
           "property_map": {
            "PSP_scale_factor": 0.037,
            "lognorm_scale": 0.6799802917,
            "lognorm_shape": 0.5876306305,
            "params_file": "e4_to_pv.json",
            "synphys_mean": 0.7958240058
           },
           "source_model_id": "",
           "target_model_id": "487667205",
           "weight_max": 7.6271186441
          },
          "(('4', 'Scnn1a', ''), ('4', 'Pvalb', '491038812'))": {
           "delay": 1.13,
           "name": "(('4', 'Scnn1a', ''), ('4', 'Pvalb', '491038812'))",
           "property_map": {
            "PSP_scale_factor": 0.029,
            "lognorm_scale": 0.6799802917,
            "lognorm_shape": 0.5876306305,
            "params_file": "e4_to_pv.json",
            "synphys_mean": 0.7958240058
           },
           "source_model_id": "",
           "target_model_id": "491038812",
           "weight_max": 10.2272727273
          },
          "(('4', 'Scnn1a', ''), ('4', 'Pvalb', '569997187'))": {
           "delay": 1.13,
           "name": "(('4', 'Scnn1a', ''), ('4', 'Pvalb', '569997187'))",
           "property_map": {
            "PSP_scale_factor": 0.043,
            "lognorm_scale": 0.6799802917,
            "lognorm_shape": 0.5876306305,
            "params_file": "e4_to_pv.json",
            "synphys_mean": 0.7958240058
           },
           "source_model_id": "",
           "target_model_id": "569997187",
           "weight_max": 6.1643835616
          },
          "(('4', 'Scnn1a', ''), ('4', 'Pvalb', '571314481'))": {
           "delay": 1.13,
           "name": "(('4', 'Scnn1a', ''), ('4', 'Pvalb', '571314481'))",
           "property_map": {
            "PSP_scale_factor": 0.046,
            "lognorm_scale": 0.6799802917,
            "lognorm_shape": 0.5876306305,
            "params_file": "e4_to_pv.json",
            "synphys_mean": 0.7958240058
           },
           "source_model_id": "",
           "target_model_id": "571314481",
           "weight_max": 6.0810810811
          },
          "(('4', 'Scnn1a', ''), ('4', 'Pvalb', '572375809'))": {
           "delay": 1.13,
           "name": "(('4', 'Scnn1a', ''), ('4', 'Pvalb', '572375809'))",
           "property_map": {
            "PSP_scale_factor": 0.035,
            "lognorm_scale": 0.6799802917,
            "lognorm_shape": 0.5876306305,
            "params_file": "e4_to_pv.json",
            "synphys_mean": 0.7958240058
           },
           "source_model_id": "",
           "target_model_id": "572375809",
           "weight_max": 7.8947368421
          },
          "(('4', 'Scnn1a', ''), ('4', 'Pvalb', '579414994'))": {
           "delay": 1.13,
           "name": "(('4', 'Scnn1a', ''), ('4', 'Pvalb', '579414994'))",
           "property_map": {
            "PSP_scale_factor": 0.029,
            "lognorm_scale": 0.6799802917,
            "lognorm_shape": 0.5876306305,
            "params_file": "e4_to_pv.json",
            "synphys_mean": 0.7958240058
           },
           "source_model_id": "",
           "target_model_id": "579414994",
           "weight_max": 0
          }
         },
         "name": "(('4', 'Scnn1a'), ('4', 'Pvalb'))",
         "post": [
          "4",
          "Pvalb"
         ],
         "pre": [
          "4",
          "Scnn1a"
         ],
         "probability": 0,
         "property_map": {
          "A_literature": [
           0.315678465282962
          ],
          "A_literature_src": [
           0.315678465282962
          ],
          "B_ratio": null,
          "R0": 75,
          "is_pmax": 1,
          "nsyn_range": [
           3,
           8
          ],
          "post_ei": "i",
          "pre_ei": "e",
          "sigma": 99.84
         }
        },
        "(('4', 'Scnn1a'), ('4', 'Rorb'))": {
         "connect_models": {
          "(('4', 'Scnn1a', ''), ('4', 'Rorb', '322723785'))": {
           "delay": 1.48,
           "name": "(('4', 'Scnn1a', ''), ('4', 'Rorb', '322723785'))",
           "property_map": {
            "PSP_scale_factor": 0.063,
            "lognorm_scale": 0.3730737936,
            "lognorm_shape": 0.6032438129,
            "params_file": "e4_to_e4.json",
            "synphys_mean": 0.4558436608
           },
           "source_model_id": "",
           "target_model_id": "322723785",
           "weight_max": 2.4
          },
          "(('4', 'Scnn1a', ''), ('4', 'Rorb', '322761772'))": {
           "delay": 1.48,
           "name": "(('4', 'Scnn1a', ''), ('4', 'Rorb', '322761772'))",
           "property_map": {
            "PSP_scale_factor": 0.06,
            "lognorm_scale": 0.3730737936,
            "lognorm_shape": 0.6032438129,
            "params_file": "e4_to_e4.json",
            "synphys_mean": 0.4558436608
           },
           "source_model_id": "",
           "target_model_id": "322761772",
           "weight_max": 2.25
          },
          "(('4', 'Scnn1a', ''), ('4', 'Rorb', '324065524'))": {
           "delay": 1.48,
           "name": "(('4', 'Scnn1a', ''), ('4', 'Rorb', '324065524'))",
           "property_map": {
            "PSP_scale_factor": 0.084,
            "lognorm_scale": 0.3730737936,
            "lognorm_shape": 0.6032438129,
            "params_file": "e4_to_e4.json",
            "synphys_mean": 0.4558436608
           },
           "source_model_id": "",
           "target_model_id": "324065524",
           "weight_max": 1.7821782178
          },
          "(('4', 'Scnn1a', ''), ('4', 'Rorb', '329550277'))": {
           "delay": 1.48,
           "name": "(('4', 'Scnn1a', ''), ('4', 'Rorb', '329550277'))",
           "property_map": {
            "PSP_scale_factor": 0.064,
            "lognorm_scale": 0.3730737936,
            "lognorm_shape": 0.6032438129,
            "params_file": "e4_to_e4.json",
            "synphys_mean": 0.4558436608
           },
           "source_model_id": "",
           "target_model_id": "329550277",
           "weight_max": 2.3684210526
          },
          "(('4', 'Scnn1a', ''), ('4', 'Rorb', '466378900'))": {
           "delay": 1.48,
           "name": "(('4', 'Scnn1a', ''), ('4', 'Rorb', '466378900'))",
           "property_map": {
            "PSP_scale_factor": 0.096,
            "lognorm_scale": 0.3730737936,
            "lognorm_shape": 0.6032438129,
            "params_file": "e4_to_e4.json",
            "synphys_mean": 0.4558436608
           },
           "source_model_id": "",
           "target_model_id": "466378900",
           "weight_max": 1.5254237288
          },
          "(('4', 'Scnn1a', ''), ('4', 'Rorb', '467003163'))": {
           "delay": 1.48,
           "name": "(('4', 'Scnn1a', ''), ('4', 'Rorb', '467003163'))",
           "property_map": {
            "PSP_scale_factor": 0.063,
            "lognorm_scale": 0.3730737936,
            "lognorm_shape": 0.6032438129,
            "params_file": "e4_to_e4.json",
            "synphys_mean": 0.4558436608
           },
           "source_model_id": "",
           "target_model_id": "467003163",
           "weight_max": 2.6865671642
          },
          "(('4', 'Scnn1a', ''), ('4', 'Rorb', '467357834'))": {
           "delay": 1.48,
           "name": "(('4', 'Scnn1a', ''), ('4', 'Rorb', '467357834'))",
           "property_map": {
            "PSP_scale_factor": 0.056,
            "lognorm_scale": 0.3730737936,
            "lognorm_shape": 0.6032438129,
            "params_file": "e4_to_e4.json",
            "synphys_mean": 0.4558436608
           },
           "source_model_id": "",
           "target_model_id": "467357834",
           "weight_max": 2.6470588235
          },
          "(('4', 'Scnn1a', ''), ('4', 'Rorb', '469763389'))": {
           "delay": 1.48,
           "name": "(('4', 'Scnn1a', ''), ('4', 'Rorb', '469763389'))",
           "property_map": {
            "PSP_scale_factor": 0.069,
            "lognorm_scale": 0.3730737936,
            "lognorm_shape": 0.6032438129,
            "params_file": "e4_to_e4.json",
            "synphys_mean": 0.4558436608
           },
           "source_model_id": "",
           "target_model_id": "469763389",
           "weight_max": 2.1428571429
          },
          "(('4', 'Scnn1a', ''), ('4', 'Rorb', '473020156'))": {
           "delay": 1.48,
           "name": "(('4', 'Scnn1a', ''), ('4', 'Rorb', '473020156'))",
           "property_map": {
            "PSP_scale_factor": 0.08,
            "lognorm_scale": 0.3730737936,
            "lognorm_shape": 0.6032438129,
            "params_file": "e4_to_e4.json",
            "synphys_mean": 0.4558436608
           },
           "source_model_id": "",
           "target_model_id": "473020156",
           "weight_max": 1.7307692308
          },
          "(('4', 'Scnn1a', ''), ('4', 'Rorb', '476562817'))": {
           "delay": 1.48,
           "name": "(('4', 'Scnn1a', ''), ('4', 'Rorb', '476562817'))",
           "property_map": {
            "PSP_scale_factor": 0.064,
            "lognorm_scale": 0.3730737936,
            "lognorm_shape": 0.6032438129,
            "params_file": "e4_to_e4.json",
            "synphys_mean": 0.4558436608
           },
           "source_model_id": "",
           "target_model_id": "476562817",
           "weight_max": 2.3684210526
          },
          "(('4', 'Scnn1a', ''), ('4', 'Rorb', '478586425'))": {
           "delay": 1.48,
           "name": "(('4', 'Scnn1a', ''), ('4', 'Rorb', '478586425'))",
           "property_map": {
            "PSP_scale_factor": 0.069,
            "lognorm_scale": 0.3730737936,
            "lognorm_shape": 0.6032438129,
            "params_file": "e4_to_e4.json",
            "synphys_mean": 0.4558436608
           },
           "source_model_id": "",
           "target_model_id": "478586425",
           "weight_max": 2.2222222222
          },
          "(('4', 'Scnn1a', ''), ('4', 'Rorb', '479179020'))": {
           "delay": 1.48,
           "name": "(('4', 'Scnn1a', ''), ('4', 'Rorb', '479179020'))",
           "property_map": {
            "PSP_scale_factor": 0.059,
            "lognorm_scale": 0.3730737936,
            "lognorm_shape": 0.6032438129,
            "params_file": "e4_to_e4.json",
            "synphys_mean": 0.4558436608
           },
           "source_model_id": "",
           "target_model_id": "479179020",
           "weight_max": 2.4657534247
          },
          "(('4', 'Scnn1a', ''), ('4', 'Rorb', '484679812'))": {
           "delay": 1.48,
           "name": "(('4', 'Scnn1a', ''), ('4', 'Rorb', '484679812'))",
           "property_map": {
            "PSP_scale_factor": 0.08,
            "lognorm_scale": 0.3730737936,
            "lognorm_shape": 0.6032438129,
            "params_file": "e4_to_e4.json",
            "synphys_mean": 0.4558436608
           },
           "source_model_id": "",
           "target_model_id": "484679812",
           "weight_max": 1.7821782178
          },
          "(('4', 'Scnn1a', ''), ('4', 'Rorb', '484770879'))": {
           "delay": 1.48,
           "name": "(('4', 'Scnn1a', ''), ('4', 'Rorb', '484770879'))",
           "property_map": {
            "PSP_scale_factor": 0.061,
            "lognorm_scale": 0.3730737936,
            "lognorm_shape": 0.6032438129,
            "params_file": "e4_to_e4.json",
            "synphys_mean": 0.4558436608
           },
           "source_model_id": "",
           "target_model_id": "484770879",
           "weight_max": 2.5352112676
          },
          "(('4', 'Scnn1a', ''), ('4', 'Rorb', '485836906'))": {
           "delay": 1.48,
           "name": "(('4', 'Scnn1a', ''), ('4', 'Rorb', '485836906'))",
           "property_map": {
            "PSP_scale_factor": 0.051,
            "lognorm_scale": 0.3730737936,
            "lognorm_shape": 0.6032438129,
            "params_file": "e4_to_e4.json",
            "synphys_mean": 0.4558436608
           },
           "source_model_id": "",
           "target_model_id": "485836906",
           "weight_max": 3
          },
          "(('4', 'Scnn1a', ''), ('4', 'Rorb', '486472847'))": {
           "delay": 1.48,
           "name": "(('4', 'Scnn1a', ''), ('4', 'Rorb', '486472847'))",
           "property_map": {
            "PSP_scale_factor": 0.082,
            "lognorm_scale": 0.3730737936,
            "lognorm_shape": 0.6032438129,
            "params_file": "e4_to_e4.json",
            "synphys_mean": 0.4558436608
           },
           "source_model_id": "",
           "target_model_id": "486472847",
           "weight_max": 1.8181818182
          },
          "(('4', 'Scnn1a', ''), ('4', 'Rorb', '486500736'))": {
           "delay": 1.48,
           "name": "(('4', 'Scnn1a', ''), ('4', 'Rorb', '486500736'))",
           "property_map": {
            "PSP_scale_factor": 0.043,
            "lognorm_scale": 0.3730737936,
            "lognorm_shape": 0.6032438129,
            "params_file": "e4_to_e4.json",
            "synphys_mean": 0.4558436608
           },
           "source_model_id": "",
           "target_model_id": "486500736",
           "weight_max": 3.4615384615
          },
          "(('4', 'Scnn1a', ''), ('4', 'Rorb', '490626718'))": {
           "delay": 1.48,
           "name": "(('4', 'Scnn1a', ''), ('4', 'Rorb', '490626718'))",
           "property_map": {
            "PSP_scale_factor": 0.074,
            "lognorm_scale": 0.3730737936,
            "lognorm_shape": 0.6032438129,
            "params_file": "e4_to_e4.json",
            "synphys_mean": 0.4558436608
           },
           "source_model_id": "",
           "target_model_id": "490626718",
           "weight_max": 2.4
          },
          "(('4', 'Scnn1a', ''), ('4', 'Rorb', '490626827'))": {
           "delay": 1.48,
           "name": "(('4', 'Scnn1a', ''), ('4', 'Rorb', '490626827'))",
           "property_map": {
            "PSP_scale_factor": 0.07,
            "lognorm_scale": 0.3730737936,
            "lognorm_shape": 0.6032438129,
            "params_file": "e4_to_e4.json",
            "synphys_mean": 0.4558436608
           },
           "source_model_id": "",
           "target_model_id": "490626827",
           "weight_max": 2.4
          },
          "(('4', 'Scnn1a', ''), ('4', 'Rorb', '500859045'))": {
           "delay": 1.48,
           "name": "(('4', 'Scnn1a', ''), ('4', 'Rorb', '500859045'))",
           "property_map": {
            "PSP_scale_factor": 0.063,
            "lognorm_scale": 0.3730737936,
            "lognorm_shape": 0.6032438129,
            "params_file": "e4_to_e4.json",
            "synphys_mean": 0.4558436608
           },
           "source_model_id": "",
           "target_model_id": "500859045",
           "weight_max": 2.3684210526
          },
          "(('4', 'Scnn1a', ''), ('4', 'Rorb', '500894271'))": {
           "delay": 1.48,
           "name": "(('4', 'Scnn1a', ''), ('4', 'Rorb', '500894271'))",
           "property_map": {
            "PSP_scale_factor": 0.063,
            "lognorm_scale": 0.3730737936,
            "lognorm_shape": 0.6032438129,
            "params_file": "e4_to_e4.json",
            "synphys_mean": 0.4558436608
           },
           "source_model_id": "",
           "target_model_id": "500894271",
           "weight_max": 0
          }
         },
         "name": "(('4', 'Scnn1a'), ('4', 'Rorb'))",
         "post": [
          "4",
          "Rorb"
         ],
         "pre": [
          "4",
          "Scnn1a"
         ],
         "probability": 0,
         "property_map": {
          "A_literature": [
           0.0305413259819695
          ],
          "A_literature_src": [
           0.0305413259819695
          ],
          "B_ratio": 0.5,
          "R0": 75,
          "is_pmax": 1,
          "nsyn_range": [
           3,
           8
          ],
          "post_ei": "e",
          "pre_ei": "e",
          "sigma": 127
         }
        },
        "(('4', 'Scnn1a'), ('4', 'Scnn1a'))": {
         "connect_models": {
          "(('4', 'Scnn1a', ''), ('4', 'Scnn1a', '320207387'))": {
           "delay": 1.48,
           "name": "(('4', 'Scnn1a', ''), ('4', 'Scnn1a', '320207387'))",
           "property_map": {
            "PSP_scale_factor": 0.056,
            "lognorm_scale": 0.3730737936,
            "lognorm_shape": 0.6032438129,
            "params_file": "e4_to_e4.json",
            "synphys_mean": 0.4558436608
           },
           "source_model_id": "",
           "target_model_id": "320207387",
           "weight_max": 2.9032258065
          },
          "(('4', 'Scnn1a', ''), ('4', 'Scnn1a', '323838579'))": {
           "delay": 1.48,
           "name": "(('4', 'Scnn1a', ''), ('4', 'Scnn1a', '323838579'))",
           "property_map": {
            "PSP_scale_factor": 0.063,
            "lognorm_scale": 0.3730737936,
            "lognorm_shape": 0.6032438129,
            "params_file": "e4_to_e4.json",
            "synphys_mean": 0.4558436608
           },
           "source_model_id": "",
           "target_model_id": "323838579",
           "weight_max": 2.4657534247
          },
          "(('4', 'Scnn1a', ''), ('4', 'Scnn1a', '476266853'))": {
           "delay": 1.48,
           "name": "(('4', 'Scnn1a', ''), ('4', 'Scnn1a', '476266853'))",
           "property_map": {
            "PSP_scale_factor": 0.062,
            "lognorm_scale": 0.3730737936,
            "lognorm_shape": 0.6032438129,
            "params_file": "e4_to_e4.json",
            "synphys_mean": 0.4558436608
           },
           "source_model_id": "",
           "target_model_id": "476266853",
           "weight_max": 2.5352112676
          },
          "(('4', 'Scnn1a', ''), ('4', 'Scnn1a', '500964358'))": {
           "delay": 1.48,
           "name": "(('4', 'Scnn1a', ''), ('4', 'Scnn1a', '500964358'))",
           "property_map": {
            "PSP_scale_factor": 0.057,
            "lognorm_scale": 0.3730737936,
            "lognorm_shape": 0.6032438129,
            "params_file": "e4_to_e4.json",
            "synphys_mean": 0.4558436608
           },
           "source_model_id": "",
           "target_model_id": "500964358",
           "weight_max": 2.4324324324
          },
          "(('4', 'Scnn1a', ''), ('4', 'Scnn1a', '517647182'))": {
           "delay": 1.48,
           "name": "(('4', 'Scnn1a', ''), ('4', 'Scnn1a', '517647182'))",
           "property_map": {
            "PSP_scale_factor": 0.059,
            "lognorm_scale": 0.3730737936,
            "lognorm_shape": 0.6032438129,
            "params_file": "e4_to_e4.json",
            "synphys_mean": 0.4558436608
           },
           "source_model_id": "",
           "target_model_id": "517647182",
           "weight_max": 0
          }
         },
         "name": "(('4', 'Scnn1a'), ('4', 'Scnn1a'))",
         "post": [
          "4",
          "Scnn1a"
         ],
         "pre": [
          "4",
          "Scnn1a"
         ],
         "probability": 0,
         "property_map": {
          "A_literature": [
           0.0305413259819695
          ],
          "A_literature_src": [
           0.0305413259819695
          ],
          "B_ratio": 0.5,
          "R0": 75,
          "is_pmax": 1,
          "nsyn_range": [
           3,
           8
          ],
          "post_ei": "e",
          "pre_ei": "e",
          "sigma": 127
         }
        },
        "(('4', 'Scnn1a'), ('4', 'Sst'))": {
         "connect_models": {
          "(('4', 'Scnn1a', ''), ('4', 'Sst', '476099282'))": {
           "delay": 1.1,
           "name": "(('4', 'Scnn1a', ''), ('4', 'Sst', '476099282'))",
           "property_map": {
            "PSP_scale_factor": 0.083,
            "lognorm_scale": 0.3577175718,
            "lognorm_shape": 0.7822724783,
            "params_file": "e4_to_sst.json",
            "synphys_mean": 0.4618269056
           },
           "source_model_id": "",
           "target_model_id": "476099282",
           "weight_max": 0.5154639175
          },
          "(('4', 'Scnn1a', ''), ('4', 'Sst', '476753465'))": {
           "delay": 1.1,
           "name": "(('4', 'Scnn1a', ''), ('4', 'Sst', '476753465'))",
           "property_map": {
            "PSP_scale_factor": 0.077,
            "lognorm_scale": 0.3577175718,
            "lognorm_shape": 0.7822724783,
            "params_file": "e4_to_sst.json",
            "synphys_mean": 0.4618269056
           },
           "source_model_id": "",
           "target_model_id": "476753465",
           "weight_max": 0.5376344086
          },
          "(('4', 'Scnn1a', ''), ('4', 'Sst', '485061364'))": {
           "delay": 1.1,
           "name": "(('4', 'Scnn1a', ''), ('4', 'Sst', '485061364'))",
           "property_map": {
            "PSP_scale_factor": 0.061,
            "lognorm_scale": 0.3577175718,
            "lognorm_shape": 0.7822724783,
            "params_file": "e4_to_sst.json",
            "synphys_mean": 0.4618269056
           },
           "source_model_id": "",
           "target_model_id": "485061364",
           "weight_max": 0.7462686567
          },
          "(('4', 'Scnn1a', ''), ('4', 'Sst', '501280518'))": {
           "delay": 1.1,
           "name": "(('4', 'Scnn1a', ''), ('4', 'Sst', '501280518'))",
           "property_map": {
            "PSP_scale_factor": 0.06,
            "lognorm_scale": 0.3577175718,
            "lognorm_shape": 0.7822724783,
            "params_file": "e4_to_sst.json",
            "synphys_mean": 0.4618269056
           },
           "source_model_id": "",
           "target_model_id": "501280518",
           "weight_max": 0.7246376812
          },
          "(('4', 'Scnn1a', ''), ('4', 'Sst', '501282204'))": {
           "delay": 1.1,
           "name": "(('4', 'Scnn1a', ''), ('4', 'Sst', '501282204'))",
           "property_map": {
            "PSP_scale_factor": 0.031,
            "lognorm_scale": 0.3577175718,
            "lognorm_shape": 0.7822724783,
            "params_file": "e4_to_sst.json",
            "synphys_mean": 0.4618269056
           },
           "source_model_id": "",
           "target_model_id": "501282204",
           "weight_max": 1.3888888889
          },
          "(('4', 'Scnn1a', ''), ('4', 'Sst', '573622646'))": {
           "delay": 1.1,
           "name": "(('4', 'Scnn1a', ''), ('4', 'Sst', '573622646'))",
           "property_map": {
            "PSP_scale_factor": 0.049,
            "lognorm_scale": 0.3577175718,
            "lognorm_shape": 0.7822724783,
            "params_file": "e4_to_sst.json",
            "synphys_mean": 0.4618269056
           },
           "source_model_id": "",
           "target_model_id": "573622646",
           "weight_max": 0
          }
         },
         "name": "(('4', 'Scnn1a'), ('4', 'Sst'))",
         "post": [
          "4",
          "Sst"
         ],
         "pre": [
          "4",
          "Scnn1a"
         ],
         "probability": 0,
         "property_map": {
          "A_literature": [
           0.324284555241534
          ],
          "A_literature_src": [
           0.324284555241534
          ],
          "B_ratio": null,
          "R0": 75,
          "is_pmax": 1,
          "nsyn_range": [
           3,
           8
          ],
          "post_ei": "i",
          "pre_ei": "e",
          "sigma": 99.84
         }
        },
        "(('4', 'Scnn1a'), ('4', 'Vip'))": {
         "connect_models": {
          "(('4', 'Scnn1a', ''), ('4', 'Vip', '501570114'))": {
           "delay": 1.46,
           "name": "(('4', 'Scnn1a', ''), ('4', 'Vip', '501570114'))",
           "property_map": {
            "PSP_scale_factor": 0.089,
            "lognorm_scale": 1.3675847718,
            "lognorm_shape": 0.6435686435,
            "params_file": "e4_to_vip.json",
            "synphys_mean": 1.6206456373
           },
           "source_model_id": "",
           "target_model_id": "501570114",
           "weight_max": 6.6666666667
          },
          "(('4', 'Scnn1a', ''), ('4', 'Vip', '531121585'))": {
           "delay": 1.46,
           "name": "(('4', 'Scnn1a', ''), ('4', 'Vip', '531121585'))",
           "property_map": {
            "PSP_scale_factor": 0.073,
            "lognorm_scale": 1.3675847718,
            "lognorm_shape": 0.6435686435,
            "params_file": "e4_to_vip.json",
            "synphys_mean": 1.6206456373
           },
           "source_model_id": "",
           "target_model_id": "531121585",
           "weight_max": 8.1481481481
          },
          "(('4', 'Scnn1a', ''), ('4', 'Vip', '535728342'))": {
           "delay": 1.46,
           "name": "(('4', 'Scnn1a', ''), ('4', 'Vip', '535728342'))",
           "property_map": {
            "PSP_scale_factor": 0.106,
            "lognorm_scale": 1.3675847718,
            "lognorm_shape": 0.6435686435,
            "params_file": "e4_to_vip.json",
            "synphys_mean": 1.6206456373
           },
           "source_model_id": "",
           "target_model_id": "535728342",
           "weight_max": 5.5462184874
          },
          "(('4', 'Scnn1a', ''), ('4', 'Vip', '560690291'))": {
           "delay": 1.46,
           "name": "(('4', 'Scnn1a', ''), ('4', 'Vip', '560690291'))",
           "property_map": {
            "PSP_scale_factor": 0.071,
            "lognorm_scale": 1.3675847718,
            "lognorm_shape": 0.6435686435,
            "params_file": "e4_to_vip.json",
            "synphys_mean": 1.6206456373
           },
           "source_model_id": "",
           "target_model_id": "560690291",
           "weight_max": 8.6842105263
          },
          "(('4', 'Scnn1a', ''), ('4', 'Vip', '561934585'))": {
           "delay": 1.46,
           "name": "(('4', 'Scnn1a', ''), ('4', 'Vip', '561934585'))",
           "property_map": {
            "PSP_scale_factor": 0.045,
            "lognorm_scale": 1.3675847718,
            "lognorm_shape": 0.6435686435,
            "params_file": "e4_to_vip.json",
            "synphys_mean": 1.6206456373
           },
           "source_model_id": "",
           "target_model_id": "561934585",
           "weight_max": 13.4693877551
          },
          "(('4', 'Scnn1a', ''), ('4', 'Vip', '562540395'))": {
           "delay": 1.46,
           "name": "(('4', 'Scnn1a', ''), ('4', 'Vip', '562540395'))",
           "property_map": {
            "PSP_scale_factor": 0.069,
            "lognorm_scale": 1.3675847718,
            "lognorm_shape": 0.6435686435,
            "params_file": "e4_to_vip.json",
            "synphys_mean": 1.6206456373
           },
           "source_model_id": "",
           "target_model_id": "562540395",
           "weight_max": 0
          }
         },
         "name": "(('4', 'Scnn1a'), ('4', 'Vip'))",
         "post": [
          "4",
          "Vip"
         ],
         "pre": [
          "4",
          "Scnn1a"
         ],
         "probability": 0,
         "property_map": {
          "A_literature": [
           0.0845196761302092
          ],
          "A_literature_src": [
           0.0845196761302092
          ],
          "B_ratio": null,
          "R0": 75,
          "is_pmax": 1,
          "nsyn_range": [
           3,
           8
          ],
          "post_ei": "i",
          "pre_ei": "e",
          "sigma": 99.84
         }
        },
        "(('4', 'Sst'), ('4', 'Pvalb'))": {
         "connect_models": {
          "(('4', 'Sst', ''), ('4', 'Pvalb', '478793814'))": {
           "delay": 1.2,
           "name": "(('4', 'Sst', ''), ('4', 'Pvalb', '478793814'))",
           "property_map": {
            "PSP_scale_factor": 0.068,
            "lognorm_scale": 0.4028248323,
            "lognorm_shape": 0.6280035736,
            "params_file": "sst_to_pv.json",
            "synphys_mean": 0.4879019506
           },
           "source_model_id": "",
           "target_model_id": "478793814",
           "weight_max": -2.4324324324
          },
          "(('4', 'Sst', ''), ('4', 'Pvalb', '478958894'))": {
           "delay": 1.2,
           "name": "(('4', 'Sst', ''), ('4', 'Pvalb', '478958894'))",
           "property_map": {
            "PSP_scale_factor": 0.064,
            "lognorm_scale": 0.4028248323,
            "lognorm_shape": 0.6280035736,
            "params_file": "sst_to_pv.json",
            "synphys_mean": 0.4879019506
           },
           "source_model_id": "",
           "target_model_id": "478958894",
           "weight_max": -2.6470588235
          },
          "(('4', 'Sst', ''), ('4', 'Pvalb', '481127173'))": {
           "delay": 1.2,
           "name": "(('4', 'Sst', ''), ('4', 'Pvalb', '481127173'))",
           "property_map": {
            "PSP_scale_factor": 0.076,
            "lognorm_scale": 0.4028248323,
            "lognorm_shape": 0.6280035736,
            "params_file": "sst_to_pv.json",
            "synphys_mean": 0.4879019506
           },
           "source_model_id": "",
           "target_model_id": "481127173",
           "weight_max": -2.2784810127
          },
          "(('4', 'Sst', ''), ('4', 'Pvalb', '481127348'))": {
           "delay": 1.2,
           "name": "(('4', 'Sst', ''), ('4', 'Pvalb', '481127348'))",
           "property_map": {
            "PSP_scale_factor": 0.1,
            "lognorm_scale": 0.4028248323,
            "lognorm_shape": 0.6280035736,
            "params_file": "sst_to_pv.json",
            "synphys_mean": 0.4879019506
           },
           "source_model_id": "",
           "target_model_id": "481127348",
           "weight_max": -1.6666666667
          },
          "(('4', 'Sst', ''), ('4', 'Pvalb', '487405644'))": {
           "delay": 1.2,
           "name": "(('4', 'Sst', ''), ('4', 'Pvalb', '487405644'))",
           "property_map": {
            "PSP_scale_factor": 0.116,
            "lognorm_scale": 0.4028248323,
            "lognorm_shape": 0.6280035736,
            "params_file": "sst_to_pv.json",
            "synphys_mean": 0.4879019506
           },
           "source_model_id": "",
           "target_model_id": "487405644",
           "weight_max": -1.5254237288
          },
          "(('4', 'Sst', ''), ('4', 'Pvalb', '487667205'))": {
           "delay": 1.2,
           "name": "(('4', 'Sst', ''), ('4', 'Pvalb', '487667205'))",
           "property_map": {
            "PSP_scale_factor": 0.08,
            "lognorm_scale": 0.4028248323,
            "lognorm_shape": 0.6280035736,
            "params_file": "sst_to_pv.json",
            "synphys_mean": 0.4879019506
           },
           "source_model_id": "",
           "target_model_id": "487667205",
           "weight_max": -2.1428571429
          },
          "(('4', 'Sst', ''), ('4', 'Pvalb', '491038812'))": {
           "delay": 1.2,
           "name": "(('4', 'Sst', ''), ('4', 'Pvalb', '491038812'))",
           "property_map": {
            "PSP_scale_factor": 0.06,
            "lognorm_scale": 0.4028248323,
            "lognorm_shape": 0.6280035736,
            "params_file": "sst_to_pv.json",
            "synphys_mean": 0.4879019506
           },
           "source_model_id": "",
           "target_model_id": "491038812",
           "weight_max": -3
          },
          "(('4', 'Sst', ''), ('4', 'Pvalb', '569997187'))": {
           "delay": 1.2,
           "name": "(('4', 'Sst', ''), ('4', 'Pvalb', '569997187'))",
           "property_map": {
            "PSP_scale_factor": 0.098,
            "lognorm_scale": 0.4028248323,
            "lognorm_shape": 0.6280035736,
            "params_file": "sst_to_pv.json",
            "synphys_mean": 0.4879019506
           },
           "source_model_id": "",
           "target_model_id": "569997187",
           "weight_max": -1.5789473684
          },
          "(('4', 'Sst', ''), ('4', 'Pvalb', '571314481'))": {
           "delay": 1.2,
           "name": "(('4', 'Sst', ''), ('4', 'Pvalb', '571314481'))",
           "property_map": {
            "PSP_scale_factor": 0.099,
            "lognorm_scale": 0.4028248323,
            "lognorm_shape": 0.6280035736,
            "params_file": "sst_to_pv.json",
            "synphys_mean": 0.4879019506
           },
           "source_model_id": "",
           "target_model_id": "571314481",
           "weight_max": -1.6981132075
          },
          "(('4', 'Sst', ''), ('4', 'Pvalb', '572375809'))": {
           "delay": 1.2,
           "name": "(('4', 'Sst', ''), ('4', 'Pvalb', '572375809'))",
           "property_map": {
            "PSP_scale_factor": 0.077,
            "lognorm_scale": 0.4028248323,
            "lognorm_shape": 0.6280035736,
            "params_file": "sst_to_pv.json",
            "synphys_mean": 0.4879019506
           },
           "source_model_id": "",
           "target_model_id": "572375809",
           "weight_max": -2.1686746988
          },
          "(('4', 'Sst', ''), ('4', 'Pvalb', '579414994'))": {
           "delay": 1.2,
           "name": "(('4', 'Sst', ''), ('4', 'Pvalb', '579414994'))",
           "property_map": {
            "PSP_scale_factor": 0.064,
            "lognorm_scale": 0.4028248323,
            "lognorm_shape": 0.6280035736,
            "params_file": "sst_to_pv.json",
            "synphys_mean": 0.4879019506
           },
           "source_model_id": "",
           "target_model_id": "579414994",
           "weight_max": 0
          }
         },
         "name": "(('4', 'Sst'), ('4', 'Pvalb'))",
         "post": [
          "4",
          "Pvalb"
         ],
         "pre": [
          "4",
          "Sst"
         ],
         "probability": 0,
         "property_map": {
          "A_literature": [
           0.642166594694609
          ],
          "A_literature_src": [
           0.642166594694609
          ],
          "B_ratio": null,
          "R0": 75,
          "is_pmax": 1,
          "nsyn_range": [
           3,
           8
          ],
          "post_ei": "i",
          "pre_ei": "i",
          "sigma": 126.77
         }
        },
        "(('4', 'Sst'), ('4', 'Rorb'))": {
         "connect_models": {
          "(('4', 'Sst', ''), ('4', 'Rorb', '322723785'))": {
           "delay": 1.03,
           "name": "(('4', 'Sst', ''), ('4', 'Rorb', '322723785'))",
           "property_map": {
            "PSP_scale_factor": 0.098,
            "lognorm_scale": 0.3941148624,
            "lognorm_shape": 0.4453260389,
            "params_file": "sst_to_e4.json",
            "synphys_mean": 0.4509966417
           },
           "source_model_id": "",
           "target_model_id": "322723785",
           "weight_max": -1.935483871
          },
          "(('4', 'Sst', ''), ('4', 'Rorb', '322761772'))": {
           "delay": 1.03,
           "name": "(('4', 'Sst', ''), ('4', 'Rorb', '322761772'))",
           "property_map": {
            "PSP_scale_factor": 0.1,
            "lognorm_scale": 0.3941148624,
            "lognorm_shape": 0.4453260389,
            "params_file": "sst_to_e4.json",
            "synphys_mean": 0.4509966417
           },
           "source_model_id": "",
           "target_model_id": "322761772",
           "weight_max": -1.6981132075
          },
          "(('4', 'Sst', ''), ('4', 'Rorb', '324065524'))": {
           "delay": 1.03,
           "name": "(('4', 'Sst', ''), ('4', 'Rorb', '324065524'))",
           "property_map": {
            "PSP_scale_factor": 0.132,
            "lognorm_scale": 0.3941148624,
            "lognorm_shape": 0.4453260389,
            "params_file": "sst_to_e4.json",
            "synphys_mean": 0.4509966417
           },
           "source_model_id": "",
           "target_model_id": "324065524",
           "weight_max": -1.4285714286
          },
          "(('4', 'Sst', ''), ('4', 'Rorb', '329550277'))": {
           "delay": 1.03,
           "name": "(('4', 'Sst', ''), ('4', 'Rorb', '329550277'))",
           "property_map": {
            "PSP_scale_factor": 0.1,
            "lognorm_scale": 0.3941148624,
            "lognorm_shape": 0.4453260389,
            "params_file": "sst_to_e4.json",
            "synphys_mean": 0.4509966417
           },
           "source_model_id": "",
           "target_model_id": "329550277",
           "weight_max": -1.935483871
          },
          "(('4', 'Sst', ''), ('4', 'Rorb', '466378900'))": {
           "delay": 1.03,
           "name": "(('4', 'Sst', ''), ('4', 'Rorb', '466378900'))",
           "property_map": {
            "PSP_scale_factor": 0.153,
            "lognorm_scale": 0.3941148624,
            "lognorm_shape": 0.4453260389,
            "params_file": "sst_to_e4.json",
            "synphys_mean": 0.4509966417
           },
           "source_model_id": "",
           "target_model_id": "466378900",
           "weight_max": -1.2080536913
          },
          "(('4', 'Sst', ''), ('4', 'Rorb', '467003163'))": {
           "delay": 1.03,
           "name": "(('4', 'Sst', ''), ('4', 'Rorb', '467003163'))",
           "property_map": {
            "PSP_scale_factor": 0.093,
            "lognorm_scale": 0.3941148624,
            "lognorm_shape": 0.4453260389,
            "params_file": "sst_to_e4.json",
            "synphys_mean": 0.4509966417
           },
           "source_model_id": "",
           "target_model_id": "467003163",
           "weight_max": -2.2784810127
          },
          "(('4', 'Sst', ''), ('4', 'Rorb', '467357834'))": {
           "delay": 1.03,
           "name": "(('4', 'Sst', ''), ('4', 'Rorb', '467357834'))",
           "property_map": {
            "PSP_scale_factor": 0.088,
            "lognorm_scale": 0.3941148624,
            "lognorm_shape": 0.4453260389,
            "params_file": "sst_to_e4.json",
            "synphys_mean": 0.4509966417
           },
           "source_model_id": "",
           "target_model_id": "467357834",
           "weight_max": -2.0930232558
          },
          "(('4', 'Sst', ''), ('4', 'Rorb', '469763389'))": {
           "delay": 1.03,
           "name": "(('4', 'Sst', ''), ('4', 'Rorb', '469763389'))",
           "property_map": {
            "PSP_scale_factor": 0.109,
            "lognorm_scale": 0.3941148624,
            "lognorm_shape": 0.4453260389,
            "params_file": "sst_to_e4.json",
            "synphys_mean": 0.4509966417
           },
           "source_model_id": "",
           "target_model_id": "469763389",
           "weight_max": -1.6981132075
          },
          "(('4', 'Sst', ''), ('4', 'Rorb', '473020156'))": {
           "delay": 1.03,
           "name": "(('4', 'Sst', ''), ('4', 'Rorb', '473020156'))",
           "property_map": {
            "PSP_scale_factor": 0.131,
            "lognorm_scale": 0.3941148624,
            "lognorm_shape": 0.4453260389,
            "params_file": "sst_to_e4.json",
            "synphys_mean": 0.4509966417
           },
           "source_model_id": "",
           "target_model_id": "473020156",
           "weight_max": -1.3432835821
          },
          "(('4', 'Sst', ''), ('4', 'Rorb', '476562817'))": {
           "delay": 1.03,
           "name": "(('4', 'Sst', ''), ('4', 'Rorb', '476562817'))",
           "property_map": {
            "PSP_scale_factor": 0.1,
            "lognorm_scale": 0.3941148624,
            "lognorm_shape": 0.4453260389,
            "params_file": "sst_to_e4.json",
            "synphys_mean": 0.4509966417
           },
           "source_model_id": "",
           "target_model_id": "476562817",
           "weight_max": -1.914893617
          },
          "(('4', 'Sst', ''), ('4', 'Rorb', '478586425'))": {
           "delay": 1.03,
           "name": "(('4', 'Sst', ''), ('4', 'Rorb', '478586425'))",
           "property_map": {
            "PSP_scale_factor": 0.107,
            "lognorm_scale": 0.3941148624,
            "lognorm_shape": 0.4453260389,
            "params_file": "sst_to_e4.json",
            "synphys_mean": 0.4509966417
           },
           "source_model_id": "",
           "target_model_id": "478586425",
           "weight_max": -1.8
          },
          "(('4', 'Sst', ''), ('4', 'Rorb', '479179020'))": {
           "delay": 1.03,
           "name": "(('4', 'Sst', ''), ('4', 'Rorb', '479179020'))",
           "property_map": {
            "PSP_scale_factor": 0.094,
            "lognorm_scale": 0.3941148624,
            "lognorm_shape": 0.4453260389,
            "params_file": "sst_to_e4.json",
            "synphys_mean": 0.4509966417
           },
           "source_model_id": "",
           "target_model_id": "479179020",
           "weight_max": -1.9565217391
          },
          "(('4', 'Sst', ''), ('4', 'Rorb', '484679812'))": {
           "delay": 1.03,
           "name": "(('4', 'Sst', ''), ('4', 'Rorb', '484679812'))",
           "property_map": {
            "PSP_scale_factor": 0.129,
            "lognorm_scale": 0.3941148624,
            "lognorm_shape": 0.4453260389,
            "params_file": "sst_to_e4.json",
            "synphys_mean": 0.4509966417
           },
           "source_model_id": "",
           "target_model_id": "484679812",
           "weight_max": -1.3953488372
          },
          "(('4', 'Sst', ''), ('4', 'Rorb', '484770879'))": {
           "delay": 1.03,
           "name": "(('4', 'Sst', ''), ('4', 'Rorb', '484770879'))",
           "property_map": {
            "PSP_scale_factor": 0.095,
            "lognorm_scale": 0.3941148624,
            "lognorm_shape": 0.4453260389,
            "params_file": "sst_to_e4.json",
            "synphys_mean": 0.4509966417
           },
           "source_model_id": "",
           "target_model_id": "484770879",
           "weight_max": -2.0689655172
          },
          "(('4', 'Sst', ''), ('4', 'Rorb', '485836906'))": {
           "delay": 1.03,
           "name": "(('4', 'Sst', ''), ('4', 'Rorb', '485836906'))",
           "property_map": {
            "PSP_scale_factor": 0.08,
            "lognorm_scale": 0.3941148624,
            "lognorm_shape": 0.4453260389,
            "params_file": "sst_to_e4.json",
            "synphys_mean": 0.4509966417
           },
           "source_model_id": "",
           "target_model_id": "485836906",
           "weight_max": -2.4
          },
          "(('4', 'Sst', ''), ('4', 'Rorb', '486472847'))": {
           "delay": 1.03,
           "name": "(('4', 'Sst', ''), ('4', 'Rorb', '486472847'))",
           "property_map": {
            "PSP_scale_factor": 0.13,
            "lognorm_scale": 0.3941148624,
            "lognorm_shape": 0.4453260389,
            "params_file": "sst_to_e4.json",
            "synphys_mean": 0.4509966417
           },
           "source_model_id": "",
           "target_model_id": "486472847",
           "weight_max": -1.4516129032
          },
          "(('4', 'Sst', ''), ('4', 'Rorb', '486500736'))": {
           "delay": 1.03,
           "name": "(('4', 'Sst', ''), ('4', 'Rorb', '486500736'))",
           "property_map": {
            "PSP_scale_factor": 0.068,
            "lognorm_scale": 0.3941148624,
            "lognorm_shape": 0.4453260389,
            "params_file": "sst_to_e4.json",
            "synphys_mean": 0.4509966417
           },
           "source_model_id": "",
           "target_model_id": "486500736",
           "weight_max": -2.7272727273
          },
          "(('4', 'Sst', ''), ('4', 'Rorb', '490626718'))": {
           "delay": 1.03,
           "name": "(('4', 'Sst', ''), ('4', 'Rorb', '490626718'))",
           "property_map": {
            "PSP_scale_factor": 0.107,
            "lognorm_scale": 0.3941148624,
            "lognorm_shape": 0.4453260389,
            "params_file": "sst_to_e4.json",
            "synphys_mean": 0.4509966417
           },
           "source_model_id": "",
           "target_model_id": "490626718",
           "weight_max": -2.0930232558
          },
          "(('4', 'Sst', ''), ('4', 'Rorb', '490626827'))": {
           "delay": 1.03,
           "name": "(('4', 'Sst', ''), ('4', 'Rorb', '490626827'))",
           "property_map": {
            "PSP_scale_factor": 0.104,
            "lognorm_scale": 0.3941148624,
            "lognorm_shape": 0.4453260389,
            "params_file": "sst_to_e4.json",
            "synphys_mean": 0.4509966417
           },
           "source_model_id": "",
           "target_model_id": "490626827",
           "weight_max": -2.0224719101
          },
          "(('4', 'Sst', ''), ('4', 'Rorb', '500859045'))": {
           "delay": 1.03,
           "name": "(('4', 'Sst', ''), ('4', 'Rorb', '500859045'))",
           "property_map": {
            "PSP_scale_factor": 0.1,
            "lognorm_scale": 0.3941148624,
            "lognorm_shape": 0.4453260389,
            "params_file": "sst_to_e4.json",
            "synphys_mean": 0.4509966417
           },
           "source_model_id": "",
           "target_model_id": "500859045",
           "weight_max": -1.8947368421
          },
          "(('4', 'Sst', ''), ('4', 'Rorb', '500894271'))": {
           "delay": 1.03,
           "name": "(('4', 'Sst', ''), ('4', 'Rorb', '500894271'))",
           "property_map": {
            "PSP_scale_factor": 0.102,
            "lognorm_scale": 0.3941148624,
            "lognorm_shape": 0.4453260389,
            "params_file": "sst_to_e4.json",
            "synphys_mean": 0.4509966417
           },
           "source_model_id": "",
           "target_model_id": "500894271",
           "weight_max": 0
          }
         },
         "name": "(('4', 'Sst'), ('4', 'Rorb'))",
         "post": [
          "4",
          "Rorb"
         ],
         "pre": [
          "4",
          "Sst"
         ],
         "probability": 0,
         "property_map": {
          "A_literature": [
           0.476772423992245
          ],
          "A_literature_src": [
           0.476772423992245
          ],
          "B_ratio": null,
          "R0": 75,
          "is_pmax": 1,
          "nsyn_range": [
           3,
           8
          ],
          "post_ei": "e",
          "pre_ei": "i",
          "sigma": 96.6
         }
        },
        "(('4', 'Sst'), ('4', 'Scnn1a'))": {
         "connect_models": {
          "(('4', 'Sst', ''), ('4', 'Scnn1a', '320207387'))": {
           "delay": 1.03,
           "name": "(('4', 'Sst', ''), ('4', 'Scnn1a', '320207387'))",
           "property_map": {
            "PSP_scale_factor": 0.085,
            "lognorm_scale": 0.3941148624,
            "lognorm_shape": 0.4453260389,
            "params_file": "sst_to_e4.json",
            "synphys_mean": 0.4509966417
           },
           "source_model_id": "",
           "target_model_id": "320207387",
           "weight_max": -2.4324324324
          },
          "(('4', 'Sst', ''), ('4', 'Scnn1a', '323838579'))": {
           "delay": 1.03,
           "name": "(('4', 'Sst', ''), ('4', 'Scnn1a', '323838579'))",
           "property_map": {
            "PSP_scale_factor": 0.098,
            "lognorm_scale": 0.3941148624,
            "lognorm_shape": 0.4453260389,
            "params_file": "sst_to_e4.json",
            "synphys_mean": 0.4509966417
           },
           "source_model_id": "",
           "target_model_id": "323838579",
           "weight_max": -2
          },
          "(('4', 'Sst', ''), ('4', 'Scnn1a', '476266853'))": {
           "delay": 1.03,
           "name": "(('4', 'Sst', ''), ('4', 'Scnn1a', '476266853'))",
           "property_map": {
            "PSP_scale_factor": 0.095,
            "lognorm_scale": 0.3941148624,
            "lognorm_shape": 0.4453260389,
            "params_file": "sst_to_e4.json",
            "synphys_mean": 0.4509966417
           },
           "source_model_id": "",
           "target_model_id": "476266853",
           "weight_max": -2.0930232558
          },
          "(('4', 'Sst', ''), ('4', 'Scnn1a', '500964358'))": {
           "delay": 1.03,
           "name": "(('4', 'Sst', ''), ('4', 'Scnn1a', '500964358'))",
           "property_map": {
            "PSP_scale_factor": 0.094,
            "lognorm_scale": 0.3941148624,
            "lognorm_shape": 0.4453260389,
            "params_file": "sst_to_e4.json",
            "synphys_mean": 0.4509966417
           },
           "source_model_id": "",
           "target_model_id": "500964358",
           "weight_max": -1.875
          },
          "(('4', 'Sst', ''), ('4', 'Scnn1a', '517647182'))": {
           "delay": 1.03,
           "name": "(('4', 'Sst', ''), ('4', 'Scnn1a', '517647182'))",
           "property_map": {
            "PSP_scale_factor": 0.096,
            "lognorm_scale": 0.3941148624,
            "lognorm_shape": 0.4453260389,
            "params_file": "sst_to_e4.json",
            "synphys_mean": 0.4509966417
           },
           "source_model_id": "",
           "target_model_id": "517647182",
           "weight_max": 0
          }
         },
         "name": "(('4', 'Sst'), ('4', 'Scnn1a'))",
         "post": [
          "4",
          "Scnn1a"
         ],
         "pre": [
          "4",
          "Sst"
         ],
         "probability": 0,
         "property_map": {
          "A_literature": [
           0.476772423992245
          ],
          "A_literature_src": [
           0.476772423992245
          ],
          "B_ratio": null,
          "R0": 75,
          "is_pmax": 1,
          "nsyn_range": [
           3,
           8
          ],
          "post_ei": "e",
          "pre_ei": "i",
          "sigma": 96.6
         }
        },
        "(('4', 'Sst'), ('4', 'Sst'))": {
         "connect_models": {
          "(('4', 'Sst', ''), ('4', 'Sst', '476099282'))": {
           "delay": 1.41,
           "name": "(('4', 'Sst', ''), ('4', 'Sst', '476099282'))",
           "property_map": {
            "PSP_scale_factor": 0.093,
            "lognorm_scale": 0.4420259472,
            "lognorm_shape": 0.4889524934,
            "params_file": "sst_to_sst.json",
            "synphys_mean": 0.5053890797
           },
           "source_model_id": "",
           "target_model_id": "476099282",
           "weight_max": -1.1184210526
          },
          "(('4', 'Sst', ''), ('4', 'Sst', '476753465'))": {
           "delay": 1.41,
           "name": "(('4', 'Sst', ''), ('4', 'Sst', '476753465'))",
           "property_map": {
            "PSP_scale_factor": 0.088,
            "lognorm_scale": 0.4420259472,
            "lognorm_shape": 0.4889524934,
            "params_file": "sst_to_sst.json",
            "synphys_mean": 0.5053890797
           },
           "source_model_id": "",
           "target_model_id": "476753465",
           "weight_max": -1.0828025478
          },
          "(('4', 'Sst', ''), ('4', 'Sst', '485061364'))": {
           "delay": 1.41,
           "name": "(('4', 'Sst', ''), ('4', 'Sst', '485061364'))",
           "property_map": {
            "PSP_scale_factor": 0.067,
            "lognorm_scale": 0.4420259472,
            "lognorm_shape": 0.4889524934,
            "params_file": "sst_to_sst.json",
            "synphys_mean": 0.5053890797
           },
           "source_model_id": "",
           "target_model_id": "485061364",
           "weight_max": -1.8085106383
          },
          "(('4', 'Sst', ''), ('4', 'Sst', '501280518'))": {
           "delay": 1.41,
           "name": "(('4', 'Sst', ''), ('4', 'Sst', '501280518'))",
           "property_map": {
            "PSP_scale_factor": 0.067,
            "lognorm_scale": 0.4420259472,
            "lognorm_shape": 0.4889524934,
            "params_file": "sst_to_sst.json",
            "synphys_mean": 0.5053890797
           },
           "source_model_id": "",
           "target_model_id": "501280518",
           "weight_max": -1.619047619
          },
          "(('4', 'Sst', ''), ('4', 'Sst', '501282204'))": {
           "delay": 1.41,
           "name": "(('4', 'Sst', ''), ('4', 'Sst', '501282204'))",
           "property_map": {
            "PSP_scale_factor": 0.034,
            "lognorm_scale": 0.4420259472,
            "lognorm_shape": 0.4889524934,
            "params_file": "sst_to_sst.json",
            "synphys_mean": 0.5053890797
           },
           "source_model_id": "",
           "target_model_id": "501282204",
           "weight_max": -2.9310344828
          },
          "(('4', 'Sst', ''), ('4', 'Sst', '573622646'))": {
           "delay": 1.41,
           "name": "(('4', 'Sst', ''), ('4', 'Sst', '573622646'))",
           "property_map": {
            "PSP_scale_factor": 0.055,
            "lognorm_scale": 0.4420259472,
            "lognorm_shape": 0.4889524934,
            "params_file": "sst_to_sst.json",
            "synphys_mean": 0.5053890797
           },
           "source_model_id": "",
           "target_model_id": "573622646",
           "weight_max": 0
          }
         },
         "name": "(('4', 'Sst'), ('4', 'Sst'))",
         "post": [
          "4",
          "Sst"
         ],
         "pre": [
          "4",
          "Sst"
         ],
         "probability": 0,
         "property_map": {
          "A_literature": [
           0.389532543636401
          ],
          "A_literature_src": [
           0.389532543636401
          ],
          "B_ratio": null,
          "R0": 75,
          "is_pmax": 1,
          "nsyn_range": [
           3,
           8
          ],
          "post_ei": "i",
          "pre_ei": "i",
          "sigma": 126.77
         }
        },
        "(('4', 'Sst'), ('4', 'Vip'))": {
         "connect_models": {
          "(('4', 'Sst', ''), ('4', 'Vip', '501570114'))": {
           "delay": 1.29,
           "name": "(('4', 'Sst', ''), ('4', 'Vip', '501570114'))",
           "property_map": {
            "PSP_scale_factor": 0.113,
            "lognorm_scale": 0.7338465413,
            "lognorm_shape": 0.6515086867,
            "params_file": "sst_to_vip.json",
            "synphys_mean": 0.9061640212
           },
           "source_model_id": "",
           "target_model_id": "501570114",
           "weight_max": -1.0303030303
          },
          "(('4', 'Sst', ''), ('4', 'Vip', '531121585'))": {
           "delay": 1.29,
           "name": "(('4', 'Sst', ''), ('4', 'Vip', '531121585'))",
           "property_map": {
            "PSP_scale_factor": 0.093,
            "lognorm_scale": 0.7338465413,
            "lognorm_shape": 0.6515086867,
            "params_file": "sst_to_vip.json",
            "synphys_mean": 0.9061640212
           },
           "source_model_id": "",
           "target_model_id": "531121585",
           "weight_max": -1.2408759124
          },
          "(('4', 'Sst', ''), ('4', 'Vip', '535728342'))": {
           "delay": 1.29,
           "name": "(('4', 'Sst', ''), ('4', 'Vip', '535728342'))",
           "property_map": {
            "PSP_scale_factor": 0.138,
            "lognorm_scale": 0.7338465413,
            "lognorm_shape": 0.6515086867,
            "params_file": "sst_to_vip.json",
            "synphys_mean": 0.9061640212
           },
           "source_model_id": "",
           "target_model_id": "535728342",
           "weight_max": -0.8173076923
          },
          "(('4', 'Sst', ''), ('4', 'Vip', '560690291'))": {
           "delay": 1.29,
           "name": "(('4', 'Sst', ''), ('4', 'Vip', '560690291'))",
           "property_map": {
            "PSP_scale_factor": 0.087,
            "lognorm_scale": 0.7338465413,
            "lognorm_shape": 0.6515086867,
            "params_file": "sst_to_vip.json",
            "synphys_mean": 0.9061640212
           },
           "source_model_id": "",
           "target_model_id": "560690291",
           "weight_max": -1.4655172414
          },
          "(('4', 'Sst', ''), ('4', 'Vip', '561934585'))": {
           "delay": 1.29,
           "name": "(('4', 'Sst', ''), ('4', 'Vip', '561934585'))",
           "property_map": {
            "PSP_scale_factor": 0.056,
            "lognorm_scale": 0.7338465413,
            "lognorm_shape": 0.6515086867,
            "params_file": "sst_to_vip.json",
            "synphys_mean": 0.9061640212
           },
           "source_model_id": "",
           "target_model_id": "561934585",
           "weight_max": -2.0987654321
          },
          "(('4', 'Sst', ''), ('4', 'Vip', '562540395'))": {
           "delay": 1.29,
           "name": "(('4', 'Sst', ''), ('4', 'Vip', '562540395'))",
           "property_map": {
            "PSP_scale_factor": 0.086,
            "lognorm_scale": 0.7338465413,
            "lognorm_shape": 0.6515086867,
            "params_file": "sst_to_vip.json",
            "synphys_mean": 0.9061640212
           },
           "source_model_id": "",
           "target_model_id": "562540395",
           "weight_max": 0
          }
         },
         "name": "(('4', 'Sst'), ('4', 'Vip'))",
         "post": [
          "4",
          "Vip"
         ],
         "pre": [
          "4",
          "Sst"
         ],
         "probability": 0,
         "property_map": {
          "A_literature": [
           0.283881768687639
          ],
          "A_literature_src": [
           0.283881768687639
          ],
          "B_ratio": null,
          "R0": 75,
          "is_pmax": 1,
          "nsyn_range": [
           3,
           8
          ],
          "post_ei": "i",
          "pre_ei": "i",
          "sigma": 126.77
         }
        },
        "(('4', 'Vip'), ('4', 'Pvalb'))": {
         "connect_models": {
          "(('4', 'Vip', ''), ('4', 'Pvalb', '478793814'))": {
           "delay": 1.44,
           "name": "(('4', 'Vip', ''), ('4', 'Pvalb', '478793814'))",
           "property_map": {
            "PSP_scale_factor": 0.082,
            "lognorm_scale": 0.3213333255,
            "lognorm_shape": 0.4906300038,
            "params_file": "vip_to_pv.json",
            "synphys_mean": 0.3672708228
           },
           "source_model_id": "",
           "target_model_id": "478793814",
           "weight_max": -1.7567567568
          },
          "(('4', 'Vip', ''), ('4', 'Pvalb', '478958894'))": {
           "delay": 1.44,
           "name": "(('4', 'Vip', ''), ('4', 'Pvalb', '478958894'))",
           "property_map": {
            "PSP_scale_factor": 0.077,
            "lognorm_scale": 0.3213333255,
            "lognorm_shape": 0.4906300038,
            "params_file": "vip_to_pv.json",
            "synphys_mean": 0.3672708228
           },
           "source_model_id": "",
           "target_model_id": "478958894",
           "weight_max": -1.9117647059
          },
          "(('4', 'Vip', ''), ('4', 'Pvalb', '481127173'))": {
           "delay": 1.44,
           "name": "(('4', 'Vip', ''), ('4', 'Pvalb', '481127173'))",
           "property_map": {
            "PSP_scale_factor": 0.091,
            "lognorm_scale": 0.3213333255,
            "lognorm_shape": 0.4906300038,
            "params_file": "vip_to_pv.json",
            "synphys_mean": 0.3672708228
           },
           "source_model_id": "",
           "target_model_id": "481127173",
           "weight_max": -1.6455696203
          },
          "(('4', 'Vip', ''), ('4', 'Pvalb', '481127348'))": {
           "delay": 1.44,
           "name": "(('4', 'Vip', ''), ('4', 'Pvalb', '481127348'))",
           "property_map": {
            "PSP_scale_factor": 0.121,
            "lognorm_scale": 0.3213333255,
            "lognorm_shape": 0.4906300038,
            "params_file": "vip_to_pv.json",
            "synphys_mean": 0.3672708228
           },
           "source_model_id": "",
           "target_model_id": "481127348",
           "weight_max": -1.2037037037
          },
          "(('4', 'Vip', ''), ('4', 'Pvalb', '487405644'))": {
           "delay": 1.44,
           "name": "(('4', 'Vip', ''), ('4', 'Pvalb', '487405644'))",
           "property_map": {
            "PSP_scale_factor": 0.139,
            "lognorm_scale": 0.3213333255,
            "lognorm_shape": 0.4906300038,
            "params_file": "vip_to_pv.json",
            "synphys_mean": 0.3672708228
           },
           "source_model_id": "",
           "target_model_id": "487405644",
           "weight_max": -1.1016949153
          },
          "(('4', 'Vip', ''), ('4', 'Pvalb', '487667205'))": {
           "delay": 1.44,
           "name": "(('4', 'Vip', ''), ('4', 'Pvalb', '487667205'))",
           "property_map": {
            "PSP_scale_factor": 0.096,
            "lognorm_scale": 0.3213333255,
            "lognorm_shape": 0.4906300038,
            "params_file": "vip_to_pv.json",
            "synphys_mean": 0.3672708228
           },
           "source_model_id": "",
           "target_model_id": "487667205",
           "weight_max": -1.5476190476
          },
          "(('4', 'Vip', ''), ('4', 'Pvalb', '491038812'))": {
           "delay": 1.44,
           "name": "(('4', 'Vip', ''), ('4', 'Pvalb', '491038812'))",
           "property_map": {
            "PSP_scale_factor": 0.071,
            "lognorm_scale": 0.3213333255,
            "lognorm_shape": 0.4906300038,
            "params_file": "vip_to_pv.json",
            "synphys_mean": 0.3672708228
           },
           "source_model_id": "",
           "target_model_id": "491038812",
           "weight_max": -2.1666666667
          },
          "(('4', 'Vip', ''), ('4', 'Pvalb', '569997187'))": {
           "delay": 1.44,
           "name": "(('4', 'Vip', ''), ('4', 'Pvalb', '569997187'))",
           "property_map": {
            "PSP_scale_factor": 0.119,
            "lognorm_scale": 0.3213333255,
            "lognorm_shape": 0.4906300038,
            "params_file": "vip_to_pv.json",
            "synphys_mean": 0.3672708228
           },
           "source_model_id": "",
           "target_model_id": "569997187",
           "weight_max": -1.1403508772
          },
          "(('4', 'Vip', ''), ('4', 'Pvalb', '571314481'))": {
           "delay": 1.44,
           "name": "(('4', 'Vip', ''), ('4', 'Pvalb', '571314481'))",
           "property_map": {
            "PSP_scale_factor": 0.119,
            "lognorm_scale": 0.3213333255,
            "lognorm_shape": 0.4906300038,
            "params_file": "vip_to_pv.json",
            "synphys_mean": 0.3672708228
           },
           "source_model_id": "",
           "target_model_id": "571314481",
           "weight_max": -1.2264150943
          },
          "(('4', 'Vip', ''), ('4', 'Pvalb', '572375809'))": {
           "delay": 1.44,
           "name": "(('4', 'Vip', ''), ('4', 'Pvalb', '572375809'))",
           "property_map": {
            "PSP_scale_factor": 0.093,
            "lognorm_scale": 0.3213333255,
            "lognorm_shape": 0.4906300038,
            "params_file": "vip_to_pv.json",
            "synphys_mean": 0.3672708228
           },
           "source_model_id": "",
           "target_model_id": "572375809",
           "weight_max": -1.5662650602
          },
          "(('4', 'Vip', ''), ('4', 'Pvalb', '579414994'))": {
           "delay": 1.44,
           "name": "(('4', 'Vip', ''), ('4', 'Pvalb', '579414994'))",
           "property_map": {
            "PSP_scale_factor": 0.077,
            "lognorm_scale": 0.3213333255,
            "lognorm_shape": 0.4906300038,
            "params_file": "vip_to_pv.json",
            "synphys_mean": 0.3672708228
           },
           "source_model_id": "",
           "target_model_id": "579414994",
           "weight_max": 0
          }
         },
         "name": "(('4', 'Vip'), ('4', 'Pvalb'))",
         "post": [
          "4",
          "Pvalb"
         ],
         "pre": [
          "4",
          "Vip"
         ],
         "probability": 0,
         "property_map": {
          "A_literature": [
           0.160877014664453
          ],
          "A_literature_src": [
           0.160877014664453
          ],
          "B_ratio": null,
          "R0": 75,
          "is_pmax": 1,
          "nsyn_range": [
           3,
           8
          ],
          "post_ei": "i",
          "pre_ei": "i",
          "sigma": 126.77
         }
        },
        "(('4', 'Vip'), ('4', 'Rorb'))": {
         "connect_models": {
          "(('4', 'Vip', ''), ('4', 'Rorb', '322723785'))": {
           "delay": 1.85,
           "name": "(('4', 'Vip', ''), ('4', 'Rorb', '322723785'))",
           "property_map": {
            "PSP_scale_factor": 0.055,
            "lognorm_scale": 0.4898623104,
            "lognorm_shape": 0.6116363402,
            "params_file": "vip_to_e4.json",
            "synphys_mean": 0.5970172787
           },
           "source_model_id": "",
           "target_model_id": "322723785",
           "weight_max": -3.1182795699
          },
          "(('4', 'Vip', ''), ('4', 'Rorb', '322761772'))": {
           "delay": 1.85,
           "name": "(('4', 'Vip', ''), ('4', 'Rorb', '322761772'))",
           "property_map": {
            "PSP_scale_factor": 0.057,
            "lognorm_scale": 0.4898623104,
            "lognorm_shape": 0.6116363402,
            "params_file": "vip_to_e4.json",
            "synphys_mean": 0.5970172787
           },
           "source_model_id": "",
           "target_model_id": "322761772",
           "weight_max": -2.7358490566
          },
          "(('4', 'Vip', ''), ('4', 'Rorb', '324065524'))": {
           "delay": 1.85,
           "name": "(('4', 'Vip', ''), ('4', 'Rorb', '324065524'))",
           "property_map": {
            "PSP_scale_factor": 0.074,
            "lognorm_scale": 0.4898623104,
            "lognorm_shape": 0.6116363402,
            "params_file": "vip_to_e4.json",
            "synphys_mean": 0.5970172787
           },
           "source_model_id": "",
           "target_model_id": "324065524",
           "weight_max": -2.3015873016
          },
          "(('4', 'Vip', ''), ('4', 'Rorb', '329550277'))": {
           "delay": 1.85,
           "name": "(('4', 'Vip', ''), ('4', 'Rorb', '329550277'))",
           "property_map": {
            "PSP_scale_factor": 0.056,
            "lognorm_scale": 0.4898623104,
            "lognorm_shape": 0.6116363402,
            "params_file": "vip_to_e4.json",
            "synphys_mean": 0.5970172787
           },
           "source_model_id": "",
           "target_model_id": "329550277",
           "weight_max": -3.1182795699
          },
          "(('4', 'Vip', ''), ('4', 'Rorb', '466378900'))": {
           "delay": 1.85,
           "name": "(('4', 'Vip', ''), ('4', 'Rorb', '466378900'))",
           "property_map": {
            "PSP_scale_factor": 0.085,
            "lognorm_scale": 0.4898623104,
            "lognorm_shape": 0.6116363402,
            "params_file": "vip_to_e4.json",
            "synphys_mean": 0.5970172787
           },
           "source_model_id": "",
           "target_model_id": "466378900",
           "weight_max": -1.9463087248
          },
          "(('4', 'Vip', ''), ('4', 'Rorb', '467003163'))": {
           "delay": 1.85,
           "name": "(('4', 'Vip', ''), ('4', 'Rorb', '467003163'))",
           "property_map": {
            "PSP_scale_factor": 0.052,
            "lognorm_scale": 0.4898623104,
            "lognorm_shape": 0.6116363402,
            "params_file": "vip_to_e4.json",
            "synphys_mean": 0.5970172787
           },
           "source_model_id": "",
           "target_model_id": "467003163",
           "weight_max": -3.6708860759
          },
          "(('4', 'Vip', ''), ('4', 'Rorb', '467357834'))": {
           "delay": 1.85,
           "name": "(('4', 'Vip', ''), ('4', 'Rorb', '467357834'))",
           "property_map": {
            "PSP_scale_factor": 0.049,
            "lognorm_scale": 0.4898623104,
            "lognorm_shape": 0.6116363402,
            "params_file": "vip_to_e4.json",
            "synphys_mean": 0.5970172787
           },
           "source_model_id": "",
           "target_model_id": "467357834",
           "weight_max": -3.3720930233
          },
          "(('4', 'Vip', ''), ('4', 'Rorb', '469763389'))": {
           "delay": 1.85,
           "name": "(('4', 'Vip', ''), ('4', 'Rorb', '469763389'))",
           "property_map": {
            "PSP_scale_factor": 0.061,
            "lognorm_scale": 0.4898623104,
            "lognorm_shape": 0.6116363402,
            "params_file": "vip_to_e4.json",
            "synphys_mean": 0.5970172787
           },
           "source_model_id": "",
           "target_model_id": "469763389",
           "weight_max": -2.7358490566
          },
          "(('4', 'Vip', ''), ('4', 'Rorb', '473020156'))": {
           "delay": 1.85,
           "name": "(('4', 'Vip', ''), ('4', 'Rorb', '473020156'))",
           "property_map": {
            "PSP_scale_factor": 0.074,
            "lognorm_scale": 0.4898623104,
            "lognorm_shape": 0.6116363402,
            "params_file": "vip_to_e4.json",
            "synphys_mean": 0.5970172787
           },
           "source_model_id": "",
           "target_model_id": "473020156",
           "weight_max": -2.1641791045
          },
          "(('4', 'Vip', ''), ('4', 'Rorb', '476562817'))": {
           "delay": 1.85,
           "name": "(('4', 'Vip', ''), ('4', 'Rorb', '476562817'))",
           "property_map": {
            "PSP_scale_factor": 0.055,
            "lognorm_scale": 0.4898623104,
            "lognorm_shape": 0.6116363402,
            "params_file": "vip_to_e4.json",
            "synphys_mean": 0.5970172787
           },
           "source_model_id": "",
           "target_model_id": "476562817",
           "weight_max": -3.085106383
          },
          "(('4', 'Vip', ''), ('4', 'Rorb', '478586425'))": {
           "delay": 1.85,
           "name": "(('4', 'Vip', ''), ('4', 'Rorb', '478586425'))",
           "property_map": {
            "PSP_scale_factor": 0.059,
            "lognorm_scale": 0.4898623104,
            "lognorm_shape": 0.6116363402,
            "params_file": "vip_to_e4.json",
            "synphys_mean": 0.5970172787
           },
           "source_model_id": "",
           "target_model_id": "478586425",
           "weight_max": -2.9
          },
          "(('4', 'Vip', ''), ('4', 'Rorb', '479179020'))": {
           "delay": 1.85,
           "name": "(('4', 'Vip', ''), ('4', 'Rorb', '479179020'))",
           "property_map": {
            "PSP_scale_factor": 0.052,
            "lognorm_scale": 0.4898623104,
            "lognorm_shape": 0.6116363402,
            "params_file": "vip_to_e4.json",
            "synphys_mean": 0.5970172787
           },
           "source_model_id": "",
           "target_model_id": "479179020",
           "weight_max": -3.152173913
          },
          "(('4', 'Vip', ''), ('4', 'Rorb', '484679812'))": {
           "delay": 1.85,
           "name": "(('4', 'Vip', ''), ('4', 'Rorb', '484679812'))",
           "property_map": {
            "PSP_scale_factor": 0.072,
            "lognorm_scale": 0.4898623104,
            "lognorm_shape": 0.6116363402,
            "params_file": "vip_to_e4.json",
            "synphys_mean": 0.5970172787
           },
           "source_model_id": "",
           "target_model_id": "484679812",
           "weight_max": -2.2480620155
          },
          "(('4', 'Vip', ''), ('4', 'Rorb', '484770879'))": {
           "delay": 1.85,
           "name": "(('4', 'Vip', ''), ('4', 'Rorb', '484770879'))",
           "property_map": {
            "PSP_scale_factor": 0.053,
            "lognorm_scale": 0.4898623104,
            "lognorm_shape": 0.6116363402,
            "params_file": "vip_to_e4.json",
            "synphys_mean": 0.5970172787
           },
           "source_model_id": "",
           "target_model_id": "484770879",
           "weight_max": -3.3333333333
          },
          "(('4', 'Vip', ''), ('4', 'Rorb', '485836906'))": {
           "delay": 1.85,
           "name": "(('4', 'Vip', ''), ('4', 'Rorb', '485836906'))",
           "property_map": {
            "PSP_scale_factor": 0.044,
            "lognorm_scale": 0.4898623104,
            "lognorm_shape": 0.6116363402,
            "params_file": "vip_to_e4.json",
            "synphys_mean": 0.5970172787
           },
           "source_model_id": "",
           "target_model_id": "485836906",
           "weight_max": -3.8666666667
          },
          "(('4', 'Vip', ''), ('4', 'Rorb', '486472847'))": {
           "delay": 1.85,
           "name": "(('4', 'Vip', ''), ('4', 'Rorb', '486472847'))",
           "property_map": {
            "PSP_scale_factor": 0.072,
            "lognorm_scale": 0.4898623104,
            "lognorm_shape": 0.6116363402,
            "params_file": "vip_to_e4.json",
            "synphys_mean": 0.5970172787
           },
           "source_model_id": "",
           "target_model_id": "486472847",
           "weight_max": -2.3387096774
          },
          "(('4', 'Vip', ''), ('4', 'Rorb', '486500736'))": {
           "delay": 1.85,
           "name": "(('4', 'Vip', ''), ('4', 'Rorb', '486500736'))",
           "property_map": {
            "PSP_scale_factor": 0.038,
            "lognorm_scale": 0.4898623104,
            "lognorm_shape": 0.6116363402,
            "params_file": "vip_to_e4.json",
            "synphys_mean": 0.5970172787
           },
           "source_model_id": "",
           "target_model_id": "486500736",
           "weight_max": -4.3939393939
          },
          "(('4', 'Vip', ''), ('4', 'Rorb', '490626718'))": {
           "delay": 1.85,
           "name": "(('4', 'Vip', ''), ('4', 'Rorb', '490626718'))",
           "property_map": {
            "PSP_scale_factor": 0.06,
            "lognorm_scale": 0.4898623104,
            "lognorm_shape": 0.6116363402,
            "params_file": "vip_to_e4.json",
            "synphys_mean": 0.5970172787
           },
           "source_model_id": "",
           "target_model_id": "490626718",
           "weight_max": -3.3720930233
          },
          "(('4', 'Vip', ''), ('4', 'Rorb', '490626827'))": {
           "delay": 1.85,
           "name": "(('4', 'Vip', ''), ('4', 'Rorb', '490626827'))",
           "property_map": {
            "PSP_scale_factor": 0.058,
            "lognorm_scale": 0.4898623104,
            "lognorm_shape": 0.6116363402,
            "params_file": "vip_to_e4.json",
            "synphys_mean": 0.5970172787
           },
           "source_model_id": "",
           "target_model_id": "490626827",
           "weight_max": -3.2584269663
          },
          "(('4', 'Vip', ''), ('4', 'Rorb', '500859045'))": {
           "delay": 1.85,
           "name": "(('4', 'Vip', ''), ('4', 'Rorb', '500859045'))",
           "property_map": {
            "PSP_scale_factor": 0.055,
            "lognorm_scale": 0.4898623104,
            "lognorm_shape": 0.6116363402,
            "params_file": "vip_to_e4.json",
            "synphys_mean": 0.5970172787
           },
           "source_model_id": "",
           "target_model_id": "500859045",
           "weight_max": -3.0526315789
          },
          "(('4', 'Vip', ''), ('4', 'Rorb', '500894271'))": {
           "delay": 1.85,
           "name": "(('4', 'Vip', ''), ('4', 'Rorb', '500894271'))",
           "property_map": {
            "PSP_scale_factor": 0.057,
            "lognorm_scale": 0.4898623104,
            "lognorm_shape": 0.6116363402,
            "params_file": "vip_to_e4.json",
            "synphys_mean": 0.5970172787
           },
           "source_model_id": "",
           "target_model_id": "500894271",
           "weight_max": 0
          }
         },
         "name": "(('4', 'Vip'), ('4', 'Rorb'))",
         "post": [
          "4",
          "Rorb"
         ],
         "pre": [
          "4",
          "Vip"
         ],
         "probability": 0,
         "property_map": {
          "A_literature": [
           0.0090387251730265
          ],
          "A_literature_src": [
           0.0090387251730265
          ],
          "B_ratio": null,
          "R0": 75,
          "is_pmax": 1,
          "nsyn_range": [
           3,
           8
          ],
          "post_ei": "e",
          "pre_ei": "i",
          "sigma": 96.6
         }
        },
        "(('4', 'Vip'), ('4', 'Scnn1a'))": {
         "connect_models": {
          "(('4', 'Vip', ''), ('4', 'Scnn1a', '320207387'))": {
           "delay": 1.85,
           "name": "(('4', 'Vip', ''), ('4', 'Scnn1a', '320207387'))",
           "property_map": {
            "PSP_scale_factor": 0.047,
            "lognorm_scale": 0.4898623104,
            "lognorm_shape": 0.6116363402,
            "params_file": "vip_to_e4.json",
            "synphys_mean": 0.5970172787
           },
           "source_model_id": "",
           "target_model_id": "320207387",
           "weight_max": -3.9189189189
          },
          "(('4', 'Vip', ''), ('4', 'Scnn1a', '323838579'))": {
           "delay": 1.85,
           "name": "(('4', 'Vip', ''), ('4', 'Scnn1a', '323838579'))",
           "property_map": {
            "PSP_scale_factor": 0.054,
            "lognorm_scale": 0.4898623104,
            "lognorm_shape": 0.6116363402,
            "params_file": "vip_to_e4.json",
            "synphys_mean": 0.5970172787
           },
           "source_model_id": "",
           "target_model_id": "323838579",
           "weight_max": -3.2222222222
          },
          "(('4', 'Vip', ''), ('4', 'Scnn1a', '476266853'))": {
           "delay": 1.85,
           "name": "(('4', 'Vip', ''), ('4', 'Scnn1a', '476266853'))",
           "property_map": {
            "PSP_scale_factor": 0.053,
            "lognorm_scale": 0.4898623104,
            "lognorm_shape": 0.6116363402,
            "params_file": "vip_to_e4.json",
            "synphys_mean": 0.5970172787
           },
           "source_model_id": "",
           "target_model_id": "476266853",
           "weight_max": -3.3720930233
          },
          "(('4', 'Vip', ''), ('4', 'Scnn1a', '500964358'))": {
           "delay": 1.85,
           "name": "(('4', 'Vip', ''), ('4', 'Scnn1a', '500964358'))",
           "property_map": {
            "PSP_scale_factor": 0.053,
            "lognorm_scale": 0.4898623104,
            "lognorm_shape": 0.6116363402,
            "params_file": "vip_to_e4.json",
            "synphys_mean": 0.5970172787
           },
           "source_model_id": "",
           "target_model_id": "500964358",
           "weight_max": -3.0208333333
          },
          "(('4', 'Vip', ''), ('4', 'Scnn1a', '517647182'))": {
           "delay": 1.85,
           "name": "(('4', 'Vip', ''), ('4', 'Scnn1a', '517647182'))",
           "property_map": {
            "PSP_scale_factor": 0.054,
            "lognorm_scale": 0.4898623104,
            "lognorm_shape": 0.6116363402,
            "params_file": "vip_to_e4.json",
            "synphys_mean": 0.5970172787
           },
           "source_model_id": "",
           "target_model_id": "517647182",
           "weight_max": 0
          }
         },
         "name": "(('4', 'Vip'), ('4', 'Scnn1a'))",
         "post": [
          "4",
          "Scnn1a"
         ],
         "pre": [
          "4",
          "Vip"
         ],
         "probability": 0,
         "property_map": {
          "A_literature": [
           0.0090387251730265
          ],
          "A_literature_src": [
           0.0090387251730265
          ],
          "B_ratio": null,
          "R0": 75,
          "is_pmax": 1,
          "nsyn_range": [
           3,
           8
          ],
          "post_ei": "e",
          "pre_ei": "i",
          "sigma": 96.6
         }
        },
        "(('4', 'Vip'), ('4', 'Sst'))": {
         "connect_models": {
          "(('4', 'Vip', ''), ('4', 'Sst', '476099282'))": {
           "delay": 1.43,
           "name": "(('4', 'Vip', ''), ('4', 'Sst', '476099282'))",
           "property_map": {
            "PSP_scale_factor": 0.141,
            "lognorm_scale": 0.4947485729,
            "lognorm_shape": 0.5104236043,
            "params_file": "vip_to_sst.json",
            "synphys_mean": 0.5748321044
           },
           "source_model_id": "",
           "target_model_id": "476099282",
           "weight_max": -0.9868421053
          },
          "(('4', 'Vip', ''), ('4', 'Sst', '476753465'))": {
           "delay": 1.43,
           "name": "(('4', 'Vip', ''), ('4', 'Sst', '476753465'))",
           "property_map": {
            "PSP_scale_factor": 0.134,
            "lognorm_scale": 0.4947485729,
            "lognorm_shape": 0.5104236043,
            "params_file": "vip_to_sst.json",
            "synphys_mean": 0.5748321044
           },
           "source_model_id": "",
           "target_model_id": "476753465",
           "weight_max": -0.9554140127
          },
          "(('4', 'Vip', ''), ('4', 'Sst', '485061364'))": {
           "delay": 1.43,
           "name": "(('4', 'Vip', ''), ('4', 'Sst', '485061364'))",
           "property_map": {
            "PSP_scale_factor": 0.098,
            "lognorm_scale": 0.4947485729,
            "lognorm_shape": 0.5104236043,
            "params_file": "vip_to_sst.json",
            "synphys_mean": 0.5748321044
           },
           "source_model_id": "",
           "target_model_id": "485061364",
           "weight_max": -1.5957446809
          },
          "(('4', 'Vip', ''), ('4', 'Sst', '501280518'))": {
           "delay": 1.43,
           "name": "(('4', 'Vip', ''), ('4', 'Sst', '501280518'))",
           "property_map": {
            "PSP_scale_factor": 0.101,
            "lognorm_scale": 0.4947485729,
            "lognorm_shape": 0.5104236043,
            "params_file": "vip_to_sst.json",
            "synphys_mean": 0.5748321044
           },
           "source_model_id": "",
           "target_model_id": "501280518",
           "weight_max": -1.4285714286
          },
          "(('4', 'Vip', ''), ('4', 'Sst', '501282204'))": {
           "delay": 1.43,
           "name": "(('4', 'Vip', ''), ('4', 'Sst', '501282204'))",
           "property_map": {
            "PSP_scale_factor": 0.052,
            "lognorm_scale": 0.4947485729,
            "lognorm_shape": 0.5104236043,
            "params_file": "vip_to_sst.json",
            "synphys_mean": 0.5748321044
           },
           "source_model_id": "",
           "target_model_id": "501282204",
           "weight_max": -2.5862068966
          },
          "(('4', 'Vip', ''), ('4', 'Sst', '573622646'))": {
           "delay": 1.43,
           "name": "(('4', 'Vip', ''), ('4', 'Sst', '573622646'))",
           "property_map": {
            "PSP_scale_factor": 0.082,
            "lognorm_scale": 0.4947485729,
            "lognorm_shape": 0.5104236043,
            "params_file": "vip_to_sst.json",
            "synphys_mean": 0.5748321044
           },
           "source_model_id": "",
           "target_model_id": "573622646",
           "weight_max": 0
          }
         },
         "name": "(('4', 'Vip'), ('4', 'Sst'))",
         "post": [
          "4",
          "Sst"
         ],
         "pre": [
          "4",
          "Vip"
         ],
         "probability": 0,
         "property_map": {
          "A_literature": [
           0.401398109859421
          ],
          "A_literature_src": [
           0.401398109859421
          ],
          "B_ratio": null,
          "R0": 75,
          "is_pmax": 1,
          "nsyn_range": [
           3,
           8
          ],
          "post_ei": "i",
          "pre_ei": "i",
          "sigma": 126.77
         }
        },
        "(('4', 'Vip'), ('4', 'Vip'))": {
         "connect_models": {
          "(('4', 'Vip', ''), ('4', 'Vip', '501570114'))": {
           "delay": 1.37,
           "name": "(('4', 'Vip', ''), ('4', 'Vip', '501570114'))",
           "property_map": {
            "PSP_scale_factor": 0.16,
            "lognorm_scale": 0.3903439951,
            "lognorm_shape": 0.6783943635,
            "params_file": "vip_to_vip.json",
            "synphys_mean": 0.4996826466
           },
           "source_model_id": "",
           "target_model_id": "501570114",
           "weight_max": -0.8484848485
          },
          "(('4', 'Vip', ''), ('4', 'Vip', '531121585'))": {
           "delay": 1.37,
           "name": "(('4', 'Vip', ''), ('4', 'Vip', '531121585'))",
           "property_map": {
            "PSP_scale_factor": 0.132,
            "lognorm_scale": 0.3903439951,
            "lognorm_shape": 0.6783943635,
            "params_file": "vip_to_vip.json",
            "synphys_mean": 0.4996826466
           },
           "source_model_id": "",
           "target_model_id": "531121585",
           "weight_max": -1.0218978102
          },
          "(('4', 'Vip', ''), ('4', 'Vip', '535728342'))": {
           "delay": 1.37,
           "name": "(('4', 'Vip', ''), ('4', 'Vip', '535728342'))",
           "property_map": {
            "PSP_scale_factor": 0.193,
            "lognorm_scale": 0.3903439951,
            "lognorm_shape": 0.6783943635,
            "params_file": "vip_to_vip.json",
            "synphys_mean": 0.4996826466
           },
           "source_model_id": "",
           "target_model_id": "535728342",
           "weight_max": -0.6730769231
          },
          "(('4', 'Vip', ''), ('4', 'Vip', '560690291'))": {
           "delay": 1.37,
           "name": "(('4', 'Vip', ''), ('4', 'Vip', '560690291'))",
           "property_map": {
            "PSP_scale_factor": 0.123,
            "lognorm_scale": 0.3903439951,
            "lognorm_shape": 0.6783943635,
            "params_file": "vip_to_vip.json",
            "synphys_mean": 0.4996826466
           },
           "source_model_id": "",
           "target_model_id": "560690291",
           "weight_max": -1.2068965517
          },
          "(('4', 'Vip', ''), ('4', 'Vip', '561934585'))": {
           "delay": 1.37,
           "name": "(('4', 'Vip', ''), ('4', 'Vip', '561934585'))",
           "property_map": {
            "PSP_scale_factor": 0.08,
            "lognorm_scale": 0.3903439951,
            "lognorm_shape": 0.6783943635,
            "params_file": "vip_to_vip.json",
            "synphys_mean": 0.4996826466
           },
           "source_model_id": "",
           "target_model_id": "561934585",
           "weight_max": -1.7283950617
          },
          "(('4', 'Vip', ''), ('4', 'Vip', '562540395'))": {
           "delay": 1.37,
           "name": "(('4', 'Vip', ''), ('4', 'Vip', '562540395'))",
           "property_map": {
            "PSP_scale_factor": 0.122,
            "lognorm_scale": 0.3903439951,
            "lognorm_shape": 0.6783943635,
            "params_file": "vip_to_vip.json",
            "synphys_mean": 0.4996826466
           },
           "source_model_id": "",
           "target_model_id": "562540395",
           "weight_max": 0
          }
         },
         "name": "(('4', 'Vip'), ('4', 'Vip'))",
         "post": [
          "4",
          "Vip"
         ],
         "pre": [
          "4",
          "Vip"
         ],
         "probability": 0,
         "property_map": {
          "A_literature": [
           0.262676504817764
          ],
          "A_literature_src": [
           0.262676504817764
          ],
          "B_ratio": null,
          "R0": 75,
          "is_pmax": 1,
          "nsyn_range": [
           3,
           8
          ],
          "post_ei": "i",
          "pre_ei": "i",
          "sigma": 126.77
         }
        }
       },
       "dims": {
        "core_radius": 400,
        "radius": 845
       },
       "ext_networks": {
        "bkg": {
         "connections": {
          "(('bkg', ''), ('4', 'Pvalb'))": {
           "connect_models": {
            "(('bkg', ''), ('4', 'Pvalb'), '478793814')": {
             "dynamics_params": "exc_to_pv.json",
             "name": "(('bkg', ''), ('4', 'Pvalb'), '478793814')",
             "property_map": {
              "nsyns": 1,
              "syn_weight": 7.481130099256e-26,
              "syn_weight_psp": 2.4132677739541942e-24,
              "target_median_fr": 8.86,
              "unitary_PSP": 0.0309999999999917
             },
             "target_model_id": "478793814"
            },
            "(('bkg', ''), ('4', 'Pvalb'), '478958894')": {
             "dynamics_params": "exc_to_pv.json",
             "name": "(('bkg', ''), ('4', 'Pvalb'), '478958894')",
             "property_map": {
              "nsyns": 1,
              "syn_weight": 7.481130099256e-26,
              "syn_weight_psp": 2.4937100330864203e-24,
              "target_median_fr": 8.86,
              "unitary_PSP": 0.0299999999999869
             },
             "target_model_id": "478958894"
            },
            "(('bkg', ''), ('4', 'Pvalb'), '481127173')": {
             "dynamics_params": "exc_to_pv.json",
             "name": "(('bkg', ''), ('4', 'Pvalb'), '481127173')",
             "property_map": {
              "nsyns": 1,
              "syn_weight": 7.481130099256e-26,
              "syn_weight_psp": 2.078091694237699e-24,
              "target_median_fr": 8.86,
              "unitary_PSP": 0.0360000000000013
             },
             "target_model_id": "481127173"
            },
            "(('bkg', ''), ('4', 'Pvalb'), '481127348')": {
             "dynamics_params": "exc_to_pv.json",
             "name": "(('bkg', ''), ('4', 'Pvalb'), '481127348')",
             "property_map": {
              "nsyns": 1,
              "syn_weight": 7.481130099256e-26,
              "syn_weight_psp": 1.6263326302728143e-24,
              "target_median_fr": 8.86,
              "unitary_PSP": 0.0460000000000064
             },
             "target_model_id": "481127348"
            },
            "(('bkg', ''), ('4', 'Pvalb'), '487405644')": {
             "dynamics_params": "exc_to_pv.json",
             "name": "(('bkg', ''), ('4', 'Pvalb'), '487405644')",
             "property_map": {
              "nsyns": 1,
              "syn_weight": 7.481130099256e-26,
              "syn_weight_psp": 1.3602054725918314e-24,
              "target_median_fr": 8.86,
              "unitary_PSP": 0.0550000000000068
             },
             "target_model_id": "487405644"
            },
            "(('bkg', ''), ('4', 'Pvalb'), '487667205')": {
             "dynamics_params": "exc_to_pv.json",
             "name": "(('bkg', ''), ('4', 'Pvalb'), '487667205')",
             "property_map": {
              "nsyns": 1,
              "syn_weight": 7.481130099256e-26,
              "syn_weight_psp": 2.021927053852637e-24,
              "target_median_fr": 8.86,
              "unitary_PSP": 0.0370000000000061
             },
             "target_model_id": "487667205"
            },
            "(('bkg', ''), ('4', 'Pvalb'), '491038812')": {
             "dynamics_params": "exc_to_pv.json",
             "name": "(('bkg', ''), ('4', 'Pvalb'), '491038812')",
             "property_map": {
              "nsyns": 1,
              "syn_weight": 7.481130099256e-26,
              "syn_weight_psp": 2.5797000342265305e-24,
              "target_median_fr": 8.86,
              "unitary_PSP": 0.0289999999999963
             },
             "target_model_id": "491038812"
            },
            "(('bkg', ''), ('4', 'Pvalb'), '569997187')": {
             "dynamics_params": "exc_to_pv.json",
             "name": "(('bkg', ''), ('4', 'Pvalb'), '569997187')",
             "property_map": {
              "nsyns": 1,
              "syn_weight": 7.481130099256e-26,
              "syn_weight_psp": 1.739797697501138e-24,
              "target_median_fr": 8.86,
              "unitary_PSP": 0.0430000000000063
             },
             "target_model_id": "569997187"
            },
            "(('bkg', ''), ('4', 'Pvalb'), '571314481')": {
             "dynamics_params": "exc_to_pv.json",
             "name": "(('bkg', ''), ('4', 'Pvalb'), '571314481')",
             "property_map": {
              "nsyns": 1,
              "syn_weight": 7.481130099256e-26,
              "syn_weight_psp": 1.6263326302733168e-24,
              "target_median_fr": 8.86,
              "unitary_PSP": 0.0459999999999922
             },
             "target_model_id": "571314481"
            },
            "(('bkg', ''), ('4', 'Pvalb'), '572375809')": {
             "dynamics_params": "exc_to_pv.json",
             "name": "(('bkg', ''), ('4', 'Pvalb'), '572375809')",
             "property_map": {
              "nsyns": 1,
              "syn_weight": 7.481130099256e-26,
              "syn_weight_psp": 2.13746574264478e-24,
              "target_median_fr": 8.86,
              "unitary_PSP": 0.0349999999999965
             },
             "target_model_id": "572375809"
            },
            "(('bkg', ''), ('4', 'Pvalb'), '579414994')": {
             "dynamics_params": "exc_to_pv.json",
             "name": "(('bkg', ''), ('4', 'Pvalb'), '579414994')",
             "property_map": {
              "nsyns": 1,
              "syn_weight": 7.481130099256e-26,
              "syn_weight_psp": 2.5797000342258983e-24,
              "target_median_fr": 8.86,
              "unitary_PSP": 0.0290000000000034
             },
             "target_model_id": "579414994"
            }
           },
           "name": "(('bkg', ''), ('4', 'Pvalb'))",
           "post": [
            "4",
            "Pvalb"
           ],
           "pre": [
            "bkg",
            ""
           ],
           "property_map": {
            "n_conn": 4
           }
          },
          "(('bkg', ''), ('4', 'Rorb'))": {
           "connect_models": {
            "(('bkg', ''), ('4', 'Rorb'), '322723785')": {
             "dynamics_params": "exc_to_e4.json",
             "name": "(('bkg', ''), ('4', 'Rorb'), '322723785')",
             "property_map": {
              "nsyns": 1,
              "syn_weight": 7.090524410229e-08,
              "syn_weight_psp": 1.1817540683714552e-06,
              "target_median_fr": 2.12,
              "unitary_PSP": 0.0600000000000022
             },
             "target_model_id": "322723785"
            },
            "(('bkg', ''), ('4', 'Rorb'), '322761772')": {
             "dynamics_params": "exc_to_e4.json",
             "name": "(('bkg', ''), ('4', 'Rorb'), '322761772')",
             "property_map": {
              "nsyns": 1,
              "syn_weight": 7.090524410229e-08,
              "syn_weight_psp": 1.2225042086600262e-06,
              "target_median_fr": 2.12,
              "unitary_PSP": 0.0580000000000069
             },
             "target_model_id": "322761772"
            },
            "(('bkg', ''), ('4', 'Rorb'), '324065524')": {
             "dynamics_params": "exc_to_e4.json",
             "name": "(('bkg', ''), ('4', 'Rorb'), '324065524')",
             "property_map": {
              "nsyns": 1,
              "syn_weight": 7.090524410229e-08,
              "syn_weight_psp": 8.753733839790093e-07,
              "target_median_fr": 2.12,
              "unitary_PSP": 0.0809999999999888
             },
             "target_model_id": "324065524"
            },
            "(('bkg', ''), ('4', 'Rorb'), '329550277')": {
             "dynamics_params": "exc_to_e4.json",
             "name": "(('bkg', ''), ('4', 'Rorb'), '329550277')",
             "property_map": {
              "nsyns": 1,
              "syn_weight": 7.090524410229e-08,
              "syn_weight_psp": 1.1436329693918182e-06,
              "target_median_fr": 2.12,
              "unitary_PSP": 0.0619999999999976
             },
             "target_model_id": "329550277"
            },
            "(('bkg', ''), ('4', 'Rorb'), '466378900')": {
             "dynamics_params": "exc_to_e4.json",
             "name": "(('bkg', ''), ('4', 'Rorb'), '466378900')",
             "property_map": {
              "nsyns": 1,
              "syn_weight": 7.090524410229e-08,
              "syn_weight_psp": 7.624219795944872e-07,
              "target_median_fr": 2.12,
              "unitary_PSP": 0.0930000000000035
             },
             "target_model_id": "466378900"
            },
            "(('bkg', ''), ('4', 'Rorb'), '467003163')": {
             "dynamics_params": "exc_to_e4.json",
             "name": "(('bkg', ''), ('4', 'Rorb'), '467003163')",
             "property_map": {
              "nsyns": 1,
              "syn_weight": 7.090524410229e-08,
              "syn_weight_psp": 1.1623810508573496e-06,
              "target_median_fr": 2.12,
              "unitary_PSP": 0.0609999999999928
             },
             "target_model_id": "467003163"
            },
            "(('bkg', ''), ('4', 'Rorb'), '467357834')": {
             "dynamics_params": "exc_to_e4.json",
             "name": "(('bkg', ''), ('4', 'Rorb'), '467357834')",
             "property_map": {
              "nsyns": 1,
              "syn_weight": 7.090524410229e-08,
              "syn_weight_psp": 1.3130600759682837e-06,
              "target_median_fr": 2.12,
              "unitary_PSP": 0.054000000000002
             },
             "target_model_id": "467357834"
            },
            "(('bkg', ''), ('4', 'Rorb'), '469763389')": {
             "dynamics_params": "exc_to_e4.json",
             "name": "(('bkg', ''), ('4', 'Rorb'), '469763389')",
             "property_map": {
              "nsyns": 1,
              "syn_weight": 7.090524410229e-08,
              "syn_weight_psp": 1.074321880337918e-06,
              "target_median_fr": 2.12,
              "unitary_PSP": 0.0659999999999882
             },
             "target_model_id": "469763389"
            },
            "(('bkg', ''), ('4', 'Rorb'), '473020156')": {
             "dynamics_params": "exc_to_e4.json",
             "name": "(('bkg', ''), ('4', 'Rorb'), '473020156')",
             "property_map": {
              "nsyns": 1,
              "syn_weight": 7.090524410229e-08,
              "syn_weight_psp": 9.20847326003788e-07,
              "target_median_fr": 2.12,
              "unitary_PSP": 0.0769999999999981
             },
             "target_model_id": "473020156"
            },
            "(('bkg', ''), ('4', 'Rorb'), '476562817')": {
             "dynamics_params": "exc_to_e4.json",
             "name": "(('bkg', ''), ('4', 'Rorb'), '476562817')",
             "property_map": {
              "nsyns": 1,
              "syn_weight": 7.090524410229e-08,
              "syn_weight_psp": 1.1623810508573496e-06,
              "target_median_fr": 2.12,
              "unitary_PSP": 0.0609999999999928
             },
             "target_model_id": "476562817"
            },
            "(('bkg', ''), ('4', 'Rorb'), '478586425')": {
             "dynamics_params": "exc_to_e4.json",
             "name": "(('bkg', ''), ('4', 'Rorb'), '478586425')",
             "property_map": {
              "nsyns": 1,
              "syn_weight": 7.090524410229e-08,
              "syn_weight_psp": 1.0582872254071984e-06,
              "target_median_fr": 2.12,
              "unitary_PSP": 0.0670000000000072
             },
             "target_model_id": "478586425"
            },
            "(('bkg', ''), ('4', 'Rorb'), '479179020')": {
             "dynamics_params": "exc_to_e4.json",
             "name": "(('bkg', ''), ('4', 'Rorb'), '479179020')",
             "property_map": {
              "nsyns": 1,
              "syn_weight": 7.090524410229e-08,
              "syn_weight_psp": 1.2439516509173212e-06,
              "target_median_fr": 2.12,
              "unitary_PSP": 0.0570000000000021
             },
             "target_model_id": "479179020"
            },
            "(('bkg', ''), ('4', 'Rorb'), '484679812')": {
             "dynamics_params": "exc_to_e4.json",
             "name": "(('bkg', ''), ('4', 'Rorb'), '484679812')",
             "property_map": {
              "nsyns": 1,
              "syn_weight": 7.090524410229e-08,
              "syn_weight_psp": 9.20847326003788e-07,
              "target_median_fr": 2.12,
              "unitary_PSP": 0.0769999999999981
             },
             "target_model_id": "484679812"
            },
            "(('bkg', ''), ('4', 'Rorb'), '484770879')": {
             "dynamics_params": "exc_to_e4.json",
             "name": "(('bkg', ''), ('4', 'Rorb'), '484770879')",
             "property_map": {
              "nsyns": 1,
              "syn_weight": 7.090524410229e-08,
              "syn_weight_psp": 1.2017837983439491e-06,
              "target_median_fr": 2.12,
              "unitary_PSP": 0.0589999999999975
             },
             "target_model_id": "484770879"
            },
            "(('bkg', ''), ('4', 'Rorb'), '485836906')": {
             "dynamics_params": "exc_to_e4.json",
             "name": "(('bkg', ''), ('4', 'Rorb'), '485836906')",
             "property_map": {
              "nsyns": 1,
              "syn_weight": 7.090524410229e-08,
              "syn_weight_psp": 1.4470457980061433e-06,
              "target_median_fr": 2.12,
              "unitary_PSP": 0.0489999999999923
             },
             "target_model_id": "485836906"
            },
            "(('bkg', ''), ('4', 'Rorb'), '486472847')": {
             "dynamics_params": "exc_to_e4.json",
             "name": "(('bkg', ''), ('4', 'Rorb'), '486472847')",
             "property_map": {
              "nsyns": 1,
              "syn_weight": 7.090524410229e-08,
              "syn_weight_psp": 8.863155512786438e-07,
              "target_median_fr": 2.12,
              "unitary_PSP": 0.0799999999999983
             },
             "target_model_id": "486472847"
            },
            "(('bkg', ''), ('4', 'Rorb'), '486500736')": {
             "dynamics_params": "exc_to_e4.json",
             "name": "(('bkg', ''), ('4', 'Rorb'), '486500736')",
             "property_map": {
              "nsyns": 1,
              "syn_weight": 7.090524410229e-08,
              "syn_weight_psp": 1.7293961976169635e-06,
              "target_median_fr": 2.12,
              "unitary_PSP": 0.0409999999999968
             },
             "target_model_id": "486500736"
            },
            "(('bkg', ''), ('4', 'Rorb'), '490626718')": {
             "dynamics_params": "exc_to_e4.json",
             "name": "(('bkg', ''), ('4', 'Rorb'), '490626718')",
             "property_map": {
              "nsyns": 1,
              "syn_weight": 7.090524410229e-08,
              "syn_weight_psp": 9.986654098914372e-07,
              "target_median_fr": 2.12,
              "unitary_PSP": 0.0709999999999979
             },
             "target_model_id": "490626718"
            },
            "(('bkg', ''), ('4', 'Rorb'), '490626827')": {
             "dynamics_params": "exc_to_e4.json",
             "name": "(('bkg', ''), ('4', 'Rorb'), '490626827')",
             "property_map": {
              "nsyns": 1,
              "syn_weight": 7.090524410229e-08,
              "syn_weight_psp": 1.0582872254071984e-06,
              "target_median_fr": 2.12,
              "unitary_PSP": 0.0670000000000072
             },
             "target_model_id": "490626827"
            },
            "(('bkg', ''), ('4', 'Rorb'), '500859045')": {
             "dynamics_params": "exc_to_e4.json",
             "name": "(('bkg', ''), ('4', 'Rorb'), '500859045')",
             "property_map": {
              "nsyns": 1,
              "syn_weight": 7.090524410229e-08,
              "syn_weight_psp": 1.1623810508570787e-06,
              "target_median_fr": 2.12,
              "unitary_PSP": 0.061000000000007
             },
             "target_model_id": "500859045"
            },
            "(('bkg', ''), ('4', 'Rorb'), '500894271')": {
             "dynamics_params": "exc_to_e4.json",
             "name": "(('bkg', ''), ('4', 'Rorb'), '500894271')",
             "property_map": {
              "nsyns": 1,
              "syn_weight": 7.090524410229e-08,
              "syn_weight_psp": 1.1623810508570787e-06,
              "target_median_fr": 2.12,
              "unitary_PSP": 0.061000000000007
             },
             "target_model_id": "500894271"
            }
           },
           "name": "(('bkg', ''), ('4', 'Rorb'))",
           "post": [
            "4",
            "Rorb"
           ],
           "pre": [
            "bkg",
            ""
           ],
           "property_map": {
            "n_conn": 4
           }
          },
          "(('bkg', ''), ('4', 'Scnn1a'))": {
           "connect_models": {
            "(('bkg', ''), ('4', 'Scnn1a'), '320207387')": {
             "dynamics_params": "exc_to_e4.json",
             "name": "(('bkg', ''), ('4', 'Scnn1a'), '320207387')",
             "property_map": {
              "nsyns": 1,
              "syn_weight": 8.59391427069e-11,
              "syn_weight_psp": 1.5914656056836915e-09,
              "target_median_fr": 2.12,
              "unitary_PSP": 0.0539999999999878
             },
             "target_model_id": "320207387"
            },
            "(('bkg', ''), ('4', 'Scnn1a'), '323838579')": {
             "dynamics_params": "exc_to_e4.json",
             "name": "(('bkg', ''), ('4', 'Scnn1a'), '323838579')",
             "property_map": {
              "nsyns": 1,
              "syn_weight": 8.59391427069e-11,
              "syn_weight_psp": 1.4088384050313126e-09,
              "target_median_fr": 2.12,
              "unitary_PSP": 0.0609999999999928
             },
             "target_model_id": "323838579"
            },
            "(('bkg', ''), ('4', 'Scnn1a'), '476266853')": {
             "dynamics_params": "exc_to_e4.json",
             "name": "(('bkg', ''), ('4', 'Scnn1a'), '476266853')",
             "property_map": {
              "nsyns": 1,
              "syn_weight": 8.59391427069e-11,
              "syn_weight_psp": 1.4323190451149455e-09,
              "target_median_fr": 2.12,
              "unitary_PSP": 0.0600000000000022
             },
             "target_model_id": "476266853"
            },
            "(('bkg', ''), ('4', 'Scnn1a'), '500964358')": {
             "dynamics_params": "exc_to_e4.json",
             "name": "(('bkg', ''), ('4', 'Scnn1a'), '500964358')",
             "property_map": {
              "nsyns": 1,
              "syn_weight": 8.59391427069e-11,
              "syn_weight_psp": 1.562529867397988e-09,
              "target_median_fr": 2.12,
              "unitary_PSP": 0.0550000000000068
             },
             "target_model_id": "500964358"
            },
            "(('bkg', ''), ('4', 'Scnn1a'), '517647182')": {
             "dynamics_params": "exc_to_e4.json",
             "name": "(('bkg', ''), ('4', 'Scnn1a'), '517647182')",
             "property_map": {
              "nsyns": 1,
              "syn_weight": 8.59391427069e-11,
              "syn_weight_psp": 1.5346275483375714e-09,
              "target_median_fr": 2.12,
              "unitary_PSP": 0.0559999999999973
             },
             "target_model_id": "517647182"
            }
           },
           "name": "(('bkg', ''), ('4', 'Scnn1a'))",
           "post": [
            "4",
            "Scnn1a"
           ],
           "pre": [
            "bkg",
            ""
           ],
           "property_map": {
            "n_conn": 4
           }
          },
          "(('bkg', ''), ('4', 'Sst'))": {
           "connect_models": {
            "(('4', 'Sst'), '485061364')": {
             "dynamics_params": "exc_to_sst.json",
             "name": "(('bkg', ''), ('4', 'Sst'), '485061364')",
             "property_map": {
              "nsyns": 1,
              "syn_weight": 3.657252909984,
              "syn_weight_psp": 59.95496573744966,
              "target_median_fr": 3.82,
              "unitary_PSP": 0.0609999999999928
             },
             "target_model_id": "485061364"
            },
            "(('bkg', ''), ('4', 'Sst'), '476099282')": {
             "dynamics_params": "exc_to_sst.json",
             "name": "(('bkg', ''), ('4', 'Sst'), '476099282')",
             "property_map": {
              "nsyns": 1,
              "syn_weight": 3.657252909984,
              "syn_weight_psp": 44.06328807208968,
              "target_median_fr": 3.82,
              "unitary_PSP": 0.0830000000000126
             },
             "target_model_id": "476099282"
            },
            "(('bkg', ''), ('4', 'Sst'), '476753465')": {
             "dynamics_params": "exc_to_sst.json",
             "name": "(('bkg', ''), ('4', 'Sst'), '476753465')",
             "property_map": {
              "nsyns": 1,
              "syn_weight": 3.657252909984,
              "syn_weight_psp": 47.49679103875437,
              "target_median_fr": 3.82,
              "unitary_PSP": 0.0769999999999981
             },
             "target_model_id": "476753465"
            },
            "(('bkg', ''), ('4', 'Sst'), '501280518')": {
             "dynamics_params": "exc_to_sst.json",
             "name": "(('bkg', ''), ('4', 'Sst'), '501280518')",
             "property_map": {
              "nsyns": 1,
              "syn_weight": 3.657252909984,
              "syn_weight_psp": 60.95421516639769,
              "target_median_fr": 3.82,
              "unitary_PSP": 0.0600000000000022
             },
             "target_model_id": "501280518"
            },
            "(('bkg', ''), ('4', 'Sst'), '501282204')": {
             "dynamics_params": "exc_to_sst.json",
             "name": "(('bkg', ''), ('4', 'Sst'), '501282204')",
             "property_map": {
              "nsyns": 1,
              "syn_weight": 3.657252909984,
              "syn_weight_psp": 117.975900322042,
              "target_median_fr": 3.82,
              "unitary_PSP": 0.0310000000000059
             },
             "target_model_id": "501282204"
            },
            "(('bkg', ''), ('4', 'Sst'), '573622646')": {
             "dynamics_params": "exc_to_sst.json",
             "name": "(('bkg', ''), ('4', 'Sst'), '573622646')",
             "property_map": {
              "nsyns": 1,
              "syn_weight": 3.657252909984,
              "syn_weight_psp": 74.63781448945934,
              "target_median_fr": 3.82,
              "unitary_PSP": 0.0490000000000065
             },
             "target_model_id": "573622646"
            }
           },
           "name": "(('bkg', ''), ('4', 'Sst'))",
           "post": [
            "4",
            "Sst"
           ],
           "pre": [
            "bkg",
            ""
           ],
           "property_map": {
            "n_conn": 4
           }
          },
          "(('bkg', ''), ('4', 'Vip'))": {
           "connect_models": {
            "(('bkg', ''), ('4', 'Vip'), '501570114')": {
             "dynamics_params": "exc_to_vip.json",
             "name": "(('bkg', ''), ('4', 'Vip'), '501570114')",
             "property_map": {
              "nsyns": 1,
              "syn_weight": 0.793264203462,
              "syn_weight_psp": 8.913080937775417,
              "target_median_fr": 3.13,
              "unitary_PSP": 0.0889999999999986
             },
             "target_model_id": "501570114"
            },
            "(('bkg', ''), ('4', 'Vip'), '531121585')": {
             "dynamics_params": "exc_to_vip.json",
             "name": "(('bkg', ''), ('4', 'Vip'), '531121585')",
             "property_map": {
              "nsyns": 1,
              "syn_weight": 0.793264203462,
              "syn_weight_psp": 10.86663292413587,
              "target_median_fr": 3.13,
              "unitary_PSP": 0.0730000000000075
             },
             "target_model_id": "531121585"
            },
            "(('bkg', ''), ('4', 'Vip'), '535728342')": {
             "dynamics_params": "exc_to_vip.json",
             "name": "(('bkg', ''), ('4', 'Vip'), '535728342')",
             "property_map": {
              "nsyns": 1,
              "syn_weight": 0.793264203462,
              "syn_weight_psp": 7.4836245609626495,
              "target_median_fr": 3.13,
              "unitary_PSP": 0.1059999999999945
             },
             "target_model_id": "535728342"
            },
            "(('bkg', ''), ('4', 'Vip'), '560690291')": {
             "dynamics_params": "exc_to_vip.json",
             "name": "(('bkg', ''), ('4', 'Vip'), '560690291')",
             "property_map": {
              "nsyns": 1,
              "syn_weight": 0.793264203462,
              "syn_weight_psp": 11.17273526002849,
              "target_median_fr": 3.13,
              "unitary_PSP": 0.0709999999999979
             },
             "target_model_id": "560690291"
            },
            "(('bkg', ''), ('4', 'Vip'), '561934585')": {
             "dynamics_params": "exc_to_vip.json",
             "name": "(('bkg', ''), ('4', 'Vip'), '561934585')",
             "property_map": {
              "nsyns": 1,
              "syn_weight": 0.793264203462,
              "syn_weight_psp": 17.628093410265997,
              "target_median_fr": 3.13,
              "unitary_PSP": 0.0450000000000017
             },
             "target_model_id": "561934585"
            },
            "(('bkg', ''), ('4', 'Vip'), '562540395')": {
             "dynamics_params": "exc_to_vip.json",
             "name": "(('bkg', ''), ('4', 'Vip'), '562540395')",
             "property_map": {
              "nsyns": 1,
              "syn_weight": 0.793264203462,
              "syn_weight_psp": 11.49658265886913,
              "target_median_fr": 3.13,
              "unitary_PSP": 0.0690000000000026
             },
             "target_model_id": "562540395"
            }
           },
           "name": "(('bkg', ''), ('4', 'Vip'))",
           "post": [
            "4",
            "Vip"
           ],
           "pre": [
            "bkg",
            ""
           ],
           "property_map": {
            "n_conn": 4
           }
          }
         },
         "locations": {
          "bkg": {
           "inh_fraction": 0,
           "name": "SG_001",
           "ncells": 100,
           "neurons": {
            "bkg": {
             "ei": "e",
             "name": "bkg",
             "neuron_models": {
              "bkg": {
               "m_type": "virtual",
               "property_map": {},
               "proportion": 1
              }
             }
            }
           },
           "region_fraction": 1
          }
         },
         "name": "bkg",
         "ncells": 100
        },
        "lgn": {
         "connections": {
          "(('lgn', ''), ('4', 'Pvalb'))": {
           "connect_models": {
            "(('lgn', ''), ('4', 'Pvalb'), '478793814')": {
             "dynamics_params": "exc_to_pv.json",
             "name": "(('lgn', ''), ('4', 'Pvalb'), '478793814')",
             "property_map": {
              "syn_weight": 0.345,
              "syn_weight_psp": 7.790322580647246,
              "unitary_PSP": 0.0309999999999917
             },
             "target_model_id": "478793814"
            },
            "(('lgn', ''), ('4', 'Pvalb'), '478958894')": {
             "dynamics_params": "exc_to_pv.json",
             "name": "(('lgn', ''), ('4', 'Pvalb'), '478958894')",
             "property_map": {
              "syn_weight": 0.345,
              "syn_weight_psp": 10.35000000000451,
              "unitary_PSP": 0.0299999999999869
             },
             "target_model_id": "478958894"
            },
            "(('lgn', ''), ('4', 'Pvalb'), '481127173')": {
             "dynamics_params": "exc_to_pv.json",
             "name": "(('lgn', ''), ('4', 'Pvalb'), '481127173')",
             "property_map": {
              "syn_weight": 0.345,
              "syn_weight_psp": 9.58333333333297,
              "unitary_PSP": 0.0360000000000013
             },
             "target_model_id": "481127173"
            },
            "(('lgn', ''), ('4', 'Pvalb'), '481127348')": {
             "dynamics_params": "exc_to_pv.json",
             "name": "(('lgn', ''), ('4', 'Pvalb'), '481127348')",
             "property_map": {
              "syn_weight": 0.345,
              "syn_weight_psp": 7.499999999998943,
              "unitary_PSP": 0.0460000000000064
             },
             "target_model_id": "481127348"
            },
            "(('lgn', ''), ('4', 'Pvalb'), '487405644')": {
             "dynamics_params": "exc_to_pv.json",
             "name": "(('lgn', ''), ('4', 'Pvalb'), '487405644')",
             "property_map": {
              "syn_weight": 0.345,
              "syn_weight_psp": 6.272727272726494,
              "unitary_PSP": 0.0550000000000068
             },
             "target_model_id": "487405644"
            },
            "(('lgn', ''), ('4', 'Pvalb'), '487667205')": {
             "dynamics_params": "exc_to_pv.json",
             "name": "(('lgn', ''), ('4', 'Pvalb'), '487667205')",
             "property_map": {
              "syn_weight": 0.345,
              "syn_weight_psp": 9.324324324322776,
              "unitary_PSP": 0.0370000000000061
             },
             "target_model_id": "487667205"
            },
            "(('lgn', ''), ('4', 'Pvalb'), '491038812')": {
             "dynamics_params": "exc_to_pv.json",
             "name": "(('lgn', ''), ('4', 'Pvalb'), '491038812')",
             "property_map": {
              "syn_weight": 0.345,
              "syn_weight_psp": 11.896551724139425,
              "unitary_PSP": 0.0289999999999963
             },
             "target_model_id": "491038812"
            },
            "(('lgn', ''), ('4', 'Pvalb'), '569997187')": {
             "dynamics_params": "exc_to_pv.json",
             "name": "(('lgn', ''), ('4', 'Pvalb'), '569997187')",
             "property_map": {
              "syn_weight": 0.345,
              "syn_weight_psp": 5.61627906976661,
              "unitary_PSP": 0.0430000000000063
             },
             "target_model_id": "569997187"
            },
            "(('lgn', ''), ('4', 'Pvalb'), '571314481')": {
             "dynamics_params": "exc_to_pv.json",
             "name": "(('lgn', ''), ('4', 'Pvalb'), '571314481')",
             "property_map": {
              "syn_weight": 0.345,
              "syn_weight_psp": 7.500000000001259,
              "unitary_PSP": 0.0459999999999922
             },
             "target_model_id": "571314481"
            },
            "(('lgn', ''), ('4', 'Pvalb'), '572375809')": {
             "dynamics_params": "exc_to_pv.json",
             "name": "(('lgn', ''), ('4', 'Pvalb'), '572375809')",
             "property_map": {
              "syn_weight": 0.345,
              "syn_weight_psp": 7.885714285715053,
              "unitary_PSP": 0.0349999999999965
             },
             "target_model_id": "572375809"
            },
            "(('lgn', ''), ('4', 'Pvalb'), '579414994')": {
             "dynamics_params": "exc_to_pv.json",
             "name": "(('lgn', ''), ('4', 'Pvalb'), '579414994')",
             "property_map": {
              "syn_weight": 0.345,
              "syn_weight_psp": 7.1379310344819045,
              "unitary_PSP": 0.0290000000000034
             },
             "target_model_id": "579414994"
            }
           },
           "name": "(('lgn', ''), ('4', 'Pvalb'))",
           "post": [
            "4",
            "Pvalb"
           ],
           "pre": [
            "lgn",
            ""
           ],
           "property_map": {
            "n_conn": 4
           }
          },
          "(('lgn', ''), ('4', 'Rorb'))": {
           "connect_models": {
            "(('lgn', ''), ('4', 'Rorb'), '322723785')": {
             "dynamics_params": "exc_to_e4.json",
             "name": "(('lgn', ''), ('4', 'Rorb'), '322723785')",
             "property_map": {
              "syn_weight": 0.345,
              "syn_weight_psp": 5.7499999999997815,
              "unitary_PSP": 0.0600000000000022
             },
             "target_model_id": "322723785"
            },
            "(('lgn', ''), ('4', 'Rorb'), '322761772')": {
             "dynamics_params": "exc_to_e4.json",
             "name": "(('lgn', ''), ('4', 'Rorb'), '322761772')",
             "property_map": {
              "syn_weight": 0.345,
              "syn_weight_psp": 5.948275862068254,
              "unitary_PSP": 0.0580000000000069
             },
             "target_model_id": "322761772"
            },
            "(('lgn', ''), ('4', 'Rorb'), '324065524')": {
             "dynamics_params": "exc_to_e4.json",
             "name": "(('lgn', ''), ('4', 'Rorb'), '324065524')",
             "property_map": {
              "syn_weight": 0.345,
              "syn_weight_psp": 4.259259259259845,
              "unitary_PSP": 0.0809999999999888
             },
             "target_model_id": "324065524"
            },
            "(('lgn', ''), ('4', 'Rorb'), '329550277')": {
             "dynamics_params": "exc_to_e4.json",
             "name": "(('lgn', ''), ('4', 'Rorb'), '329550277')",
             "property_map": {
              "syn_weight": 0.345,
              "syn_weight_psp": 5.564516129032472,
              "unitary_PSP": 0.0619999999999976
             },
             "target_model_id": "329550277"
            },
            "(('lgn', ''), ('4', 'Rorb'), '466378900')": {
             "dynamics_params": "exc_to_e4.json",
             "name": "(('lgn', ''), ('4', 'Rorb'), '466378900')",
             "property_map": {
              "syn_weight": 0.345,
              "syn_weight_psp": 3.7096774193546977,
              "unitary_PSP": 0.0930000000000035
             },
             "target_model_id": "466378900"
            },
            "(('lgn', ''), ('4', 'Rorb'), '467003163')": {
             "dynamics_params": "exc_to_e4.json",
             "name": "(('lgn', ''), ('4', 'Rorb'), '467003163')",
             "property_map": {
              "syn_weight": 0.345,
              "syn_weight_psp": 5.655737704918696,
              "unitary_PSP": 0.0609999999999928
             },
             "target_model_id": "467003163"
            },
            "(('lgn', ''), ('4', 'Rorb'), '467357834')": {
             "dynamics_params": "exc_to_e4.json",
             "name": "(('lgn', ''), ('4', 'Rorb'), '467357834')",
             "property_map": {
              "syn_weight": 0.345,
              "syn_weight_psp": 6.388888888888646,
              "unitary_PSP": 0.054000000000002
             },
             "target_model_id": "467357834"
            },
            "(('lgn', ''), ('4', 'Rorb'), '469763389')": {
             "dynamics_params": "exc_to_e4.json",
             "name": "(('lgn', ''), ('4', 'Rorb'), '469763389')",
             "property_map": {
              "syn_weight": 0.345,
              "syn_weight_psp": 5.227272727273654,
              "unitary_PSP": 0.0659999999999882
             },
             "target_model_id": "469763389"
            },
            "(('lgn', ''), ('4', 'Rorb'), '473020156')": {
             "dynamics_params": "exc_to_e4.json",
             "name": "(('lgn', ''), ('4', 'Rorb'), '473020156')",
             "property_map": {
              "syn_weight": 0.345,
              "syn_weight_psp": 4.480519480519586,
              "unitary_PSP": 0.0769999999999981
             },
             "target_model_id": "473020156"
            },
            "(('lgn', ''), ('4', 'Rorb'), '476562817')": {
             "dynamics_params": "exc_to_e4.json",
             "name": "(('lgn', ''), ('4', 'Rorb'), '476562817')",
             "property_map": {
              "syn_weight": 0.345,
              "syn_weight_psp": 5.655737704918696,
              "unitary_PSP": 0.0609999999999928
             },
             "target_model_id": "476562817"
            },
            "(('lgn', ''), ('4', 'Rorb'), '478586425')": {
             "dynamics_params": "exc_to_e4.json",
             "name": "(('lgn', ''), ('4', 'Rorb'), '478586425')",
             "property_map": {
              "syn_weight": 0.345,
              "syn_weight_psp": 5.149253731342724,
              "unitary_PSP": 0.0670000000000072
             },
             "target_model_id": "478586425"
            },
            "(('lgn', ''), ('4', 'Rorb'), '479179020')": {
             "dynamics_params": "exc_to_e4.json",
             "name": "(('lgn', ''), ('4', 'Rorb'), '479179020')",
             "property_map": {
              "syn_weight": 0.345,
              "syn_weight_psp": 5.447368421052425,
              "unitary_PSP": 0.0570000000000021
             },
             "target_model_id": "479179020"
            },
            "(('lgn', ''), ('4', 'Rorb'), '484679812')": {
             "dynamics_params": "exc_to_e4.json",
             "name": "(('lgn', ''), ('4', 'Rorb'), '484679812')",
             "property_map": {
              "syn_weight": 0.345,
              "syn_weight_psp": 4.032467532467628,
              "unitary_PSP": 0.0769999999999981
             },
             "target_model_id": "484679812"
            },
            "(('lgn', ''), ('4', 'Rorb'), '484770879')": {
             "dynamics_params": "exc_to_e4.json",
             "name": "(('lgn', ''), ('4', 'Rorb'), '484770879')",
             "property_map": {
              "syn_weight": 0.345,
              "syn_weight_psp": 5.847457627118891,
              "unitary_PSP": 0.0589999999999975
             },
             "target_model_id": "484770879"
            },
            "(('lgn', ''), ('4', 'Rorb'), '485836906')": {
             "dynamics_params": "exc_to_e4.json",
             "name": "(('lgn', ''), ('4', 'Rorb'), '485836906')",
             "property_map": {
              "syn_weight": 0.345,
              "syn_weight_psp": 7.040816326531706,
              "unitary_PSP": 0.0489999999999923
             },
             "target_model_id": "485836906"
            },
            "(('lgn', ''), ('4', 'Rorb'), '486472847')": {
             "dynamics_params": "exc_to_e4.json",
             "name": "(('lgn', ''), ('4', 'Rorb'), '486472847')",
             "property_map": {
              "syn_weight": 0.345,
              "syn_weight_psp": 4.312500000000092,
              "unitary_PSP": 0.0799999999999983
             },
             "target_model_id": "486472847"
            },
            "(('lgn', ''), ('4', 'Rorb'), '486500736')": {
             "dynamics_params": "exc_to_e4.json",
             "name": "(('lgn', ''), ('4', 'Rorb'), '486500736')",
             "property_map": {
              "syn_weight": 0.345,
              "syn_weight_psp": 8.414634146342117,
              "unitary_PSP": 0.0409999999999968
             },
             "target_model_id": "486500736"
            },
            "(('lgn', ''), ('4', 'Rorb'), '490626718')": {
             "dynamics_params": "exc_to_e4.json",
             "name": "(('lgn', ''), ('4', 'Rorb'), '490626718')",
             "property_map": {
              "syn_weight": 0.345,
              "syn_weight_psp": 4.859154929577604,
              "unitary_PSP": 0.0709999999999979
             },
             "target_model_id": "490626718"
            },
            "(('lgn', ''), ('4', 'Rorb'), '490626827')": {
             "dynamics_params": "exc_to_e4.json",
             "name": "(('lgn', ''), ('4', 'Rorb'), '490626827')",
             "property_map": {
              "syn_weight": 0.345,
              "syn_weight_psp": 5.149253731342724,
              "unitary_PSP": 0.0670000000000072
             },
             "target_model_id": "490626827"
            },
            "(('lgn', ''), ('4', 'Rorb'), '500859045')": {
             "dynamics_params": "exc_to_e4.json",
             "name": "(('lgn', ''), ('4', 'Rorb'), '500859045')",
             "property_map": {
              "syn_weight": 0.345,
              "syn_weight_psp": 5.655737704917379,
              "unitary_PSP": 0.061000000000007
             },
             "target_model_id": "500859045"
            },
            "(('lgn', ''), ('4', 'Rorb'), '500894271')": {
             "dynamics_params": "exc_to_e4.json",
             "name": "(('lgn', ''), ('4', 'Rorb'), '500894271')",
             "property_map": {
              "syn_weight": 0.345,
              "syn_weight_psp": 5.655737704917379,
              "unitary_PSP": 0.061000000000007
             },
             "target_model_id": "500894271"
            }
           },
           "name": "(('lgn', ''), ('4', 'Rorb'))",
           "post": [
            "4",
            "Rorb"
           ],
           "pre": [
            "lgn",
            ""
           ],
           "property_map": {
            "n_conn": 4
           }
          },
          "(('lgn', ''), ('4', 'Scnn1a'))": {
           "connect_models": {
            "(('lgn', ''), ('4', 'Scnn1a'), '320207387')": {
             "dynamics_params": "exc_to_e4.json",
             "name": "(('lgn', ''), ('4', 'Scnn1a'), '320207387')",
             "property_map": {
              "syn_weight": 0.345,
              "syn_weight_psp": 6.388888888890327,
              "unitary_PSP": 0.0539999999999878
             },
             "target_model_id": "320207387"
            },
            "(('lgn', ''), ('4', 'Scnn1a'), '323838579')": {
             "dynamics_params": "exc_to_e4.json",
             "name": "(('lgn', ''), ('4', 'Scnn1a'), '323838579')",
             "property_map": {
              "syn_weight": 0.345,
              "syn_weight_psp": 5.655737704918696,
              "unitary_PSP": 0.0609999999999928
             },
             "target_model_id": "323838579"
            },
            "(('lgn', ''), ('4', 'Scnn1a'), '476266853')": {
             "dynamics_params": "exc_to_e4.json",
             "name": "(('lgn', ''), ('4', 'Scnn1a'), '476266853')",
             "property_map": {
              "syn_weight": 0.345,
              "syn_weight_psp": 5.7499999999997815,
              "unitary_PSP": 0.0600000000000022
             },
             "target_model_id": "476266853"
            },
            "(('lgn', ''), ('4', 'Scnn1a'), '500964358')": {
             "dynamics_params": "exc_to_e4.json",
             "name": "(('lgn', ''), ('4', 'Scnn1a'), '500964358')",
             "property_map": {
              "syn_weight": 0.345,
              "syn_weight_psp": 6.272727272726494,
              "unitary_PSP": 0.0550000000000068
             },
             "target_model_id": "500964358"
            },
            "(('lgn', ''), ('4', 'Scnn1a'), '517647182')": {
             "dynamics_params": "exc_to_e4.json",
             "name": "(('lgn', ''), ('4', 'Scnn1a'), '517647182')",
             "property_map": {
              "syn_weight": 0.345,
              "syn_weight_psp": 5.544642857143115,
              "unitary_PSP": 0.0559999999999973
             },
             "target_model_id": "517647182"
            }
           },
           "name": "(('lgn', ''), ('4', 'Scnn1a'))",
           "post": [
            "4",
            "Scnn1a"
           ],
           "pre": [
            "lgn",
            ""
           ],
           "property_map": {
            "n_conn": 4
           }
          },
          "(('lgn', ''), ('4', 'Sst'))": {
           "connect_models": {
            "(('lgn', ''), ('4', 'Sst'), '476099282')": {
             "dynamics_params": "exc_to_sst.json",
             "name": "(('lgn', ''), ('4', 'Sst'), '476099282')",
             "property_map": {
              "syn_weight": 0.345,
              "syn_weight_psp": 4.156626506023464,
              "unitary_PSP": 0.0830000000000126
             },
             "target_model_id": "476099282"
            },
            "(('lgn', ''), ('4', 'Sst'), '476753465')": {
             "dynamics_params": "exc_to_sst.json",
             "name": "(('lgn', ''), ('4', 'Sst'), '476753465')",
             "property_map": {
              "syn_weight": 0.345,
              "syn_weight_psp": 4.480519480519586,
              "unitary_PSP": 0.0769999999999981
             },
             "target_model_id": "476753465"
            },
            "(('lgn', ''), ('4', 'Sst'), '485061364')": {
             "dynamics_params": "exc_to_sst.json",
             "name": "(('lgn', ''), ('4', 'Sst'), '485061364')",
             "property_map": {
              "syn_weight": 0.345,
              "syn_weight_psp": 5.655737704918696,
              "unitary_PSP": 0.0609999999999928
             },
             "target_model_id": "485061364"
            },
            "(('lgn', ''), ('4', 'Sst'), '501280518')": {
             "dynamics_params": "exc_to_sst.json",
             "name": "(('lgn', ''), ('4', 'Sst'), '501280518')",
             "property_map": {
              "syn_weight": 0.345,
              "syn_weight_psp": 5.7499999999997815,
              "unitary_PSP": 0.0600000000000022
             },
             "target_model_id": "501280518"
            },
            "(('lgn', ''), ('4', 'Sst'), '501282204')": {
             "dynamics_params": "exc_to_sst.json",
             "name": "(('lgn', ''), ('4', 'Sst'), '501282204')",
             "property_map": {
              "syn_weight": 0.345,
              "syn_weight_psp": 11.129032258062391,
              "unitary_PSP": 0.0310000000000059
             },
             "target_model_id": "501282204"
            },
            "(('lgn', ''), ('4', 'Sst'), '573622646')": {
             "dynamics_params": "exc_to_sst.json",
             "name": "(('lgn', ''), ('4', 'Sst'), '573622646')",
             "property_map": {
              "syn_weight": 0.345,
              "syn_weight_psp": 7.040816326529664,
              "unitary_PSP": 0.0490000000000065
             },
             "target_model_id": "573622646"
            }
           },
           "name": "(('lgn', ''), ('4', 'Sst'))",
           "post": [
            "4",
            "Sst"
           ],
           "pre": [
            "lgn",
            ""
           ],
           "property_map": {
            "n_conn": 4
           }
          },
          "(('lgn', ''), ('4', 'Vip'))": {
           "connect_models": {
            "(('lgn', ''), ('4', 'Vip'), '501570114')": {
             "dynamics_params": "exc_to_vip.json",
             "name": "(('lgn', ''), ('4', 'Vip'), '501570114')",
             "property_map": {
              "syn_weight": 0.345,
              "syn_weight_psp": 3.8764044943820815,
              "unitary_PSP": 0.0889999999999986
             },
             "target_model_id": "501570114"
            },
            "(('lgn', ''), ('4', 'Vip'), '531121585')": {
             "dynamics_params": "exc_to_vip.json",
             "name": "(('lgn', ''), ('4', 'Vip'), '531121585')",
             "property_map": {
              "syn_weight": 0.345,
              "syn_weight_psp": 4.726027397259788,
              "unitary_PSP": 0.0730000000000075
             },
             "target_model_id": "531121585"
            },
            "(('lgn', ''), ('4', 'Vip'), '535728342')": {
             "dynamics_params": "exc_to_vip.json",
             "name": "(('lgn', ''), ('4', 'Vip'), '535728342')",
             "property_map": {
              "syn_weight": 0.345,
              "syn_weight_psp": 1.6273584905661214,
              "unitary_PSP": 0.1059999999999945
             },
             "target_model_id": "535728342"
            },
            "(('lgn', ''), ('4', 'Vip'), '560690291')": {
             "dynamics_params": "exc_to_vip.json",
             "name": "(('lgn', ''), ('4', 'Vip'), '560690291')",
             "property_map": {
              "syn_weight": 0.345,
              "syn_weight_psp": 4.859154929577604,
              "unitary_PSP": 0.0709999999999979
             },
             "target_model_id": "560690291"
            },
            "(('lgn', ''), ('4', 'Vip'), '561934585')": {
             "dynamics_params": "exc_to_vip.json",
             "name": "(('lgn', ''), ('4', 'Vip'), '561934585')",
             "property_map": {
              "syn_weight": 0.345,
              "syn_weight_psp": 7.666666666666376,
              "unitary_PSP": 0.0450000000000017
             },
             "target_model_id": "561934585"
            },
            "(('lgn', ''), ('4', 'Vip'), '562540395')": {
             "dynamics_params": "exc_to_vip.json",
             "name": "(('lgn', ''), ('4', 'Vip'), '562540395')",
             "property_map": {
              "syn_weight": 0.345,
              "syn_weight_psp": 4.99999999999981,
              "unitary_PSP": 0.0690000000000026
             },
             "target_model_id": "562540395"
            }
           },
           "name": "(('lgn', ''), ('4', 'Vip'))",
           "post": [
            "4",
            "Vip"
           ],
           "pre": [
            "lgn",
            ""
           ],
           "property_map": {
            "n_conn": 4
           }
          }
         },
         "locations": {
          "lgn": {
           "inh_fraction": 0,
           "name": "lgn",
           "neurons": {
            "sOFF_TF1": {
             "N": 8,
             "dims": {
              "size_range": [
               2,
               10
              ]
             },
             "ei": "e",
             "name": "sOFF_TF1",
             "neuron_models": {
              "sOFF_TF1": {
               "name": "sOFF_TF1",
               "proportion": 1
              }
             },
             "property_map": {
              "level_of_detail": "filter"
             }
            },
            "sOFF_TF15": {
             "N": 7,
             "dims": {
              "size_range": [
               2,
               10
              ]
             },
             "ei": "e",
             "name": "sOFF_TF15",
             "neuron_models": {
              "sOFF_TF15": {
               "name": "sOFF_TF15",
               "proportion": 1
              }
             },
             "property_map": {
              "level_of_detail": "filter"
             }
            },
            "sOFF_TF2": {
             "N": 8,
             "dims": {
              "size_range": [
               2,
               10
              ]
             },
             "ei": "e",
             "name": "sOFF_TF2",
             "neuron_models": {
              "sOFF_TF2": {
               "name": "sOFF_TF2",
               "proportion": 1
              }
             },
             "property_map": {
              "level_of_detail": "filter"
             }
            },
            "sOFF_TF4": {
             "N": 15,
             "dims": {
              "size_range": [
               2,
               10
              ]
             },
             "ei": "e",
             "name": "sOFF_TF4",
             "neuron_models": {
              "sOFF_TF4": {
               "name": "sOFF_TF4",
               "proportion": 1
              }
             },
             "property_map": {
              "level_of_detail": "filter"
             }
            },
            "sOFF_TF8": {
             "N": 8,
             "dims": {
              "size_range": [
               2,
               10
              ]
             },
             "ei": "e",
             "name": "sOFF_TF8",
             "neuron_models": {
              "sOFF_TF8": {
               "name": "sOFF_TF8",
               "proportion": 1
              }
             },
             "property_map": {
              "level_of_detail": "filter"
             }
            },
            "sON_TF1": {
             "N": 7,
             "dims": {
              "size_range": [
               2,
               10
              ]
             },
             "ei": "e",
             "name": "sON_TF1",
             "neuron_models": {
              "sON_TF1": {
               "name": "sON_TF1",
               "proportion": 1
              }
             },
             "property_map": {
              "level_of_detail": "filter"
             }
            },
            "sON_TF2": {
             "N": 5,
             "dims": {
              "size_range": [
               2,
               10
              ]
             },
             "ei": "e",
             "name": "sON_TF2",
             "neuron_models": {
              "sON_TF2": {
               "name": "sON_TF2",
               "proportion": 1
              }
             },
             "property_map": {
              "level_of_detail": "filter"
             }
            },
            "sON_TF4": {
             "N": 7,
             "dims": {
              "size_range": [
               2,
               10
              ]
             },
             "ei": "e",
             "name": "sON_TF4",
             "neuron_models": {
              "sON_TF4": {
               "name": "sON_TF4",
               "proportion": 1
              }
             },
             "property_map": {
              "level_of_detail": "filter"
             }
            },
            "sON_TF8": {
             "N": 15,
             "dims": {
              "size_range": [
               2,
               10
              ]
             },
             "ei": "e",
             "name": "sON_TF8",
             "neuron_models": {
              "sON_TF8": {
               "name": "sON_TF8",
               "proportion": 1
              }
             },
             "property_map": {
              "level_of_detail": "filter"
             }
            },
            "sONsOFF_001": {
             "N": 8,
             "dims": {
              "size_range": [
               6
              ]
             },
             "ei": "e",
             "name": "sONsOFF_001",
             "neuron_models": {
              "sONsOFF_001": {
               "name": "sONsOFF_001",
               "proportion": 1
              }
             },
             "property_map": {
              "level_of_detail": "filter"
             }
            },
            "sONtOFF_001": {
             "N": 5,
             "dims": {
              "size_range": [
               9
              ]
             },
             "ei": "e",
             "name": "sONtOFF_001",
             "neuron_models": {
              "sONtOFF_001": {
               "name": "sONtOFF_001",
               "proportion": 1
              }
             },
             "property_map": {
              "level_of_detail": "filter"
             }
            },
            "tOFF_TF15": {
             "N": 8,
             "dims": {
              "size_range": [
               2,
               10
              ]
             },
             "ei": "e",
             "name": "tOFF_TF15",
             "neuron_models": {
              "tOFF_TF15": {
               "name": "tOFF_TF15",
               "proportion": 1
              }
             },
             "property_map": {
              "level_of_detail": "filter"
             }
            },
            "tOFF_TF4": {
             "N": 10,
             "dims": {
              "size_range": [
               2,
               10
              ]
             },
             "ei": "e",
             "level_of_detail": "filter",
             "name": "tOFF_TF4",
             "neuron_models": {
              "tOFF_TF4": {
               "name": "tOFF_TF4",
               "proportion": 1
              }
             },
             "property_map": {
              "level_of_detail": "filter"
             }
            },
            "tOFF_TF8": {
             "N": 5,
             "dims": {
              "size_range": [
               2,
               10
              ]
             },
             "ei": "e",
             "name": "tOFF_TF8",
             "neuron_models": {
              "tOFF_TF8": {
               "name": "tOFF_TF8",
               "proportion": 1
              }
             },
             "property_map": {
              "level_of_detail": "filter"
             }
            }
           },
           "region_fraction": 1
          }
         },
         "name": "LGN"
        }
       },
       "locations": {
        "VISp4": {
         "dims": {
          "depth_range": [
           357,
           505
          ]
         },
         "name": "VISp4",
         "neurons": {
          "('4', 'Pvalb')": {
           "dims": {
            "nsyn_lognorm_scale": 7432.587,
            "nsyn_lognorm_shape": 0.433
           },
           "ei": "i",
           "fraction": 0,
           "name": "('4', 'Pvalb')"
          },
          "('4', 'Rorb')": {
           "dims": {
            "nsyn_lognorm_scale": 2188.765,
            "nsyn_lognorm_shape": 0.345
           },
           "ei": "e",
           "fraction": 0.5,
           "name": "('4', 'Rorb')"
          },
          "('4', 'Scnn1a')": {
           "dims": {
            "nsyn_lognorm_scale": 2188.765,
            "nsyn_lognorm_shape": 0.345
           },
           "ei": "e",
           "fraction": 0.5,
           "name": "('4', 'Scnn1a')"
          },
          "('4', 'Sst')": {
           "dims": {
            "nsyn_lognorm_scale": 5305.151,
            "nsyn_lognorm_shape": 0.55
           },
           "ei": "i",
           "fraction": 0,
           "name": "('4', 'Sst')"
          },
          "('4', 'Vip')": {
           "dims": {
            "nsyn_lognorm_scale": 2355.279,
            "nsyn_lognorm_shape": 0.537
           },
           "ei": "i",
           "fraction": 0,
           "name": "('4', 'Vip')"
          }
         }
        }
       },
       "name": "User-Mod-V1L4"
      },
      "text/plain": [
       "<IPython.core.display.JSON object>"
      ]
     },
     "execution_count": 7,
     "metadata": {
      "application/json": {
       "expanded": false,
       "root": "root"
      }
     },
     "output_type": "execute_result"
    }
   ],
   "source": [
    "import IPython.display\n",
    "import json\n",
    "with open(custom_mod_file) as ifx:\n",
    "    custom_mod_dict = json.load(ifx)\n",
    "IPython.display.JSON(custom_mod_dict)"
   ]
  },
  {
   "cell_type": "code",
   "execution_count": 8,
   "id": "284af9b6-404d-450f-8db7-407966ae3f64",
   "metadata": {
    "tags": []
   },
   "outputs": [
    {
     "name": "stderr",
     "output_type": "stream",
     "text": [
      "IOPub message rate exceeded.\n",
      "The Jupyter server will temporarily stop sending output\n",
      "to the client in order to avoid crashing it.\n",
      "To change this limit, set the config variable\n",
      "`--ServerApp.iopub_msg_rate_limit`.\n",
      "\n",
      "Current values:\n",
      "ServerApp.iopub_msg_rate_limit=1000.0 (msgs/sec)\n",
      "ServerApp.rate_limit_window=3.0 (secs)\n",
      "\n"
     ]
    }
   ],
   "source": [
    "cmod_view = cbm_tree.NetworkStructureView(custom_mods, left_width=\"55%\")\n",
    "cmod_view.build()\n",
    "cmod_view.layout"
   ]
  },
  {
   "cell_type": "markdown",
   "id": "002a0d46-9eb4-474d-bee6-bc194320b3fc",
   "metadata": {
    "tags": []
   },
   "source": [
    "## Mappers for *Model Recipe* to *SONATA Network*\n",
    "To realize model recipe \n",
    "1. *Region Mapper* : Maps the location to a region in the network\n",
    "2. *Neuron Mapper* : Map the neuron details in the location to a neuron class within the region\n",
    "3. *Connection Mapper*: Map the connection data to a connection object\n",
    "\n",
    "In addition a *Network Builder* class is also defined that translates the model description to SONATA network. "
   ]
  },
  {
   "cell_type": "code",
   "execution_count": 9,
   "id": "918d8f9a-4230-48bf-8c1c-340aa0d3afab",
   "metadata": {
    "tags": []
   },
   "outputs": [],
   "source": [
    "model_recipe = cbm_recipe.ModelRecipe(\n",
    "    recipe_setup=mdr_setup,\n",
    "    region_mapper=mousev1.V1RegionMapper,\n",
    "    neuron_mapper=mousev1.V1NeuronMapper,\n",
    "    connection_mapper=mousev1.V1ConnectionMapper,\n",
    "    network_builder=mousev1.V1BMTKNetworkBuilder,\n",
    "    mod_structure=custom_mods,\n",
    "    save_flag=True,\n",
    "    write_duck=True,\n",
    ")\n",
    "\n",
    "# logging.basicConfig(level=logging.INFO)"
   ]
  },
  {
   "cell_type": "markdown",
   "id": "3e4513b6-fc8b-43c0-8682-4cfb8a93db87",
   "metadata": {},
   "source": [
    "# Data Acquistition\n",
    "\n",
    "Data acquisition consists of the following two steps:\n",
    "\n",
    "## Run Data Download Workflow\n",
    "\n",
    "After the model description is defined and updated with custom user modifications, the download workflow proceeds as follows:\n",
    "1. Download the data\n",
    "2. Apply the filters and transormations\n",
    "3. Map data to the model components\n",
    "4. Apply user modifications\n",
    "5. Build the SONATA file\n",
    "\n",
    "## Run Download Post Operations\n",
    "\n",
    "After data is dowloaded, the data obtained from different databases need to processed separately:\n",
    "\n",
    "1.  In case of the Allen Cell Type database, the download step can be restricted only to obtain the metadata related to cell types. After the meta data is downloaded, we need to acquire the models of interest (3 LIF Models). We use the GLIF API from allensdk to download these 3LIF model with a explained variance threshold.\n",
    "2.  For data from Allen Brain Cell Atlas, we filter the data specific to only the VISp Layer 4\n",
    "3.  For AI Syn Phys. data, we select only the neuron pairs of our interest.\n",
    "\n",
    "We accomplish the above two steps by running acquire_source_data() function."
   ]
  },
  {
   "cell_type": "code",
   "execution_count": 10,
   "id": "bb06abd1-95ef-4284-842e-6bf43b88b302",
   "metadata": {},
   "outputs": [
    {
     "name": "stdout",
     "output_type": "stream",
     "text": [
      "Downloading https://allen-synphys.s3-us-west-2.amazonaws.com/synphys_r2.1_small.sqlite =>\n",
      "  /storage/hive/project/ideas-aluru/schockalingam6/airavata-cerebrum/resources/notebooks/cache/ai_synphys/database/synphys_r2.1_small.sqlite\n",
      "  [####################]  100.00% (176.77 MB / 176.8 MB)  73.363 MB/s  0:00:00 remaining\n",
      "  done.\n"
     ]
    },
    {
     "name": "stderr",
     "output_type": "stream",
     "text": [
      "/storage/hive/project/cse-aluru/schockalingam6/spack/opt/spack/linux-rhel9-cascadelake/gcc-12.3.0/miniforge3-24.3.0-0-aqhmckaascr5r262m24t2yk3fjx52dqs/envs/cerebrum/lib/python3.10/site-packages/aisynphys/connectivity.py:323: RuntimeWarning:Mean of empty slice.\n",
      "/storage/hive/project/cse-aluru/schockalingam6/spack/opt/spack/linux-rhel9-cascadelake/gcc-12.3.0/miniforge3-24.3.0-0-aqhmckaascr5r262m24t2yk3fjx52dqs/envs/cerebrum/lib/python3.10/site-packages/numpy/core/_methods.py:190: RuntimeWarning:invalid value encountered in double_scalars\n",
      "/storage/hive/project/cse-aluru/schockalingam6/spack/opt/spack/linux-rhel9-cascadelake/gcc-12.3.0/miniforge3-24.3.0-0-aqhmckaascr5r262m24t2yk3fjx52dqs/envs/cerebrum/lib/python3.10/site-packages/aisynphys/connectivity.py:329: RuntimeWarning:invalid value encountered in long_scalars\n",
      "/storage/hive/project/cse-aluru/schockalingam6/spack/opt/spack/linux-rhel9-cascadelake/gcc-12.3.0/miniforge3-24.3.0-0-aqhmckaascr5r262m24t2yk3fjx52dqs/envs/cerebrum/lib/python3.10/site-packages/aisynphys/connectivity.py:323: RuntimeWarning:Mean of empty slice.\n",
      "/storage/hive/project/cse-aluru/schockalingam6/spack/opt/spack/linux-rhel9-cascadelake/gcc-12.3.0/miniforge3-24.3.0-0-aqhmckaascr5r262m24t2yk3fjx52dqs/envs/cerebrum/lib/python3.10/site-packages/numpy/core/_methods.py:190: RuntimeWarning:invalid value encountered in double_scalars\n",
      "/storage/hive/project/cse-aluru/schockalingam6/spack/opt/spack/linux-rhel9-cascadelake/gcc-12.3.0/miniforge3-24.3.0-0-aqhmckaascr5r262m24t2yk3fjx52dqs/envs/cerebrum/lib/python3.10/site-packages/aisynphys/connectivity.py:329: RuntimeWarning:invalid value encountered in long_scalars\n",
      "/storage/hive/project/cse-aluru/schockalingam6/spack/opt/spack/linux-rhel9-cascadelake/gcc-12.3.0/miniforge3-24.3.0-0-aqhmckaascr5r262m24t2yk3fjx52dqs/envs/cerebrum/lib/python3.10/site-packages/aisynphys/connectivity.py:323: RuntimeWarning:Mean of empty slice.\n",
      "/storage/hive/project/cse-aluru/schockalingam6/spack/opt/spack/linux-rhel9-cascadelake/gcc-12.3.0/miniforge3-24.3.0-0-aqhmckaascr5r262m24t2yk3fjx52dqs/envs/cerebrum/lib/python3.10/site-packages/numpy/core/_methods.py:190: RuntimeWarning:invalid value encountered in double_scalars\n",
      "/storage/hive/project/cse-aluru/schockalingam6/spack/opt/spack/linux-rhel9-cascadelake/gcc-12.3.0/miniforge3-24.3.0-0-aqhmckaascr5r262m24t2yk3fjx52dqs/envs/cerebrum/lib/python3.10/site-packages/aisynphys/connectivity.py:329: RuntimeWarning:invalid value encountered in long_scalars\n",
      "/storage/hive/project/cse-aluru/schockalingam6/spack/opt/spack/linux-rhel9-cascadelake/gcc-12.3.0/miniforge3-24.3.0-0-aqhmckaascr5r262m24t2yk3fjx52dqs/envs/cerebrum/lib/python3.10/site-packages/aisynphys/connectivity.py:323: RuntimeWarning:Mean of empty slice.\n",
      "/storage/hive/project/cse-aluru/schockalingam6/spack/opt/spack/linux-rhel9-cascadelake/gcc-12.3.0/miniforge3-24.3.0-0-aqhmckaascr5r262m24t2yk3fjx52dqs/envs/cerebrum/lib/python3.10/site-packages/numpy/core/_methods.py:190: RuntimeWarning:invalid value encountered in double_scalars\n",
      "/storage/hive/project/cse-aluru/schockalingam6/spack/opt/spack/linux-rhel9-cascadelake/gcc-12.3.0/miniforge3-24.3.0-0-aqhmckaascr5r262m24t2yk3fjx52dqs/envs/cerebrum/lib/python3.10/site-packages/aisynphys/connectivity.py:329: RuntimeWarning:invalid value encountered in long_scalars\n",
      "/storage/hive/project/cse-aluru/schockalingam6/spack/opt/spack/linux-rhel9-cascadelake/gcc-12.3.0/miniforge3-24.3.0-0-aqhmckaascr5r262m24t2yk3fjx52dqs/envs/cerebrum/lib/python3.10/site-packages/aisynphys/connectivity.py:323: RuntimeWarning:Mean of empty slice.\n",
      "/storage/hive/project/cse-aluru/schockalingam6/spack/opt/spack/linux-rhel9-cascadelake/gcc-12.3.0/miniforge3-24.3.0-0-aqhmckaascr5r262m24t2yk3fjx52dqs/envs/cerebrum/lib/python3.10/site-packages/numpy/core/_methods.py:190: RuntimeWarning:invalid value encountered in double_scalars\n",
      "/storage/hive/project/cse-aluru/schockalingam6/spack/opt/spack/linux-rhel9-cascadelake/gcc-12.3.0/miniforge3-24.3.0-0-aqhmckaascr5r262m24t2yk3fjx52dqs/envs/cerebrum/lib/python3.10/site-packages/aisynphys/connectivity.py:329: RuntimeWarning:invalid value encountered in long_scalars\n",
      "/storage/hive/project/cse-aluru/schockalingam6/spack/opt/spack/linux-rhel9-cascadelake/gcc-12.3.0/miniforge3-24.3.0-0-aqhmckaascr5r262m24t2yk3fjx52dqs/envs/cerebrum/lib/python3.10/site-packages/aisynphys/connectivity.py:323: RuntimeWarning:Mean of empty slice.\n",
      "/storage/hive/project/cse-aluru/schockalingam6/spack/opt/spack/linux-rhel9-cascadelake/gcc-12.3.0/miniforge3-24.3.0-0-aqhmckaascr5r262m24t2yk3fjx52dqs/envs/cerebrum/lib/python3.10/site-packages/numpy/core/_methods.py:190: RuntimeWarning:invalid value encountered in double_scalars\n",
      "/storage/hive/project/cse-aluru/schockalingam6/spack/opt/spack/linux-rhel9-cascadelake/gcc-12.3.0/miniforge3-24.3.0-0-aqhmckaascr5r262m24t2yk3fjx52dqs/envs/cerebrum/lib/python3.10/site-packages/aisynphys/connectivity.py:329: RuntimeWarning:invalid value encountered in long_scalars\n",
      "/storage/hive/project/cse-aluru/schockalingam6/spack/opt/spack/linux-rhel9-cascadelake/gcc-12.3.0/miniforge3-24.3.0-0-aqhmckaascr5r262m24t2yk3fjx52dqs/envs/cerebrum/lib/python3.10/site-packages/aisynphys/connectivity.py:323: RuntimeWarning:Mean of empty slice.\n",
      "/storage/hive/project/cse-aluru/schockalingam6/spack/opt/spack/linux-rhel9-cascadelake/gcc-12.3.0/miniforge3-24.3.0-0-aqhmckaascr5r262m24t2yk3fjx52dqs/envs/cerebrum/lib/python3.10/site-packages/numpy/core/_methods.py:190: RuntimeWarning:invalid value encountered in double_scalars\n",
      "/storage/hive/project/cse-aluru/schockalingam6/spack/opt/spack/linux-rhel9-cascadelake/gcc-12.3.0/miniforge3-24.3.0-0-aqhmckaascr5r262m24t2yk3fjx52dqs/envs/cerebrum/lib/python3.10/site-packages/aisynphys/connectivity.py:329: RuntimeWarning:invalid value encountered in long_scalars\n",
      "/storage/hive/project/cse-aluru/schockalingam6/spack/opt/spack/linux-rhel9-cascadelake/gcc-12.3.0/miniforge3-24.3.0-0-aqhmckaascr5r262m24t2yk3fjx52dqs/envs/cerebrum/lib/python3.10/site-packages/aisynphys/connectivity.py:323: RuntimeWarning:Mean of empty slice.\n",
      "/storage/hive/project/cse-aluru/schockalingam6/spack/opt/spack/linux-rhel9-cascadelake/gcc-12.3.0/miniforge3-24.3.0-0-aqhmckaascr5r262m24t2yk3fjx52dqs/envs/cerebrum/lib/python3.10/site-packages/numpy/core/_methods.py:190: RuntimeWarning:invalid value encountered in double_scalars\n",
      "/storage/hive/project/cse-aluru/schockalingam6/spack/opt/spack/linux-rhel9-cascadelake/gcc-12.3.0/miniforge3-24.3.0-0-aqhmckaascr5r262m24t2yk3fjx52dqs/envs/cerebrum/lib/python3.10/site-packages/aisynphys/connectivity.py:329: RuntimeWarning:invalid value encountered in long_scalars\n",
      "/storage/hive/project/cse-aluru/schockalingam6/spack/opt/spack/linux-rhel9-cascadelake/gcc-12.3.0/miniforge3-24.3.0-0-aqhmckaascr5r262m24t2yk3fjx52dqs/envs/cerebrum/lib/python3.10/site-packages/aisynphys/connectivity.py:323: RuntimeWarning:Mean of empty slice.\n",
      "/storage/hive/project/cse-aluru/schockalingam6/spack/opt/spack/linux-rhel9-cascadelake/gcc-12.3.0/miniforge3-24.3.0-0-aqhmckaascr5r262m24t2yk3fjx52dqs/envs/cerebrum/lib/python3.10/site-packages/numpy/core/_methods.py:190: RuntimeWarning:invalid value encountered in double_scalars\n",
      "/storage/hive/project/cse-aluru/schockalingam6/spack/opt/spack/linux-rhel9-cascadelake/gcc-12.3.0/miniforge3-24.3.0-0-aqhmckaascr5r262m24t2yk3fjx52dqs/envs/cerebrum/lib/python3.10/site-packages/aisynphys/connectivity.py:329: RuntimeWarning:invalid value encountered in long_scalars\n",
      "/storage/hive/project/cse-aluru/schockalingam6/spack/opt/spack/linux-rhel9-cascadelake/gcc-12.3.0/miniforge3-24.3.0-0-aqhmckaascr5r262m24t2yk3fjx52dqs/envs/cerebrum/lib/python3.10/site-packages/aisynphys/connectivity.py:323: RuntimeWarning:Mean of empty slice.\n",
      "/storage/hive/project/cse-aluru/schockalingam6/spack/opt/spack/linux-rhel9-cascadelake/gcc-12.3.0/miniforge3-24.3.0-0-aqhmckaascr5r262m24t2yk3fjx52dqs/envs/cerebrum/lib/python3.10/site-packages/numpy/core/_methods.py:190: RuntimeWarning:invalid value encountered in double_scalars\n",
      "/storage/hive/project/cse-aluru/schockalingam6/spack/opt/spack/linux-rhel9-cascadelake/gcc-12.3.0/miniforge3-24.3.0-0-aqhmckaascr5r262m24t2yk3fjx52dqs/envs/cerebrum/lib/python3.10/site-packages/aisynphys/connectivity.py:329: RuntimeWarning:invalid value encountered in long_scalars\n",
      "/storage/hive/project/cse-aluru/schockalingam6/spack/opt/spack/linux-rhel9-cascadelake/gcc-12.3.0/miniforge3-24.3.0-0-aqhmckaascr5r262m24t2yk3fjx52dqs/envs/cerebrum/lib/python3.10/site-packages/aisynphys/connectivity.py:323: RuntimeWarning:Mean of empty slice.\n",
      "/storage/hive/project/cse-aluru/schockalingam6/spack/opt/spack/linux-rhel9-cascadelake/gcc-12.3.0/miniforge3-24.3.0-0-aqhmckaascr5r262m24t2yk3fjx52dqs/envs/cerebrum/lib/python3.10/site-packages/numpy/core/_methods.py:190: RuntimeWarning:invalid value encountered in double_scalars\n",
      "/storage/hive/project/cse-aluru/schockalingam6/spack/opt/spack/linux-rhel9-cascadelake/gcc-12.3.0/miniforge3-24.3.0-0-aqhmckaascr5r262m24t2yk3fjx52dqs/envs/cerebrum/lib/python3.10/site-packages/aisynphys/connectivity.py:329: RuntimeWarning:invalid value encountered in long_scalars\n",
      "/storage/hive/project/cse-aluru/schockalingam6/spack/opt/spack/linux-rhel9-cascadelake/gcc-12.3.0/miniforge3-24.3.0-0-aqhmckaascr5r262m24t2yk3fjx52dqs/envs/cerebrum/lib/python3.10/site-packages/aisynphys/connectivity.py:323: RuntimeWarning:Mean of empty slice.\n",
      "/storage/hive/project/cse-aluru/schockalingam6/spack/opt/spack/linux-rhel9-cascadelake/gcc-12.3.0/miniforge3-24.3.0-0-aqhmckaascr5r262m24t2yk3fjx52dqs/envs/cerebrum/lib/python3.10/site-packages/numpy/core/_methods.py:190: RuntimeWarning:invalid value encountered in double_scalars\n",
      "/storage/hive/project/cse-aluru/schockalingam6/spack/opt/spack/linux-rhel9-cascadelake/gcc-12.3.0/miniforge3-24.3.0-0-aqhmckaascr5r262m24t2yk3fjx52dqs/envs/cerebrum/lib/python3.10/site-packages/aisynphys/connectivity.py:329: RuntimeWarning:invalid value encountered in long_scalars\n",
      "/storage/hive/project/cse-aluru/schockalingam6/spack/opt/spack/linux-rhel9-cascadelake/gcc-12.3.0/miniforge3-24.3.0-0-aqhmckaascr5r262m24t2yk3fjx52dqs/envs/cerebrum/lib/python3.10/site-packages/aisynphys/connectivity.py:323: RuntimeWarning:Mean of empty slice.\n",
      "/storage/hive/project/cse-aluru/schockalingam6/spack/opt/spack/linux-rhel9-cascadelake/gcc-12.3.0/miniforge3-24.3.0-0-aqhmckaascr5r262m24t2yk3fjx52dqs/envs/cerebrum/lib/python3.10/site-packages/numpy/core/_methods.py:190: RuntimeWarning:invalid value encountered in double_scalars\n",
      "/storage/hive/project/cse-aluru/schockalingam6/spack/opt/spack/linux-rhel9-cascadelake/gcc-12.3.0/miniforge3-24.3.0-0-aqhmckaascr5r262m24t2yk3fjx52dqs/envs/cerebrum/lib/python3.10/site-packages/aisynphys/connectivity.py:329: RuntimeWarning:invalid value encountered in long_scalars\n",
      "/storage/hive/project/cse-aluru/schockalingam6/spack/opt/spack/linux-rhel9-cascadelake/gcc-12.3.0/miniforge3-24.3.0-0-aqhmckaascr5r262m24t2yk3fjx52dqs/envs/cerebrum/lib/python3.10/site-packages/aisynphys/connectivity.py:323: RuntimeWarning:Mean of empty slice.\n",
      "/storage/hive/project/cse-aluru/schockalingam6/spack/opt/spack/linux-rhel9-cascadelake/gcc-12.3.0/miniforge3-24.3.0-0-aqhmckaascr5r262m24t2yk3fjx52dqs/envs/cerebrum/lib/python3.10/site-packages/numpy/core/_methods.py:190: RuntimeWarning:invalid value encountered in double_scalars\n",
      "/storage/hive/project/cse-aluru/schockalingam6/spack/opt/spack/linux-rhel9-cascadelake/gcc-12.3.0/miniforge3-24.3.0-0-aqhmckaascr5r262m24t2yk3fjx52dqs/envs/cerebrum/lib/python3.10/site-packages/aisynphys/connectivity.py:329: RuntimeWarning:invalid value encountered in long_scalars\n",
      "/storage/hive/project/cse-aluru/schockalingam6/spack/opt/spack/linux-rhel9-cascadelake/gcc-12.3.0/miniforge3-24.3.0-0-aqhmckaascr5r262m24t2yk3fjx52dqs/envs/cerebrum/lib/python3.10/site-packages/aisynphys/connectivity.py:323: RuntimeWarning:Mean of empty slice.\n",
      "/storage/hive/project/cse-aluru/schockalingam6/spack/opt/spack/linux-rhel9-cascadelake/gcc-12.3.0/miniforge3-24.3.0-0-aqhmckaascr5r262m24t2yk3fjx52dqs/envs/cerebrum/lib/python3.10/site-packages/numpy/core/_methods.py:190: RuntimeWarning:invalid value encountered in double_scalars\n",
      "/storage/hive/project/cse-aluru/schockalingam6/spack/opt/spack/linux-rhel9-cascadelake/gcc-12.3.0/miniforge3-24.3.0-0-aqhmckaascr5r262m24t2yk3fjx52dqs/envs/cerebrum/lib/python3.10/site-packages/aisynphys/connectivity.py:329: RuntimeWarning:invalid value encountered in long_scalars\n",
      "/storage/hive/project/cse-aluru/schockalingam6/spack/opt/spack/linux-rhel9-cascadelake/gcc-12.3.0/miniforge3-24.3.0-0-aqhmckaascr5r262m24t2yk3fjx52dqs/envs/cerebrum/lib/python3.10/site-packages/aisynphys/connectivity.py:323: RuntimeWarning:Mean of empty slice.\n",
      "/storage/hive/project/cse-aluru/schockalingam6/spack/opt/spack/linux-rhel9-cascadelake/gcc-12.3.0/miniforge3-24.3.0-0-aqhmckaascr5r262m24t2yk3fjx52dqs/envs/cerebrum/lib/python3.10/site-packages/numpy/core/_methods.py:190: RuntimeWarning:invalid value encountered in double_scalars\n",
      "/storage/hive/project/cse-aluru/schockalingam6/spack/opt/spack/linux-rhel9-cascadelake/gcc-12.3.0/miniforge3-24.3.0-0-aqhmckaascr5r262m24t2yk3fjx52dqs/envs/cerebrum/lib/python3.10/site-packages/aisynphys/connectivity.py:329: RuntimeWarning:invalid value encountered in long_scalars\n"
     ]
    }
   ],
   "source": [
    "db_source_data = model_recipe.acquire_source_data()"
   ]
  },
  {
   "cell_type": "markdown",
   "id": "326f59d5-0068-4e9f-ad1c-b247a1457d51",
   "metadata": {},
   "source": [
    "# Explore downloaded data\n",
    "\n",
    "Output data are stored in the description directory in json format (db_connect_output.json), which can be examine with json library. Here are examples of Region and Neuron fractions of the Allen Brain Atlas, and connectivity matrix downloaded from AI Syn. Phys. dataset"
   ]
  },
  {
   "cell_type": "code",
   "execution_count": 11,
   "id": "9330d2d0-aa04-40a0-8266-d0c8aeafb527",
   "metadata": {},
   "outputs": [],
   "source": [
    "import json\n",
    "#\n",
    "with open(\"./v1l4/recipe/db_connect_output.json\") as dbf:\n",
    "    db_out_data = json.load(dbf)"
   ]
  },
  {
   "cell_type": "code",
   "execution_count": 12,
   "id": "7137cc3c-4527-44ce-8388-e48b121fd9ea",
   "metadata": {},
   "outputs": [
    {
     "data": {
      "text/html": [
       "<div><style>\n",
       ".dataframe > thead > tr,\n",
       ".dataframe > tbody > tr {\n",
       "  text-align: right;\n",
       "  white-space: pre-wrap;\n",
       "}\n",
       "</style>\n",
       "<small>shape: (6, 17)</small><table border=\"1\" class=\"dataframe\"><thead><tr><th>Region</th><th>Layer</th><th>nregion</th><th>inhibitory fraction</th><th>fraction wi. region</th><th>Vip fraction</th><th>Pvalb fraction</th><th>Sst fraction</th><th>Lamp5 fraction</th><th>Sst-Chodl fraction</th><th>IT-ENT fraction</th><th>IT-CTX fraction</th><th>IT-Other fraction</th><th>ET fraction</th><th>CT fraction</th><th>NP fraction</th><th>IT fraction</th></tr><tr><td>str</td><td>str</td><td>i64</td><td>f64</td><td>f64</td><td>f64</td><td>f64</td><td>f64</td><td>f64</td><td>f64</td><td>f64</td><td>f64</td><td>f64</td><td>f64</td><td>f64</td><td>f64</td><td>f64</td></tr></thead><tbody><tr><td>&quot;VISp&quot;</td><td>&quot;1&quot;</td><td>61884</td><td>0.405155</td><td>0.069663</td><td>0.147583</td><td>0.038168</td><td>0.035623</td><td>0.720102</td><td>0.007634</td><td>0.001733</td><td>0.986135</td><td>0.001733</td><td>0.0</td><td>0.0</td><td>0.0</td><td>0.989601</td></tr><tr><td>&quot;VISp&quot;</td><td>&quot;2/3&quot;</td><td>61884</td><td>0.078755</td><td>0.34862</td><td>0.31669</td><td>0.332382</td><td>0.161912</td><td>0.158345</td><td>0.00214</td><td>0.0</td><td>1.0</td><td>0.0</td><td>0.0</td><td>0.0</td><td>0.0</td><td>1.0</td></tr><tr><td>&quot;VISp&quot;</td><td>&quot;4&quot;</td><td>61884</td><td>0.111916</td><td>0.209699</td><td>0.131933</td><td>0.532773</td><td>0.315126</td><td>0.018487</td><td>0.0</td><td>0.0</td><td>0.962618</td><td>0.0</td><td>0.029334</td><td>0.000212</td><td>0.007413</td><td>0.962618</td></tr><tr><td>&quot;VISp&quot;</td><td>&quot;5&quot;</td><td>61884</td><td>0.165428</td><td>0.177606</td><td>0.021739</td><td>0.487681</td><td>0.455797</td><td>0.022464</td><td>0.006522</td><td>0.001867</td><td>0.519247</td><td>0.000144</td><td>0.323039</td><td>0.043953</td><td>0.104137</td><td>0.521258</td></tr><tr><td>&quot;VISp&quot;</td><td>&quot;6a&quot;</td><td>61884</td><td>0.062779</td><td>0.163661</td><td>0.038321</td><td>0.562044</td><td>0.34854</td><td>0.025547</td><td>0.010949</td><td>0.001711</td><td>0.212443</td><td>0.001834</td><td>0.000611</td><td>0.75932</td><td>0.005378</td><td>0.215988</td></tr><tr><td>&quot;VISp&quot;</td><td>&quot;6b&quot;</td><td>61884</td><td>0.05291</td><td>0.030751</td><td>0.0375</td><td>0.475</td><td>0.275</td><td>0.0875</td><td>0.075</td><td>0.0</td><td>0.042598</td><td>0.00419</td><td>0.0</td><td>0.725559</td><td>0.0</td><td>0.046788</td></tr></tbody></table></div>"
      ],
      "text/plain": [
       "shape: (6, 17)\n",
       "┌────────┬───────┬─────────┬─────────────┬───┬─────────────┬─────────────┬────────────┬────────────┐\n",
       "│ Region ┆ Layer ┆ nregion ┆ inhibitory  ┆ … ┆ ET fraction ┆ CT fraction ┆ NP         ┆ IT         │\n",
       "│ ---    ┆ ---   ┆ ---     ┆ fraction    ┆   ┆ ---         ┆ ---         ┆ fraction   ┆ fraction   │\n",
       "│ str    ┆ str   ┆ i64     ┆ ---         ┆   ┆ f64         ┆ f64         ┆ ---        ┆ ---        │\n",
       "│        ┆       ┆         ┆ f64         ┆   ┆             ┆             ┆ f64        ┆ f64        │\n",
       "╞════════╪═══════╪═════════╪═════════════╪═══╪═════════════╪═════════════╪════════════╪════════════╡\n",
       "│ VISp   ┆ 1     ┆ 61884   ┆ 0.405155    ┆ … ┆ 0.0         ┆ 0.0         ┆ 0.0        ┆ 0.989601   │\n",
       "│ VISp   ┆ 2/3   ┆ 61884   ┆ 0.078755    ┆ … ┆ 0.0         ┆ 0.0         ┆ 0.0        ┆ 1.0        │\n",
       "│ VISp   ┆ 4     ┆ 61884   ┆ 0.111916    ┆ … ┆ 0.029334    ┆ 0.000212    ┆ 0.007413   ┆ 0.962618   │\n",
       "│ VISp   ┆ 5     ┆ 61884   ┆ 0.165428    ┆ … ┆ 0.323039    ┆ 0.043953    ┆ 0.104137   ┆ 0.521258   │\n",
       "│ VISp   ┆ 6a    ┆ 61884   ┆ 0.062779    ┆ … ┆ 0.000611    ┆ 0.75932     ┆ 0.005378   ┆ 0.215988   │\n",
       "│ VISp   ┆ 6b    ┆ 61884   ┆ 0.05291     ┆ … ┆ 0.0         ┆ 0.725559    ┆ 0.0        ┆ 0.046788   │\n",
       "└────────┴───────┴─────────┴─────────────┴───┴─────────────┴─────────────┴────────────┴────────────┘"
      ]
     },
     "execution_count": 12,
     "metadata": {},
     "output_type": "execute_result"
    }
   ],
   "source": [
    "import airavata_cerebrum.dataset.abc_mouse as abcm\n",
    "abcm.DFBuilder.build(db_out_data['airavata_cerebrum.dataset.abc_mouse'])"
   ]
  },
  {
   "cell_type": "code",
   "execution_count": 13,
   "id": "ad628956-5f2e-400e-9d22-fad860423a61",
   "metadata": {},
   "outputs": [
    {
     "data": {
      "text/html": [
       "<div><style>\n",
       ".dataframe > thead > tr,\n",
       ".dataframe > tbody > tr {\n",
       "  text-align: right;\n",
       "  white-space: pre-wrap;\n",
       "}\n",
       "</style>\n",
       "<small>shape: (16, 3)</small><table border=\"1\" class=\"dataframe\"><thead><tr><th>pre_synapse</th><th>post_synapse</th><th>connect_prob</th></tr><tr><td>str</td><td>str</td><td>f64</td></tr></thead><tbody><tr><td>&quot;L4-Pyr&quot;</td><td>&quot;L4-Pyr&quot;</td><td>0.125985</td></tr><tr><td>&quot;L4-Pyr&quot;</td><td>&quot;L4-Pvalb&quot;</td><td>0.198113</td></tr><tr><td>&quot;L4-Pyr&quot;</td><td>&quot;L4-Sst&quot;</td><td>0.045855</td></tr><tr><td>&quot;L4-Pyr&quot;</td><td>&quot;L4-Vip&quot;</td><td>0.049624</td></tr><tr><td>&quot;L4-Pvalb&quot;</td><td>&quot;L4-Pyr&quot;</td><td>0.356604</td></tr><tr><td>&hellip;</td><td>&hellip;</td><td>&hellip;</td></tr><tr><td>&quot;L4-Sst&quot;</td><td>&quot;L4-Vip&quot;</td><td>0.306504</td></tr><tr><td>&quot;L4-Vip&quot;</td><td>&quot;L4-Pyr&quot;</td><td>0.0</td></tr><tr><td>&quot;L4-Vip&quot;</td><td>&quot;L4-Pvalb&quot;</td><td>0.025412</td></tr><tr><td>&quot;L4-Vip&quot;</td><td>&quot;L4-Sst&quot;</td><td>0.18856</td></tr><tr><td>&quot;L4-Vip&quot;</td><td>&quot;L4-Vip&quot;</td><td>0.03499</td></tr></tbody></table></div>"
      ],
      "text/plain": [
       "shape: (16, 3)\n",
       "┌─────────────┬──────────────┬──────────────┐\n",
       "│ pre_synapse ┆ post_synapse ┆ connect_prob │\n",
       "│ ---         ┆ ---          ┆ ---          │\n",
       "│ str         ┆ str          ┆ f64          │\n",
       "╞═════════════╪══════════════╪══════════════╡\n",
       "│ L4-Pyr      ┆ L4-Pyr       ┆ 0.125985     │\n",
       "│ L4-Pyr      ┆ L4-Pvalb     ┆ 0.198113     │\n",
       "│ L4-Pyr      ┆ L4-Sst       ┆ 0.045855     │\n",
       "│ L4-Pyr      ┆ L4-Vip       ┆ 0.049624     │\n",
       "│ L4-Pvalb    ┆ L4-Pyr       ┆ 0.356604     │\n",
       "│ …           ┆ …            ┆ …            │\n",
       "│ L4-Sst      ┆ L4-Vip       ┆ 0.306504     │\n",
       "│ L4-Vip      ┆ L4-Pyr       ┆ 0.0          │\n",
       "│ L4-Vip      ┆ L4-Pvalb     ┆ 0.025412     │\n",
       "│ L4-Vip      ┆ L4-Sst       ┆ 0.18856      │\n",
       "│ L4-Vip      ┆ L4-Vip       ┆ 0.03499      │\n",
       "└─────────────┴──────────────┴──────────────┘"
      ]
     },
     "execution_count": 13,
     "metadata": {},
     "output_type": "execute_result"
    }
   ],
   "source": [
    "import airavata_cerebrum.dataset.ai_synphys as aisp\n",
    "aisp.DFBuilder.build(db_out_data['airavata_cerebrum.dataset.ai_synphys'])"
   ]
  },
  {
   "attachments": {
    "6dc5de3e-7846-4500-b793-438fb0a4eae8.png": {
     "image/png": "[encoded data removed]"
    },
    "cc395c63-0a01-43de-a7cf-028b392f5071.png": {
     "image/png": "[encoded data removed]"
    }
   },
   "cell_type": "markdown",
   "id": "55490eef-d213-44ca-8722-657d4a040be1",
   "metadata": {},
   "source": [
    "## Mapping Source data\n",
    "\n",
    "In this step, the data downloaded is mapped to the locations and the connection pairs as mentioned in \"Data2Model Map\" section above.\n",
    "\n",
    "A snapshot of the mapping is shown below:\n",
    "\n",
    "\n",
    "![image.png](attachment:6dc5de3e-7846-4500-b793-438fb0a4eae8.png) ![image.png](attachment:cc395c63-0a01-43de-a7cf-028b392f5071.png)"
   ]
  },
  {
   "cell_type": "code",
   "execution_count": 14,
   "id": "8fc0048a-9b94-4d7d-8f36-c9441d191be9",
   "metadata": {},
   "outputs": [
    {
     "name": "stderr",
     "output_type": "stream",
     "text": [
      "INFO:airavata_cerebrum.workflow:Processing db connection for neuron [property_map]\n",
      "INFO:airavata_cerebrum.workflow:Start op workflow for db [airavata_cerebrum.dataset.abc_mouse]\n",
      "INFO:airavata_cerebrum.workflow:Running XFormer : [Select Region]\n",
      "INFO:airavata_cerebrum.workflow:Complete XForm : [Select Region]\n",
      "INFO:airavata_cerebrum.workflow:Complete op workflow for db [airavata_cerebrum.dataset.abc_mouse]\n",
      "INFO:airavata_cerebrum.workflow:Completed db connection for neuron [property_map]\n",
      "INFO:airavata_cerebrum.workflow:Processing db connection for neuron [('4', 'Scnn1a')]\n",
      "INFO:airavata_cerebrum.workflow:Start op workflow for db [airavata_cerebrum.dataset.abm_celltypes]\n",
      "INFO:airavata_cerebrum.workflow:Running XFormer : [Select Line]\n",
      "INFO:airavata_cerebrum.operations.dict_filter:IterAttrFilter Args : (key:ct, filters:[('line_name', <built-in function contains>, 'Scnn1a'), ('cell_reporter_status', <built-in function eq>, 'positive')])\n",
      "INFO:airavata_cerebrum.workflow:Complete XForm : [Select Line]\n",
      "INFO:airavata_cerebrum.workflow:Complete op workflow for db [airavata_cerebrum.dataset.abm_celltypes]\n",
      "INFO:airavata_cerebrum.workflow:Start op workflow for db [airavata_cerebrum.dataset.abc_mouse]\n",
      "INFO:airavata_cerebrum.workflow:Running XFormer : [Select Region/Type]\n",
      "INFO:airavata_cerebrum.workflow:Complete XForm : [Select Region/Type]\n",
      "INFO:airavata_cerebrum.workflow:Complete op workflow for db [airavata_cerebrum.dataset.abc_mouse]\n",
      "INFO:airavata_cerebrum.workflow:Completed db connection for neuron [('4', 'Scnn1a')]\n",
      "INFO:airavata_cerebrum.workflow:Processing db connection for neuron [('4', 'Rorb')]\n",
      "INFO:airavata_cerebrum.workflow:Start op workflow for db [airavata_cerebrum.dataset.abm_celltypes]\n",
      "INFO:airavata_cerebrum.workflow:Running XFormer : [Select Line]\n",
      "INFO:airavata_cerebrum.operations.dict_filter:IterAttrFilter Args : (key:ct, filters:[('line_name', <built-in function contains>, 'Rorb'), ('cell_reporter_status', <built-in function eq>, 'positive')])\n",
      "INFO:airavata_cerebrum.workflow:Complete XForm : [Select Line]\n",
      "INFO:airavata_cerebrum.workflow:Complete op workflow for db [airavata_cerebrum.dataset.abm_celltypes]\n",
      "INFO:airavata_cerebrum.workflow:Start op workflow for db [airavata_cerebrum.dataset.abc_mouse]\n",
      "INFO:airavata_cerebrum.workflow:Running XFormer : [Select Region/Type]\n",
      "INFO:airavata_cerebrum.workflow:Complete XForm : [Select Region/Type]\n",
      "INFO:airavata_cerebrum.workflow:Complete op workflow for db [airavata_cerebrum.dataset.abc_mouse]\n",
      "INFO:airavata_cerebrum.workflow:Completed db connection for neuron [('4', 'Rorb')]\n",
      "INFO:airavata_cerebrum.workflow:Processing db connection for neuron [('4', 'Vip')]\n",
      "INFO:airavata_cerebrum.workflow:Start op workflow for db [airavata_cerebrum.dataset.abm_celltypes]\n",
      "INFO:airavata_cerebrum.workflow:Running XFormer : [Select Line]\n",
      "INFO:airavata_cerebrum.operations.dict_filter:IterAttrFilter Args : (key:ct, filters:[('line_name', <built-in function contains>, 'Vip-'), ('cell_reporter_status', <built-in function eq>, 'positive')])\n",
      "INFO:airavata_cerebrum.workflow:Complete XForm : [Select Line]\n",
      "INFO:airavata_cerebrum.workflow:Complete op workflow for db [airavata_cerebrum.dataset.abm_celltypes]\n",
      "INFO:airavata_cerebrum.workflow:Start op workflow for db [airavata_cerebrum.dataset.abc_mouse]\n",
      "INFO:airavata_cerebrum.workflow:Running XFormer : [Select Region/Type]\n",
      "INFO:airavata_cerebrum.workflow:Complete XForm : [Select Region/Type]\n",
      "INFO:airavata_cerebrum.workflow:Complete op workflow for db [airavata_cerebrum.dataset.abc_mouse]\n",
      "INFO:airavata_cerebrum.workflow:Completed db connection for neuron [('4', 'Vip')]\n",
      "INFO:airavata_cerebrum.workflow:Processing db connection for neuron [('4', 'Pvalb')]\n",
      "INFO:airavata_cerebrum.workflow:Start op workflow for db [airavata_cerebrum.dataset.abm_celltypes]\n",
      "INFO:airavata_cerebrum.workflow:Running XFormer : [Select Line]\n",
      "INFO:airavata_cerebrum.operations.dict_filter:IterAttrFilter Args : (key:ct, filters:[('line_name', <built-in function contains>, 'Pvalb-IRES'), ('cell_reporter_status', <built-in function eq>, 'positive')])\n",
      "INFO:airavata_cerebrum.workflow:Complete XForm : [Select Line]\n",
      "INFO:airavata_cerebrum.workflow:Complete op workflow for db [airavata_cerebrum.dataset.abm_celltypes]\n",
      "INFO:airavata_cerebrum.workflow:Start op workflow for db [airavata_cerebrum.dataset.abc_mouse]\n",
      "INFO:airavata_cerebrum.workflow:Running XFormer : [Select Region/Type]\n",
      "INFO:airavata_cerebrum.workflow:Complete XForm : [Select Region/Type]\n",
      "INFO:airavata_cerebrum.workflow:Complete op workflow for db [airavata_cerebrum.dataset.abc_mouse]\n",
      "INFO:airavata_cerebrum.workflow:Completed db connection for neuron [('4', 'Pvalb')]\n",
      "INFO:airavata_cerebrum.workflow:Processing db connection for neuron [('4', 'Sst')]\n",
      "INFO:airavata_cerebrum.workflow:Start op workflow for db [airavata_cerebrum.dataset.abm_celltypes]\n",
      "INFO:airavata_cerebrum.workflow:Running XFormer : [Select Line]\n",
      "INFO:airavata_cerebrum.operations.dict_filter:IterAttrFilter Args : (key:ct, filters:[('line_name', <built-in function contains>, 'Sst'), ('cell_reporter_status', <built-in function eq>, 'positive')])\n",
      "INFO:airavata_cerebrum.workflow:Complete XForm : [Select Line]\n",
      "INFO:airavata_cerebrum.workflow:Complete op workflow for db [airavata_cerebrum.dataset.abm_celltypes]\n",
      "INFO:airavata_cerebrum.workflow:Start op workflow for db [airavata_cerebrum.dataset.abc_mouse]\n",
      "INFO:airavata_cerebrum.workflow:Running XFormer : [Select Region/Type]\n",
      "INFO:airavata_cerebrum.workflow:Complete XForm : [Select Region/Type]\n",
      "INFO:airavata_cerebrum.workflow:Complete op workflow for db [airavata_cerebrum.dataset.abc_mouse]\n",
      "INFO:airavata_cerebrum.workflow:Completed db connection for neuron [('4', 'Sst')]\n",
      "INFO:airavata_cerebrum.workflow:Processing db data for connex [(('4', 'Pvalb'), ('4', 'Pvalb'))]\n",
      "INFO:airavata_cerebrum.workflow:Start op workflow for db [airavata_cerebrum.dataset.ai_synphys]\n",
      "INFO:airavata_cerebrum.workflow:Running XFormer : [Filter by Pair]\n",
      "INFO:airavata_cerebrum.workflow:Complete XForm : [Filter by Pair]\n",
      "INFO:airavata_cerebrum.workflow:Complete op workflow for db [airavata_cerebrum.dataset.ai_synphys]\n",
      "INFO:airavata_cerebrum.workflow:Completed db data for connex [(('4', 'Pvalb'), ('4', 'Pvalb'))]\n",
      "INFO:airavata_cerebrum.workflow:Processing db data for connex [(('4', 'Pvalb'), ('4', 'Sst'))]\n",
      "INFO:airavata_cerebrum.workflow:Start op workflow for db [airavata_cerebrum.dataset.ai_synphys]\n",
      "INFO:airavata_cerebrum.workflow:Running XFormer : [Filter by Pair]\n",
      "INFO:airavata_cerebrum.workflow:Complete XForm : [Filter by Pair]\n",
      "INFO:airavata_cerebrum.workflow:Complete op workflow for db [airavata_cerebrum.dataset.ai_synphys]\n",
      "INFO:airavata_cerebrum.workflow:Completed db data for connex [(('4', 'Pvalb'), ('4', 'Sst'))]\n",
      "INFO:airavata_cerebrum.workflow:Processing db data for connex [(('4', 'Pvalb'), ('4', 'Vip'))]\n",
      "INFO:airavata_cerebrum.workflow:Start op workflow for db [airavata_cerebrum.dataset.ai_synphys]\n",
      "INFO:airavata_cerebrum.workflow:Running XFormer : [Filter by Pair]\n",
      "INFO:airavata_cerebrum.workflow:Complete XForm : [Filter by Pair]\n",
      "INFO:airavata_cerebrum.workflow:Complete op workflow for db [airavata_cerebrum.dataset.ai_synphys]\n",
      "INFO:airavata_cerebrum.workflow:Completed db data for connex [(('4', 'Pvalb'), ('4', 'Vip'))]\n",
      "INFO:airavata_cerebrum.workflow:Processing db data for connex [(('4', 'Sst'), ('4', 'Pvalb'))]\n",
      "INFO:airavata_cerebrum.workflow:Start op workflow for db [airavata_cerebrum.dataset.ai_synphys]\n",
      "INFO:airavata_cerebrum.workflow:Running XFormer : [Filter by Pair]\n",
      "INFO:airavata_cerebrum.workflow:Complete XForm : [Filter by Pair]\n",
      "INFO:airavata_cerebrum.workflow:Complete op workflow for db [airavata_cerebrum.dataset.ai_synphys]\n",
      "INFO:airavata_cerebrum.workflow:Completed db data for connex [(('4', 'Sst'), ('4', 'Pvalb'))]\n",
      "INFO:airavata_cerebrum.workflow:Processing db data for connex [(('4', 'Sst'), ('4', 'Sst'))]\n",
      "INFO:airavata_cerebrum.workflow:Start op workflow for db [airavata_cerebrum.dataset.ai_synphys]\n",
      "INFO:airavata_cerebrum.workflow:Running XFormer : [Filter by Pair]\n",
      "INFO:airavata_cerebrum.workflow:Complete XForm : [Filter by Pair]\n",
      "INFO:airavata_cerebrum.workflow:Complete op workflow for db [airavata_cerebrum.dataset.ai_synphys]\n",
      "INFO:airavata_cerebrum.workflow:Completed db data for connex [(('4', 'Sst'), ('4', 'Sst'))]\n",
      "INFO:airavata_cerebrum.workflow:Processing db data for connex [(('4', 'Sst'), ('4', 'Vip'))]\n",
      "INFO:airavata_cerebrum.workflow:Start op workflow for db [airavata_cerebrum.dataset.ai_synphys]\n",
      "INFO:airavata_cerebrum.workflow:Running XFormer : [Filter by Pair]\n",
      "INFO:airavata_cerebrum.workflow:Complete XForm : [Filter by Pair]\n",
      "INFO:airavata_cerebrum.workflow:Complete op workflow for db [airavata_cerebrum.dataset.ai_synphys]\n",
      "INFO:airavata_cerebrum.workflow:Completed db data for connex [(('4', 'Sst'), ('4', 'Vip'))]\n",
      "INFO:airavata_cerebrum.workflow:Processing db data for connex [(('4', 'Vip'), ('4', 'Pvalb'))]\n",
      "INFO:airavata_cerebrum.workflow:Start op workflow for db [airavata_cerebrum.dataset.ai_synphys]\n",
      "INFO:airavata_cerebrum.workflow:Running XFormer : [Filter by Pair]\n",
      "INFO:airavata_cerebrum.workflow:Complete XForm : [Filter by Pair]\n",
      "INFO:airavata_cerebrum.workflow:Complete op workflow for db [airavata_cerebrum.dataset.ai_synphys]\n",
      "INFO:airavata_cerebrum.workflow:Completed db data for connex [(('4', 'Vip'), ('4', 'Pvalb'))]\n",
      "INFO:airavata_cerebrum.workflow:Processing db data for connex [(('4', 'Vip'), ('4', 'Sst'))]\n",
      "INFO:airavata_cerebrum.workflow:Start op workflow for db [airavata_cerebrum.dataset.ai_synphys]\n",
      "INFO:airavata_cerebrum.workflow:Running XFormer : [Filter by Pair]\n",
      "INFO:airavata_cerebrum.workflow:Complete XForm : [Filter by Pair]\n",
      "INFO:airavata_cerebrum.workflow:Complete op workflow for db [airavata_cerebrum.dataset.ai_synphys]\n",
      "INFO:airavata_cerebrum.workflow:Completed db data for connex [(('4', 'Vip'), ('4', 'Sst'))]\n",
      "INFO:airavata_cerebrum.workflow:Processing db data for connex [(('4', 'Vip'), ('4', 'Vip'))]\n",
      "INFO:airavata_cerebrum.workflow:Start op workflow for db [airavata_cerebrum.dataset.ai_synphys]\n",
      "INFO:airavata_cerebrum.workflow:Running XFormer : [Filter by Pair]\n",
      "INFO:airavata_cerebrum.workflow:Complete XForm : [Filter by Pair]\n",
      "INFO:airavata_cerebrum.workflow:Complete op workflow for db [airavata_cerebrum.dataset.ai_synphys]\n",
      "INFO:airavata_cerebrum.workflow:Completed db data for connex [(('4', 'Vip'), ('4', 'Vip'))]\n"
     ]
    }
   ],
   "source": [
    "logging.basicConfig(level=logging.INFO)\n",
    "#\n",
    "msrc = model_recipe.map_source_data()"
   ]
  },
  {
   "cell_type": "markdown",
   "id": "afea141a-7ebe-4d7f-ac54-1315f9c05649",
   "metadata": {},
   "source": [
    "# Apply User Modification\n",
    "\n",
    "As mentioned in the \"User Modification\" section above user updates for the model are loaded from \"./v1l4/description/custom_mod.json\".\n",
    "\n",
    "For V1L4, the user modification include dimension, additional connection properties, and properties of external netowrks\n"
   ]
  },
  {
   "cell_type": "code",
   "execution_count": 15,
   "id": "ef07a5b7-fa5c-4b23-8404-920753631614",
   "metadata": {},
   "outputs": [
    {
     "data": {
      "application/json": {
       "connections": {
        "(('4', 'Pvalb'), ('4', 'Pvalb'))": {
         "connect_models": {
          "(('4', 'Pvalb', ''), ('4', 'Pvalb', '478793814'))": {
           "delay": 1.01,
           "name": "(('4', 'Pvalb', ''), ('4', 'Pvalb', '478793814'))",
           "property_map": {
            "PSP_scale_factor": 0.037,
            "lognorm_scale": 0.5199354476,
            "lognorm_shape": 0.6828453321,
            "params_file": "pv_to_pv.json",
            "synphys_mean": 0.6521111955
           },
           "source_model_id": "",
           "target_model_id": "478793814",
           "weight_max": -6.3513513514
          },
          "(('4', 'Pvalb', ''), ('4', 'Pvalb', '478958894'))": {
           "delay": 1.01,
           "name": "(('4', 'Pvalb', ''), ('4', 'Pvalb', '478958894'))",
           "property_map": {
            "PSP_scale_factor": 0.036,
            "lognorm_scale": 0.5199354476,
            "lognorm_shape": 0.6828453321,
            "params_file": "pv_to_pv.json",
            "synphys_mean": 0.6521111955
           },
           "source_model_id": "",
           "target_model_id": "478958894",
           "weight_max": -6.9117647059
          },
          "(('4', 'Pvalb', ''), ('4', 'Pvalb', '481127173'))": {
           "delay": 1.01,
           "name": "(('4', 'Pvalb', ''), ('4', 'Pvalb', '481127173'))",
           "property_map": {
            "PSP_scale_factor": 0.043,
            "lognorm_scale": 0.5199354476,
            "lognorm_shape": 0.6828453321,
            "params_file": "pv_to_pv.json",
            "synphys_mean": 0.6521111955
           },
           "source_model_id": "",
           "target_model_id": "481127173",
           "weight_max": -5.9493670886
          },
          "(('4', 'Pvalb', ''), ('4', 'Pvalb', '481127348'))": {
           "delay": 1.01,
           "name": "(('4', 'Pvalb', ''), ('4', 'Pvalb', '481127348'))",
           "property_map": {
            "PSP_scale_factor": 0.055,
            "lognorm_scale": 0.5199354476,
            "lognorm_shape": 0.6828453321,
            "params_file": "pv_to_pv.json",
            "synphys_mean": 0.6521111955
           },
           "source_model_id": "",
           "target_model_id": "481127348",
           "weight_max": -4.3518518519
          },
          "(('4', 'Pvalb', ''), ('4', 'Pvalb', '487405644'))": {
           "delay": 1.01,
           "name": "(('4', 'Pvalb', ''), ('4', 'Pvalb', '487405644'))",
           "property_map": {
            "PSP_scale_factor": 0.065,
            "lognorm_scale": 0.5199354476,
            "lognorm_shape": 0.6828453321,
            "params_file": "pv_to_pv.json",
            "synphys_mean": 0.6521111955
           },
           "source_model_id": "",
           "target_model_id": "487405644",
           "weight_max": -3.9830508475
          },
          "(('4', 'Pvalb', ''), ('4', 'Pvalb', '487667205'))": {
           "delay": 1.01,
           "name": "(('4', 'Pvalb', ''), ('4', 'Pvalb', '487667205'))",
           "property_map": {
            "PSP_scale_factor": 0.044,
            "lognorm_scale": 0.5199354476,
            "lognorm_shape": 0.6828453321,
            "params_file": "pv_to_pv.json",
            "synphys_mean": 0.6521111955
           },
           "source_model_id": "",
           "target_model_id": "487667205",
           "weight_max": -5.5952380952
          },
          "(('4', 'Pvalb', ''), ('4', 'Pvalb', '491038812'))": {
           "delay": 1.01,
           "name": "(('4', 'Pvalb', ''), ('4', 'Pvalb', '491038812'))",
           "property_map": {
            "PSP_scale_factor": 0.034,
            "lognorm_scale": 0.5199354476,
            "lognorm_shape": 0.6828453321,
            "params_file": "pv_to_pv.json",
            "synphys_mean": 0.6521111955
           },
           "source_model_id": "",
           "target_model_id": "491038812",
           "weight_max": -7.8333333333
          },
          "(('4', 'Pvalb', ''), ('4', 'Pvalb', '569997187'))": {
           "delay": 1.01,
           "name": "(('4', 'Pvalb', ''), ('4', 'Pvalb', '569997187'))",
           "property_map": {
            "PSP_scale_factor": 0.053,
            "lognorm_scale": 0.5199354476,
            "lognorm_shape": 0.6828453321,
            "params_file": "pv_to_pv.json",
            "synphys_mean": 0.6521111955
           },
           "source_model_id": "",
           "target_model_id": "569997187",
           "weight_max": -4.1228070175
          },
          "(('4', 'Pvalb', ''), ('4', 'Pvalb', '571314481'))": {
           "delay": 1.01,
           "name": "(('4', 'Pvalb', ''), ('4', 'Pvalb', '571314481'))",
           "property_map": {
            "PSP_scale_factor": 0.055,
            "lognorm_scale": 0.5199354476,
            "lognorm_shape": 0.6828453321,
            "params_file": "pv_to_pv.json",
            "synphys_mean": 0.6521111955
           },
           "source_model_id": "",
           "target_model_id": "571314481",
           "weight_max": -4.4339622642
          },
          "(('4', 'Pvalb', ''), ('4', 'Pvalb', '572375809'))": {
           "delay": 1.01,
           "name": "(('4', 'Pvalb', ''), ('4', 'Pvalb', '572375809'))",
           "property_map": {
            "PSP_scale_factor": 0.043,
            "lognorm_scale": 0.5199354476,
            "lognorm_shape": 0.6828453321,
            "params_file": "pv_to_pv.json",
            "synphys_mean": 0.6521111955
           },
           "source_model_id": "",
           "target_model_id": "572375809",
           "weight_max": -5.6626506024
          },
          "(('4', 'Pvalb', ''), ('4', 'Pvalb', '579414994'))": {
           "delay": 1.01,
           "name": "(('4', 'Pvalb', ''), ('4', 'Pvalb', '579414994'))",
           "property_map": {
            "PSP_scale_factor": 0.035,
            "lognorm_scale": 0.5199354476,
            "lognorm_shape": 0.6828453321,
            "params_file": "pv_to_pv.json",
            "synphys_mean": 0.6521111955
           },
           "source_model_id": "",
           "target_model_id": "579414994",
           "weight_max": 0
          }
         },
         "name": "(('4', 'Pvalb'), ('4', 'Pvalb'))",
         "post": [
          "4",
          "Pvalb"
         ],
         "pre": [
          "4",
          "Pvalb"
         ],
         "probability": 0,
         "property_map": {
          "A_literature": [
           0.633215339219893
          ],
          "A_literature_src": [
           0.633215339219893
          ],
          "B_ratio": null,
          "R0": 75,
          "is_pmax": 1,
          "nsyn_range": [
           3,
           8
          ],
          "post_ei": "i",
          "pre_ei": "i",
          "sigma": 126.77
         }
        },
        "(('4', 'Pvalb'), ('4', 'Rorb'))": {
         "connect_models": {
          "(('4', 'Pvalb', ''), ('4', 'Rorb', '322723785'))": {
           "delay": 0.96,
           "name": "(('4', 'Pvalb', ''), ('4', 'Rorb', '322723785'))",
           "property_map": {
            "PSP_scale_factor": 0.053,
            "lognorm_scale": 0.5930918658,
            "lognorm_shape": 0.6574717379,
            "params_file": "pv_to_e4.json",
            "synphys_mean": 0.7292007006
           },
           "source_model_id": "",
           "target_model_id": "322723785",
           "weight_max": -5.1612903226
          },
          "(('4', 'Pvalb', ''), ('4', 'Rorb', '322761772'))": {
           "delay": 0.96,
           "name": "(('4', 'Pvalb', ''), ('4', 'Rorb', '322761772'))",
           "property_map": {
            "PSP_scale_factor": 0.054,
            "lognorm_scale": 0.5930918658,
            "lognorm_shape": 0.6574717379,
            "params_file": "pv_to_e4.json",
            "synphys_mean": 0.7292007006
           },
           "source_model_id": "",
           "target_model_id": "322761772",
           "weight_max": -4.5283018868
          },
          "(('4', 'Pvalb', ''), ('4', 'Rorb', '324065524'))": {
           "delay": 0.96,
           "name": "(('4', 'Pvalb', ''), ('4', 'Rorb', '324065524'))",
           "property_map": {
            "PSP_scale_factor": 0.071,
            "lognorm_scale": 0.5930918658,
            "lognorm_shape": 0.6574717379,
            "params_file": "pv_to_e4.json",
            "synphys_mean": 0.7292007006
           },
           "source_model_id": "",
           "target_model_id": "324065524",
           "weight_max": -3.8095238095
          },
          "(('4', 'Pvalb', ''), ('4', 'Rorb', '329550277'))": {
           "delay": 0.96,
           "name": "(('4', 'Pvalb', ''), ('4', 'Rorb', '329550277'))",
           "property_map": {
            "PSP_scale_factor": 0.054,
            "lognorm_scale": 0.5930918658,
            "lognorm_shape": 0.6574717379,
            "params_file": "pv_to_e4.json",
            "synphys_mean": 0.7292007006
           },
           "source_model_id": "",
           "target_model_id": "329550277",
           "weight_max": -5.1612903226
          },
          "(('4', 'Pvalb', ''), ('4', 'Rorb', '466378900'))": {
           "delay": 0.96,
           "name": "(('4', 'Pvalb', ''), ('4', 'Rorb', '466378900'))",
           "property_map": {
            "PSP_scale_factor": 0.082,
            "lognorm_scale": 0.5930918658,
            "lognorm_shape": 0.6574717379,
            "params_file": "pv_to_e4.json",
            "synphys_mean": 0.7292007006
           },
           "source_model_id": "",
           "target_model_id": "466378900",
           "weight_max": -3.2214765101
          },
          "(('4', 'Pvalb', ''), ('4', 'Rorb', '467003163'))": {
           "delay": 0.96,
           "name": "(('4', 'Pvalb', ''), ('4', 'Rorb', '467003163'))",
           "property_map": {
            "PSP_scale_factor": 0.052,
            "lognorm_scale": 0.5930918658,
            "lognorm_shape": 0.6574717379,
            "params_file": "pv_to_e4.json",
            "synphys_mean": 0.7292007006
           },
           "source_model_id": "",
           "target_model_id": "467003163",
           "weight_max": -6.0759493671
          },
          "(('4', 'Pvalb', ''), ('4', 'Rorb', '467357834'))": {
           "delay": 0.96,
           "name": "(('4', 'Pvalb', ''), ('4', 'Rorb', '467357834'))",
           "property_map": {
            "PSP_scale_factor": 0.048,
            "lognorm_scale": 0.5930918658,
            "lognorm_shape": 0.6574717379,
            "params_file": "pv_to_e4.json",
            "synphys_mean": 0.7292007006
           },
           "source_model_id": "",
           "target_model_id": "467357834",
           "weight_max": -5.5813953488
          },
          "(('4', 'Pvalb', ''), ('4', 'Rorb', '469763389'))": {
           "delay": 0.96,
           "name": "(('4', 'Pvalb', ''), ('4', 'Rorb', '469763389'))",
           "property_map": {
            "PSP_scale_factor": 0.059,
            "lognorm_scale": 0.5930918658,
            "lognorm_shape": 0.6574717379,
            "params_file": "pv_to_e4.json",
            "synphys_mean": 0.7292007006
           },
           "source_model_id": "",
           "target_model_id": "469763389",
           "weight_max": -4.5283018868
          },
          "(('4', 'Pvalb', ''), ('4', 'Rorb', '473020156'))": {
           "delay": 0.96,
           "name": "(('4', 'Pvalb', ''), ('4', 'Rorb', '473020156'))",
           "property_map": {
            "PSP_scale_factor": 0.071,
            "lognorm_scale": 0.5930918658,
            "lognorm_shape": 0.6574717379,
            "params_file": "pv_to_e4.json",
            "synphys_mean": 0.7292007006
           },
           "source_model_id": "",
           "target_model_id": "473020156",
           "weight_max": -3.5820895522
          },
          "(('4', 'Pvalb', ''), ('4', 'Rorb', '476562817'))": {
           "delay": 0.96,
           "name": "(('4', 'Pvalb', ''), ('4', 'Rorb', '476562817'))",
           "property_map": {
            "PSP_scale_factor": 0.054,
            "lognorm_scale": 0.5930918658,
            "lognorm_shape": 0.6574717379,
            "params_file": "pv_to_e4.json",
            "synphys_mean": 0.7292007006
           },
           "source_model_id": "",
           "target_model_id": "476562817",
           "weight_max": -5.1063829787
          },
          "(('4', 'Pvalb', ''), ('4', 'Rorb', '478586425'))": {
           "delay": 0.96,
           "name": "(('4', 'Pvalb', ''), ('4', 'Rorb', '478586425'))",
           "property_map": {
            "PSP_scale_factor": 0.058,
            "lognorm_scale": 0.5930918658,
            "lognorm_shape": 0.6574717379,
            "params_file": "pv_to_e4.json",
            "synphys_mean": 0.7292007006
           },
           "source_model_id": "",
           "target_model_id": "478586425",
           "weight_max": -4.8
          },
          "(('4', 'Pvalb', ''), ('4', 'Rorb', '479179020'))": {
           "delay": 0.96,
           "name": "(('4', 'Pvalb', ''), ('4', 'Rorb', '479179020'))",
           "property_map": {
            "PSP_scale_factor": 0.051,
            "lognorm_scale": 0.5930918658,
            "lognorm_shape": 0.6574717379,
            "params_file": "pv_to_e4.json",
            "synphys_mean": 0.7292007006
           },
           "source_model_id": "",
           "target_model_id": "479179020",
           "weight_max": -5.2173913043
          },
          "(('4', 'Pvalb', ''), ('4', 'Rorb', '484679812'))": {
           "delay": 0.96,
           "name": "(('4', 'Pvalb', ''), ('4', 'Rorb', '484679812'))",
           "property_map": {
            "PSP_scale_factor": 0.069,
            "lognorm_scale": 0.5930918658,
            "lognorm_shape": 0.6574717379,
            "params_file": "pv_to_e4.json",
            "synphys_mean": 0.7292007006
           },
           "source_model_id": "",
           "target_model_id": "484679812",
           "weight_max": -3.7209302326
          },
          "(('4', 'Pvalb', ''), ('4', 'Rorb', '484770879'))": {
           "delay": 0.96,
           "name": "(('4', 'Pvalb', ''), ('4', 'Rorb', '484770879'))",
           "property_map": {
            "PSP_scale_factor": 0.051,
            "lognorm_scale": 0.5930918658,
            "lognorm_shape": 0.6574717379,
            "params_file": "pv_to_e4.json",
            "synphys_mean": 0.7292007006
           },
           "source_model_id": "",
           "target_model_id": "484770879",
           "weight_max": -5.5172413793
          },
          "(('4', 'Pvalb', ''), ('4', 'Rorb', '485836906'))": {
           "delay": 0.96,
           "name": "(('4', 'Pvalb', ''), ('4', 'Rorb', '485836906'))",
           "property_map": {
            "PSP_scale_factor": 0.043,
            "lognorm_scale": 0.5930918658,
            "lognorm_shape": 0.6574717379,
            "params_file": "pv_to_e4.json",
            "synphys_mean": 0.7292007006
           },
           "source_model_id": "",
           "target_model_id": "485836906",
           "weight_max": -6.4
          },
          "(('4', 'Pvalb', ''), ('4', 'Rorb', '486472847'))": {
           "delay": 0.96,
           "name": "(('4', 'Pvalb', ''), ('4', 'Rorb', '486472847'))",
           "property_map": {
            "PSP_scale_factor": 0.07,
            "lognorm_scale": 0.5930918658,
            "lognorm_shape": 0.6574717379,
            "params_file": "pv_to_e4.json",
            "synphys_mean": 0.7292007006
           },
           "source_model_id": "",
           "target_model_id": "486472847",
           "weight_max": -3.8709677419
          },
          "(('4', 'Pvalb', ''), ('4', 'Rorb', '486500736'))": {
           "delay": 0.96,
           "name": "(('4', 'Pvalb', ''), ('4', 'Rorb', '486500736'))",
           "property_map": {
            "PSP_scale_factor": 0.037,
            "lognorm_scale": 0.5930918658,
            "lognorm_shape": 0.6574717379,
            "params_file": "pv_to_e4.json",
            "synphys_mean": 0.7292007006
           },
           "source_model_id": "",
           "target_model_id": "486500736",
           "weight_max": -7.2727272727
          },
          "(('4', 'Pvalb', ''), ('4', 'Rorb', '490626718'))": {
           "delay": 0.96,
           "name": "(('4', 'Pvalb', ''), ('4', 'Rorb', '490626718'))",
           "property_map": {
            "PSP_scale_factor": 0.06,
            "lognorm_scale": 0.5930918658,
            "lognorm_shape": 0.6574717379,
            "params_file": "pv_to_e4.json",
            "synphys_mean": 0.7292007006
           },
           "source_model_id": "",
           "target_model_id": "490626718",
           "weight_max": -5.5813953488
          },
          "(('4', 'Pvalb', ''), ('4', 'Rorb', '490626827'))": {
           "delay": 0.96,
           "name": "(('4', 'Pvalb', ''), ('4', 'Rorb', '490626827'))",
           "property_map": {
            "PSP_scale_factor": 0.057,
            "lognorm_scale": 0.5930918658,
            "lognorm_shape": 0.6574717379,
            "params_file": "pv_to_e4.json",
            "synphys_mean": 0.7292007006
           },
           "source_model_id": "",
           "target_model_id": "490626827",
           "weight_max": -5.393258427
          },
          "(('4', 'Pvalb', ''), ('4', 'Rorb', '500859045'))": {
           "delay": 0.96,
           "name": "(('4', 'Pvalb', ''), ('4', 'Rorb', '500859045'))",
           "property_map": {
            "PSP_scale_factor": 0.054,
            "lognorm_scale": 0.5930918658,
            "lognorm_shape": 0.6574717379,
            "params_file": "pv_to_e4.json",
            "synphys_mean": 0.7292007006
           },
           "source_model_id": "",
           "target_model_id": "500859045",
           "weight_max": -5.0526315789
          },
          "(('4', 'Pvalb', ''), ('4', 'Rorb', '500894271'))": {
           "delay": 0.96,
           "name": "(('4', 'Pvalb', ''), ('4', 'Rorb', '500894271'))",
           "property_map": {
            "PSP_scale_factor": 0.055,
            "lognorm_scale": 0.5930918658,
            "lognorm_shape": 0.6574717379,
            "params_file": "pv_to_e4.json",
            "synphys_mean": 0.7292007006
           },
           "source_model_id": "",
           "target_model_id": "500894271",
           "weight_max": 0
          }
         },
         "name": "(('4', 'Pvalb'), ('4', 'Rorb'))",
         "post": [
          "4",
          "Rorb"
         ],
         "pre": [
          "4",
          "Pvalb"
         ],
         "probability": 0,
         "property_map": {
          "A_literature": [
           0.488046931160011
          ],
          "A_literature_src": [
           0.488046931160011
          ],
          "B_ratio": null,
          "R0": 75,
          "is_pmax": 1,
          "nsyn_range": [
           3,
           8
          ],
          "post_ei": "e",
          "pre_ei": "i",
          "sigma": 96.6
         }
        },
        "(('4', 'Pvalb'), ('4', 'Scnn1a'))": {
         "connect_models": {
          "(('4', 'Pvalb', ''), ('4', 'Scnn1a', '320207387'))": {
           "delay": 0.96,
           "name": "(('4', 'Pvalb', ''), ('4', 'Scnn1a', '320207387'))",
           "property_map": {
            "PSP_scale_factor": 0.046,
            "lognorm_scale": 0.5930918658,
            "lognorm_shape": 0.6574717379,
            "params_file": "pv_to_e4.json",
            "synphys_mean": 0.7292007006
           },
           "source_model_id": "",
           "target_model_id": "320207387",
           "weight_max": -6.4864864865
          },
          "(('4', 'Pvalb', ''), ('4', 'Scnn1a', '323838579'))": {
           "delay": 0.96,
           "name": "(('4', 'Pvalb', ''), ('4', 'Scnn1a', '323838579'))",
           "property_map": {
            "PSP_scale_factor": 0.053,
            "lognorm_scale": 0.5930918658,
            "lognorm_shape": 0.6574717379,
            "params_file": "pv_to_e4.json",
            "synphys_mean": 0.7292007006
           },
           "source_model_id": "",
           "target_model_id": "323838579",
           "weight_max": -5.3333333333
          },
          "(('4', 'Pvalb', ''), ('4', 'Scnn1a', '476266853'))": {
           "delay": 0.96,
           "name": "(('4', 'Pvalb', ''), ('4', 'Scnn1a', '476266853'))",
           "property_map": {
            "PSP_scale_factor": 0.052,
            "lognorm_scale": 0.5930918658,
            "lognorm_shape": 0.6574717379,
            "params_file": "pv_to_e4.json",
            "synphys_mean": 0.7292007006
           },
           "source_model_id": "",
           "target_model_id": "476266853",
           "weight_max": -5.5813953488
          },
          "(('4', 'Pvalb', ''), ('4', 'Scnn1a', '500964358'))": {
           "delay": 0.96,
           "name": "(('4', 'Pvalb', ''), ('4', 'Scnn1a', '500964358'))",
           "property_map": {
            "PSP_scale_factor": 0.05,
            "lognorm_scale": 0.5930918658,
            "lognorm_shape": 0.6574717379,
            "params_file": "pv_to_e4.json",
            "synphys_mean": 0.7292007006
           },
           "source_model_id": "",
           "target_model_id": "500964358",
           "weight_max": -5
          },
          "(('4', 'Pvalb', ''), ('4', 'Scnn1a', '517647182'))": {
           "delay": 0.96,
           "name": "(('4', 'Pvalb', ''), ('4', 'Scnn1a', '517647182'))",
           "property_map": {
            "PSP_scale_factor": 0.052,
            "lognorm_scale": 0.5930918658,
            "lognorm_shape": 0.6574717379,
            "params_file": "pv_to_e4.json",
            "synphys_mean": 0.7292007006
           },
           "source_model_id": "",
           "target_model_id": "517647182",
           "weight_max": 0
          }
         },
         "name": "(('4', 'Pvalb'), ('4', 'Scnn1a'))",
         "post": [
          "4",
          "Scnn1a"
         ],
         "pre": [
          "4",
          "Pvalb"
         ],
         "probability": 0,
         "property_map": {
          "A_literature": [
           0.488046931160011
          ],
          "A_literature_src": [
           0.488046931160011
          ],
          "B_ratio": null,
          "R0": 75,
          "is_pmax": 1,
          "nsyn_range": [
           3,
           8
          ],
          "post_ei": "e",
          "pre_ei": "i",
          "sigma": 96.6
         }
        },
        "(('4', 'Pvalb'), ('4', 'Sst'))": {
         "connect_models": {
          "(('4', 'Pvalb', ''), ('4', 'Sst', '476099282'))": {
           "delay": 1.06,
           "name": "(('4', 'Pvalb', ''), ('4', 'Sst', '476099282'))",
           "property_map": {
            "PSP_scale_factor": 0.171,
            "lognorm_scale": 0.5805745709,
            "lognorm_shape": 0.5667170502,
            "params_file": "pv_to_sst.json",
            "synphys_mean": 0.6758774351
           },
           "source_model_id": "",
           "target_model_id": "476099282",
           "weight_max": -1.6447368421
          },
          "(('4', 'Pvalb', ''), ('4', 'Sst', '476753465'))": {
           "delay": 1.06,
           "name": "(('4', 'Pvalb', ''), ('4', 'Sst', '476753465'))",
           "property_map": {
            "PSP_scale_factor": 0.16,
            "lognorm_scale": 0.5805745709,
            "lognorm_shape": 0.5667170502,
            "params_file": "pv_to_sst.json",
            "synphys_mean": 0.6758774351
           },
           "source_model_id": "",
           "target_model_id": "476753465",
           "weight_max": -1.5923566879
          },
          "(('4', 'Pvalb', ''), ('4', 'Sst', '485061364'))": {
           "delay": 1.06,
           "name": "(('4', 'Pvalb', ''), ('4', 'Sst', '485061364'))",
           "property_map": {
            "PSP_scale_factor": 0.123,
            "lognorm_scale": 0.5805745709,
            "lognorm_shape": 0.5667170502,
            "params_file": "pv_to_sst.json",
            "synphys_mean": 0.6758774351
           },
           "source_model_id": "",
           "target_model_id": "485061364",
           "weight_max": -2.6595744681
          },
          "(('4', 'Pvalb', ''), ('4', 'Sst', '501280518'))": {
           "delay": 1.06,
           "name": "(('4', 'Pvalb', ''), ('4', 'Sst', '501280518'))",
           "property_map": {
            "PSP_scale_factor": 0.123,
            "lognorm_scale": 0.5805745709,
            "lognorm_shape": 0.5667170502,
            "params_file": "pv_to_sst.json",
            "synphys_mean": 0.6758774351
           },
           "source_model_id": "",
           "target_model_id": "501280518",
           "weight_max": -2.380952381
          },
          "(('4', 'Pvalb', ''), ('4', 'Sst', '501282204'))": {
           "delay": 1.06,
           "name": "(('4', 'Pvalb', ''), ('4', 'Sst', '501282204'))",
           "property_map": {
            "PSP_scale_factor": 0.063,
            "lognorm_scale": 0.5805745709,
            "lognorm_shape": 0.5667170502,
            "params_file": "pv_to_sst.json",
            "synphys_mean": 0.6758774351
           },
           "source_model_id": "",
           "target_model_id": "501282204",
           "weight_max": -4.3103448276
          },
          "(('4', 'Pvalb', ''), ('4', 'Sst', '573622646'))": {
           "delay": 1.06,
           "name": "(('4', 'Pvalb', ''), ('4', 'Sst', '573622646'))",
           "property_map": {
            "PSP_scale_factor": 0.101,
            "lognorm_scale": 0.5805745709,
            "lognorm_shape": 0.5667170502,
            "params_file": "pv_to_sst.json",
            "synphys_mean": 0.6758774351
           },
           "source_model_id": "",
           "target_model_id": "573622646",
           "weight_max": 0
          }
         },
         "name": "(('4', 'Pvalb'), ('4', 'Sst'))",
         "post": [
          "4",
          "Sst"
         ],
         "pre": [
          "4",
          "Pvalb"
         ],
         "probability": 0,
         "property_map": {
          "A_literature": [
           0.388413662252793
          ],
          "A_literature_src": [
           0.388413662252793
          ],
          "B_ratio": null,
          "R0": 75,
          "is_pmax": 1,
          "nsyn_range": [
           3,
           8
          ],
          "post_ei": "i",
          "pre_ei": "i",
          "sigma": 126.77
         }
        },
        "(('4', 'Pvalb'), ('4', 'Vip'))": {
         "connect_models": {
          "(('4', 'Pvalb', ''), ('4', 'Vip', '501570114'))": {
           "delay": 0.92,
           "name": "(('4', 'Pvalb', ''), ('4', 'Vip', '501570114'))",
           "property_map": {
            "PSP_scale_factor": 0.075,
            "lognorm_scale": 0.4623438127,
            "lognorm_shape": 0.4646536968,
            "params_file": "pv_to_vip.json",
            "synphys_mean": 0.5119038678
           },
           "source_model_id": "",
           "target_model_id": "501570114",
           "weight_max": -1.6363636364
          },
          "(('4', 'Pvalb', ''), ('4', 'Vip', '531121585'))": {
           "delay": 0.92,
           "name": "(('4', 'Pvalb', ''), ('4', 'Vip', '531121585'))",
           "property_map": {
            "PSP_scale_factor": 0.062,
            "lognorm_scale": 0.4623438127,
            "lognorm_shape": 0.4646536968,
            "params_file": "pv_to_vip.json",
            "synphys_mean": 0.5119038678
           },
           "source_model_id": "",
           "target_model_id": "531121585",
           "weight_max": -1.9708029197
          },
          "(('4', 'Pvalb', ''), ('4', 'Vip', '535728342'))": {
           "delay": 0.92,
           "name": "(('4', 'Pvalb', ''), ('4', 'Vip', '535728342'))",
           "property_map": {
            "PSP_scale_factor": 0.091,
            "lognorm_scale": 0.4623438127,
            "lognorm_shape": 0.4646536968,
            "params_file": "pv_to_vip.json",
            "synphys_mean": 0.5119038678
           },
           "source_model_id": "",
           "target_model_id": "535728342",
           "weight_max": -1.2980769231
          },
          "(('4', 'Pvalb', ''), ('4', 'Vip', '560690291'))": {
           "delay": 0.92,
           "name": "(('4', 'Pvalb', ''), ('4', 'Vip', '560690291'))",
           "property_map": {
            "PSP_scale_factor": 0.058,
            "lognorm_scale": 0.4623438127,
            "lognorm_shape": 0.4646536968,
            "params_file": "pv_to_vip.json",
            "synphys_mean": 0.5119038678
           },
           "source_model_id": "",
           "target_model_id": "560690291",
           "weight_max": -2.3275862069
          },
          "(('4', 'Pvalb', ''), ('4', 'Vip', '561934585'))": {
           "delay": 0.92,
           "name": "(('4', 'Pvalb', ''), ('4', 'Vip', '561934585'))",
           "property_map": {
            "PSP_scale_factor": 0.037,
            "lognorm_scale": 0.4623438127,
            "lognorm_shape": 0.4646536968,
            "params_file": "pv_to_vip.json",
            "synphys_mean": 0.5119038678
           },
           "source_model_id": "",
           "target_model_id": "561934585",
           "weight_max": -3.3333333333
          },
          "(('4', 'Pvalb', ''), ('4', 'Vip', '562540395'))": {
           "delay": 0.92,
           "name": "(('4', 'Pvalb', ''), ('4', 'Vip', '562540395'))",
           "property_map": {
            "PSP_scale_factor": 0.057,
            "lognorm_scale": 0.4623438127,
            "lognorm_shape": 0.4646536968,
            "params_file": "pv_to_vip.json",
            "synphys_mean": 0.5119038678
           },
           "source_model_id": "",
           "target_model_id": "562540395",
           "weight_max": 0
          }
         },
         "name": "(('4', 'Pvalb'), ('4', 'Vip'))",
         "post": [
          "4",
          "Vip"
         ],
         "pre": [
          "4",
          "Pvalb"
         ],
         "probability": 0,
         "property_map": {
          "A_literature": [
           0.194864242166707
          ],
          "A_literature_src": [
           0.194864242166707
          ],
          "B_ratio": null,
          "R0": 75,
          "is_pmax": 1,
          "nsyn_range": [
           3,
           8
          ],
          "post_ei": "i",
          "pre_ei": "i",
          "sigma": 126.77
         }
        },
        "(('4', 'Rorb'), ('4', 'Pvalb'))": {
         "connect_models": {
          "(('4', 'Rorb', ''), ('4', 'Pvalb', '478793814'))": {
           "delay": 1.13,
           "name": "(('4', 'Rorb', ''), ('4', 'Pvalb', '478793814'))",
           "property_map": {
            "PSP_scale_factor": 0.031,
            "lognorm_scale": 0.6799802917,
            "lognorm_shape": 0.5876306305,
            "params_file": "e4_to_pv.json",
            "synphys_mean": 0.7958240058
           },
           "source_model_id": "",
           "target_model_id": "478793814",
           "weight_max": 9
          },
          "(('4', 'Rorb', ''), ('4', 'Pvalb', '478958894'))": {
           "delay": 1.13,
           "name": "(('4', 'Rorb', ''), ('4', 'Pvalb', '478958894'))",
           "property_map": {
            "PSP_scale_factor": 0.03,
            "lognorm_scale": 0.6799802917,
            "lognorm_shape": 0.5876306305,
            "params_file": "e4_to_pv.json",
            "synphys_mean": 0.7958240058
           },
           "source_model_id": "",
           "target_model_id": "478958894",
           "weight_max": 9.375
          },
          "(('4', 'Rorb', ''), ('4', 'Pvalb', '481127173'))": {
           "delay": 1.13,
           "name": "(('4', 'Rorb', ''), ('4', 'Pvalb', '481127173'))",
           "property_map": {
            "PSP_scale_factor": 0.036,
            "lognorm_scale": 0.6799802917,
            "lognorm_shape": 0.5876306305,
            "params_file": "e4_to_pv.json",
            "synphys_mean": 0.7958240058
           },
           "source_model_id": "",
           "target_model_id": "481127173",
           "weight_max": 8.0357142857
          },
          "(('4', 'Rorb', ''), ('4', 'Pvalb', '481127348'))": {
           "delay": 1.13,
           "name": "(('4', 'Rorb', ''), ('4', 'Pvalb', '481127348'))",
           "property_map": {
            "PSP_scale_factor": 0.046,
            "lognorm_scale": 0.6799802917,
            "lognorm_shape": 0.5876306305,
            "params_file": "e4_to_pv.json",
            "synphys_mean": 0.7958240058
           },
           "source_model_id": "",
           "target_model_id": "481127348",
           "weight_max": 6.0810810811
          },
          "(('4', 'Rorb', ''), ('4', 'Pvalb', '487405644'))": {
           "delay": 1.13,
           "name": "(('4', 'Rorb', ''), ('4', 'Pvalb', '487405644'))",
           "property_map": {
            "PSP_scale_factor": 0.055,
            "lognorm_scale": 0.6799802917,
            "lognorm_shape": 0.5876306305,
            "params_file": "e4_to_pv.json",
            "synphys_mean": 0.7958240058
           },
           "source_model_id": "",
           "target_model_id": "487405644",
           "weight_max": 5.2325581395
          },
          "(('4', 'Rorb', ''), ('4', 'Pvalb', '487667205'))": {
           "delay": 1.13,
           "name": "(('4', 'Rorb', ''), ('4', 'Pvalb', '487667205'))",
           "property_map": {
            "PSP_scale_factor": 0.037,
            "lognorm_scale": 0.6799802917,
            "lognorm_shape": 0.5876306305,
            "params_file": "e4_to_pv.json",
            "synphys_mean": 0.7958240058
           },
           "source_model_id": "",
           "target_model_id": "487667205",
           "weight_max": 7.6271186441
          },
          "(('4', 'Rorb', ''), ('4', 'Pvalb', '491038812'))": {
           "delay": 1.13,
           "name": "(('4', 'Rorb', ''), ('4', 'Pvalb', '491038812'))",
           "property_map": {
            "PSP_scale_factor": 0.029,
            "lognorm_scale": 0.6799802917,
            "lognorm_shape": 0.5876306305,
            "params_file": "e4_to_pv.json",
            "synphys_mean": 0.7958240058
           },
           "source_model_id": "",
           "target_model_id": "491038812",
           "weight_max": 10.2272727273
          },
          "(('4', 'Rorb', ''), ('4', 'Pvalb', '569997187'))": {
           "delay": 1.13,
           "name": "(('4', 'Rorb', ''), ('4', 'Pvalb', '569997187'))",
           "property_map": {
            "PSP_scale_factor": 0.043,
            "lognorm_scale": 0.6799802917,
            "lognorm_shape": 0.5876306305,
            "params_file": "e4_to_pv.json",
            "synphys_mean": 0.7958240058
           },
           "source_model_id": "",
           "target_model_id": "569997187",
           "weight_max": 6.1643835616
          },
          "(('4', 'Rorb', ''), ('4', 'Pvalb', '571314481'))": {
           "delay": 1.13,
           "name": "(('4', 'Rorb', ''), ('4', 'Pvalb', '571314481'))",
           "property_map": {
            "PSP_scale_factor": 0.046,
            "lognorm_scale": 0.6799802917,
            "lognorm_shape": 0.5876306305,
            "params_file": "e4_to_pv.json",
            "synphys_mean": 0.7958240058
           },
           "source_model_id": "",
           "target_model_id": "571314481",
           "weight_max": 6.0810810811
          },
          "(('4', 'Rorb', ''), ('4', 'Pvalb', '572375809'))": {
           "delay": 1.13,
           "name": "(('4', 'Rorb', ''), ('4', 'Pvalb', '572375809'))",
           "property_map": {
            "PSP_scale_factor": 0.035,
            "lognorm_scale": 0.6799802917,
            "lognorm_shape": 0.5876306305,
            "params_file": "e4_to_pv.json",
            "synphys_mean": 0.7958240058
           },
           "source_model_id": "",
           "target_model_id": "572375809",
           "weight_max": 7.8947368421
          },
          "(('4', 'Rorb', ''), ('4', 'Pvalb', '579414994'))": {
           "delay": 1.13,
           "name": "(('4', 'Rorb', ''), ('4', 'Pvalb', '579414994'))",
           "property_map": {
            "PSP_scale_factor": 0.029,
            "lognorm_scale": 0.6799802917,
            "lognorm_shape": 0.5876306305,
            "params_file": "e4_to_pv.json",
            "synphys_mean": 0.7958240058
           },
           "source_model_id": "",
           "target_model_id": "579414994",
           "weight_max": 0
          }
         },
         "name": "(('4', 'Rorb'), ('4', 'Pvalb'))",
         "post": [
          "4",
          "Pvalb"
         ],
         "pre": [
          "4",
          "Rorb"
         ],
         "probability": 0,
         "property_map": {
          "A_literature": [
           0.315678465282962
          ],
          "A_literature_src": [
           0.315678465282962
          ],
          "B_ratio": null,
          "R0": 75,
          "is_pmax": 1,
          "nsyn_range": [
           3,
           8
          ],
          "post_ei": "i",
          "pre_ei": "e",
          "sigma": 99.84
         }
        },
        "(('4', 'Rorb'), ('4', 'Rorb'))": {
         "connect_models": {
          "(('4', 'Rorb', ''), ('4', 'Rorb', '322723785'))": {
           "delay": 1.48,
           "name": "(('4', 'Rorb', ''), ('4', 'Rorb', '322723785'))",
           "property_map": {
            "PSP_scale_factor": 0.063,
            "lognorm_scale": 0.3730737936,
            "lognorm_shape": 0.6032438129,
            "params_file": "e4_to_e4.json",
            "synphys_mean": 0.4558436608
           },
           "source_model_id": "",
           "target_model_id": "322723785",
           "weight_max": 2.4
          },
          "(('4', 'Rorb', ''), ('4', 'Rorb', '322761772'))": {
           "delay": 1.48,
           "name": "(('4', 'Rorb', ''), ('4', 'Rorb', '322761772'))",
           "property_map": {
            "PSP_scale_factor": 0.06,
            "lognorm_scale": 0.3730737936,
            "lognorm_shape": 0.6032438129,
            "params_file": "e4_to_e4.json",
            "synphys_mean": 0.4558436608
           },
           "source_model_id": "",
           "target_model_id": "322761772",
           "weight_max": 2.25
          },
          "(('4', 'Rorb', ''), ('4', 'Rorb', '324065524'))": {
           "delay": 1.48,
           "name": "(('4', 'Rorb', ''), ('4', 'Rorb', '324065524'))",
           "property_map": {
            "PSP_scale_factor": 0.084,
            "lognorm_scale": 0.3730737936,
            "lognorm_shape": 0.6032438129,
            "params_file": "e4_to_e4.json",
            "synphys_mean": 0.4558436608
           },
           "source_model_id": "",
           "target_model_id": "324065524",
           "weight_max": 1.7821782178
          },
          "(('4', 'Rorb', ''), ('4', 'Rorb', '329550277'))": {
           "delay": 1.48,
           "name": "(('4', 'Rorb', ''), ('4', 'Rorb', '329550277'))",
           "property_map": {
            "PSP_scale_factor": 0.064,
            "lognorm_scale": 0.3730737936,
            "lognorm_shape": 0.6032438129,
            "params_file": "e4_to_e4.json",
            "synphys_mean": 0.4558436608
           },
           "source_model_id": "",
           "target_model_id": "329550277",
           "weight_max": 2.3684210526
          },
          "(('4', 'Rorb', ''), ('4', 'Rorb', '466378900'))": {
           "delay": 1.48,
           "name": "(('4', 'Rorb', ''), ('4', 'Rorb', '466378900'))",
           "property_map": {
            "PSP_scale_factor": 0.096,
            "lognorm_scale": 0.3730737936,
            "lognorm_shape": 0.6032438129,
            "params_file": "e4_to_e4.json",
            "synphys_mean": 0.4558436608
           },
           "source_model_id": "",
           "target_model_id": "466378900",
           "weight_max": 1.5254237288
          },
          "(('4', 'Rorb', ''), ('4', 'Rorb', '467003163'))": {
           "delay": 1.48,
           "name": "(('4', 'Rorb', ''), ('4', 'Rorb', '467003163'))",
           "property_map": {
            "PSP_scale_factor": 0.063,
            "lognorm_scale": 0.3730737936,
            "lognorm_shape": 0.6032438129,
            "params_file": "e4_to_e4.json",
            "synphys_mean": 0.4558436608
           },
           "source_model_id": "",
           "target_model_id": "467003163",
           "weight_max": 2.6865671642
          },
          "(('4', 'Rorb', ''), ('4', 'Rorb', '467357834'))": {
           "delay": 1.48,
           "name": "(('4', 'Rorb', ''), ('4', 'Rorb', '467357834'))",
           "property_map": {
            "PSP_scale_factor": 0.056,
            "lognorm_scale": 0.3730737936,
            "lognorm_shape": 0.6032438129,
            "params_file": "e4_to_e4.json",
            "synphys_mean": 0.4558436608
           },
           "source_model_id": "",
           "target_model_id": "467357834",
           "weight_max": 2.6470588235
          },
          "(('4', 'Rorb', ''), ('4', 'Rorb', '469763389'))": {
           "delay": 1.48,
           "name": "(('4', 'Rorb', ''), ('4', 'Rorb', '469763389'))",
           "property_map": {
            "PSP_scale_factor": 0.069,
            "lognorm_scale": 0.3730737936,
            "lognorm_shape": 0.6032438129,
            "params_file": "e4_to_e4.json",
            "synphys_mean": 0.4558436608
           },
           "source_model_id": "",
           "target_model_id": "469763389",
           "weight_max": 2.1428571429
          },
          "(('4', 'Rorb', ''), ('4', 'Rorb', '473020156'))": {
           "delay": 1.48,
           "name": "(('4', 'Rorb', ''), ('4', 'Rorb', '473020156'))",
           "property_map": {
            "PSP_scale_factor": 0.08,
            "lognorm_scale": 0.3730737936,
            "lognorm_shape": 0.6032438129,
            "params_file": "e4_to_e4.json",
            "synphys_mean": 0.4558436608
           },
           "source_model_id": "",
           "target_model_id": "473020156",
           "weight_max": 1.7307692308
          },
          "(('4', 'Rorb', ''), ('4', 'Rorb', '476562817'))": {
           "delay": 1.48,
           "name": "(('4', 'Rorb', ''), ('4', 'Rorb', '476562817'))",
           "property_map": {
            "PSP_scale_factor": 0.064,
            "lognorm_scale": 0.3730737936,
            "lognorm_shape": 0.6032438129,
            "params_file": "e4_to_e4.json",
            "synphys_mean": 0.4558436608
           },
           "source_model_id": "",
           "target_model_id": "476562817",
           "weight_max": 2.3684210526
          },
          "(('4', 'Rorb', ''), ('4', 'Rorb', '478586425'))": {
           "delay": 1.48,
           "name": "(('4', 'Rorb', ''), ('4', 'Rorb', '478586425'))",
           "property_map": {
            "PSP_scale_factor": 0.069,
            "lognorm_scale": 0.3730737936,
            "lognorm_shape": 0.6032438129,
            "params_file": "e4_to_e4.json",
            "synphys_mean": 0.4558436608
           },
           "source_model_id": "",
           "target_model_id": "478586425",
           "weight_max": 2.2222222222
          },
          "(('4', 'Rorb', ''), ('4', 'Rorb', '479179020'))": {
           "delay": 1.48,
           "name": "(('4', 'Rorb', ''), ('4', 'Rorb', '479179020'))",
           "property_map": {
            "PSP_scale_factor": 0.059,
            "lognorm_scale": 0.3730737936,
            "lognorm_shape": 0.6032438129,
            "params_file": "e4_to_e4.json",
            "synphys_mean": 0.4558436608
           },
           "source_model_id": "",
           "target_model_id": "479179020",
           "weight_max": 2.4657534247
          },
          "(('4', 'Rorb', ''), ('4', 'Rorb', '484679812'))": {
           "delay": 1.48,
           "name": "(('4', 'Rorb', ''), ('4', 'Rorb', '484679812'))",
           "property_map": {
            "PSP_scale_factor": 0.08,
            "lognorm_scale": 0.3730737936,
            "lognorm_shape": 0.6032438129,
            "params_file": "e4_to_e4.json",
            "synphys_mean": 0.4558436608
           },
           "source_model_id": "",
           "target_model_id": "484679812",
           "weight_max": 1.7821782178
          },
          "(('4', 'Rorb', ''), ('4', 'Rorb', '484770879'))": {
           "delay": 1.48,
           "name": "(('4', 'Rorb', ''), ('4', 'Rorb', '484770879'))",
           "property_map": {
            "PSP_scale_factor": 0.061,
            "lognorm_scale": 0.3730737936,
            "lognorm_shape": 0.6032438129,
            "params_file": "e4_to_e4.json",
            "synphys_mean": 0.4558436608
           },
           "source_model_id": "",
           "target_model_id": "484770879",
           "weight_max": 2.5352112676
          },
          "(('4', 'Rorb', ''), ('4', 'Rorb', '485836906'))": {
           "delay": 1.48,
           "name": "(('4', 'Rorb', ''), ('4', 'Rorb', '485836906'))",
           "property_map": {
            "PSP_scale_factor": 0.051,
            "lognorm_scale": 0.3730737936,
            "lognorm_shape": 0.6032438129,
            "params_file": "e4_to_e4.json",
            "synphys_mean": 0.4558436608
           },
           "source_model_id": "",
           "target_model_id": "485836906",
           "weight_max": 3
          },
          "(('4', 'Rorb', ''), ('4', 'Rorb', '486472847'))": {
           "delay": 1.48,
           "name": "(('4', 'Rorb', ''), ('4', 'Rorb', '486472847'))",
           "property_map": {
            "PSP_scale_factor": 0.082,
            "lognorm_scale": 0.3730737936,
            "lognorm_shape": 0.6032438129,
            "params_file": "e4_to_e4.json",
            "synphys_mean": 0.4558436608
           },
           "source_model_id": "",
           "target_model_id": "486472847",
           "weight_max": 1.8181818182
          },
          "(('4', 'Rorb', ''), ('4', 'Rorb', '486500736'))": {
           "delay": 1.48,
           "name": "(('4', 'Rorb', ''), ('4', 'Rorb', '486500736'))",
           "property_map": {
            "PSP_scale_factor": 0.043,
            "lognorm_scale": 0.3730737936,
            "lognorm_shape": 0.6032438129,
            "params_file": "e4_to_e4.json",
            "synphys_mean": 0.4558436608
           },
           "source_model_id": "",
           "target_model_id": "486500736",
           "weight_max": 3.4615384615
          },
          "(('4', 'Rorb', ''), ('4', 'Rorb', '490626718'))": {
           "delay": 1.48,
           "name": "(('4', 'Rorb', ''), ('4', 'Rorb', '490626718'))",
           "property_map": {
            "PSP_scale_factor": 0.074,
            "lognorm_scale": 0.3730737936,
            "lognorm_shape": 0.6032438129,
            "params_file": "e4_to_e4.json",
            "synphys_mean": 0.4558436608
           },
           "source_model_id": "",
           "target_model_id": "490626718",
           "weight_max": 2.4
          },
          "(('4', 'Rorb', ''), ('4', 'Rorb', '490626827'))": {
           "delay": 1.48,
           "name": "(('4', 'Rorb', ''), ('4', 'Rorb', '490626827'))",
           "property_map": {
            "PSP_scale_factor": 0.07,
            "lognorm_scale": 0.3730737936,
            "lognorm_shape": 0.6032438129,
            "params_file": "e4_to_e4.json",
            "synphys_mean": 0.4558436608
           },
           "source_model_id": "",
           "target_model_id": "490626827",
           "weight_max": 2.4
          },
          "(('4', 'Rorb', ''), ('4', 'Rorb', '500859045'))": {
           "delay": 1.48,
           "name": "(('4', 'Rorb', ''), ('4', 'Rorb', '500859045'))",
           "property_map": {
            "PSP_scale_factor": 0.063,
            "lognorm_scale": 0.3730737936,
            "lognorm_shape": 0.6032438129,
            "params_file": "e4_to_e4.json",
            "synphys_mean": 0.4558436608
           },
           "source_model_id": "",
           "target_model_id": "500859045",
           "weight_max": 2.3684210526
          },
          "(('4', 'Rorb', ''), ('4', 'Rorb', '500894271'))": {
           "delay": 1.48,
           "name": "(('4', 'Rorb', ''), ('4', 'Rorb', '500894271'))",
           "property_map": {
            "PSP_scale_factor": 0.063,
            "lognorm_scale": 0.3730737936,
            "lognorm_shape": 0.6032438129,
            "params_file": "e4_to_e4.json",
            "synphys_mean": 0.4558436608
           },
           "source_model_id": "",
           "target_model_id": "500894271",
           "weight_max": 0
          }
         },
         "name": "(('4', 'Rorb'), ('4', 'Rorb'))",
         "post": [
          "4",
          "Rorb"
         ],
         "pre": [
          "4",
          "Rorb"
         ],
         "probability": 0,
         "property_map": {
          "A_literature": [
           0.0305413259819695
          ],
          "A_literature_src": [
           0.0305413259819695
          ],
          "B_ratio": 0.5,
          "R0": 75,
          "is_pmax": 1,
          "nsyn_range": [
           3,
           8
          ],
          "post_ei": "e",
          "pre_ei": "e",
          "sigma": 127
         }
        },
        "(('4', 'Rorb'), ('4', 'Scnn1a'))": {
         "connect_models": {
          "(('4', 'Rorb', ''), ('4', 'Scnn1a', '320207387'))": {
           "delay": 1.48,
           "name": "(('4', 'Rorb', ''), ('4', 'Scnn1a', '320207387'))",
           "property_map": {
            "PSP_scale_factor": 0.056,
            "lognorm_scale": 0.3730737936,
            "lognorm_shape": 0.6032438129,
            "params_file": "e4_to_e4.json",
            "synphys_mean": 0.4558436608
           },
           "source_model_id": "",
           "target_model_id": "320207387",
           "weight_max": 2.9032258065
          },
          "(('4', 'Rorb', ''), ('4', 'Scnn1a', '323838579'))": {
           "delay": 1.48,
           "name": "(('4', 'Rorb', ''), ('4', 'Scnn1a', '323838579'))",
           "property_map": {
            "PSP_scale_factor": 0.063,
            "lognorm_scale": 0.3730737936,
            "lognorm_shape": 0.6032438129,
            "params_file": "e4_to_e4.json",
            "synphys_mean": 0.4558436608
           },
           "source_model_id": "",
           "target_model_id": "323838579",
           "weight_max": 2.4657534247
          },
          "(('4', 'Rorb', ''), ('4', 'Scnn1a', '476266853'))": {
           "delay": 1.48,
           "name": "(('4', 'Rorb', ''), ('4', 'Scnn1a', '476266853'))",
           "property_map": {
            "PSP_scale_factor": 0.062,
            "lognorm_scale": 0.3730737936,
            "lognorm_shape": 0.6032438129,
            "params_file": "e4_to_e4.json",
            "synphys_mean": 0.4558436608
           },
           "source_model_id": "",
           "target_model_id": "476266853",
           "weight_max": 2.5352112676
          },
          "(('4', 'Rorb', ''), ('4', 'Scnn1a', '500964358'))": {
           "delay": 1.48,
           "name": "(('4', 'Rorb', ''), ('4', 'Scnn1a', '500964358'))",
           "property_map": {
            "PSP_scale_factor": 0.057,
            "lognorm_scale": 0.3730737936,
            "lognorm_shape": 0.6032438129,
            "params_file": "e4_to_e4.json",
            "synphys_mean": 0.4558436608
           },
           "source_model_id": "",
           "target_model_id": "500964358",
           "weight_max": 2.4324324324
          },
          "(('4', 'Rorb', ''), ('4', 'Scnn1a', '517647182'))": {
           "delay": 1.48,
           "name": "(('4', 'Rorb', ''), ('4', 'Scnn1a', '517647182'))",
           "property_map": {
            "PSP_scale_factor": 0.059,
            "lognorm_scale": 0.3730737936,
            "lognorm_shape": 0.6032438129,
            "params_file": "e4_to_e4.json",
            "synphys_mean": 0.4558436608
           },
           "source_model_id": "",
           "target_model_id": "517647182",
           "weight_max": 0
          }
         },
         "name": "(('4', 'Rorb'), ('4', 'Scnn1a'))",
         "post": [
          "4",
          "Scnn1a"
         ],
         "pre": [
          "4",
          "Rorb"
         ],
         "probability": 0,
         "property_map": {
          "A_literature": [
           0.0305413259819695
          ],
          "A_literature_src": [
           0.0305413259819695
          ],
          "B_ratio": 0.5,
          "R0": 75,
          "is_pmax": 1,
          "nsyn_range": [
           3,
           8
          ],
          "post_ei": "e",
          "pre_ei": "e",
          "sigma": 127
         }
        },
        "(('4', 'Rorb'), ('4', 'Sst'))": {
         "connect_models": {
          "(('4', 'Rorb', ''), ('4', 'Sst', '476099282'))": {
           "delay": 1.1,
           "name": "(('4', 'Rorb', ''), ('4', 'Sst', '476099282'))",
           "property_map": {
            "PSP_scale_factor": 0.083,
            "lognorm_scale": 0.3577175718,
            "lognorm_shape": 0.7822724783,
            "params_file": "e4_to_sst.json",
            "synphys_mean": 0.4618269056
           },
           "source_model_id": "",
           "target_model_id": "476099282",
           "weight_max": 0.5154639175
          },
          "(('4', 'Rorb', ''), ('4', 'Sst', '476753465'))": {
           "delay": 1.1,
           "name": "(('4', 'Rorb', ''), ('4', 'Sst', '476753465'))",
           "property_map": {
            "PSP_scale_factor": 0.077,
            "lognorm_scale": 0.3577175718,
            "lognorm_shape": 0.7822724783,
            "params_file": "e4_to_sst.json",
            "synphys_mean": 0.4618269056
           },
           "source_model_id": "",
           "target_model_id": "476753465",
           "weight_max": 0.5376344086
          },
          "(('4', 'Rorb', ''), ('4', 'Sst', '485061364'))": {
           "delay": 1.1,
           "name": "(('4', 'Rorb', ''), ('4', 'Sst', '485061364'))",
           "property_map": {
            "PSP_scale_factor": 0.061,
            "lognorm_scale": 0.3577175718,
            "lognorm_shape": 0.7822724783,
            "params_file": "e4_to_sst.json",
            "synphys_mean": 0.4618269056
           },
           "source_model_id": "",
           "target_model_id": "485061364",
           "weight_max": 0.7462686567
          },
          "(('4', 'Rorb', ''), ('4', 'Sst', '501280518'))": {
           "delay": 1.1,
           "name": "(('4', 'Rorb', ''), ('4', 'Sst', '501280518'))",
           "property_map": {
            "PSP_scale_factor": 0.06,
            "lognorm_scale": 0.3577175718,
            "lognorm_shape": 0.7822724783,
            "params_file": "e4_to_sst.json",
            "synphys_mean": 0.4618269056
           },
           "source_model_id": "",
           "target_model_id": "501280518",
           "weight_max": 0.7246376812
          },
          "(('4', 'Rorb', ''), ('4', 'Sst', '501282204'))": {
           "delay": 1.1,
           "name": "(('4', 'Rorb', ''), ('4', 'Sst', '501282204'))",
           "property_map": {
            "PSP_scale_factor": 0.031,
            "lognorm_scale": 0.3577175718,
            "lognorm_shape": 0.7822724783,
            "params_file": "e4_to_sst.json",
            "synphys_mean": 0.4618269056
           },
           "source_model_id": "",
           "target_model_id": "501282204",
           "weight_max": 1.3888888889
          },
          "(('4', 'Rorb', ''), ('4', 'Sst', '573622646'))": {
           "delay": 1.1,
           "name": "(('4', 'Rorb', ''), ('4', 'Sst', '573622646'))",
           "property_map": {
            "PSP_scale_factor": 0.049,
            "lognorm_scale": 0.3577175718,
            "lognorm_shape": 0.7822724783,
            "params_file": "e4_to_sst.json",
            "synphys_mean": 0.4618269056
           },
           "source_model_id": "",
           "target_model_id": "573622646",
           "weight_max": 0
          }
         },
         "name": "(('4', 'Rorb'), ('4', 'Sst'))",
         "post": [
          "4",
          "Sst"
         ],
         "pre": [
          "4",
          "Rorb"
         ],
         "probability": 0,
         "property_map": {
          "A_literature": [
           0.324284555241534
          ],
          "A_literature_src": [
           0.324284555241534
          ],
          "B_ratio": null,
          "R0": 75,
          "is_pmax": 1,
          "nsyn_range": [
           3,
           8
          ],
          "post_ei": "i",
          "pre_ei": "e",
          "sigma": 99.84
         }
        },
        "(('4', 'Rorb'), ('4', 'Vip'))": {
         "connect_models": {
          "(('4', 'Rorb', ''), ('4', 'Vip', '501570114'))": {
           "delay": 1.46,
           "name": "(('4', 'Rorb', ''), ('4', 'Vip', '501570114'))",
           "property_map": {
            "PSP_scale_factor": 0.089,
            "lognorm_scale": 1.3675847718,
            "lognorm_shape": 0.6435686435,
            "params_file": "e4_to_vip.json",
            "synphys_mean": 1.6206456373
           },
           "source_model_id": "",
           "target_model_id": "501570114",
           "weight_max": 6.6666666667
          },
          "(('4', 'Rorb', ''), ('4', 'Vip', '531121585'))": {
           "delay": 1.46,
           "name": "(('4', 'Rorb', ''), ('4', 'Vip', '531121585'))",
           "property_map": {
            "PSP_scale_factor": 0.073,
            "lognorm_scale": 1.3675847718,
            "lognorm_shape": 0.6435686435,
            "params_file": "e4_to_vip.json",
            "synphys_mean": 1.6206456373
           },
           "source_model_id": "",
           "target_model_id": "531121585",
           "weight_max": 8.1481481481
          },
          "(('4', 'Rorb', ''), ('4', 'Vip', '535728342'))": {
           "delay": 1.46,
           "name": "(('4', 'Rorb', ''), ('4', 'Vip', '535728342'))",
           "property_map": {
            "PSP_scale_factor": 0.106,
            "lognorm_scale": 1.3675847718,
            "lognorm_shape": 0.6435686435,
            "params_file": "e4_to_vip.json",
            "synphys_mean": 1.6206456373
           },
           "source_model_id": "",
           "target_model_id": "535728342",
           "weight_max": 5.5462184874
          },
          "(('4', 'Rorb', ''), ('4', 'Vip', '560690291'))": {
           "delay": 1.46,
           "name": "(('4', 'Rorb', ''), ('4', 'Vip', '560690291'))",
           "property_map": {
            "PSP_scale_factor": 0.071,
            "lognorm_scale": 1.3675847718,
            "lognorm_shape": 0.6435686435,
            "params_file": "e4_to_vip.json",
            "synphys_mean": 1.6206456373
           },
           "source_model_id": "",
           "target_model_id": "560690291",
           "weight_max": 8.6842105263
          },
          "(('4', 'Rorb', ''), ('4', 'Vip', '561934585'))": {
           "delay": 1.46,
           "name": "(('4', 'Rorb', ''), ('4', 'Vip', '561934585'))",
           "property_map": {
            "PSP_scale_factor": 0.045,
            "lognorm_scale": 1.3675847718,
            "lognorm_shape": 0.6435686435,
            "params_file": "e4_to_vip.json",
            "synphys_mean": 1.6206456373
           },
           "source_model_id": "",
           "target_model_id": "561934585",
           "weight_max": 13.4693877551
          },
          "(('4', 'Rorb', ''), ('4', 'Vip', '562540395'))": {
           "delay": 1.46,
           "name": "(('4', 'Rorb', ''), ('4', 'Vip', '562540395'))",
           "property_map": {
            "PSP_scale_factor": 0.069,
            "lognorm_scale": 1.3675847718,
            "lognorm_shape": 0.6435686435,
            "params_file": "e4_to_vip.json",
            "synphys_mean": 1.6206456373
           },
           "source_model_id": "",
           "target_model_id": "562540395",
           "weight_max": 0
          }
         },
         "name": "(('4', 'Rorb'), ('4', 'Vip'))",
         "post": [
          "4",
          "Vip"
         ],
         "pre": [
          "4",
          "Rorb"
         ],
         "probability": 0,
         "property_map": {
          "A_literature": [
           0.0845196761302092
          ],
          "A_literature_src": [
           0.0845196761302092
          ],
          "B_ratio": null,
          "R0": 75,
          "is_pmax": 1,
          "nsyn_range": [
           3,
           8
          ],
          "post_ei": "i",
          "pre_ei": "e",
          "sigma": 99.84
         }
        },
        "(('4', 'Scnn1a'), ('4', 'Pvalb'))": {
         "connect_models": {
          "(('4', 'Scnn1a', ''), ('4', 'Pvalb', '478793814'))": {
           "delay": 1.13,
           "name": "(('4', 'Scnn1a', ''), ('4', 'Pvalb', '478793814'))",
           "property_map": {
            "PSP_scale_factor": 0.031,
            "lognorm_scale": 0.6799802917,
            "lognorm_shape": 0.5876306305,
            "params_file": "e4_to_pv.json",
            "synphys_mean": 0.7958240058
           },
           "source_model_id": "",
           "target_model_id": "478793814",
           "weight_max": 9
          },
          "(('4', 'Scnn1a', ''), ('4', 'Pvalb', '478958894'))": {
           "delay": 1.13,
           "name": "(('4', 'Scnn1a', ''), ('4', 'Pvalb', '478958894'))",
           "property_map": {
            "PSP_scale_factor": 0.03,
            "lognorm_scale": 0.6799802917,
            "lognorm_shape": 0.5876306305,
            "params_file": "e4_to_pv.json",
            "synphys_mean": 0.7958240058
           },
           "source_model_id": "",
           "target_model_id": "478958894",
           "weight_max": 9.375
          },
          "(('4', 'Scnn1a', ''), ('4', 'Pvalb', '481127173'))": {
           "delay": 1.13,
           "name": "(('4', 'Scnn1a', ''), ('4', 'Pvalb', '481127173'))",
           "property_map": {
            "PSP_scale_factor": 0.036,
            "lognorm_scale": 0.6799802917,
            "lognorm_shape": 0.5876306305,
            "params_file": "e4_to_pv.json",
            "synphys_mean": 0.7958240058
           },
           "source_model_id": "",
           "target_model_id": "481127173",
           "weight_max": 8.0357142857
          },
          "(('4', 'Scnn1a', ''), ('4', 'Pvalb', '481127348'))": {
           "delay": 1.13,
           "name": "(('4', 'Scnn1a', ''), ('4', 'Pvalb', '481127348'))",
           "property_map": {
            "PSP_scale_factor": 0.046,
            "lognorm_scale": 0.6799802917,
            "lognorm_shape": 0.5876306305,
            "params_file": "e4_to_pv.json",
            "synphys_mean": 0.7958240058
           },
           "source_model_id": "",
           "target_model_id": "481127348",
           "weight_max": 6.0810810811
          },
          "(('4', 'Scnn1a', ''), ('4', 'Pvalb', '487405644'))": {
           "delay": 1.13,
           "name": "(('4', 'Scnn1a', ''), ('4', 'Pvalb', '487405644'))",
           "property_map": {
            "PSP_scale_factor": 0.055,
            "lognorm_scale": 0.6799802917,
            "lognorm_shape": 0.5876306305,
            "params_file": "e4_to_pv.json",
            "synphys_mean": 0.7958240058
           },
           "source_model_id": "",
           "target_model_id": "487405644",
           "weight_max": 5.2325581395
          },
          "(('4', 'Scnn1a', ''), ('4', 'Pvalb', '487667205'))": {
           "delay": 1.13,
           "name": "(('4', 'Scnn1a', ''), ('4', 'Pvalb', '487667205'))",
           "property_map": {
            "PSP_scale_factor": 0.037,
            "lognorm_scale": 0.6799802917,
            "lognorm_shape": 0.5876306305,
            "params_file": "e4_to_pv.json",
            "synphys_mean": 0.7958240058
           },
           "source_model_id": "",
           "target_model_id": "487667205",
           "weight_max": 7.6271186441
          },
          "(('4', 'Scnn1a', ''), ('4', 'Pvalb', '491038812'))": {
           "delay": 1.13,
           "name": "(('4', 'Scnn1a', ''), ('4', 'Pvalb', '491038812'))",
           "property_map": {
            "PSP_scale_factor": 0.029,
            "lognorm_scale": 0.6799802917,
            "lognorm_shape": 0.5876306305,
            "params_file": "e4_to_pv.json",
            "synphys_mean": 0.7958240058
           },
           "source_model_id": "",
           "target_model_id": "491038812",
           "weight_max": 10.2272727273
          },
          "(('4', 'Scnn1a', ''), ('4', 'Pvalb', '569997187'))": {
           "delay": 1.13,
           "name": "(('4', 'Scnn1a', ''), ('4', 'Pvalb', '569997187'))",
           "property_map": {
            "PSP_scale_factor": 0.043,
            "lognorm_scale": 0.6799802917,
            "lognorm_shape": 0.5876306305,
            "params_file": "e4_to_pv.json",
            "synphys_mean": 0.7958240058
           },
           "source_model_id": "",
           "target_model_id": "569997187",
           "weight_max": 6.1643835616
          },
          "(('4', 'Scnn1a', ''), ('4', 'Pvalb', '571314481'))": {
           "delay": 1.13,
           "name": "(('4', 'Scnn1a', ''), ('4', 'Pvalb', '571314481'))",
           "property_map": {
            "PSP_scale_factor": 0.046,
            "lognorm_scale": 0.6799802917,
            "lognorm_shape": 0.5876306305,
            "params_file": "e4_to_pv.json",
            "synphys_mean": 0.7958240058
           },
           "source_model_id": "",
           "target_model_id": "571314481",
           "weight_max": 6.0810810811
          },
          "(('4', 'Scnn1a', ''), ('4', 'Pvalb', '572375809'))": {
           "delay": 1.13,
           "name": "(('4', 'Scnn1a', ''), ('4', 'Pvalb', '572375809'))",
           "property_map": {
            "PSP_scale_factor": 0.035,
            "lognorm_scale": 0.6799802917,
            "lognorm_shape": 0.5876306305,
            "params_file": "e4_to_pv.json",
            "synphys_mean": 0.7958240058
           },
           "source_model_id": "",
           "target_model_id": "572375809",
           "weight_max": 7.8947368421
          },
          "(('4', 'Scnn1a', ''), ('4', 'Pvalb', '579414994'))": {
           "delay": 1.13,
           "name": "(('4', 'Scnn1a', ''), ('4', 'Pvalb', '579414994'))",
           "property_map": {
            "PSP_scale_factor": 0.029,
            "lognorm_scale": 0.6799802917,
            "lognorm_shape": 0.5876306305,
            "params_file": "e4_to_pv.json",
            "synphys_mean": 0.7958240058
           },
           "source_model_id": "",
           "target_model_id": "579414994",
           "weight_max": 0
          }
         },
         "name": "(('4', 'Scnn1a'), ('4', 'Pvalb'))",
         "post": [
          "4",
          "Pvalb"
         ],
         "pre": [
          "4",
          "Scnn1a"
         ],
         "probability": 0,
         "property_map": {
          "A_literature": [
           0.315678465282962
          ],
          "A_literature_src": [
           0.315678465282962
          ],
          "B_ratio": null,
          "R0": 75,
          "is_pmax": 1,
          "nsyn_range": [
           3,
           8
          ],
          "post_ei": "i",
          "pre_ei": "e",
          "sigma": 99.84
         }
        },
        "(('4', 'Scnn1a'), ('4', 'Rorb'))": {
         "connect_models": {
          "(('4', 'Scnn1a', ''), ('4', 'Rorb', '322723785'))": {
           "delay": 1.48,
           "name": "(('4', 'Scnn1a', ''), ('4', 'Rorb', '322723785'))",
           "property_map": {
            "PSP_scale_factor": 0.063,
            "lognorm_scale": 0.3730737936,
            "lognorm_shape": 0.6032438129,
            "params_file": "e4_to_e4.json",
            "synphys_mean": 0.4558436608
           },
           "source_model_id": "",
           "target_model_id": "322723785",
           "weight_max": 2.4
          },
          "(('4', 'Scnn1a', ''), ('4', 'Rorb', '322761772'))": {
           "delay": 1.48,
           "name": "(('4', 'Scnn1a', ''), ('4', 'Rorb', '322761772'))",
           "property_map": {
            "PSP_scale_factor": 0.06,
            "lognorm_scale": 0.3730737936,
            "lognorm_shape": 0.6032438129,
            "params_file": "e4_to_e4.json",
            "synphys_mean": 0.4558436608
           },
           "source_model_id": "",
           "target_model_id": "322761772",
           "weight_max": 2.25
          },
          "(('4', 'Scnn1a', ''), ('4', 'Rorb', '324065524'))": {
           "delay": 1.48,
           "name": "(('4', 'Scnn1a', ''), ('4', 'Rorb', '324065524'))",
           "property_map": {
            "PSP_scale_factor": 0.084,
            "lognorm_scale": 0.3730737936,
            "lognorm_shape": 0.6032438129,
            "params_file": "e4_to_e4.json",
            "synphys_mean": 0.4558436608
           },
           "source_model_id": "",
           "target_model_id": "324065524",
           "weight_max": 1.7821782178
          },
          "(('4', 'Scnn1a', ''), ('4', 'Rorb', '329550277'))": {
           "delay": 1.48,
           "name": "(('4', 'Scnn1a', ''), ('4', 'Rorb', '329550277'))",
           "property_map": {
            "PSP_scale_factor": 0.064,
            "lognorm_scale": 0.3730737936,
            "lognorm_shape": 0.6032438129,
            "params_file": "e4_to_e4.json",
            "synphys_mean": 0.4558436608
           },
           "source_model_id": "",
           "target_model_id": "329550277",
           "weight_max": 2.3684210526
          },
          "(('4', 'Scnn1a', ''), ('4', 'Rorb', '466378900'))": {
           "delay": 1.48,
           "name": "(('4', 'Scnn1a', ''), ('4', 'Rorb', '466378900'))",
           "property_map": {
            "PSP_scale_factor": 0.096,
            "lognorm_scale": 0.3730737936,
            "lognorm_shape": 0.6032438129,
            "params_file": "e4_to_e4.json",
            "synphys_mean": 0.4558436608
           },
           "source_model_id": "",
           "target_model_id": "466378900",
           "weight_max": 1.5254237288
          },
          "(('4', 'Scnn1a', ''), ('4', 'Rorb', '467003163'))": {
           "delay": 1.48,
           "name": "(('4', 'Scnn1a', ''), ('4', 'Rorb', '467003163'))",
           "property_map": {
            "PSP_scale_factor": 0.063,
            "lognorm_scale": 0.3730737936,
            "lognorm_shape": 0.6032438129,
            "params_file": "e4_to_e4.json",
            "synphys_mean": 0.4558436608
           },
           "source_model_id": "",
           "target_model_id": "467003163",
           "weight_max": 2.6865671642
          },
          "(('4', 'Scnn1a', ''), ('4', 'Rorb', '467357834'))": {
           "delay": 1.48,
           "name": "(('4', 'Scnn1a', ''), ('4', 'Rorb', '467357834'))",
           "property_map": {
            "PSP_scale_factor": 0.056,
            "lognorm_scale": 0.3730737936,
            "lognorm_shape": 0.6032438129,
            "params_file": "e4_to_e4.json",
            "synphys_mean": 0.4558436608
           },
           "source_model_id": "",
           "target_model_id": "467357834",
           "weight_max": 2.6470588235
          },
          "(('4', 'Scnn1a', ''), ('4', 'Rorb', '469763389'))": {
           "delay": 1.48,
           "name": "(('4', 'Scnn1a', ''), ('4', 'Rorb', '469763389'))",
           "property_map": {
            "PSP_scale_factor": 0.069,
            "lognorm_scale": 0.3730737936,
            "lognorm_shape": 0.6032438129,
            "params_file": "e4_to_e4.json",
            "synphys_mean": 0.4558436608
           },
           "source_model_id": "",
           "target_model_id": "469763389",
           "weight_max": 2.1428571429
          },
          "(('4', 'Scnn1a', ''), ('4', 'Rorb', '473020156'))": {
           "delay": 1.48,
           "name": "(('4', 'Scnn1a', ''), ('4', 'Rorb', '473020156'))",
           "property_map": {
            "PSP_scale_factor": 0.08,
            "lognorm_scale": 0.3730737936,
            "lognorm_shape": 0.6032438129,
            "params_file": "e4_to_e4.json",
            "synphys_mean": 0.4558436608
           },
           "source_model_id": "",
           "target_model_id": "473020156",
           "weight_max": 1.7307692308
          },
          "(('4', 'Scnn1a', ''), ('4', 'Rorb', '476562817'))": {
           "delay": 1.48,
           "name": "(('4', 'Scnn1a', ''), ('4', 'Rorb', '476562817'))",
           "property_map": {
            "PSP_scale_factor": 0.064,
            "lognorm_scale": 0.3730737936,
            "lognorm_shape": 0.6032438129,
            "params_file": "e4_to_e4.json",
            "synphys_mean": 0.4558436608
           },
           "source_model_id": "",
           "target_model_id": "476562817",
           "weight_max": 2.3684210526
          },
          "(('4', 'Scnn1a', ''), ('4', 'Rorb', '478586425'))": {
           "delay": 1.48,
           "name": "(('4', 'Scnn1a', ''), ('4', 'Rorb', '478586425'))",
           "property_map": {
            "PSP_scale_factor": 0.069,
            "lognorm_scale": 0.3730737936,
            "lognorm_shape": 0.6032438129,
            "params_file": "e4_to_e4.json",
            "synphys_mean": 0.4558436608
           },
           "source_model_id": "",
           "target_model_id": "478586425",
           "weight_max": 2.2222222222
          },
          "(('4', 'Scnn1a', ''), ('4', 'Rorb', '479179020'))": {
           "delay": 1.48,
           "name": "(('4', 'Scnn1a', ''), ('4', 'Rorb', '479179020'))",
           "property_map": {
            "PSP_scale_factor": 0.059,
            "lognorm_scale": 0.3730737936,
            "lognorm_shape": 0.6032438129,
            "params_file": "e4_to_e4.json",
            "synphys_mean": 0.4558436608
           },
           "source_model_id": "",
           "target_model_id": "479179020",
           "weight_max": 2.4657534247
          },
          "(('4', 'Scnn1a', ''), ('4', 'Rorb', '484679812'))": {
           "delay": 1.48,
           "name": "(('4', 'Scnn1a', ''), ('4', 'Rorb', '484679812'))",
           "property_map": {
            "PSP_scale_factor": 0.08,
            "lognorm_scale": 0.3730737936,
            "lognorm_shape": 0.6032438129,
            "params_file": "e4_to_e4.json",
            "synphys_mean": 0.4558436608
           },
           "source_model_id": "",
           "target_model_id": "484679812",
           "weight_max": 1.7821782178
          },
          "(('4', 'Scnn1a', ''), ('4', 'Rorb', '484770879'))": {
           "delay": 1.48,
           "name": "(('4', 'Scnn1a', ''), ('4', 'Rorb', '484770879'))",
           "property_map": {
            "PSP_scale_factor": 0.061,
            "lognorm_scale": 0.3730737936,
            "lognorm_shape": 0.6032438129,
            "params_file": "e4_to_e4.json",
            "synphys_mean": 0.4558436608
           },
           "source_model_id": "",
           "target_model_id": "484770879",
           "weight_max": 2.5352112676
          },
          "(('4', 'Scnn1a', ''), ('4', 'Rorb', '485836906'))": {
           "delay": 1.48,
           "name": "(('4', 'Scnn1a', ''), ('4', 'Rorb', '485836906'))",
           "property_map": {
            "PSP_scale_factor": 0.051,
            "lognorm_scale": 0.3730737936,
            "lognorm_shape": 0.6032438129,
            "params_file": "e4_to_e4.json",
            "synphys_mean": 0.4558436608
           },
           "source_model_id": "",
           "target_model_id": "485836906",
           "weight_max": 3
          },
          "(('4', 'Scnn1a', ''), ('4', 'Rorb', '486472847'))": {
           "delay": 1.48,
           "name": "(('4', 'Scnn1a', ''), ('4', 'Rorb', '486472847'))",
           "property_map": {
            "PSP_scale_factor": 0.082,
            "lognorm_scale": 0.3730737936,
            "lognorm_shape": 0.6032438129,
            "params_file": "e4_to_e4.json",
            "synphys_mean": 0.4558436608
           },
           "source_model_id": "",
           "target_model_id": "486472847",
           "weight_max": 1.8181818182
          },
          "(('4', 'Scnn1a', ''), ('4', 'Rorb', '486500736'))": {
           "delay": 1.48,
           "name": "(('4', 'Scnn1a', ''), ('4', 'Rorb', '486500736'))",
           "property_map": {
            "PSP_scale_factor": 0.043,
            "lognorm_scale": 0.3730737936,
            "lognorm_shape": 0.6032438129,
            "params_file": "e4_to_e4.json",
            "synphys_mean": 0.4558436608
           },
           "source_model_id": "",
           "target_model_id": "486500736",
           "weight_max": 3.4615384615
          },
          "(('4', 'Scnn1a', ''), ('4', 'Rorb', '490626718'))": {
           "delay": 1.48,
           "name": "(('4', 'Scnn1a', ''), ('4', 'Rorb', '490626718'))",
           "property_map": {
            "PSP_scale_factor": 0.074,
            "lognorm_scale": 0.3730737936,
            "lognorm_shape": 0.6032438129,
            "params_file": "e4_to_e4.json",
            "synphys_mean": 0.4558436608
           },
           "source_model_id": "",
           "target_model_id": "490626718",
           "weight_max": 2.4
          },
          "(('4', 'Scnn1a', ''), ('4', 'Rorb', '490626827'))": {
           "delay": 1.48,
           "name": "(('4', 'Scnn1a', ''), ('4', 'Rorb', '490626827'))",
           "property_map": {
            "PSP_scale_factor": 0.07,
            "lognorm_scale": 0.3730737936,
            "lognorm_shape": 0.6032438129,
            "params_file": "e4_to_e4.json",
            "synphys_mean": 0.4558436608
           },
           "source_model_id": "",
           "target_model_id": "490626827",
           "weight_max": 2.4
          },
          "(('4', 'Scnn1a', ''), ('4', 'Rorb', '500859045'))": {
           "delay": 1.48,
           "name": "(('4', 'Scnn1a', ''), ('4', 'Rorb', '500859045'))",
           "property_map": {
            "PSP_scale_factor": 0.063,
            "lognorm_scale": 0.3730737936,
            "lognorm_shape": 0.6032438129,
            "params_file": "e4_to_e4.json",
            "synphys_mean": 0.4558436608
           },
           "source_model_id": "",
           "target_model_id": "500859045",
           "weight_max": 2.3684210526
          },
          "(('4', 'Scnn1a', ''), ('4', 'Rorb', '500894271'))": {
           "delay": 1.48,
           "name": "(('4', 'Scnn1a', ''), ('4', 'Rorb', '500894271'))",
           "property_map": {
            "PSP_scale_factor": 0.063,
            "lognorm_scale": 0.3730737936,
            "lognorm_shape": 0.6032438129,
            "params_file": "e4_to_e4.json",
            "synphys_mean": 0.4558436608
           },
           "source_model_id": "",
           "target_model_id": "500894271",
           "weight_max": 0
          }
         },
         "name": "(('4', 'Scnn1a'), ('4', 'Rorb'))",
         "post": [
          "4",
          "Rorb"
         ],
         "pre": [
          "4",
          "Scnn1a"
         ],
         "probability": 0,
         "property_map": {
          "A_literature": [
           0.0305413259819695
          ],
          "A_literature_src": [
           0.0305413259819695
          ],
          "B_ratio": 0.5,
          "R0": 75,
          "is_pmax": 1,
          "nsyn_range": [
           3,
           8
          ],
          "post_ei": "e",
          "pre_ei": "e",
          "sigma": 127
         }
        },
        "(('4', 'Scnn1a'), ('4', 'Scnn1a'))": {
         "connect_models": {
          "(('4', 'Scnn1a', ''), ('4', 'Scnn1a', '320207387'))": {
           "delay": 1.48,
           "name": "(('4', 'Scnn1a', ''), ('4', 'Scnn1a', '320207387'))",
           "property_map": {
            "PSP_scale_factor": 0.056,
            "lognorm_scale": 0.3730737936,
            "lognorm_shape": 0.6032438129,
            "params_file": "e4_to_e4.json",
            "synphys_mean": 0.4558436608
           },
           "source_model_id": "",
           "target_model_id": "320207387",
           "weight_max": 2.9032258065
          },
          "(('4', 'Scnn1a', ''), ('4', 'Scnn1a', '323838579'))": {
           "delay": 1.48,
           "name": "(('4', 'Scnn1a', ''), ('4', 'Scnn1a', '323838579'))",
           "property_map": {
            "PSP_scale_factor": 0.063,
            "lognorm_scale": 0.3730737936,
            "lognorm_shape": 0.6032438129,
            "params_file": "e4_to_e4.json",
            "synphys_mean": 0.4558436608
           },
           "source_model_id": "",
           "target_model_id": "323838579",
           "weight_max": 2.4657534247
          },
          "(('4', 'Scnn1a', ''), ('4', 'Scnn1a', '476266853'))": {
           "delay": 1.48,
           "name": "(('4', 'Scnn1a', ''), ('4', 'Scnn1a', '476266853'))",
           "property_map": {
            "PSP_scale_factor": 0.062,
            "lognorm_scale": 0.3730737936,
            "lognorm_shape": 0.6032438129,
            "params_file": "e4_to_e4.json",
            "synphys_mean": 0.4558436608
           },
           "source_model_id": "",
           "target_model_id": "476266853",
           "weight_max": 2.5352112676
          },
          "(('4', 'Scnn1a', ''), ('4', 'Scnn1a', '500964358'))": {
           "delay": 1.48,
           "name": "(('4', 'Scnn1a', ''), ('4', 'Scnn1a', '500964358'))",
           "property_map": {
            "PSP_scale_factor": 0.057,
            "lognorm_scale": 0.3730737936,
            "lognorm_shape": 0.6032438129,
            "params_file": "e4_to_e4.json",
            "synphys_mean": 0.4558436608
           },
           "source_model_id": "",
           "target_model_id": "500964358",
           "weight_max": 2.4324324324
          },
          "(('4', 'Scnn1a', ''), ('4', 'Scnn1a', '517647182'))": {
           "delay": 1.48,
           "name": "(('4', 'Scnn1a', ''), ('4', 'Scnn1a', '517647182'))",
           "property_map": {
            "PSP_scale_factor": 0.059,
            "lognorm_scale": 0.3730737936,
            "lognorm_shape": 0.6032438129,
            "params_file": "e4_to_e4.json",
            "synphys_mean": 0.4558436608
           },
           "source_model_id": "",
           "target_model_id": "517647182",
           "weight_max": 0
          }
         },
         "name": "(('4', 'Scnn1a'), ('4', 'Scnn1a'))",
         "post": [
          "4",
          "Scnn1a"
         ],
         "pre": [
          "4",
          "Scnn1a"
         ],
         "probability": 0,
         "property_map": {
          "A_literature": [
           0.0305413259819695
          ],
          "A_literature_src": [
           0.0305413259819695
          ],
          "B_ratio": 0.5,
          "R0": 75,
          "is_pmax": 1,
          "nsyn_range": [
           3,
           8
          ],
          "post_ei": "e",
          "pre_ei": "e",
          "sigma": 127
         }
        },
        "(('4', 'Scnn1a'), ('4', 'Sst'))": {
         "connect_models": {
          "(('4', 'Scnn1a', ''), ('4', 'Sst', '476099282'))": {
           "delay": 1.1,
           "name": "(('4', 'Scnn1a', ''), ('4', 'Sst', '476099282'))",
           "property_map": {
            "PSP_scale_factor": 0.083,
            "lognorm_scale": 0.3577175718,
            "lognorm_shape": 0.7822724783,
            "params_file": "e4_to_sst.json",
            "synphys_mean": 0.4618269056
           },
           "source_model_id": "",
           "target_model_id": "476099282",
           "weight_max": 0.5154639175
          },
          "(('4', 'Scnn1a', ''), ('4', 'Sst', '476753465'))": {
           "delay": 1.1,
           "name": "(('4', 'Scnn1a', ''), ('4', 'Sst', '476753465'))",
           "property_map": {
            "PSP_scale_factor": 0.077,
            "lognorm_scale": 0.3577175718,
            "lognorm_shape": 0.7822724783,
            "params_file": "e4_to_sst.json",
            "synphys_mean": 0.4618269056
           },
           "source_model_id": "",
           "target_model_id": "476753465",
           "weight_max": 0.5376344086
          },
          "(('4', 'Scnn1a', ''), ('4', 'Sst', '485061364'))": {
           "delay": 1.1,
           "name": "(('4', 'Scnn1a', ''), ('4', 'Sst', '485061364'))",
           "property_map": {
            "PSP_scale_factor": 0.061,
            "lognorm_scale": 0.3577175718,
            "lognorm_shape": 0.7822724783,
            "params_file": "e4_to_sst.json",
            "synphys_mean": 0.4618269056
           },
           "source_model_id": "",
           "target_model_id": "485061364",
           "weight_max": 0.7462686567
          },
          "(('4', 'Scnn1a', ''), ('4', 'Sst', '501280518'))": {
           "delay": 1.1,
           "name": "(('4', 'Scnn1a', ''), ('4', 'Sst', '501280518'))",
           "property_map": {
            "PSP_scale_factor": 0.06,
            "lognorm_scale": 0.3577175718,
            "lognorm_shape": 0.7822724783,
            "params_file": "e4_to_sst.json",
            "synphys_mean": 0.4618269056
           },
           "source_model_id": "",
           "target_model_id": "501280518",
           "weight_max": 0.7246376812
          },
          "(('4', 'Scnn1a', ''), ('4', 'Sst', '501282204'))": {
           "delay": 1.1,
           "name": "(('4', 'Scnn1a', ''), ('4', 'Sst', '501282204'))",
           "property_map": {
            "PSP_scale_factor": 0.031,
            "lognorm_scale": 0.3577175718,
            "lognorm_shape": 0.7822724783,
            "params_file": "e4_to_sst.json",
            "synphys_mean": 0.4618269056
           },
           "source_model_id": "",
           "target_model_id": "501282204",
           "weight_max": 1.3888888889
          },
          "(('4', 'Scnn1a', ''), ('4', 'Sst', '573622646'))": {
           "delay": 1.1,
           "name": "(('4', 'Scnn1a', ''), ('4', 'Sst', '573622646'))",
           "property_map": {
            "PSP_scale_factor": 0.049,
            "lognorm_scale": 0.3577175718,
            "lognorm_shape": 0.7822724783,
            "params_file": "e4_to_sst.json",
            "synphys_mean": 0.4618269056
           },
           "source_model_id": "",
           "target_model_id": "573622646",
           "weight_max": 0
          }
         },
         "name": "(('4', 'Scnn1a'), ('4', 'Sst'))",
         "post": [
          "4",
          "Sst"
         ],
         "pre": [
          "4",
          "Scnn1a"
         ],
         "probability": 0,
         "property_map": {
          "A_literature": [
           0.324284555241534
          ],
          "A_literature_src": [
           0.324284555241534
          ],
          "B_ratio": null,
          "R0": 75,
          "is_pmax": 1,
          "nsyn_range": [
           3,
           8
          ],
          "post_ei": "i",
          "pre_ei": "e",
          "sigma": 99.84
         }
        },
        "(('4', 'Scnn1a'), ('4', 'Vip'))": {
         "connect_models": {
          "(('4', 'Scnn1a', ''), ('4', 'Vip', '501570114'))": {
           "delay": 1.46,
           "name": "(('4', 'Scnn1a', ''), ('4', 'Vip', '501570114'))",
           "property_map": {
            "PSP_scale_factor": 0.089,
            "lognorm_scale": 1.3675847718,
            "lognorm_shape": 0.6435686435,
            "params_file": "e4_to_vip.json",
            "synphys_mean": 1.6206456373
           },
           "source_model_id": "",
           "target_model_id": "501570114",
           "weight_max": 6.6666666667
          },
          "(('4', 'Scnn1a', ''), ('4', 'Vip', '531121585'))": {
           "delay": 1.46,
           "name": "(('4', 'Scnn1a', ''), ('4', 'Vip', '531121585'))",
           "property_map": {
            "PSP_scale_factor": 0.073,
            "lognorm_scale": 1.3675847718,
            "lognorm_shape": 0.6435686435,
            "params_file": "e4_to_vip.json",
            "synphys_mean": 1.6206456373
           },
           "source_model_id": "",
           "target_model_id": "531121585",
           "weight_max": 8.1481481481
          },
          "(('4', 'Scnn1a', ''), ('4', 'Vip', '535728342'))": {
           "delay": 1.46,
           "name": "(('4', 'Scnn1a', ''), ('4', 'Vip', '535728342'))",
           "property_map": {
            "PSP_scale_factor": 0.106,
            "lognorm_scale": 1.3675847718,
            "lognorm_shape": 0.6435686435,
            "params_file": "e4_to_vip.json",
            "synphys_mean": 1.6206456373
           },
           "source_model_id": "",
           "target_model_id": "535728342",
           "weight_max": 5.5462184874
          },
          "(('4', 'Scnn1a', ''), ('4', 'Vip', '560690291'))": {
           "delay": 1.46,
           "name": "(('4', 'Scnn1a', ''), ('4', 'Vip', '560690291'))",
           "property_map": {
            "PSP_scale_factor": 0.071,
            "lognorm_scale": 1.3675847718,
            "lognorm_shape": 0.6435686435,
            "params_file": "e4_to_vip.json",
            "synphys_mean": 1.6206456373
           },
           "source_model_id": "",
           "target_model_id": "560690291",
           "weight_max": 8.6842105263
          },
          "(('4', 'Scnn1a', ''), ('4', 'Vip', '561934585'))": {
           "delay": 1.46,
           "name": "(('4', 'Scnn1a', ''), ('4', 'Vip', '561934585'))",
           "property_map": {
            "PSP_scale_factor": 0.045,
            "lognorm_scale": 1.3675847718,
            "lognorm_shape": 0.6435686435,
            "params_file": "e4_to_vip.json",
            "synphys_mean": 1.6206456373
           },
           "source_model_id": "",
           "target_model_id": "561934585",
           "weight_max": 13.4693877551
          },
          "(('4', 'Scnn1a', ''), ('4', 'Vip', '562540395'))": {
           "delay": 1.46,
           "name": "(('4', 'Scnn1a', ''), ('4', 'Vip', '562540395'))",
           "property_map": {
            "PSP_scale_factor": 0.069,
            "lognorm_scale": 1.3675847718,
            "lognorm_shape": 0.6435686435,
            "params_file": "e4_to_vip.json",
            "synphys_mean": 1.6206456373
           },
           "source_model_id": "",
           "target_model_id": "562540395",
           "weight_max": 0
          }
         },
         "name": "(('4', 'Scnn1a'), ('4', 'Vip'))",
         "post": [
          "4",
          "Vip"
         ],
         "pre": [
          "4",
          "Scnn1a"
         ],
         "probability": 0,
         "property_map": {
          "A_literature": [
           0.0845196761302092
          ],
          "A_literature_src": [
           0.0845196761302092
          ],
          "B_ratio": null,
          "R0": 75,
          "is_pmax": 1,
          "nsyn_range": [
           3,
           8
          ],
          "post_ei": "i",
          "pre_ei": "e",
          "sigma": 99.84
         }
        },
        "(('4', 'Sst'), ('4', 'Pvalb'))": {
         "connect_models": {
          "(('4', 'Sst', ''), ('4', 'Pvalb', '478793814'))": {
           "delay": 1.2,
           "name": "(('4', 'Sst', ''), ('4', 'Pvalb', '478793814'))",
           "property_map": {
            "PSP_scale_factor": 0.068,
            "lognorm_scale": 0.4028248323,
            "lognorm_shape": 0.6280035736,
            "params_file": "sst_to_pv.json",
            "synphys_mean": 0.4879019506
           },
           "source_model_id": "",
           "target_model_id": "478793814",
           "weight_max": -2.4324324324
          },
          "(('4', 'Sst', ''), ('4', 'Pvalb', '478958894'))": {
           "delay": 1.2,
           "name": "(('4', 'Sst', ''), ('4', 'Pvalb', '478958894'))",
           "property_map": {
            "PSP_scale_factor": 0.064,
            "lognorm_scale": 0.4028248323,
            "lognorm_shape": 0.6280035736,
            "params_file": "sst_to_pv.json",
            "synphys_mean": 0.4879019506
           },
           "source_model_id": "",
           "target_model_id": "478958894",
           "weight_max": -2.6470588235
          },
          "(('4', 'Sst', ''), ('4', 'Pvalb', '481127173'))": {
           "delay": 1.2,
           "name": "(('4', 'Sst', ''), ('4', 'Pvalb', '481127173'))",
           "property_map": {
            "PSP_scale_factor": 0.076,
            "lognorm_scale": 0.4028248323,
            "lognorm_shape": 0.6280035736,
            "params_file": "sst_to_pv.json",
            "synphys_mean": 0.4879019506
           },
           "source_model_id": "",
           "target_model_id": "481127173",
           "weight_max": -2.2784810127
          },
          "(('4', 'Sst', ''), ('4', 'Pvalb', '481127348'))": {
           "delay": 1.2,
           "name": "(('4', 'Sst', ''), ('4', 'Pvalb', '481127348'))",
           "property_map": {
            "PSP_scale_factor": 0.1,
            "lognorm_scale": 0.4028248323,
            "lognorm_shape": 0.6280035736,
            "params_file": "sst_to_pv.json",
            "synphys_mean": 0.4879019506
           },
           "source_model_id": "",
           "target_model_id": "481127348",
           "weight_max": -1.6666666667
          },
          "(('4', 'Sst', ''), ('4', 'Pvalb', '487405644'))": {
           "delay": 1.2,
           "name": "(('4', 'Sst', ''), ('4', 'Pvalb', '487405644'))",
           "property_map": {
            "PSP_scale_factor": 0.116,
            "lognorm_scale": 0.4028248323,
            "lognorm_shape": 0.6280035736,
            "params_file": "sst_to_pv.json",
            "synphys_mean": 0.4879019506
           },
           "source_model_id": "",
           "target_model_id": "487405644",
           "weight_max": -1.5254237288
          },
          "(('4', 'Sst', ''), ('4', 'Pvalb', '487667205'))": {
           "delay": 1.2,
           "name": "(('4', 'Sst', ''), ('4', 'Pvalb', '487667205'))",
           "property_map": {
            "PSP_scale_factor": 0.08,
            "lognorm_scale": 0.4028248323,
            "lognorm_shape": 0.6280035736,
            "params_file": "sst_to_pv.json",
            "synphys_mean": 0.4879019506
           },
           "source_model_id": "",
           "target_model_id": "487667205",
           "weight_max": -2.1428571429
          },
          "(('4', 'Sst', ''), ('4', 'Pvalb', '491038812'))": {
           "delay": 1.2,
           "name": "(('4', 'Sst', ''), ('4', 'Pvalb', '491038812'))",
           "property_map": {
            "PSP_scale_factor": 0.06,
            "lognorm_scale": 0.4028248323,
            "lognorm_shape": 0.6280035736,
            "params_file": "sst_to_pv.json",
            "synphys_mean": 0.4879019506
           },
           "source_model_id": "",
           "target_model_id": "491038812",
           "weight_max": -3
          },
          "(('4', 'Sst', ''), ('4', 'Pvalb', '569997187'))": {
           "delay": 1.2,
           "name": "(('4', 'Sst', ''), ('4', 'Pvalb', '569997187'))",
           "property_map": {
            "PSP_scale_factor": 0.098,
            "lognorm_scale": 0.4028248323,
            "lognorm_shape": 0.6280035736,
            "params_file": "sst_to_pv.json",
            "synphys_mean": 0.4879019506
           },
           "source_model_id": "",
           "target_model_id": "569997187",
           "weight_max": -1.5789473684
          },
          "(('4', 'Sst', ''), ('4', 'Pvalb', '571314481'))": {
           "delay": 1.2,
           "name": "(('4', 'Sst', ''), ('4', 'Pvalb', '571314481'))",
           "property_map": {
            "PSP_scale_factor": 0.099,
            "lognorm_scale": 0.4028248323,
            "lognorm_shape": 0.6280035736,
            "params_file": "sst_to_pv.json",
            "synphys_mean": 0.4879019506
           },
           "source_model_id": "",
           "target_model_id": "571314481",
           "weight_max": -1.6981132075
          },
          "(('4', 'Sst', ''), ('4', 'Pvalb', '572375809'))": {
           "delay": 1.2,
           "name": "(('4', 'Sst', ''), ('4', 'Pvalb', '572375809'))",
           "property_map": {
            "PSP_scale_factor": 0.077,
            "lognorm_scale": 0.4028248323,
            "lognorm_shape": 0.6280035736,
            "params_file": "sst_to_pv.json",
            "synphys_mean": 0.4879019506
           },
           "source_model_id": "",
           "target_model_id": "572375809",
           "weight_max": -2.1686746988
          },
          "(('4', 'Sst', ''), ('4', 'Pvalb', '579414994'))": {
           "delay": 1.2,
           "name": "(('4', 'Sst', ''), ('4', 'Pvalb', '579414994'))",
           "property_map": {
            "PSP_scale_factor": 0.064,
            "lognorm_scale": 0.4028248323,
            "lognorm_shape": 0.6280035736,
            "params_file": "sst_to_pv.json",
            "synphys_mean": 0.4879019506
           },
           "source_model_id": "",
           "target_model_id": "579414994",
           "weight_max": 0
          }
         },
         "name": "(('4', 'Sst'), ('4', 'Pvalb'))",
         "post": [
          "4",
          "Pvalb"
         ],
         "pre": [
          "4",
          "Sst"
         ],
         "probability": 0,
         "property_map": {
          "A_literature": [
           0.642166594694609
          ],
          "A_literature_src": [
           0.642166594694609
          ],
          "B_ratio": null,
          "R0": 75,
          "is_pmax": 1,
          "nsyn_range": [
           3,
           8
          ],
          "post_ei": "i",
          "pre_ei": "i",
          "sigma": 126.77
         }
        },
        "(('4', 'Sst'), ('4', 'Rorb'))": {
         "connect_models": {
          "(('4', 'Sst', ''), ('4', 'Rorb', '322723785'))": {
           "delay": 1.03,
           "name": "(('4', 'Sst', ''), ('4', 'Rorb', '322723785'))",
           "property_map": {
            "PSP_scale_factor": 0.098,
            "lognorm_scale": 0.3941148624,
            "lognorm_shape": 0.4453260389,
            "params_file": "sst_to_e4.json",
            "synphys_mean": 0.4509966417
           },
           "source_model_id": "",
           "target_model_id": "322723785",
           "weight_max": -1.935483871
          },
          "(('4', 'Sst', ''), ('4', 'Rorb', '322761772'))": {
           "delay": 1.03,
           "name": "(('4', 'Sst', ''), ('4', 'Rorb', '322761772'))",
           "property_map": {
            "PSP_scale_factor": 0.1,
            "lognorm_scale": 0.3941148624,
            "lognorm_shape": 0.4453260389,
            "params_file": "sst_to_e4.json",
            "synphys_mean": 0.4509966417
           },
           "source_model_id": "",
           "target_model_id": "322761772",
           "weight_max": -1.6981132075
          },
          "(('4', 'Sst', ''), ('4', 'Rorb', '324065524'))": {
           "delay": 1.03,
           "name": "(('4', 'Sst', ''), ('4', 'Rorb', '324065524'))",
           "property_map": {
            "PSP_scale_factor": 0.132,
            "lognorm_scale": 0.3941148624,
            "lognorm_shape": 0.4453260389,
            "params_file": "sst_to_e4.json",
            "synphys_mean": 0.4509966417
           },
           "source_model_id": "",
           "target_model_id": "324065524",
           "weight_max": -1.4285714286
          },
          "(('4', 'Sst', ''), ('4', 'Rorb', '329550277'))": {
           "delay": 1.03,
           "name": "(('4', 'Sst', ''), ('4', 'Rorb', '329550277'))",
           "property_map": {
            "PSP_scale_factor": 0.1,
            "lognorm_scale": 0.3941148624,
            "lognorm_shape": 0.4453260389,
            "params_file": "sst_to_e4.json",
            "synphys_mean": 0.4509966417
           },
           "source_model_id": "",
           "target_model_id": "329550277",
           "weight_max": -1.935483871
          },
          "(('4', 'Sst', ''), ('4', 'Rorb', '466378900'))": {
           "delay": 1.03,
           "name": "(('4', 'Sst', ''), ('4', 'Rorb', '466378900'))",
           "property_map": {
            "PSP_scale_factor": 0.153,
            "lognorm_scale": 0.3941148624,
            "lognorm_shape": 0.4453260389,
            "params_file": "sst_to_e4.json",
            "synphys_mean": 0.4509966417
           },
           "source_model_id": "",
           "target_model_id": "466378900",
           "weight_max": -1.2080536913
          },
          "(('4', 'Sst', ''), ('4', 'Rorb', '467003163'))": {
           "delay": 1.03,
           "name": "(('4', 'Sst', ''), ('4', 'Rorb', '467003163'))",
           "property_map": {
            "PSP_scale_factor": 0.093,
            "lognorm_scale": 0.3941148624,
            "lognorm_shape": 0.4453260389,
            "params_file": "sst_to_e4.json",
            "synphys_mean": 0.4509966417
           },
           "source_model_id": "",
           "target_model_id": "467003163",
           "weight_max": -2.2784810127
          },
          "(('4', 'Sst', ''), ('4', 'Rorb', '467357834'))": {
           "delay": 1.03,
           "name": "(('4', 'Sst', ''), ('4', 'Rorb', '467357834'))",
           "property_map": {
            "PSP_scale_factor": 0.088,
            "lognorm_scale": 0.3941148624,
            "lognorm_shape": 0.4453260389,
            "params_file": "sst_to_e4.json",
            "synphys_mean": 0.4509966417
           },
           "source_model_id": "",
           "target_model_id": "467357834",
           "weight_max": -2.0930232558
          },
          "(('4', 'Sst', ''), ('4', 'Rorb', '469763389'))": {
           "delay": 1.03,
           "name": "(('4', 'Sst', ''), ('4', 'Rorb', '469763389'))",
           "property_map": {
            "PSP_scale_factor": 0.109,
            "lognorm_scale": 0.3941148624,
            "lognorm_shape": 0.4453260389,
            "params_file": "sst_to_e4.json",
            "synphys_mean": 0.4509966417
           },
           "source_model_id": "",
           "target_model_id": "469763389",
           "weight_max": -1.6981132075
          },
          "(('4', 'Sst', ''), ('4', 'Rorb', '473020156'))": {
           "delay": 1.03,
           "name": "(('4', 'Sst', ''), ('4', 'Rorb', '473020156'))",
           "property_map": {
            "PSP_scale_factor": 0.131,
            "lognorm_scale": 0.3941148624,
            "lognorm_shape": 0.4453260389,
            "params_file": "sst_to_e4.json",
            "synphys_mean": 0.4509966417
           },
           "source_model_id": "",
           "target_model_id": "473020156",
           "weight_max": -1.3432835821
          },
          "(('4', 'Sst', ''), ('4', 'Rorb', '476562817'))": {
           "delay": 1.03,
           "name": "(('4', 'Sst', ''), ('4', 'Rorb', '476562817'))",
           "property_map": {
            "PSP_scale_factor": 0.1,
            "lognorm_scale": 0.3941148624,
            "lognorm_shape": 0.4453260389,
            "params_file": "sst_to_e4.json",
            "synphys_mean": 0.4509966417
           },
           "source_model_id": "",
           "target_model_id": "476562817",
           "weight_max": -1.914893617
          },
          "(('4', 'Sst', ''), ('4', 'Rorb', '478586425'))": {
           "delay": 1.03,
           "name": "(('4', 'Sst', ''), ('4', 'Rorb', '478586425'))",
           "property_map": {
            "PSP_scale_factor": 0.107,
            "lognorm_scale": 0.3941148624,
            "lognorm_shape": 0.4453260389,
            "params_file": "sst_to_e4.json",
            "synphys_mean": 0.4509966417
           },
           "source_model_id": "",
           "target_model_id": "478586425",
           "weight_max": -1.8
          },
          "(('4', 'Sst', ''), ('4', 'Rorb', '479179020'))": {
           "delay": 1.03,
           "name": "(('4', 'Sst', ''), ('4', 'Rorb', '479179020'))",
           "property_map": {
            "PSP_scale_factor": 0.094,
            "lognorm_scale": 0.3941148624,
            "lognorm_shape": 0.4453260389,
            "params_file": "sst_to_e4.json",
            "synphys_mean": 0.4509966417
           },
           "source_model_id": "",
           "target_model_id": "479179020",
           "weight_max": -1.9565217391
          },
          "(('4', 'Sst', ''), ('4', 'Rorb', '484679812'))": {
           "delay": 1.03,
           "name": "(('4', 'Sst', ''), ('4', 'Rorb', '484679812'))",
           "property_map": {
            "PSP_scale_factor": 0.129,
            "lognorm_scale": 0.3941148624,
            "lognorm_shape": 0.4453260389,
            "params_file": "sst_to_e4.json",
            "synphys_mean": 0.4509966417
           },
           "source_model_id": "",
           "target_model_id": "484679812",
           "weight_max": -1.3953488372
          },
          "(('4', 'Sst', ''), ('4', 'Rorb', '484770879'))": {
           "delay": 1.03,
           "name": "(('4', 'Sst', ''), ('4', 'Rorb', '484770879'))",
           "property_map": {
            "PSP_scale_factor": 0.095,
            "lognorm_scale": 0.3941148624,
            "lognorm_shape": 0.4453260389,
            "params_file": "sst_to_e4.json",
            "synphys_mean": 0.4509966417
           },
           "source_model_id": "",
           "target_model_id": "484770879",
           "weight_max": -2.0689655172
          },
          "(('4', 'Sst', ''), ('4', 'Rorb', '485836906'))": {
           "delay": 1.03,
           "name": "(('4', 'Sst', ''), ('4', 'Rorb', '485836906'))",
           "property_map": {
            "PSP_scale_factor": 0.08,
            "lognorm_scale": 0.3941148624,
            "lognorm_shape": 0.4453260389,
            "params_file": "sst_to_e4.json",
            "synphys_mean": 0.4509966417
           },
           "source_model_id": "",
           "target_model_id": "485836906",
           "weight_max": -2.4
          },
          "(('4', 'Sst', ''), ('4', 'Rorb', '486472847'))": {
           "delay": 1.03,
           "name": "(('4', 'Sst', ''), ('4', 'Rorb', '486472847'))",
           "property_map": {
            "PSP_scale_factor": 0.13,
            "lognorm_scale": 0.3941148624,
            "lognorm_shape": 0.4453260389,
            "params_file": "sst_to_e4.json",
            "synphys_mean": 0.4509966417
           },
           "source_model_id": "",
           "target_model_id": "486472847",
           "weight_max": -1.4516129032
          },
          "(('4', 'Sst', ''), ('4', 'Rorb', '486500736'))": {
           "delay": 1.03,
           "name": "(('4', 'Sst', ''), ('4', 'Rorb', '486500736'))",
           "property_map": {
            "PSP_scale_factor": 0.068,
            "lognorm_scale": 0.3941148624,
            "lognorm_shape": 0.4453260389,
            "params_file": "sst_to_e4.json",
            "synphys_mean": 0.4509966417
           },
           "source_model_id": "",
           "target_model_id": "486500736",
           "weight_max": -2.7272727273
          },
          "(('4', 'Sst', ''), ('4', 'Rorb', '490626718'))": {
           "delay": 1.03,
           "name": "(('4', 'Sst', ''), ('4', 'Rorb', '490626718'))",
           "property_map": {
            "PSP_scale_factor": 0.107,
            "lognorm_scale": 0.3941148624,
            "lognorm_shape": 0.4453260389,
            "params_file": "sst_to_e4.json",
            "synphys_mean": 0.4509966417
           },
           "source_model_id": "",
           "target_model_id": "490626718",
           "weight_max": -2.0930232558
          },
          "(('4', 'Sst', ''), ('4', 'Rorb', '490626827'))": {
           "delay": 1.03,
           "name": "(('4', 'Sst', ''), ('4', 'Rorb', '490626827'))",
           "property_map": {
            "PSP_scale_factor": 0.104,
            "lognorm_scale": 0.3941148624,
            "lognorm_shape": 0.4453260389,
            "params_file": "sst_to_e4.json",
            "synphys_mean": 0.4509966417
           },
           "source_model_id": "",
           "target_model_id": "490626827",
           "weight_max": -2.0224719101
          },
          "(('4', 'Sst', ''), ('4', 'Rorb', '500859045'))": {
           "delay": 1.03,
           "name": "(('4', 'Sst', ''), ('4', 'Rorb', '500859045'))",
           "property_map": {
            "PSP_scale_factor": 0.1,
            "lognorm_scale": 0.3941148624,
            "lognorm_shape": 0.4453260389,
            "params_file": "sst_to_e4.json",
            "synphys_mean": 0.4509966417
           },
           "source_model_id": "",
           "target_model_id": "500859045",
           "weight_max": -1.8947368421
          },
          "(('4', 'Sst', ''), ('4', 'Rorb', '500894271'))": {
           "delay": 1.03,
           "name": "(('4', 'Sst', ''), ('4', 'Rorb', '500894271'))",
           "property_map": {
            "PSP_scale_factor": 0.102,
            "lognorm_scale": 0.3941148624,
            "lognorm_shape": 0.4453260389,
            "params_file": "sst_to_e4.json",
            "synphys_mean": 0.4509966417
           },
           "source_model_id": "",
           "target_model_id": "500894271",
           "weight_max": 0
          }
         },
         "name": "(('4', 'Sst'), ('4', 'Rorb'))",
         "post": [
          "4",
          "Rorb"
         ],
         "pre": [
          "4",
          "Sst"
         ],
         "probability": 0,
         "property_map": {
          "A_literature": [
           0.476772423992245
          ],
          "A_literature_src": [
           0.476772423992245
          ],
          "B_ratio": null,
          "R0": 75,
          "is_pmax": 1,
          "nsyn_range": [
           3,
           8
          ],
          "post_ei": "e",
          "pre_ei": "i",
          "sigma": 96.6
         }
        },
        "(('4', 'Sst'), ('4', 'Scnn1a'))": {
         "connect_models": {
          "(('4', 'Sst', ''), ('4', 'Scnn1a', '320207387'))": {
           "delay": 1.03,
           "name": "(('4', 'Sst', ''), ('4', 'Scnn1a', '320207387'))",
           "property_map": {
            "PSP_scale_factor": 0.085,
            "lognorm_scale": 0.3941148624,
            "lognorm_shape": 0.4453260389,
            "params_file": "sst_to_e4.json",
            "synphys_mean": 0.4509966417
           },
           "source_model_id": "",
           "target_model_id": "320207387",
           "weight_max": -2.4324324324
          },
          "(('4', 'Sst', ''), ('4', 'Scnn1a', '323838579'))": {
           "delay": 1.03,
           "name": "(('4', 'Sst', ''), ('4', 'Scnn1a', '323838579'))",
           "property_map": {
            "PSP_scale_factor": 0.098,
            "lognorm_scale": 0.3941148624,
            "lognorm_shape": 0.4453260389,
            "params_file": "sst_to_e4.json",
            "synphys_mean": 0.4509966417
           },
           "source_model_id": "",
           "target_model_id": "323838579",
           "weight_max": -2
          },
          "(('4', 'Sst', ''), ('4', 'Scnn1a', '476266853'))": {
           "delay": 1.03,
           "name": "(('4', 'Sst', ''), ('4', 'Scnn1a', '476266853'))",
           "property_map": {
            "PSP_scale_factor": 0.095,
            "lognorm_scale": 0.3941148624,
            "lognorm_shape": 0.4453260389,
            "params_file": "sst_to_e4.json",
            "synphys_mean": 0.4509966417
           },
           "source_model_id": "",
           "target_model_id": "476266853",
           "weight_max": -2.0930232558
          },
          "(('4', 'Sst', ''), ('4', 'Scnn1a', '500964358'))": {
           "delay": 1.03,
           "name": "(('4', 'Sst', ''), ('4', 'Scnn1a', '500964358'))",
           "property_map": {
            "PSP_scale_factor": 0.094,
            "lognorm_scale": 0.3941148624,
            "lognorm_shape": 0.4453260389,
            "params_file": "sst_to_e4.json",
            "synphys_mean": 0.4509966417
           },
           "source_model_id": "",
           "target_model_id": "500964358",
           "weight_max": -1.875
          },
          "(('4', 'Sst', ''), ('4', 'Scnn1a', '517647182'))": {
           "delay": 1.03,
           "name": "(('4', 'Sst', ''), ('4', 'Scnn1a', '517647182'))",
           "property_map": {
            "PSP_scale_factor": 0.096,
            "lognorm_scale": 0.3941148624,
            "lognorm_shape": 0.4453260389,
            "params_file": "sst_to_e4.json",
            "synphys_mean": 0.4509966417
           },
           "source_model_id": "",
           "target_model_id": "517647182",
           "weight_max": 0
          }
         },
         "name": "(('4', 'Sst'), ('4', 'Scnn1a'))",
         "post": [
          "4",
          "Scnn1a"
         ],
         "pre": [
          "4",
          "Sst"
         ],
         "probability": 0,
         "property_map": {
          "A_literature": [
           0.476772423992245
          ],
          "A_literature_src": [
           0.476772423992245
          ],
          "B_ratio": null,
          "R0": 75,
          "is_pmax": 1,
          "nsyn_range": [
           3,
           8
          ],
          "post_ei": "e",
          "pre_ei": "i",
          "sigma": 96.6
         }
        },
        "(('4', 'Sst'), ('4', 'Sst'))": {
         "connect_models": {
          "(('4', 'Sst', ''), ('4', 'Sst', '476099282'))": {
           "delay": 1.41,
           "name": "(('4', 'Sst', ''), ('4', 'Sst', '476099282'))",
           "property_map": {
            "PSP_scale_factor": 0.093,
            "lognorm_scale": 0.4420259472,
            "lognorm_shape": 0.4889524934,
            "params_file": "sst_to_sst.json",
            "synphys_mean": 0.5053890797
           },
           "source_model_id": "",
           "target_model_id": "476099282",
           "weight_max": -1.1184210526
          },
          "(('4', 'Sst', ''), ('4', 'Sst', '476753465'))": {
           "delay": 1.41,
           "name": "(('4', 'Sst', ''), ('4', 'Sst', '476753465'))",
           "property_map": {
            "PSP_scale_factor": 0.088,
            "lognorm_scale": 0.4420259472,
            "lognorm_shape": 0.4889524934,
            "params_file": "sst_to_sst.json",
            "synphys_mean": 0.5053890797
           },
           "source_model_id": "",
           "target_model_id": "476753465",
           "weight_max": -1.0828025478
          },
          "(('4', 'Sst', ''), ('4', 'Sst', '485061364'))": {
           "delay": 1.41,
           "name": "(('4', 'Sst', ''), ('4', 'Sst', '485061364'))",
           "property_map": {
            "PSP_scale_factor": 0.067,
            "lognorm_scale": 0.4420259472,
            "lognorm_shape": 0.4889524934,
            "params_file": "sst_to_sst.json",
            "synphys_mean": 0.5053890797
           },
           "source_model_id": "",
           "target_model_id": "485061364",
           "weight_max": -1.8085106383
          },
          "(('4', 'Sst', ''), ('4', 'Sst', '501280518'))": {
           "delay": 1.41,
           "name": "(('4', 'Sst', ''), ('4', 'Sst', '501280518'))",
           "property_map": {
            "PSP_scale_factor": 0.067,
            "lognorm_scale": 0.4420259472,
            "lognorm_shape": 0.4889524934,
            "params_file": "sst_to_sst.json",
            "synphys_mean": 0.5053890797
           },
           "source_model_id": "",
           "target_model_id": "501280518",
           "weight_max": -1.619047619
          },
          "(('4', 'Sst', ''), ('4', 'Sst', '501282204'))": {
           "delay": 1.41,
           "name": "(('4', 'Sst', ''), ('4', 'Sst', '501282204'))",
           "property_map": {
            "PSP_scale_factor": 0.034,
            "lognorm_scale": 0.4420259472,
            "lognorm_shape": 0.4889524934,
            "params_file": "sst_to_sst.json",
            "synphys_mean": 0.5053890797
           },
           "source_model_id": "",
           "target_model_id": "501282204",
           "weight_max": -2.9310344828
          },
          "(('4', 'Sst', ''), ('4', 'Sst', '573622646'))": {
           "delay": 1.41,
           "name": "(('4', 'Sst', ''), ('4', 'Sst', '573622646'))",
           "property_map": {
            "PSP_scale_factor": 0.055,
            "lognorm_scale": 0.4420259472,
            "lognorm_shape": 0.4889524934,
            "params_file": "sst_to_sst.json",
            "synphys_mean": 0.5053890797
           },
           "source_model_id": "",
           "target_model_id": "573622646",
           "weight_max": 0
          }
         },
         "name": "(('4', 'Sst'), ('4', 'Sst'))",
         "post": [
          "4",
          "Sst"
         ],
         "pre": [
          "4",
          "Sst"
         ],
         "probability": 0,
         "property_map": {
          "A_literature": [
           0.389532543636401
          ],
          "A_literature_src": [
           0.389532543636401
          ],
          "B_ratio": null,
          "R0": 75,
          "is_pmax": 1,
          "nsyn_range": [
           3,
           8
          ],
          "post_ei": "i",
          "pre_ei": "i",
          "sigma": 126.77
         }
        },
        "(('4', 'Sst'), ('4', 'Vip'))": {
         "connect_models": {
          "(('4', 'Sst', ''), ('4', 'Vip', '501570114'))": {
           "delay": 1.29,
           "name": "(('4', 'Sst', ''), ('4', 'Vip', '501570114'))",
           "property_map": {
            "PSP_scale_factor": 0.113,
            "lognorm_scale": 0.7338465413,
            "lognorm_shape": 0.6515086867,
            "params_file": "sst_to_vip.json",
            "synphys_mean": 0.9061640212
           },
           "source_model_id": "",
           "target_model_id": "501570114",
           "weight_max": -1.0303030303
          },
          "(('4', 'Sst', ''), ('4', 'Vip', '531121585'))": {
           "delay": 1.29,
           "name": "(('4', 'Sst', ''), ('4', 'Vip', '531121585'))",
           "property_map": {
            "PSP_scale_factor": 0.093,
            "lognorm_scale": 0.7338465413,
            "lognorm_shape": 0.6515086867,
            "params_file": "sst_to_vip.json",
            "synphys_mean": 0.9061640212
           },
           "source_model_id": "",
           "target_model_id": "531121585",
           "weight_max": -1.2408759124
          },
          "(('4', 'Sst', ''), ('4', 'Vip', '535728342'))": {
           "delay": 1.29,
           "name": "(('4', 'Sst', ''), ('4', 'Vip', '535728342'))",
           "property_map": {
            "PSP_scale_factor": 0.138,
            "lognorm_scale": 0.7338465413,
            "lognorm_shape": 0.6515086867,
            "params_file": "sst_to_vip.json",
            "synphys_mean": 0.9061640212
           },
           "source_model_id": "",
           "target_model_id": "535728342",
           "weight_max": -0.8173076923
          },
          "(('4', 'Sst', ''), ('4', 'Vip', '560690291'))": {
           "delay": 1.29,
           "name": "(('4', 'Sst', ''), ('4', 'Vip', '560690291'))",
           "property_map": {
            "PSP_scale_factor": 0.087,
            "lognorm_scale": 0.7338465413,
            "lognorm_shape": 0.6515086867,
            "params_file": "sst_to_vip.json",
            "synphys_mean": 0.9061640212
           },
           "source_model_id": "",
           "target_model_id": "560690291",
           "weight_max": -1.4655172414
          },
          "(('4', 'Sst', ''), ('4', 'Vip', '561934585'))": {
           "delay": 1.29,
           "name": "(('4', 'Sst', ''), ('4', 'Vip', '561934585'))",
           "property_map": {
            "PSP_scale_factor": 0.056,
            "lognorm_scale": 0.7338465413,
            "lognorm_shape": 0.6515086867,
            "params_file": "sst_to_vip.json",
            "synphys_mean": 0.9061640212
           },
           "source_model_id": "",
           "target_model_id": "561934585",
           "weight_max": -2.0987654321
          },
          "(('4', 'Sst', ''), ('4', 'Vip', '562540395'))": {
           "delay": 1.29,
           "name": "(('4', 'Sst', ''), ('4', 'Vip', '562540395'))",
           "property_map": {
            "PSP_scale_factor": 0.086,
            "lognorm_scale": 0.7338465413,
            "lognorm_shape": 0.6515086867,
            "params_file": "sst_to_vip.json",
            "synphys_mean": 0.9061640212
           },
           "source_model_id": "",
           "target_model_id": "562540395",
           "weight_max": 0
          }
         },
         "name": "(('4', 'Sst'), ('4', 'Vip'))",
         "post": [
          "4",
          "Vip"
         ],
         "pre": [
          "4",
          "Sst"
         ],
         "probability": 0,
         "property_map": {
          "A_literature": [
           0.283881768687639
          ],
          "A_literature_src": [
           0.283881768687639
          ],
          "B_ratio": null,
          "R0": 75,
          "is_pmax": 1,
          "nsyn_range": [
           3,
           8
          ],
          "post_ei": "i",
          "pre_ei": "i",
          "sigma": 126.77
         }
        },
        "(('4', 'Vip'), ('4', 'Pvalb'))": {
         "connect_models": {
          "(('4', 'Vip', ''), ('4', 'Pvalb', '478793814'))": {
           "delay": 1.44,
           "name": "(('4', 'Vip', ''), ('4', 'Pvalb', '478793814'))",
           "property_map": {
            "PSP_scale_factor": 0.082,
            "lognorm_scale": 0.3213333255,
            "lognorm_shape": 0.4906300038,
            "params_file": "vip_to_pv.json",
            "synphys_mean": 0.3672708228
           },
           "source_model_id": "",
           "target_model_id": "478793814",
           "weight_max": -1.7567567568
          },
          "(('4', 'Vip', ''), ('4', 'Pvalb', '478958894'))": {
           "delay": 1.44,
           "name": "(('4', 'Vip', ''), ('4', 'Pvalb', '478958894'))",
           "property_map": {
            "PSP_scale_factor": 0.077,
            "lognorm_scale": 0.3213333255,
            "lognorm_shape": 0.4906300038,
            "params_file": "vip_to_pv.json",
            "synphys_mean": 0.3672708228
           },
           "source_model_id": "",
           "target_model_id": "478958894",
           "weight_max": -1.9117647059
          },
          "(('4', 'Vip', ''), ('4', 'Pvalb', '481127173'))": {
           "delay": 1.44,
           "name": "(('4', 'Vip', ''), ('4', 'Pvalb', '481127173'))",
           "property_map": {
            "PSP_scale_factor": 0.091,
            "lognorm_scale": 0.3213333255,
            "lognorm_shape": 0.4906300038,
            "params_file": "vip_to_pv.json",
            "synphys_mean": 0.3672708228
           },
           "source_model_id": "",
           "target_model_id": "481127173",
           "weight_max": -1.6455696203
          },
          "(('4', 'Vip', ''), ('4', 'Pvalb', '481127348'))": {
           "delay": 1.44,
           "name": "(('4', 'Vip', ''), ('4', 'Pvalb', '481127348'))",
           "property_map": {
            "PSP_scale_factor": 0.121,
            "lognorm_scale": 0.3213333255,
            "lognorm_shape": 0.4906300038,
            "params_file": "vip_to_pv.json",
            "synphys_mean": 0.3672708228
           },
           "source_model_id": "",
           "target_model_id": "481127348",
           "weight_max": -1.2037037037
          },
          "(('4', 'Vip', ''), ('4', 'Pvalb', '487405644'))": {
           "delay": 1.44,
           "name": "(('4', 'Vip', ''), ('4', 'Pvalb', '487405644'))",
           "property_map": {
            "PSP_scale_factor": 0.139,
            "lognorm_scale": 0.3213333255,
            "lognorm_shape": 0.4906300038,
            "params_file": "vip_to_pv.json",
            "synphys_mean": 0.3672708228
           },
           "source_model_id": "",
           "target_model_id": "487405644",
           "weight_max": -1.1016949153
          },
          "(('4', 'Vip', ''), ('4', 'Pvalb', '487667205'))": {
           "delay": 1.44,
           "name": "(('4', 'Vip', ''), ('4', 'Pvalb', '487667205'))",
           "property_map": {
            "PSP_scale_factor": 0.096,
            "lognorm_scale": 0.3213333255,
            "lognorm_shape": 0.4906300038,
            "params_file": "vip_to_pv.json",
            "synphys_mean": 0.3672708228
           },
           "source_model_id": "",
           "target_model_id": "487667205",
           "weight_max": -1.5476190476
          },
          "(('4', 'Vip', ''), ('4', 'Pvalb', '491038812'))": {
           "delay": 1.44,
           "name": "(('4', 'Vip', ''), ('4', 'Pvalb', '491038812'))",
           "property_map": {
            "PSP_scale_factor": 0.071,
            "lognorm_scale": 0.3213333255,
            "lognorm_shape": 0.4906300038,
            "params_file": "vip_to_pv.json",
            "synphys_mean": 0.3672708228
           },
           "source_model_id": "",
           "target_model_id": "491038812",
           "weight_max": -2.1666666667
          },
          "(('4', 'Vip', ''), ('4', 'Pvalb', '569997187'))": {
           "delay": 1.44,
           "name": "(('4', 'Vip', ''), ('4', 'Pvalb', '569997187'))",
           "property_map": {
            "PSP_scale_factor": 0.119,
            "lognorm_scale": 0.3213333255,
            "lognorm_shape": 0.4906300038,
            "params_file": "vip_to_pv.json",
            "synphys_mean": 0.3672708228
           },
           "source_model_id": "",
           "target_model_id": "569997187",
           "weight_max": -1.1403508772
          },
          "(('4', 'Vip', ''), ('4', 'Pvalb', '571314481'))": {
           "delay": 1.44,
           "name": "(('4', 'Vip', ''), ('4', 'Pvalb', '571314481'))",
           "property_map": {
            "PSP_scale_factor": 0.119,
            "lognorm_scale": 0.3213333255,
            "lognorm_shape": 0.4906300038,
            "params_file": "vip_to_pv.json",
            "synphys_mean": 0.3672708228
           },
           "source_model_id": "",
           "target_model_id": "571314481",
           "weight_max": -1.2264150943
          },
          "(('4', 'Vip', ''), ('4', 'Pvalb', '572375809'))": {
           "delay": 1.44,
           "name": "(('4', 'Vip', ''), ('4', 'Pvalb', '572375809'))",
           "property_map": {
            "PSP_scale_factor": 0.093,
            "lognorm_scale": 0.3213333255,
            "lognorm_shape": 0.4906300038,
            "params_file": "vip_to_pv.json",
            "synphys_mean": 0.3672708228
           },
           "source_model_id": "",
           "target_model_id": "572375809",
           "weight_max": -1.5662650602
          },
          "(('4', 'Vip', ''), ('4', 'Pvalb', '579414994'))": {
           "delay": 1.44,
           "name": "(('4', 'Vip', ''), ('4', 'Pvalb', '579414994'))",
           "property_map": {
            "PSP_scale_factor": 0.077,
            "lognorm_scale": 0.3213333255,
            "lognorm_shape": 0.4906300038,
            "params_file": "vip_to_pv.json",
            "synphys_mean": 0.3672708228
           },
           "source_model_id": "",
           "target_model_id": "579414994",
           "weight_max": 0
          }
         },
         "name": "(('4', 'Vip'), ('4', 'Pvalb'))",
         "post": [
          "4",
          "Pvalb"
         ],
         "pre": [
          "4",
          "Vip"
         ],
         "probability": 0,
         "property_map": {
          "A_literature": [
           0.160877014664453
          ],
          "A_literature_src": [
           0.160877014664453
          ],
          "B_ratio": null,
          "R0": 75,
          "is_pmax": 1,
          "nsyn_range": [
           3,
           8
          ],
          "post_ei": "i",
          "pre_ei": "i",
          "sigma": 126.77
         }
        },
        "(('4', 'Vip'), ('4', 'Rorb'))": {
         "connect_models": {
          "(('4', 'Vip', ''), ('4', 'Rorb', '322723785'))": {
           "delay": 1.85,
           "name": "(('4', 'Vip', ''), ('4', 'Rorb', '322723785'))",
           "property_map": {
            "PSP_scale_factor": 0.055,
            "lognorm_scale": 0.4898623104,
            "lognorm_shape": 0.6116363402,
            "params_file": "vip_to_e4.json",
            "synphys_mean": 0.5970172787
           },
           "source_model_id": "",
           "target_model_id": "322723785",
           "weight_max": -3.1182795699
          },
          "(('4', 'Vip', ''), ('4', 'Rorb', '322761772'))": {
           "delay": 1.85,
           "name": "(('4', 'Vip', ''), ('4', 'Rorb', '322761772'))",
           "property_map": {
            "PSP_scale_factor": 0.057,
            "lognorm_scale": 0.4898623104,
            "lognorm_shape": 0.6116363402,
            "params_file": "vip_to_e4.json",
            "synphys_mean": 0.5970172787
           },
           "source_model_id": "",
           "target_model_id": "322761772",
           "weight_max": -2.7358490566
          },
          "(('4', 'Vip', ''), ('4', 'Rorb', '324065524'))": {
           "delay": 1.85,
           "name": "(('4', 'Vip', ''), ('4', 'Rorb', '324065524'))",
           "property_map": {
            "PSP_scale_factor": 0.074,
            "lognorm_scale": 0.4898623104,
            "lognorm_shape": 0.6116363402,
            "params_file": "vip_to_e4.json",
            "synphys_mean": 0.5970172787
           },
           "source_model_id": "",
           "target_model_id": "324065524",
           "weight_max": -2.3015873016
          },
          "(('4', 'Vip', ''), ('4', 'Rorb', '329550277'))": {
           "delay": 1.85,
           "name": "(('4', 'Vip', ''), ('4', 'Rorb', '329550277'))",
           "property_map": {
            "PSP_scale_factor": 0.056,
            "lognorm_scale": 0.4898623104,
            "lognorm_shape": 0.6116363402,
            "params_file": "vip_to_e4.json",
            "synphys_mean": 0.5970172787
           },
           "source_model_id": "",
           "target_model_id": "329550277",
           "weight_max": -3.1182795699
          },
          "(('4', 'Vip', ''), ('4', 'Rorb', '466378900'))": {
           "delay": 1.85,
           "name": "(('4', 'Vip', ''), ('4', 'Rorb', '466378900'))",
           "property_map": {
            "PSP_scale_factor": 0.085,
            "lognorm_scale": 0.4898623104,
            "lognorm_shape": 0.6116363402,
            "params_file": "vip_to_e4.json",
            "synphys_mean": 0.5970172787
           },
           "source_model_id": "",
           "target_model_id": "466378900",
           "weight_max": -1.9463087248
          },
          "(('4', 'Vip', ''), ('4', 'Rorb', '467003163'))": {
           "delay": 1.85,
           "name": "(('4', 'Vip', ''), ('4', 'Rorb', '467003163'))",
           "property_map": {
            "PSP_scale_factor": 0.052,
            "lognorm_scale": 0.4898623104,
            "lognorm_shape": 0.6116363402,
            "params_file": "vip_to_e4.json",
            "synphys_mean": 0.5970172787
           },
           "source_model_id": "",
           "target_model_id": "467003163",
           "weight_max": -3.6708860759
          },
          "(('4', 'Vip', ''), ('4', 'Rorb', '467357834'))": {
           "delay": 1.85,
           "name": "(('4', 'Vip', ''), ('4', 'Rorb', '467357834'))",
           "property_map": {
            "PSP_scale_factor": 0.049,
            "lognorm_scale": 0.4898623104,
            "lognorm_shape": 0.6116363402,
            "params_file": "vip_to_e4.json",
            "synphys_mean": 0.5970172787
           },
           "source_model_id": "",
           "target_model_id": "467357834",
           "weight_max": -3.3720930233
          },
          "(('4', 'Vip', ''), ('4', 'Rorb', '469763389'))": {
           "delay": 1.85,
           "name": "(('4', 'Vip', ''), ('4', 'Rorb', '469763389'))",
           "property_map": {
            "PSP_scale_factor": 0.061,
            "lognorm_scale": 0.4898623104,
            "lognorm_shape": 0.6116363402,
            "params_file": "vip_to_e4.json",
            "synphys_mean": 0.5970172787
           },
           "source_model_id": "",
           "target_model_id": "469763389",
           "weight_max": -2.7358490566
          },
          "(('4', 'Vip', ''), ('4', 'Rorb', '473020156'))": {
           "delay": 1.85,
           "name": "(('4', 'Vip', ''), ('4', 'Rorb', '473020156'))",
           "property_map": {
            "PSP_scale_factor": 0.074,
            "lognorm_scale": 0.4898623104,
            "lognorm_shape": 0.6116363402,
            "params_file": "vip_to_e4.json",
            "synphys_mean": 0.5970172787
           },
           "source_model_id": "",
           "target_model_id": "473020156",
           "weight_max": -2.1641791045
          },
          "(('4', 'Vip', ''), ('4', 'Rorb', '476562817'))": {
           "delay": 1.85,
           "name": "(('4', 'Vip', ''), ('4', 'Rorb', '476562817'))",
           "property_map": {
            "PSP_scale_factor": 0.055,
            "lognorm_scale": 0.4898623104,
            "lognorm_shape": 0.6116363402,
            "params_file": "vip_to_e4.json",
            "synphys_mean": 0.5970172787
           },
           "source_model_id": "",
           "target_model_id": "476562817",
           "weight_max": -3.085106383
          },
          "(('4', 'Vip', ''), ('4', 'Rorb', '478586425'))": {
           "delay": 1.85,
           "name": "(('4', 'Vip', ''), ('4', 'Rorb', '478586425'))",
           "property_map": {
            "PSP_scale_factor": 0.059,
            "lognorm_scale": 0.4898623104,
            "lognorm_shape": 0.6116363402,
            "params_file": "vip_to_e4.json",
            "synphys_mean": 0.5970172787
           },
           "source_model_id": "",
           "target_model_id": "478586425",
           "weight_max": -2.9
          },
          "(('4', 'Vip', ''), ('4', 'Rorb', '479179020'))": {
           "delay": 1.85,
           "name": "(('4', 'Vip', ''), ('4', 'Rorb', '479179020'))",
           "property_map": {
            "PSP_scale_factor": 0.052,
            "lognorm_scale": 0.4898623104,
            "lognorm_shape": 0.6116363402,
            "params_file": "vip_to_e4.json",
            "synphys_mean": 0.5970172787
           },
           "source_model_id": "",
           "target_model_id": "479179020",
           "weight_max": -3.152173913
          },
          "(('4', 'Vip', ''), ('4', 'Rorb', '484679812'))": {
           "delay": 1.85,
           "name": "(('4', 'Vip', ''), ('4', 'Rorb', '484679812'))",
           "property_map": {
            "PSP_scale_factor": 0.072,
            "lognorm_scale": 0.4898623104,
            "lognorm_shape": 0.6116363402,
            "params_file": "vip_to_e4.json",
            "synphys_mean": 0.5970172787
           },
           "source_model_id": "",
           "target_model_id": "484679812",
           "weight_max": -2.2480620155
          },
          "(('4', 'Vip', ''), ('4', 'Rorb', '484770879'))": {
           "delay": 1.85,
           "name": "(('4', 'Vip', ''), ('4', 'Rorb', '484770879'))",
           "property_map": {
            "PSP_scale_factor": 0.053,
            "lognorm_scale": 0.4898623104,
            "lognorm_shape": 0.6116363402,
            "params_file": "vip_to_e4.json",
            "synphys_mean": 0.5970172787
           },
           "source_model_id": "",
           "target_model_id": "484770879",
           "weight_max": -3.3333333333
          },
          "(('4', 'Vip', ''), ('4', 'Rorb', '485836906'))": {
           "delay": 1.85,
           "name": "(('4', 'Vip', ''), ('4', 'Rorb', '485836906'))",
           "property_map": {
            "PSP_scale_factor": 0.044,
            "lognorm_scale": 0.4898623104,
            "lognorm_shape": 0.6116363402,
            "params_file": "vip_to_e4.json",
            "synphys_mean": 0.5970172787
           },
           "source_model_id": "",
           "target_model_id": "485836906",
           "weight_max": -3.8666666667
          },
          "(('4', 'Vip', ''), ('4', 'Rorb', '486472847'))": {
           "delay": 1.85,
           "name": "(('4', 'Vip', ''), ('4', 'Rorb', '486472847'))",
           "property_map": {
            "PSP_scale_factor": 0.072,
            "lognorm_scale": 0.4898623104,
            "lognorm_shape": 0.6116363402,
            "params_file": "vip_to_e4.json",
            "synphys_mean": 0.5970172787
           },
           "source_model_id": "",
           "target_model_id": "486472847",
           "weight_max": -2.3387096774
          },
          "(('4', 'Vip', ''), ('4', 'Rorb', '486500736'))": {
           "delay": 1.85,
           "name": "(('4', 'Vip', ''), ('4', 'Rorb', '486500736'))",
           "property_map": {
            "PSP_scale_factor": 0.038,
            "lognorm_scale": 0.4898623104,
            "lognorm_shape": 0.6116363402,
            "params_file": "vip_to_e4.json",
            "synphys_mean": 0.5970172787
           },
           "source_model_id": "",
           "target_model_id": "486500736",
           "weight_max": -4.3939393939
          },
          "(('4', 'Vip', ''), ('4', 'Rorb', '490626718'))": {
           "delay": 1.85,
           "name": "(('4', 'Vip', ''), ('4', 'Rorb', '490626718'))",
           "property_map": {
            "PSP_scale_factor": 0.06,
            "lognorm_scale": 0.4898623104,
            "lognorm_shape": 0.6116363402,
            "params_file": "vip_to_e4.json",
            "synphys_mean": 0.5970172787
           },
           "source_model_id": "",
           "target_model_id": "490626718",
           "weight_max": -3.3720930233
          },
          "(('4', 'Vip', ''), ('4', 'Rorb', '490626827'))": {
           "delay": 1.85,
           "name": "(('4', 'Vip', ''), ('4', 'Rorb', '490626827'))",
           "property_map": {
            "PSP_scale_factor": 0.058,
            "lognorm_scale": 0.4898623104,
            "lognorm_shape": 0.6116363402,
            "params_file": "vip_to_e4.json",
            "synphys_mean": 0.5970172787
           },
           "source_model_id": "",
           "target_model_id": "490626827",
           "weight_max": -3.2584269663
          },
          "(('4', 'Vip', ''), ('4', 'Rorb', '500859045'))": {
           "delay": 1.85,
           "name": "(('4', 'Vip', ''), ('4', 'Rorb', '500859045'))",
           "property_map": {
            "PSP_scale_factor": 0.055,
            "lognorm_scale": 0.4898623104,
            "lognorm_shape": 0.6116363402,
            "params_file": "vip_to_e4.json",
            "synphys_mean": 0.5970172787
           },
           "source_model_id": "",
           "target_model_id": "500859045",
           "weight_max": -3.0526315789
          },
          "(('4', 'Vip', ''), ('4', 'Rorb', '500894271'))": {
           "delay": 1.85,
           "name": "(('4', 'Vip', ''), ('4', 'Rorb', '500894271'))",
           "property_map": {
            "PSP_scale_factor": 0.057,
            "lognorm_scale": 0.4898623104,
            "lognorm_shape": 0.6116363402,
            "params_file": "vip_to_e4.json",
            "synphys_mean": 0.5970172787
           },
           "source_model_id": "",
           "target_model_id": "500894271",
           "weight_max": 0
          }
         },
         "name": "(('4', 'Vip'), ('4', 'Rorb'))",
         "post": [
          "4",
          "Rorb"
         ],
         "pre": [
          "4",
          "Vip"
         ],
         "probability": 0,
         "property_map": {
          "A_literature": [
           0.0090387251730265
          ],
          "A_literature_src": [
           0.0090387251730265
          ],
          "B_ratio": null,
          "R0": 75,
          "is_pmax": 1,
          "nsyn_range": [
           3,
           8
          ],
          "post_ei": "e",
          "pre_ei": "i",
          "sigma": 96.6
         }
        },
        "(('4', 'Vip'), ('4', 'Scnn1a'))": {
         "connect_models": {
          "(('4', 'Vip', ''), ('4', 'Scnn1a', '320207387'))": {
           "delay": 1.85,
           "name": "(('4', 'Vip', ''), ('4', 'Scnn1a', '320207387'))",
           "property_map": {
            "PSP_scale_factor": 0.047,
            "lognorm_scale": 0.4898623104,
            "lognorm_shape": 0.6116363402,
            "params_file": "vip_to_e4.json",
            "synphys_mean": 0.5970172787
           },
           "source_model_id": "",
           "target_model_id": "320207387",
           "weight_max": -3.9189189189
          },
          "(('4', 'Vip', ''), ('4', 'Scnn1a', '323838579'))": {
           "delay": 1.85,
           "name": "(('4', 'Vip', ''), ('4', 'Scnn1a', '323838579'))",
           "property_map": {
            "PSP_scale_factor": 0.054,
            "lognorm_scale": 0.4898623104,
            "lognorm_shape": 0.6116363402,
            "params_file": "vip_to_e4.json",
            "synphys_mean": 0.5970172787
           },
           "source_model_id": "",
           "target_model_id": "323838579",
           "weight_max": -3.2222222222
          },
          "(('4', 'Vip', ''), ('4', 'Scnn1a', '476266853'))": {
           "delay": 1.85,
           "name": "(('4', 'Vip', ''), ('4', 'Scnn1a', '476266853'))",
           "property_map": {
            "PSP_scale_factor": 0.053,
            "lognorm_scale": 0.4898623104,
            "lognorm_shape": 0.6116363402,
            "params_file": "vip_to_e4.json",
            "synphys_mean": 0.5970172787
           },
           "source_model_id": "",
           "target_model_id": "476266853",
           "weight_max": -3.3720930233
          },
          "(('4', 'Vip', ''), ('4', 'Scnn1a', '500964358'))": {
           "delay": 1.85,
           "name": "(('4', 'Vip', ''), ('4', 'Scnn1a', '500964358'))",
           "property_map": {
            "PSP_scale_factor": 0.053,
            "lognorm_scale": 0.4898623104,
            "lognorm_shape": 0.6116363402,
            "params_file": "vip_to_e4.json",
            "synphys_mean": 0.5970172787
           },
           "source_model_id": "",
           "target_model_id": "500964358",
           "weight_max": -3.0208333333
          },
          "(('4', 'Vip', ''), ('4', 'Scnn1a', '517647182'))": {
           "delay": 1.85,
           "name": "(('4', 'Vip', ''), ('4', 'Scnn1a', '517647182'))",
           "property_map": {
            "PSP_scale_factor": 0.054,
            "lognorm_scale": 0.4898623104,
            "lognorm_shape": 0.6116363402,
            "params_file": "vip_to_e4.json",
            "synphys_mean": 0.5970172787
           },
           "source_model_id": "",
           "target_model_id": "517647182",
           "weight_max": 0
          }
         },
         "name": "(('4', 'Vip'), ('4', 'Scnn1a'))",
         "post": [
          "4",
          "Scnn1a"
         ],
         "pre": [
          "4",
          "Vip"
         ],
         "probability": 0,
         "property_map": {
          "A_literature": [
           0.0090387251730265
          ],
          "A_literature_src": [
           0.0090387251730265
          ],
          "B_ratio": null,
          "R0": 75,
          "is_pmax": 1,
          "nsyn_range": [
           3,
           8
          ],
          "post_ei": "e",
          "pre_ei": "i",
          "sigma": 96.6
         }
        },
        "(('4', 'Vip'), ('4', 'Sst'))": {
         "connect_models": {
          "(('4', 'Vip', ''), ('4', 'Sst', '476099282'))": {
           "delay": 1.43,
           "name": "(('4', 'Vip', ''), ('4', 'Sst', '476099282'))",
           "property_map": {
            "PSP_scale_factor": 0.141,
            "lognorm_scale": 0.4947485729,
            "lognorm_shape": 0.5104236043,
            "params_file": "vip_to_sst.json",
            "synphys_mean": 0.5748321044
           },
           "source_model_id": "",
           "target_model_id": "476099282",
           "weight_max": -0.9868421053
          },
          "(('4', 'Vip', ''), ('4', 'Sst', '476753465'))": {
           "delay": 1.43,
           "name": "(('4', 'Vip', ''), ('4', 'Sst', '476753465'))",
           "property_map": {
            "PSP_scale_factor": 0.134,
            "lognorm_scale": 0.4947485729,
            "lognorm_shape": 0.5104236043,
            "params_file": "vip_to_sst.json",
            "synphys_mean": 0.5748321044
           },
           "source_model_id": "",
           "target_model_id": "476753465",
           "weight_max": -0.9554140127
          },
          "(('4', 'Vip', ''), ('4', 'Sst', '485061364'))": {
           "delay": 1.43,
           "name": "(('4', 'Vip', ''), ('4', 'Sst', '485061364'))",
           "property_map": {
            "PSP_scale_factor": 0.098,
            "lognorm_scale": 0.4947485729,
            "lognorm_shape": 0.5104236043,
            "params_file": "vip_to_sst.json",
            "synphys_mean": 0.5748321044
           },
           "source_model_id": "",
           "target_model_id": "485061364",
           "weight_max": -1.5957446809
          },
          "(('4', 'Vip', ''), ('4', 'Sst', '501280518'))": {
           "delay": 1.43,
           "name": "(('4', 'Vip', ''), ('4', 'Sst', '501280518'))",
           "property_map": {
            "PSP_scale_factor": 0.101,
            "lognorm_scale": 0.4947485729,
            "lognorm_shape": 0.5104236043,
            "params_file": "vip_to_sst.json",
            "synphys_mean": 0.5748321044
           },
           "source_model_id": "",
           "target_model_id": "501280518",
           "weight_max": -1.4285714286
          },
          "(('4', 'Vip', ''), ('4', 'Sst', '501282204'))": {
           "delay": 1.43,
           "name": "(('4', 'Vip', ''), ('4', 'Sst', '501282204'))",
           "property_map": {
            "PSP_scale_factor": 0.052,
            "lognorm_scale": 0.4947485729,
            "lognorm_shape": 0.5104236043,
            "params_file": "vip_to_sst.json",
            "synphys_mean": 0.5748321044
           },
           "source_model_id": "",
           "target_model_id": "501282204",
           "weight_max": -2.5862068966
          },
          "(('4', 'Vip', ''), ('4', 'Sst', '573622646'))": {
           "delay": 1.43,
           "name": "(('4', 'Vip', ''), ('4', 'Sst', '573622646'))",
           "property_map": {
            "PSP_scale_factor": 0.082,
            "lognorm_scale": 0.4947485729,
            "lognorm_shape": 0.5104236043,
            "params_file": "vip_to_sst.json",
            "synphys_mean": 0.5748321044
           },
           "source_model_id": "",
           "target_model_id": "573622646",
           "weight_max": 0
          }
         },
         "name": "(('4', 'Vip'), ('4', 'Sst'))",
         "post": [
          "4",
          "Sst"
         ],
         "pre": [
          "4",
          "Vip"
         ],
         "probability": 0,
         "property_map": {
          "A_literature": [
           0.401398109859421
          ],
          "A_literature_src": [
           0.401398109859421
          ],
          "B_ratio": null,
          "R0": 75,
          "is_pmax": 1,
          "nsyn_range": [
           3,
           8
          ],
          "post_ei": "i",
          "pre_ei": "i",
          "sigma": 126.77
         }
        },
        "(('4', 'Vip'), ('4', 'Vip'))": {
         "connect_models": {
          "(('4', 'Vip', ''), ('4', 'Vip', '501570114'))": {
           "delay": 1.37,
           "name": "(('4', 'Vip', ''), ('4', 'Vip', '501570114'))",
           "property_map": {
            "PSP_scale_factor": 0.16,
            "lognorm_scale": 0.3903439951,
            "lognorm_shape": 0.6783943635,
            "params_file": "vip_to_vip.json",
            "synphys_mean": 0.4996826466
           },
           "source_model_id": "",
           "target_model_id": "501570114",
           "weight_max": -0.8484848485
          },
          "(('4', 'Vip', ''), ('4', 'Vip', '531121585'))": {
           "delay": 1.37,
           "name": "(('4', 'Vip', ''), ('4', 'Vip', '531121585'))",
           "property_map": {
            "PSP_scale_factor": 0.132,
            "lognorm_scale": 0.3903439951,
            "lognorm_shape": 0.6783943635,
            "params_file": "vip_to_vip.json",
            "synphys_mean": 0.4996826466
           },
           "source_model_id": "",
           "target_model_id": "531121585",
           "weight_max": -1.0218978102
          },
          "(('4', 'Vip', ''), ('4', 'Vip', '535728342'))": {
           "delay": 1.37,
           "name": "(('4', 'Vip', ''), ('4', 'Vip', '535728342'))",
           "property_map": {
            "PSP_scale_factor": 0.193,
            "lognorm_scale": 0.3903439951,
            "lognorm_shape": 0.6783943635,
            "params_file": "vip_to_vip.json",
            "synphys_mean": 0.4996826466
           },
           "source_model_id": "",
           "target_model_id": "535728342",
           "weight_max": -0.6730769231
          },
          "(('4', 'Vip', ''), ('4', 'Vip', '560690291'))": {
           "delay": 1.37,
           "name": "(('4', 'Vip', ''), ('4', 'Vip', '560690291'))",
           "property_map": {
            "PSP_scale_factor": 0.123,
            "lognorm_scale": 0.3903439951,
            "lognorm_shape": 0.6783943635,
            "params_file": "vip_to_vip.json",
            "synphys_mean": 0.4996826466
           },
           "source_model_id": "",
           "target_model_id": "560690291",
           "weight_max": -1.2068965517
          },
          "(('4', 'Vip', ''), ('4', 'Vip', '561934585'))": {
           "delay": 1.37,
           "name": "(('4', 'Vip', ''), ('4', 'Vip', '561934585'))",
           "property_map": {
            "PSP_scale_factor": 0.08,
            "lognorm_scale": 0.3903439951,
            "lognorm_shape": 0.6783943635,
            "params_file": "vip_to_vip.json",
            "synphys_mean": 0.4996826466
           },
           "source_model_id": "",
           "target_model_id": "561934585",
           "weight_max": -1.7283950617
          },
          "(('4', 'Vip', ''), ('4', 'Vip', '562540395'))": {
           "delay": 1.37,
           "name": "(('4', 'Vip', ''), ('4', 'Vip', '562540395'))",
           "property_map": {
            "PSP_scale_factor": 0.122,
            "lognorm_scale": 0.3903439951,
            "lognorm_shape": 0.6783943635,
            "params_file": "vip_to_vip.json",
            "synphys_mean": 0.4996826466
           },
           "source_model_id": "",
           "target_model_id": "562540395",
           "weight_max": 0
          }
         },
         "name": "(('4', 'Vip'), ('4', 'Vip'))",
         "post": [
          "4",
          "Vip"
         ],
         "pre": [
          "4",
          "Vip"
         ],
         "probability": 0,
         "property_map": {
          "A_literature": [
           0.262676504817764
          ],
          "A_literature_src": [
           0.262676504817764
          ],
          "B_ratio": null,
          "R0": 75,
          "is_pmax": 1,
          "nsyn_range": [
           3,
           8
          ],
          "post_ei": "i",
          "pre_ei": "i",
          "sigma": 126.77
         }
        }
       },
       "dims": {
        "core_radius": 400,
        "radius": 845
       },
       "ext_networks": {
        "bkg": {
         "connections": {
          "(('bkg', ''), ('4', 'Pvalb'))": {
           "connect_models": {
            "(('bkg', ''), ('4', 'Pvalb'), '478793814')": {
             "dynamics_params": "exc_to_pv.json",
             "name": "(('bkg', ''), ('4', 'Pvalb'), '478793814')",
             "property_map": {
              "nsyns": 1,
              "syn_weight": 7.481130099256e-26,
              "syn_weight_psp": 2.4132677739541942e-24,
              "target_median_fr": 8.86,
              "unitary_PSP": 0.0309999999999917
             },
             "target_model_id": "478793814"
            },
            "(('bkg', ''), ('4', 'Pvalb'), '478958894')": {
             "dynamics_params": "exc_to_pv.json",
             "name": "(('bkg', ''), ('4', 'Pvalb'), '478958894')",
             "property_map": {
              "nsyns": 1,
              "syn_weight": 7.481130099256e-26,
              "syn_weight_psp": 2.4937100330864203e-24,
              "target_median_fr": 8.86,
              "unitary_PSP": 0.0299999999999869
             },
             "target_model_id": "478958894"
            },
            "(('bkg', ''), ('4', 'Pvalb'), '481127173')": {
             "dynamics_params": "exc_to_pv.json",
             "name": "(('bkg', ''), ('4', 'Pvalb'), '481127173')",
             "property_map": {
              "nsyns": 1,
              "syn_weight": 7.481130099256e-26,
              "syn_weight_psp": 2.078091694237699e-24,
              "target_median_fr": 8.86,
              "unitary_PSP": 0.0360000000000013
             },
             "target_model_id": "481127173"
            },
            "(('bkg', ''), ('4', 'Pvalb'), '481127348')": {
             "dynamics_params": "exc_to_pv.json",
             "name": "(('bkg', ''), ('4', 'Pvalb'), '481127348')",
             "property_map": {
              "nsyns": 1,
              "syn_weight": 7.481130099256e-26,
              "syn_weight_psp": 1.6263326302728143e-24,
              "target_median_fr": 8.86,
              "unitary_PSP": 0.0460000000000064
             },
             "target_model_id": "481127348"
            },
            "(('bkg', ''), ('4', 'Pvalb'), '487405644')": {
             "dynamics_params": "exc_to_pv.json",
             "name": "(('bkg', ''), ('4', 'Pvalb'), '487405644')",
             "property_map": {
              "nsyns": 1,
              "syn_weight": 7.481130099256e-26,
              "syn_weight_psp": 1.3602054725918314e-24,
              "target_median_fr": 8.86,
              "unitary_PSP": 0.0550000000000068
             },
             "target_model_id": "487405644"
            },
            "(('bkg', ''), ('4', 'Pvalb'), '487667205')": {
             "dynamics_params": "exc_to_pv.json",
             "name": "(('bkg', ''), ('4', 'Pvalb'), '487667205')",
             "property_map": {
              "nsyns": 1,
              "syn_weight": 7.481130099256e-26,
              "syn_weight_psp": 2.021927053852637e-24,
              "target_median_fr": 8.86,
              "unitary_PSP": 0.0370000000000061
             },
             "target_model_id": "487667205"
            },
            "(('bkg', ''), ('4', 'Pvalb'), '491038812')": {
             "dynamics_params": "exc_to_pv.json",
             "name": "(('bkg', ''), ('4', 'Pvalb'), '491038812')",
             "property_map": {
              "nsyns": 1,
              "syn_weight": 7.481130099256e-26,
              "syn_weight_psp": 2.5797000342265305e-24,
              "target_median_fr": 8.86,
              "unitary_PSP": 0.0289999999999963
             },
             "target_model_id": "491038812"
            },
            "(('bkg', ''), ('4', 'Pvalb'), '569997187')": {
             "dynamics_params": "exc_to_pv.json",
             "name": "(('bkg', ''), ('4', 'Pvalb'), '569997187')",
             "property_map": {
              "nsyns": 1,
              "syn_weight": 7.481130099256e-26,
              "syn_weight_psp": 1.739797697501138e-24,
              "target_median_fr": 8.86,
              "unitary_PSP": 0.0430000000000063
             },
             "target_model_id": "569997187"
            },
            "(('bkg', ''), ('4', 'Pvalb'), '571314481')": {
             "dynamics_params": "exc_to_pv.json",
             "name": "(('bkg', ''), ('4', 'Pvalb'), '571314481')",
             "property_map": {
              "nsyns": 1,
              "syn_weight": 7.481130099256e-26,
              "syn_weight_psp": 1.6263326302733168e-24,
              "target_median_fr": 8.86,
              "unitary_PSP": 0.0459999999999922
             },
             "target_model_id": "571314481"
            },
            "(('bkg', ''), ('4', 'Pvalb'), '572375809')": {
             "dynamics_params": "exc_to_pv.json",
             "name": "(('bkg', ''), ('4', 'Pvalb'), '572375809')",
             "property_map": {
              "nsyns": 1,
              "syn_weight": 7.481130099256e-26,
              "syn_weight_psp": 2.13746574264478e-24,
              "target_median_fr": 8.86,
              "unitary_PSP": 0.0349999999999965
             },
             "target_model_id": "572375809"
            },
            "(('bkg', ''), ('4', 'Pvalb'), '579414994')": {
             "dynamics_params": "exc_to_pv.json",
             "name": "(('bkg', ''), ('4', 'Pvalb'), '579414994')",
             "property_map": {
              "nsyns": 1,
              "syn_weight": 7.481130099256e-26,
              "syn_weight_psp": 2.5797000342258983e-24,
              "target_median_fr": 8.86,
              "unitary_PSP": 0.0290000000000034
             },
             "target_model_id": "579414994"
            }
           },
           "name": "(('bkg', ''), ('4', 'Pvalb'))",
           "post": [
            "4",
            "Pvalb"
           ],
           "pre": [
            "bkg",
            ""
           ],
           "property_map": {
            "n_conn": 4
           }
          },
          "(('bkg', ''), ('4', 'Rorb'))": {
           "connect_models": {
            "(('bkg', ''), ('4', 'Rorb'), '322723785')": {
             "dynamics_params": "exc_to_e4.json",
             "name": "(('bkg', ''), ('4', 'Rorb'), '322723785')",
             "property_map": {
              "nsyns": 1,
              "syn_weight": 7.090524410229e-08,
              "syn_weight_psp": 1.1817540683714552e-06,
              "target_median_fr": 2.12,
              "unitary_PSP": 0.0600000000000022
             },
             "target_model_id": "322723785"
            },
            "(('bkg', ''), ('4', 'Rorb'), '322761772')": {
             "dynamics_params": "exc_to_e4.json",
             "name": "(('bkg', ''), ('4', 'Rorb'), '322761772')",
             "property_map": {
              "nsyns": 1,
              "syn_weight": 7.090524410229e-08,
              "syn_weight_psp": 1.2225042086600262e-06,
              "target_median_fr": 2.12,
              "unitary_PSP": 0.0580000000000069
             },
             "target_model_id": "322761772"
            },
            "(('bkg', ''), ('4', 'Rorb'), '324065524')": {
             "dynamics_params": "exc_to_e4.json",
             "name": "(('bkg', ''), ('4', 'Rorb'), '324065524')",
             "property_map": {
              "nsyns": 1,
              "syn_weight": 7.090524410229e-08,
              "syn_weight_psp": 8.753733839790093e-07,
              "target_median_fr": 2.12,
              "unitary_PSP": 0.0809999999999888
             },
             "target_model_id": "324065524"
            },
            "(('bkg', ''), ('4', 'Rorb'), '329550277')": {
             "dynamics_params": "exc_to_e4.json",
             "name": "(('bkg', ''), ('4', 'Rorb'), '329550277')",
             "property_map": {
              "nsyns": 1,
              "syn_weight": 7.090524410229e-08,
              "syn_weight_psp": 1.1436329693918182e-06,
              "target_median_fr": 2.12,
              "unitary_PSP": 0.0619999999999976
             },
             "target_model_id": "329550277"
            },
            "(('bkg', ''), ('4', 'Rorb'), '466378900')": {
             "dynamics_params": "exc_to_e4.json",
             "name": "(('bkg', ''), ('4', 'Rorb'), '466378900')",
             "property_map": {
              "nsyns": 1,
              "syn_weight": 7.090524410229e-08,
              "syn_weight_psp": 7.624219795944872e-07,
              "target_median_fr": 2.12,
              "unitary_PSP": 0.0930000000000035
             },
             "target_model_id": "466378900"
            },
            "(('bkg', ''), ('4', 'Rorb'), '467003163')": {
             "dynamics_params": "exc_to_e4.json",
             "name": "(('bkg', ''), ('4', 'Rorb'), '467003163')",
             "property_map": {
              "nsyns": 1,
              "syn_weight": 7.090524410229e-08,
              "syn_weight_psp": 1.1623810508573496e-06,
              "target_median_fr": 2.12,
              "unitary_PSP": 0.0609999999999928
             },
             "target_model_id": "467003163"
            },
            "(('bkg', ''), ('4', 'Rorb'), '467357834')": {
             "dynamics_params": "exc_to_e4.json",
             "name": "(('bkg', ''), ('4', 'Rorb'), '467357834')",
             "property_map": {
              "nsyns": 1,
              "syn_weight": 7.090524410229e-08,
              "syn_weight_psp": 1.3130600759682837e-06,
              "target_median_fr": 2.12,
              "unitary_PSP": 0.054000000000002
             },
             "target_model_id": "467357834"
            },
            "(('bkg', ''), ('4', 'Rorb'), '469763389')": {
             "dynamics_params": "exc_to_e4.json",
             "name": "(('bkg', ''), ('4', 'Rorb'), '469763389')",
             "property_map": {
              "nsyns": 1,
              "syn_weight": 7.090524410229e-08,
              "syn_weight_psp": 1.074321880337918e-06,
              "target_median_fr": 2.12,
              "unitary_PSP": 0.0659999999999882
             },
             "target_model_id": "469763389"
            },
            "(('bkg', ''), ('4', 'Rorb'), '473020156')": {
             "dynamics_params": "exc_to_e4.json",
             "name": "(('bkg', ''), ('4', 'Rorb'), '473020156')",
             "property_map": {
              "nsyns": 1,
              "syn_weight": 7.090524410229e-08,
              "syn_weight_psp": 9.20847326003788e-07,
              "target_median_fr": 2.12,
              "unitary_PSP": 0.0769999999999981
             },
             "target_model_id": "473020156"
            },
            "(('bkg', ''), ('4', 'Rorb'), '476562817')": {
             "dynamics_params": "exc_to_e4.json",
             "name": "(('bkg', ''), ('4', 'Rorb'), '476562817')",
             "property_map": {
              "nsyns": 1,
              "syn_weight": 7.090524410229e-08,
              "syn_weight_psp": 1.1623810508573496e-06,
              "target_median_fr": 2.12,
              "unitary_PSP": 0.0609999999999928
             },
             "target_model_id": "476562817"
            },
            "(('bkg', ''), ('4', 'Rorb'), '478586425')": {
             "dynamics_params": "exc_to_e4.json",
             "name": "(('bkg', ''), ('4', 'Rorb'), '478586425')",
             "property_map": {
              "nsyns": 1,
              "syn_weight": 7.090524410229e-08,
              "syn_weight_psp": 1.0582872254071984e-06,
              "target_median_fr": 2.12,
              "unitary_PSP": 0.0670000000000072
             },
             "target_model_id": "478586425"
            },
            "(('bkg', ''), ('4', 'Rorb'), '479179020')": {
             "dynamics_params": "exc_to_e4.json",
             "name": "(('bkg', ''), ('4', 'Rorb'), '479179020')",
             "property_map": {
              "nsyns": 1,
              "syn_weight": 7.090524410229e-08,
              "syn_weight_psp": 1.2439516509173212e-06,
              "target_median_fr": 2.12,
              "unitary_PSP": 0.0570000000000021
             },
             "target_model_id": "479179020"
            },
            "(('bkg', ''), ('4', 'Rorb'), '484679812')": {
             "dynamics_params": "exc_to_e4.json",
             "name": "(('bkg', ''), ('4', 'Rorb'), '484679812')",
             "property_map": {
              "nsyns": 1,
              "syn_weight": 7.090524410229e-08,
              "syn_weight_psp": 9.20847326003788e-07,
              "target_median_fr": 2.12,
              "unitary_PSP": 0.0769999999999981
             },
             "target_model_id": "484679812"
            },
            "(('bkg', ''), ('4', 'Rorb'), '484770879')": {
             "dynamics_params": "exc_to_e4.json",
             "name": "(('bkg', ''), ('4', 'Rorb'), '484770879')",
             "property_map": {
              "nsyns": 1,
              "syn_weight": 7.090524410229e-08,
              "syn_weight_psp": 1.2017837983439491e-06,
              "target_median_fr": 2.12,
              "unitary_PSP": 0.0589999999999975
             },
             "target_model_id": "484770879"
            },
            "(('bkg', ''), ('4', 'Rorb'), '485836906')": {
             "dynamics_params": "exc_to_e4.json",
             "name": "(('bkg', ''), ('4', 'Rorb'), '485836906')",
             "property_map": {
              "nsyns": 1,
              "syn_weight": 7.090524410229e-08,
              "syn_weight_psp": 1.4470457980061433e-06,
              "target_median_fr": 2.12,
              "unitary_PSP": 0.0489999999999923
             },
             "target_model_id": "485836906"
            },
            "(('bkg', ''), ('4', 'Rorb'), '486472847')": {
             "dynamics_params": "exc_to_e4.json",
             "name": "(('bkg', ''), ('4', 'Rorb'), '486472847')",
             "property_map": {
              "nsyns": 1,
              "syn_weight": 7.090524410229e-08,
              "syn_weight_psp": 8.863155512786438e-07,
              "target_median_fr": 2.12,
              "unitary_PSP": 0.0799999999999983
             },
             "target_model_id": "486472847"
            },
            "(('bkg', ''), ('4', 'Rorb'), '486500736')": {
             "dynamics_params": "exc_to_e4.json",
             "name": "(('bkg', ''), ('4', 'Rorb'), '486500736')",
             "property_map": {
              "nsyns": 1,
              "syn_weight": 7.090524410229e-08,
              "syn_weight_psp": 1.7293961976169635e-06,
              "target_median_fr": 2.12,
              "unitary_PSP": 0.0409999999999968
             },
             "target_model_id": "486500736"
            },
            "(('bkg', ''), ('4', 'Rorb'), '490626718')": {
             "dynamics_params": "exc_to_e4.json",
             "name": "(('bkg', ''), ('4', 'Rorb'), '490626718')",
             "property_map": {
              "nsyns": 1,
              "syn_weight": 7.090524410229e-08,
              "syn_weight_psp": 9.986654098914372e-07,
              "target_median_fr": 2.12,
              "unitary_PSP": 0.0709999999999979
             },
             "target_model_id": "490626718"
            },
            "(('bkg', ''), ('4', 'Rorb'), '490626827')": {
             "dynamics_params": "exc_to_e4.json",
             "name": "(('bkg', ''), ('4', 'Rorb'), '490626827')",
             "property_map": {
              "nsyns": 1,
              "syn_weight": 7.090524410229e-08,
              "syn_weight_psp": 1.0582872254071984e-06,
              "target_median_fr": 2.12,
              "unitary_PSP": 0.0670000000000072
             },
             "target_model_id": "490626827"
            },
            "(('bkg', ''), ('4', 'Rorb'), '500859045')": {
             "dynamics_params": "exc_to_e4.json",
             "name": "(('bkg', ''), ('4', 'Rorb'), '500859045')",
             "property_map": {
              "nsyns": 1,
              "syn_weight": 7.090524410229e-08,
              "syn_weight_psp": 1.1623810508570787e-06,
              "target_median_fr": 2.12,
              "unitary_PSP": 0.061000000000007
             },
             "target_model_id": "500859045"
            },
            "(('bkg', ''), ('4', 'Rorb'), '500894271')": {
             "dynamics_params": "exc_to_e4.json",
             "name": "(('bkg', ''), ('4', 'Rorb'), '500894271')",
             "property_map": {
              "nsyns": 1,
              "syn_weight": 7.090524410229e-08,
              "syn_weight_psp": 1.1623810508570787e-06,
              "target_median_fr": 2.12,
              "unitary_PSP": 0.061000000000007
             },
             "target_model_id": "500894271"
            }
           },
           "name": "(('bkg', ''), ('4', 'Rorb'))",
           "post": [
            "4",
            "Rorb"
           ],
           "pre": [
            "bkg",
            ""
           ],
           "property_map": {
            "n_conn": 4
           }
          },
          "(('bkg', ''), ('4', 'Scnn1a'))": {
           "connect_models": {
            "(('bkg', ''), ('4', 'Scnn1a'), '320207387')": {
             "dynamics_params": "exc_to_e4.json",
             "name": "(('bkg', ''), ('4', 'Scnn1a'), '320207387')",
             "property_map": {
              "nsyns": 1,
              "syn_weight": 8.59391427069e-11,
              "syn_weight_psp": 1.5914656056836915e-09,
              "target_median_fr": 2.12,
              "unitary_PSP": 0.0539999999999878
             },
             "target_model_id": "320207387"
            },
            "(('bkg', ''), ('4', 'Scnn1a'), '323838579')": {
             "dynamics_params": "exc_to_e4.json",
             "name": "(('bkg', ''), ('4', 'Scnn1a'), '323838579')",
             "property_map": {
              "nsyns": 1,
              "syn_weight": 8.59391427069e-11,
              "syn_weight_psp": 1.4088384050313126e-09,
              "target_median_fr": 2.12,
              "unitary_PSP": 0.0609999999999928
             },
             "target_model_id": "323838579"
            },
            "(('bkg', ''), ('4', 'Scnn1a'), '476266853')": {
             "dynamics_params": "exc_to_e4.json",
             "name": "(('bkg', ''), ('4', 'Scnn1a'), '476266853')",
             "property_map": {
              "nsyns": 1,
              "syn_weight": 8.59391427069e-11,
              "syn_weight_psp": 1.4323190451149455e-09,
              "target_median_fr": 2.12,
              "unitary_PSP": 0.0600000000000022
             },
             "target_model_id": "476266853"
            },
            "(('bkg', ''), ('4', 'Scnn1a'), '500964358')": {
             "dynamics_params": "exc_to_e4.json",
             "name": "(('bkg', ''), ('4', 'Scnn1a'), '500964358')",
             "property_map": {
              "nsyns": 1,
              "syn_weight": 8.59391427069e-11,
              "syn_weight_psp": 1.562529867397988e-09,
              "target_median_fr": 2.12,
              "unitary_PSP": 0.0550000000000068
             },
             "target_model_id": "500964358"
            },
            "(('bkg', ''), ('4', 'Scnn1a'), '517647182')": {
             "dynamics_params": "exc_to_e4.json",
             "name": "(('bkg', ''), ('4', 'Scnn1a'), '517647182')",
             "property_map": {
              "nsyns": 1,
              "syn_weight": 8.59391427069e-11,
              "syn_weight_psp": 1.5346275483375714e-09,
              "target_median_fr": 2.12,
              "unitary_PSP": 0.0559999999999973
             },
             "target_model_id": "517647182"
            }
           },
           "name": "(('bkg', ''), ('4', 'Scnn1a'))",
           "post": [
            "4",
            "Scnn1a"
           ],
           "pre": [
            "bkg",
            ""
           ],
           "property_map": {
            "n_conn": 4
           }
          },
          "(('bkg', ''), ('4', 'Sst'))": {
           "connect_models": {
            "(('4', 'Sst'), '485061364')": {
             "dynamics_params": "exc_to_sst.json",
             "name": "(('bkg', ''), ('4', 'Sst'), '485061364')",
             "property_map": {
              "nsyns": 1,
              "syn_weight": 3.657252909984,
              "syn_weight_psp": 59.95496573744966,
              "target_median_fr": 3.82,
              "unitary_PSP": 0.0609999999999928
             },
             "target_model_id": "485061364"
            },
            "(('bkg', ''), ('4', 'Sst'), '476099282')": {
             "dynamics_params": "exc_to_sst.json",
             "name": "(('bkg', ''), ('4', 'Sst'), '476099282')",
             "property_map": {
              "nsyns": 1,
              "syn_weight": 3.657252909984,
              "syn_weight_psp": 44.06328807208968,
              "target_median_fr": 3.82,
              "unitary_PSP": 0.0830000000000126
             },
             "target_model_id": "476099282"
            },
            "(('bkg', ''), ('4', 'Sst'), '476753465')": {
             "dynamics_params": "exc_to_sst.json",
             "name": "(('bkg', ''), ('4', 'Sst'), '476753465')",
             "property_map": {
              "nsyns": 1,
              "syn_weight": 3.657252909984,
              "syn_weight_psp": 47.49679103875437,
              "target_median_fr": 3.82,
              "unitary_PSP": 0.0769999999999981
             },
             "target_model_id": "476753465"
            },
            "(('bkg', ''), ('4', 'Sst'), '501280518')": {
             "dynamics_params": "exc_to_sst.json",
             "name": "(('bkg', ''), ('4', 'Sst'), '501280518')",
             "property_map": {
              "nsyns": 1,
              "syn_weight": 3.657252909984,
              "syn_weight_psp": 60.95421516639769,
              "target_median_fr": 3.82,
              "unitary_PSP": 0.0600000000000022
             },
             "target_model_id": "501280518"
            },
            "(('bkg', ''), ('4', 'Sst'), '501282204')": {
             "dynamics_params": "exc_to_sst.json",
             "name": "(('bkg', ''), ('4', 'Sst'), '501282204')",
             "property_map": {
              "nsyns": 1,
              "syn_weight": 3.657252909984,
              "syn_weight_psp": 117.975900322042,
              "target_median_fr": 3.82,
              "unitary_PSP": 0.0310000000000059
             },
             "target_model_id": "501282204"
            },
            "(('bkg', ''), ('4', 'Sst'), '573622646')": {
             "dynamics_params": "exc_to_sst.json",
             "name": "(('bkg', ''), ('4', 'Sst'), '573622646')",
             "property_map": {
              "nsyns": 1,
              "syn_weight": 3.657252909984,
              "syn_weight_psp": 74.63781448945934,
              "target_median_fr": 3.82,
              "unitary_PSP": 0.0490000000000065
             },
             "target_model_id": "573622646"
            }
           },
           "name": "(('bkg', ''), ('4', 'Sst'))",
           "post": [
            "4",
            "Sst"
           ],
           "pre": [
            "bkg",
            ""
           ],
           "property_map": {
            "n_conn": 4
           }
          },
          "(('bkg', ''), ('4', 'Vip'))": {
           "connect_models": {
            "(('bkg', ''), ('4', 'Vip'), '501570114')": {
             "dynamics_params": "exc_to_vip.json",
             "name": "(('bkg', ''), ('4', 'Vip'), '501570114')",
             "property_map": {
              "nsyns": 1,
              "syn_weight": 0.793264203462,
              "syn_weight_psp": 8.913080937775417,
              "target_median_fr": 3.13,
              "unitary_PSP": 0.0889999999999986
             },
             "target_model_id": "501570114"
            },
            "(('bkg', ''), ('4', 'Vip'), '531121585')": {
             "dynamics_params": "exc_to_vip.json",
             "name": "(('bkg', ''), ('4', 'Vip'), '531121585')",
             "property_map": {
              "nsyns": 1,
              "syn_weight": 0.793264203462,
              "syn_weight_psp": 10.86663292413587,
              "target_median_fr": 3.13,
              "unitary_PSP": 0.0730000000000075
             },
             "target_model_id": "531121585"
            },
            "(('bkg', ''), ('4', 'Vip'), '535728342')": {
             "dynamics_params": "exc_to_vip.json",
             "name": "(('bkg', ''), ('4', 'Vip'), '535728342')",
             "property_map": {
              "nsyns": 1,
              "syn_weight": 0.793264203462,
              "syn_weight_psp": 7.4836245609626495,
              "target_median_fr": 3.13,
              "unitary_PSP": 0.1059999999999945
             },
             "target_model_id": "535728342"
            },
            "(('bkg', ''), ('4', 'Vip'), '560690291')": {
             "dynamics_params": "exc_to_vip.json",
             "name": "(('bkg', ''), ('4', 'Vip'), '560690291')",
             "property_map": {
              "nsyns": 1,
              "syn_weight": 0.793264203462,
              "syn_weight_psp": 11.17273526002849,
              "target_median_fr": 3.13,
              "unitary_PSP": 0.0709999999999979
             },
             "target_model_id": "560690291"
            },
            "(('bkg', ''), ('4', 'Vip'), '561934585')": {
             "dynamics_params": "exc_to_vip.json",
             "name": "(('bkg', ''), ('4', 'Vip'), '561934585')",
             "property_map": {
              "nsyns": 1,
              "syn_weight": 0.793264203462,
              "syn_weight_psp": 17.628093410265997,
              "target_median_fr": 3.13,
              "unitary_PSP": 0.0450000000000017
             },
             "target_model_id": "561934585"
            },
            "(('bkg', ''), ('4', 'Vip'), '562540395')": {
             "dynamics_params": "exc_to_vip.json",
             "name": "(('bkg', ''), ('4', 'Vip'), '562540395')",
             "property_map": {
              "nsyns": 1,
              "syn_weight": 0.793264203462,
              "syn_weight_psp": 11.49658265886913,
              "target_median_fr": 3.13,
              "unitary_PSP": 0.0690000000000026
             },
             "target_model_id": "562540395"
            }
           },
           "name": "(('bkg', ''), ('4', 'Vip'))",
           "post": [
            "4",
            "Vip"
           ],
           "pre": [
            "bkg",
            ""
           ],
           "property_map": {
            "n_conn": 4
           }
          }
         },
         "locations": {
          "bkg": {
           "inh_fraction": 0,
           "name": "SG_001",
           "ncells": 100,
           "neurons": {
            "bkg": {
             "ei": "e",
             "name": "bkg",
             "neuron_models": {
              "bkg": {
               "m_type": "virtual",
               "property_map": {},
               "proportion": 1
              }
             }
            }
           },
           "region_fraction": 1
          }
         },
         "name": "bkg",
         "ncells": 100
        },
        "lgn": {
         "connections": {
          "(('lgn', ''), ('4', 'Pvalb'))": {
           "connect_models": {
            "(('lgn', ''), ('4', 'Pvalb'), '478793814')": {
             "dynamics_params": "exc_to_pv.json",
             "name": "(('lgn', ''), ('4', 'Pvalb'), '478793814')",
             "property_map": {
              "syn_weight": 0.345,
              "syn_weight_psp": 7.790322580647246,
              "unitary_PSP": 0.0309999999999917
             },
             "target_model_id": "478793814"
            },
            "(('lgn', ''), ('4', 'Pvalb'), '478958894')": {
             "dynamics_params": "exc_to_pv.json",
             "name": "(('lgn', ''), ('4', 'Pvalb'), '478958894')",
             "property_map": {
              "syn_weight": 0.345,
              "syn_weight_psp": 10.35000000000451,
              "unitary_PSP": 0.0299999999999869
             },
             "target_model_id": "478958894"
            },
            "(('lgn', ''), ('4', 'Pvalb'), '481127173')": {
             "dynamics_params": "exc_to_pv.json",
             "name": "(('lgn', ''), ('4', 'Pvalb'), '481127173')",
             "property_map": {
              "syn_weight": 0.345,
              "syn_weight_psp": 9.58333333333297,
              "unitary_PSP": 0.0360000000000013
             },
             "target_model_id": "481127173"
            },
            "(('lgn', ''), ('4', 'Pvalb'), '481127348')": {
             "dynamics_params": "exc_to_pv.json",
             "name": "(('lgn', ''), ('4', 'Pvalb'), '481127348')",
             "property_map": {
              "syn_weight": 0.345,
              "syn_weight_psp": 7.499999999998943,
              "unitary_PSP": 0.0460000000000064
             },
             "target_model_id": "481127348"
            },
            "(('lgn', ''), ('4', 'Pvalb'), '487405644')": {
             "dynamics_params": "exc_to_pv.json",
             "name": "(('lgn', ''), ('4', 'Pvalb'), '487405644')",
             "property_map": {
              "syn_weight": 0.345,
              "syn_weight_psp": 6.272727272726494,
              "unitary_PSP": 0.0550000000000068
             },
             "target_model_id": "487405644"
            },
            "(('lgn', ''), ('4', 'Pvalb'), '487667205')": {
             "dynamics_params": "exc_to_pv.json",
             "name": "(('lgn', ''), ('4', 'Pvalb'), '487667205')",
             "property_map": {
              "syn_weight": 0.345,
              "syn_weight_psp": 9.324324324322776,
              "unitary_PSP": 0.0370000000000061
             },
             "target_model_id": "487667205"
            },
            "(('lgn', ''), ('4', 'Pvalb'), '491038812')": {
             "dynamics_params": "exc_to_pv.json",
             "name": "(('lgn', ''), ('4', 'Pvalb'), '491038812')",
             "property_map": {
              "syn_weight": 0.345,
              "syn_weight_psp": 11.896551724139425,
              "unitary_PSP": 0.0289999999999963
             },
             "target_model_id": "491038812"
            },
            "(('lgn', ''), ('4', 'Pvalb'), '569997187')": {
             "dynamics_params": "exc_to_pv.json",
             "name": "(('lgn', ''), ('4', 'Pvalb'), '569997187')",
             "property_map": {
              "syn_weight": 0.345,
              "syn_weight_psp": 5.61627906976661,
              "unitary_PSP": 0.0430000000000063
             },
             "target_model_id": "569997187"
            },
            "(('lgn', ''), ('4', 'Pvalb'), '571314481')": {
             "dynamics_params": "exc_to_pv.json",
             "name": "(('lgn', ''), ('4', 'Pvalb'), '571314481')",
             "property_map": {
              "syn_weight": 0.345,
              "syn_weight_psp": 7.500000000001259,
              "unitary_PSP": 0.0459999999999922
             },
             "target_model_id": "571314481"
            },
            "(('lgn', ''), ('4', 'Pvalb'), '572375809')": {
             "dynamics_params": "exc_to_pv.json",
             "name": "(('lgn', ''), ('4', 'Pvalb'), '572375809')",
             "property_map": {
              "syn_weight": 0.345,
              "syn_weight_psp": 7.885714285715053,
              "unitary_PSP": 0.0349999999999965
             },
             "target_model_id": "572375809"
            },
            "(('lgn', ''), ('4', 'Pvalb'), '579414994')": {
             "dynamics_params": "exc_to_pv.json",
             "name": "(('lgn', ''), ('4', 'Pvalb'), '579414994')",
             "property_map": {
              "syn_weight": 0.345,
              "syn_weight_psp": 7.1379310344819045,
              "unitary_PSP": 0.0290000000000034
             },
             "target_model_id": "579414994"
            }
           },
           "name": "(('lgn', ''), ('4', 'Pvalb'))",
           "post": [
            "4",
            "Pvalb"
           ],
           "pre": [
            "lgn",
            ""
           ],
           "property_map": {
            "n_conn": 4
           }
          },
          "(('lgn', ''), ('4', 'Rorb'))": {
           "connect_models": {
            "(('lgn', ''), ('4', 'Rorb'), '322723785')": {
             "dynamics_params": "exc_to_e4.json",
             "name": "(('lgn', ''), ('4', 'Rorb'), '322723785')",
             "property_map": {
              "syn_weight": 0.345,
              "syn_weight_psp": 5.7499999999997815,
              "unitary_PSP": 0.0600000000000022
             },
             "target_model_id": "322723785"
            },
            "(('lgn', ''), ('4', 'Rorb'), '322761772')": {
             "dynamics_params": "exc_to_e4.json",
             "name": "(('lgn', ''), ('4', 'Rorb'), '322761772')",
             "property_map": {
              "syn_weight": 0.345,
              "syn_weight_psp": 5.948275862068254,
              "unitary_PSP": 0.0580000000000069
             },
             "target_model_id": "322761772"
            },
            "(('lgn', ''), ('4', 'Rorb'), '324065524')": {
             "dynamics_params": "exc_to_e4.json",
             "name": "(('lgn', ''), ('4', 'Rorb'), '324065524')",
             "property_map": {
              "syn_weight": 0.345,
              "syn_weight_psp": 4.259259259259845,
              "unitary_PSP": 0.0809999999999888
             },
             "target_model_id": "324065524"
            },
            "(('lgn', ''), ('4', 'Rorb'), '329550277')": {
             "dynamics_params": "exc_to_e4.json",
             "name": "(('lgn', ''), ('4', 'Rorb'), '329550277')",
             "property_map": {
              "syn_weight": 0.345,
              "syn_weight_psp": 5.564516129032472,
              "unitary_PSP": 0.0619999999999976
             },
             "target_model_id": "329550277"
            },
            "(('lgn', ''), ('4', 'Rorb'), '466378900')": {
             "dynamics_params": "exc_to_e4.json",
             "name": "(('lgn', ''), ('4', 'Rorb'), '466378900')",
             "property_map": {
              "syn_weight": 0.345,
              "syn_weight_psp": 3.7096774193546977,
              "unitary_PSP": 0.0930000000000035
             },
             "target_model_id": "466378900"
            },
            "(('lgn', ''), ('4', 'Rorb'), '467003163')": {
             "dynamics_params": "exc_to_e4.json",
             "name": "(('lgn', ''), ('4', 'Rorb'), '467003163')",
             "property_map": {
              "syn_weight": 0.345,
              "syn_weight_psp": 5.655737704918696,
              "unitary_PSP": 0.0609999999999928
             },
             "target_model_id": "467003163"
            },
            "(('lgn', ''), ('4', 'Rorb'), '467357834')": {
             "dynamics_params": "exc_to_e4.json",
             "name": "(('lgn', ''), ('4', 'Rorb'), '467357834')",
             "property_map": {
              "syn_weight": 0.345,
              "syn_weight_psp": 6.388888888888646,
              "unitary_PSP": 0.054000000000002
             },
             "target_model_id": "467357834"
            },
            "(('lgn', ''), ('4', 'Rorb'), '469763389')": {
             "dynamics_params": "exc_to_e4.json",
             "name": "(('lgn', ''), ('4', 'Rorb'), '469763389')",
             "property_map": {
              "syn_weight": 0.345,
              "syn_weight_psp": 5.227272727273654,
              "unitary_PSP": 0.0659999999999882
             },
             "target_model_id": "469763389"
            },
            "(('lgn', ''), ('4', 'Rorb'), '473020156')": {
             "dynamics_params": "exc_to_e4.json",
             "name": "(('lgn', ''), ('4', 'Rorb'), '473020156')",
             "property_map": {
              "syn_weight": 0.345,
              "syn_weight_psp": 4.480519480519586,
              "unitary_PSP": 0.0769999999999981
             },
             "target_model_id": "473020156"
            },
            "(('lgn', ''), ('4', 'Rorb'), '476562817')": {
             "dynamics_params": "exc_to_e4.json",
             "name": "(('lgn', ''), ('4', 'Rorb'), '476562817')",
             "property_map": {
              "syn_weight": 0.345,
              "syn_weight_psp": 5.655737704918696,
              "unitary_PSP": 0.0609999999999928
             },
             "target_model_id": "476562817"
            },
            "(('lgn', ''), ('4', 'Rorb'), '478586425')": {
             "dynamics_params": "exc_to_e4.json",
             "name": "(('lgn', ''), ('4', 'Rorb'), '478586425')",
             "property_map": {
              "syn_weight": 0.345,
              "syn_weight_psp": 5.149253731342724,
              "unitary_PSP": 0.0670000000000072
             },
             "target_model_id": "478586425"
            },
            "(('lgn', ''), ('4', 'Rorb'), '479179020')": {
             "dynamics_params": "exc_to_e4.json",
             "name": "(('lgn', ''), ('4', 'Rorb'), '479179020')",
             "property_map": {
              "syn_weight": 0.345,
              "syn_weight_psp": 5.447368421052425,
              "unitary_PSP": 0.0570000000000021
             },
             "target_model_id": "479179020"
            },
            "(('lgn', ''), ('4', 'Rorb'), '484679812')": {
             "dynamics_params": "exc_to_e4.json",
             "name": "(('lgn', ''), ('4', 'Rorb'), '484679812')",
             "property_map": {
              "syn_weight": 0.345,
              "syn_weight_psp": 4.032467532467628,
              "unitary_PSP": 0.0769999999999981
             },
             "target_model_id": "484679812"
            },
            "(('lgn', ''), ('4', 'Rorb'), '484770879')": {
             "dynamics_params": "exc_to_e4.json",
             "name": "(('lgn', ''), ('4', 'Rorb'), '484770879')",
             "property_map": {
              "syn_weight": 0.345,
              "syn_weight_psp": 5.847457627118891,
              "unitary_PSP": 0.0589999999999975
             },
             "target_model_id": "484770879"
            },
            "(('lgn', ''), ('4', 'Rorb'), '485836906')": {
             "dynamics_params": "exc_to_e4.json",
             "name": "(('lgn', ''), ('4', 'Rorb'), '485836906')",
             "property_map": {
              "syn_weight": 0.345,
              "syn_weight_psp": 7.040816326531706,
              "unitary_PSP": 0.0489999999999923
             },
             "target_model_id": "485836906"
            },
            "(('lgn', ''), ('4', 'Rorb'), '486472847')": {
             "dynamics_params": "exc_to_e4.json",
             "name": "(('lgn', ''), ('4', 'Rorb'), '486472847')",
             "property_map": {
              "syn_weight": 0.345,
              "syn_weight_psp": 4.312500000000092,
              "unitary_PSP": 0.0799999999999983
             },
             "target_model_id": "486472847"
            },
            "(('lgn', ''), ('4', 'Rorb'), '486500736')": {
             "dynamics_params": "exc_to_e4.json",
             "name": "(('lgn', ''), ('4', 'Rorb'), '486500736')",
             "property_map": {
              "syn_weight": 0.345,
              "syn_weight_psp": 8.414634146342117,
              "unitary_PSP": 0.0409999999999968
             },
             "target_model_id": "486500736"
            },
            "(('lgn', ''), ('4', 'Rorb'), '490626718')": {
             "dynamics_params": "exc_to_e4.json",
             "name": "(('lgn', ''), ('4', 'Rorb'), '490626718')",
             "property_map": {
              "syn_weight": 0.345,
              "syn_weight_psp": 4.859154929577604,
              "unitary_PSP": 0.0709999999999979
             },
             "target_model_id": "490626718"
            },
            "(('lgn', ''), ('4', 'Rorb'), '490626827')": {
             "dynamics_params": "exc_to_e4.json",
             "name": "(('lgn', ''), ('4', 'Rorb'), '490626827')",
             "property_map": {
              "syn_weight": 0.345,
              "syn_weight_psp": 5.149253731342724,
              "unitary_PSP": 0.0670000000000072
             },
             "target_model_id": "490626827"
            },
            "(('lgn', ''), ('4', 'Rorb'), '500859045')": {
             "dynamics_params": "exc_to_e4.json",
             "name": "(('lgn', ''), ('4', 'Rorb'), '500859045')",
             "property_map": {
              "syn_weight": 0.345,
              "syn_weight_psp": 5.655737704917379,
              "unitary_PSP": 0.061000000000007
             },
             "target_model_id": "500859045"
            },
            "(('lgn', ''), ('4', 'Rorb'), '500894271')": {
             "dynamics_params": "exc_to_e4.json",
             "name": "(('lgn', ''), ('4', 'Rorb'), '500894271')",
             "property_map": {
              "syn_weight": 0.345,
              "syn_weight_psp": 5.655737704917379,
              "unitary_PSP": 0.061000000000007
             },
             "target_model_id": "500894271"
            }
           },
           "name": "(('lgn', ''), ('4', 'Rorb'))",
           "post": [
            "4",
            "Rorb"
           ],
           "pre": [
            "lgn",
            ""
           ],
           "property_map": {
            "n_conn": 4
           }
          },
          "(('lgn', ''), ('4', 'Scnn1a'))": {
           "connect_models": {
            "(('lgn', ''), ('4', 'Scnn1a'), '320207387')": {
             "dynamics_params": "exc_to_e4.json",
             "name": "(('lgn', ''), ('4', 'Scnn1a'), '320207387')",
             "property_map": {
              "syn_weight": 0.345,
              "syn_weight_psp": 6.388888888890327,
              "unitary_PSP": 0.0539999999999878
             },
             "target_model_id": "320207387"
            },
            "(('lgn', ''), ('4', 'Scnn1a'), '323838579')": {
             "dynamics_params": "exc_to_e4.json",
             "name": "(('lgn', ''), ('4', 'Scnn1a'), '323838579')",
             "property_map": {
              "syn_weight": 0.345,
              "syn_weight_psp": 5.655737704918696,
              "unitary_PSP": 0.0609999999999928
             },
             "target_model_id": "323838579"
            },
            "(('lgn', ''), ('4', 'Scnn1a'), '476266853')": {
             "dynamics_params": "exc_to_e4.json",
             "name": "(('lgn', ''), ('4', 'Scnn1a'), '476266853')",
             "property_map": {
              "syn_weight": 0.345,
              "syn_weight_psp": 5.7499999999997815,
              "unitary_PSP": 0.0600000000000022
             },
             "target_model_id": "476266853"
            },
            "(('lgn', ''), ('4', 'Scnn1a'), '500964358')": {
             "dynamics_params": "exc_to_e4.json",
             "name": "(('lgn', ''), ('4', 'Scnn1a'), '500964358')",
             "property_map": {
              "syn_weight": 0.345,
              "syn_weight_psp": 6.272727272726494,
              "unitary_PSP": 0.0550000000000068
             },
             "target_model_id": "500964358"
            },
            "(('lgn', ''), ('4', 'Scnn1a'), '517647182')": {
             "dynamics_params": "exc_to_e4.json",
             "name": "(('lgn', ''), ('4', 'Scnn1a'), '517647182')",
             "property_map": {
              "syn_weight": 0.345,
              "syn_weight_psp": 5.544642857143115,
              "unitary_PSP": 0.0559999999999973
             },
             "target_model_id": "517647182"
            }
           },
           "name": "(('lgn', ''), ('4', 'Scnn1a'))",
           "post": [
            "4",
            "Scnn1a"
           ],
           "pre": [
            "lgn",
            ""
           ],
           "property_map": {
            "n_conn": 4
           }
          },
          "(('lgn', ''), ('4', 'Sst'))": {
           "connect_models": {
            "(('lgn', ''), ('4', 'Sst'), '476099282')": {
             "dynamics_params": "exc_to_sst.json",
             "name": "(('lgn', ''), ('4', 'Sst'), '476099282')",
             "property_map": {
              "syn_weight": 0.345,
              "syn_weight_psp": 4.156626506023464,
              "unitary_PSP": 0.0830000000000126
             },
             "target_model_id": "476099282"
            },
            "(('lgn', ''), ('4', 'Sst'), '476753465')": {
             "dynamics_params": "exc_to_sst.json",
             "name": "(('lgn', ''), ('4', 'Sst'), '476753465')",
             "property_map": {
              "syn_weight": 0.345,
              "syn_weight_psp": 4.480519480519586,
              "unitary_PSP": 0.0769999999999981
             },
             "target_model_id": "476753465"
            },
            "(('lgn', ''), ('4', 'Sst'), '485061364')": {
             "dynamics_params": "exc_to_sst.json",
             "name": "(('lgn', ''), ('4', 'Sst'), '485061364')",
             "property_map": {
              "syn_weight": 0.345,
              "syn_weight_psp": 5.655737704918696,
              "unitary_PSP": 0.0609999999999928
             },
             "target_model_id": "485061364"
            },
            "(('lgn', ''), ('4', 'Sst'), '501280518')": {
             "dynamics_params": "exc_to_sst.json",
             "name": "(('lgn', ''), ('4', 'Sst'), '501280518')",
             "property_map": {
              "syn_weight": 0.345,
              "syn_weight_psp": 5.7499999999997815,
              "unitary_PSP": 0.0600000000000022
             },
             "target_model_id": "501280518"
            },
            "(('lgn', ''), ('4', 'Sst'), '501282204')": {
             "dynamics_params": "exc_to_sst.json",
             "name": "(('lgn', ''), ('4', 'Sst'), '501282204')",
             "property_map": {
              "syn_weight": 0.345,
              "syn_weight_psp": 11.129032258062391,
              "unitary_PSP": 0.0310000000000059
             },
             "target_model_id": "501282204"
            },
            "(('lgn', ''), ('4', 'Sst'), '573622646')": {
             "dynamics_params": "exc_to_sst.json",
             "name": "(('lgn', ''), ('4', 'Sst'), '573622646')",
             "property_map": {
              "syn_weight": 0.345,
              "syn_weight_psp": 7.040816326529664,
              "unitary_PSP": 0.0490000000000065
             },
             "target_model_id": "573622646"
            }
           },
           "name": "(('lgn', ''), ('4', 'Sst'))",
           "post": [
            "4",
            "Sst"
           ],
           "pre": [
            "lgn",
            ""
           ],
           "property_map": {
            "n_conn": 4
           }
          },
          "(('lgn', ''), ('4', 'Vip'))": {
           "connect_models": {
            "(('lgn', ''), ('4', 'Vip'), '501570114')": {
             "dynamics_params": "exc_to_vip.json",
             "name": "(('lgn', ''), ('4', 'Vip'), '501570114')",
             "property_map": {
              "syn_weight": 0.345,
              "syn_weight_psp": 3.8764044943820815,
              "unitary_PSP": 0.0889999999999986
             },
             "target_model_id": "501570114"
            },
            "(('lgn', ''), ('4', 'Vip'), '531121585')": {
             "dynamics_params": "exc_to_vip.json",
             "name": "(('lgn', ''), ('4', 'Vip'), '531121585')",
             "property_map": {
              "syn_weight": 0.345,
              "syn_weight_psp": 4.726027397259788,
              "unitary_PSP": 0.0730000000000075
             },
             "target_model_id": "531121585"
            },
            "(('lgn', ''), ('4', 'Vip'), '535728342')": {
             "dynamics_params": "exc_to_vip.json",
             "name": "(('lgn', ''), ('4', 'Vip'), '535728342')",
             "property_map": {
              "syn_weight": 0.345,
              "syn_weight_psp": 1.6273584905661214,
              "unitary_PSP": 0.1059999999999945
             },
             "target_model_id": "535728342"
            },
            "(('lgn', ''), ('4', 'Vip'), '560690291')": {
             "dynamics_params": "exc_to_vip.json",
             "name": "(('lgn', ''), ('4', 'Vip'), '560690291')",
             "property_map": {
              "syn_weight": 0.345,
              "syn_weight_psp": 4.859154929577604,
              "unitary_PSP": 0.0709999999999979
             },
             "target_model_id": "560690291"
            },
            "(('lgn', ''), ('4', 'Vip'), '561934585')": {
             "dynamics_params": "exc_to_vip.json",
             "name": "(('lgn', ''), ('4', 'Vip'), '561934585')",
             "property_map": {
              "syn_weight": 0.345,
              "syn_weight_psp": 7.666666666666376,
              "unitary_PSP": 0.0450000000000017
             },
             "target_model_id": "561934585"
            },
            "(('lgn', ''), ('4', 'Vip'), '562540395')": {
             "dynamics_params": "exc_to_vip.json",
             "name": "(('lgn', ''), ('4', 'Vip'), '562540395')",
             "property_map": {
              "syn_weight": 0.345,
              "syn_weight_psp": 4.99999999999981,
              "unitary_PSP": 0.0690000000000026
             },
             "target_model_id": "562540395"
            }
           },
           "name": "(('lgn', ''), ('4', 'Vip'))",
           "post": [
            "4",
            "Vip"
           ],
           "pre": [
            "lgn",
            ""
           ],
           "property_map": {
            "n_conn": 4
           }
          }
         },
         "locations": {
          "lgn": {
           "inh_fraction": 0,
           "name": "lgn",
           "neurons": {
            "sOFF_TF1": {
             "N": 8,
             "dims": {
              "size_range": [
               2,
               10
              ]
             },
             "ei": "e",
             "name": "sOFF_TF1",
             "neuron_models": {
              "sOFF_TF1": {
               "name": "sOFF_TF1",
               "proportion": 1
              }
             },
             "property_map": {
              "level_of_detail": "filter"
             }
            },
            "sOFF_TF15": {
             "N": 7,
             "dims": {
              "size_range": [
               2,
               10
              ]
             },
             "ei": "e",
             "name": "sOFF_TF15",
             "neuron_models": {
              "sOFF_TF15": {
               "name": "sOFF_TF15",
               "proportion": 1
              }
             },
             "property_map": {
              "level_of_detail": "filter"
             }
            },
            "sOFF_TF2": {
             "N": 8,
             "dims": {
              "size_range": [
               2,
               10
              ]
             },
             "ei": "e",
             "name": "sOFF_TF2",
             "neuron_models": {
              "sOFF_TF2": {
               "name": "sOFF_TF2",
               "proportion": 1
              }
             },
             "property_map": {
              "level_of_detail": "filter"
             }
            },
            "sOFF_TF4": {
             "N": 15,
             "dims": {
              "size_range": [
               2,
               10
              ]
             },
             "ei": "e",
             "name": "sOFF_TF4",
             "neuron_models": {
              "sOFF_TF4": {
               "name": "sOFF_TF4",
               "proportion": 1
              }
             },
             "property_map": {
              "level_of_detail": "filter"
             }
            },
            "sOFF_TF8": {
             "N": 8,
             "dims": {
              "size_range": [
               2,
               10
              ]
             },
             "ei": "e",
             "name": "sOFF_TF8",
             "neuron_models": {
              "sOFF_TF8": {
               "name": "sOFF_TF8",
               "proportion": 1
              }
             },
             "property_map": {
              "level_of_detail": "filter"
             }
            },
            "sON_TF1": {
             "N": 7,
             "dims": {
              "size_range": [
               2,
               10
              ]
             },
             "ei": "e",
             "name": "sON_TF1",
             "neuron_models": {
              "sON_TF1": {
               "name": "sON_TF1",
               "proportion": 1
              }
             },
             "property_map": {
              "level_of_detail": "filter"
             }
            },
            "sON_TF2": {
             "N": 5,
             "dims": {
              "size_range": [
               2,
               10
              ]
             },
             "ei": "e",
             "name": "sON_TF2",
             "neuron_models": {
              "sON_TF2": {
               "name": "sON_TF2",
               "proportion": 1
              }
             },
             "property_map": {
              "level_of_detail": "filter"
             }
            },
            "sON_TF4": {
             "N": 7,
             "dims": {
              "size_range": [
               2,
               10
              ]
             },
             "ei": "e",
             "name": "sON_TF4",
             "neuron_models": {
              "sON_TF4": {
               "name": "sON_TF4",
               "proportion": 1
              }
             },
             "property_map": {
              "level_of_detail": "filter"
             }
            },
            "sON_TF8": {
             "N": 15,
             "dims": {
              "size_range": [
               2,
               10
              ]
             },
             "ei": "e",
             "name": "sON_TF8",
             "neuron_models": {
              "sON_TF8": {
               "name": "sON_TF8",
               "proportion": 1
              }
             },
             "property_map": {
              "level_of_detail": "filter"
             }
            },
            "sONsOFF_001": {
             "N": 8,
             "dims": {
              "size_range": [
               6
              ]
             },
             "ei": "e",
             "name": "sONsOFF_001",
             "neuron_models": {
              "sONsOFF_001": {
               "name": "sONsOFF_001",
               "proportion": 1
              }
             },
             "property_map": {
              "level_of_detail": "filter"
             }
            },
            "sONtOFF_001": {
             "N": 5,
             "dims": {
              "size_range": [
               9
              ]
             },
             "ei": "e",
             "name": "sONtOFF_001",
             "neuron_models": {
              "sONtOFF_001": {
               "name": "sONtOFF_001",
               "proportion": 1
              }
             },
             "property_map": {
              "level_of_detail": "filter"
             }
            },
            "tOFF_TF15": {
             "N": 8,
             "dims": {
              "size_range": [
               2,
               10
              ]
             },
             "ei": "e",
             "name": "tOFF_TF15",
             "neuron_models": {
              "tOFF_TF15": {
               "name": "tOFF_TF15",
               "proportion": 1
              }
             },
             "property_map": {
              "level_of_detail": "filter"
             }
            },
            "tOFF_TF4": {
             "N": 10,
             "dims": {
              "size_range": [
               2,
               10
              ]
             },
             "ei": "e",
             "level_of_detail": "filter",
             "name": "tOFF_TF4",
             "neuron_models": {
              "tOFF_TF4": {
               "name": "tOFF_TF4",
               "proportion": 1
              }
             },
             "property_map": {
              "level_of_detail": "filter"
             }
            },
            "tOFF_TF8": {
             "N": 5,
             "dims": {
              "size_range": [
               2,
               10
              ]
             },
             "ei": "e",
             "name": "tOFF_TF8",
             "neuron_models": {
              "tOFF_TF8": {
               "name": "tOFF_TF8",
               "proportion": 1
              }
             },
             "property_map": {
              "level_of_detail": "filter"
             }
            }
           },
           "region_fraction": 1
          }
         },
         "name": "LGN"
        }
       },
       "locations": {
        "VISp4": {
         "dims": {
          "depth_range": [
           357,
           505
          ]
         },
         "name": "VISp4",
         "neurons": {
          "('4', 'Pvalb')": {
           "dims": {
            "nsyn_lognorm_scale": 7432.587,
            "nsyn_lognorm_shape": 0.433
           },
           "ei": "i",
           "fraction": 0,
           "name": "('4', 'Pvalb')"
          },
          "('4', 'Rorb')": {
           "dims": {
            "nsyn_lognorm_scale": 2188.765,
            "nsyn_lognorm_shape": 0.345
           },
           "ei": "e",
           "fraction": 0.5,
           "name": "('4', 'Rorb')"
          },
          "('4', 'Scnn1a')": {
           "dims": {
            "nsyn_lognorm_scale": 2188.765,
            "nsyn_lognorm_shape": 0.345
           },
           "ei": "e",
           "fraction": 0.5,
           "name": "('4', 'Scnn1a')"
          },
          "('4', 'Sst')": {
           "dims": {
            "nsyn_lognorm_scale": 5305.151,
            "nsyn_lognorm_shape": 0.55
           },
           "ei": "i",
           "fraction": 0,
           "name": "('4', 'Sst')"
          },
          "('4', 'Vip')": {
           "dims": {
            "nsyn_lognorm_scale": 2355.279,
            "nsyn_lognorm_shape": 0.537
           },
           "ei": "i",
           "fraction": 0,
           "name": "('4', 'Vip')"
          }
         }
        }
       },
       "name": "User-Mod-V1L4"
      },
      "text/plain": [
       "<IPython.core.display.JSON object>"
      ]
     },
     "execution_count": 15,
     "metadata": {
      "application/json": {
       "expanded": false,
       "root": "root"
      }
     },
     "output_type": "execute_result"
    }
   ],
   "source": [
    "import IPython.display\n",
    "import json\n",
    "with open(\"./v1l4/recipe/custom_mod.json\") as ifx:\n",
    "    custom_mod_dict = json.load(ifx)\n",
    "IPython.display.JSON(custom_mod_dict)"
   ]
  },
  {
   "cell_type": "code",
   "execution_count": 16,
   "id": "50f50434-361d-4270-8607-20c77e041d9a",
   "metadata": {},
   "outputs": [],
   "source": [
    "msrc = model_recipe.build_net_struct()\n",
    "msrc = model_recipe.apply_mod()"
   ]
  },
  {
   "cell_type": "code",
   "execution_count": 17,
   "id": "0d7a1b6b-403c-4a6c-a449-c4eeddd3bf1e",
   "metadata": {
    "scrolled": true
   },
   "outputs": [
    {
     "name": "stdout",
     "output_type": "stream",
     "text": [
      "('4', 'Scnn1a') 501023852 310 2322\n",
      "('4', 'Scnn1a') 323838579 310 2322\n",
      "('4', 'Scnn1a') 500964358 310 2322\n",
      "('4', 'Scnn1a') 395785266 310 2322\n",
      "('4', 'Scnn1a') 476266853 310 2322\n",
      "('4', 'Scnn1a') 320207387 310 2322\n",
      "('4', 'Scnn1a') 517647182 310 2322\n",
      "('4', 'Scnn1a') 325464516 310 2322\n",
      "('4', 'Scnn1a') 476218657 310 2322\n",
      "('4', 'Rorb') 322723785 111 2322\n",
      "('4', 'Rorb') 478586425 111 2322\n",
      "('4', 'Rorb') 329557305 111 2322\n",
      "('4', 'Rorb') 500859045 111 2322\n",
      "('4', 'Rorb') 479179020 111 2322\n",
      "('4', 'Rorb') 324065524 111 2322\n",
      "('4', 'Rorb') 322761772 111 2322\n",
      "('4', 'Rorb') 467357834 111 2322\n",
      "('4', 'Rorb') 329550277 111 2322\n",
      "('4', 'Rorb') 476562817 111 2322\n",
      "('4', 'Rorb') 466378900 111 2322\n",
      "('4', 'Rorb') 486472847 111 2322\n",
      "('4', 'Rorb') 480648382 111 2322\n",
      "('4', 'Rorb') 490626827 111 2322\n",
      "('4', 'Rorb') 479508018 111 2322\n",
      "('4', 'Rorb') 490626718 111 2322\n",
      "('4', 'Rorb') 484770879 111 2322\n",
      "('4', 'Rorb') 500894271 111 2322\n",
      "('4', 'Rorb') 485836906 111 2322\n",
      "('4', 'Rorb') 480124551 111 2322\n",
      "('4', 'Rorb') 469763389 111 2322\n",
      "('4', 'Rorb') 473020156 111 2322\n",
      "('4', 'Rorb') 486500736 111 2322\n",
      "('4', 'Rorb') 484679812 111 2322\n",
      "('4', 'Rorb') 467003163 111 2322\n",
      "('4', 'Vip') 501570114 15 2720\n",
      "('4', 'Vip') 560690291 15 2720\n",
      "('4', 'Vip') 562540395 15 2720\n",
      "('4', 'Vip') 535728342 15 2720\n",
      "('4', 'Vip') 531121585 15 2720\n",
      "('4', 'Vip') 561934585 15 2720\n",
      "('4', 'Pvalb') 487405644 24 8163\n",
      "('4', 'Pvalb') 478793814 24 8163\n",
      "('4', 'Pvalb') 475894121 24 8163\n",
      "('4', 'Pvalb') 571314481 24 8163\n",
      "('4', 'Pvalb') 478958894 24 8163\n",
      "('4', 'Pvalb') 569997187 24 8163\n",
      "('4', 'Pvalb') 579414994 24 8163\n",
      "('4', 'Pvalb') 481127348 24 8163\n",
      "('4', 'Pvalb') 491038812 24 8163\n",
      "('4', 'Pvalb') 579672464 24 8163\n",
      "('4', 'Pvalb') 488708322 24 8163\n",
      "('4', 'Pvalb') 341459814 24 8163\n",
      "('4', 'Pvalb') 481127173 24 8163\n",
      "('4', 'Pvalb') 487667205 24 8163\n",
      "('4', 'Pvalb') 572375809 24 8163\n",
      "('4', 'Sst') 476099282 62 6171\n",
      "('4', 'Sst') 501282204 62 6171\n",
      "('4', 'Sst') 485061364 62 6171\n",
      "('4', 'Sst') 501280518 62 6171\n",
      "('4', 'Sst') 573622646 62 6171\n",
      "('4', 'Sst') 476753465 62 6171\n",
      "('4', 'Pvalb') ('4', 'Pvalb') 360 {'A_new': 0.633215339219893, 'sigma': 126.77, 'gradient': nan, 'intercept': nan, 'nsyn_range': [3, 8], 'src_ei': 'i', 'trg_ei': 'i'}\n",
      "('4', 'Pvalb') ('4', 'Pvalb') 360 {'A_new': 0.633215339219893, 'sigma': 126.77, 'gradient': nan, 'intercept': nan, 'nsyn_range': [3, 8], 'src_ei': 'i', 'trg_ei': 'i'}\n",
      "('4', 'Pvalb') ('4', 'Pvalb') 360 {'A_new': 0.633215339219893, 'sigma': 126.77, 'gradient': nan, 'intercept': nan, 'nsyn_range': [3, 8], 'src_ei': 'i', 'trg_ei': 'i'}\n",
      "('4', 'Pvalb') ('4', 'Pvalb') 360 {'A_new': 0.633215339219893, 'sigma': 126.77, 'gradient': nan, 'intercept': nan, 'nsyn_range': [3, 8], 'src_ei': 'i', 'trg_ei': 'i'}\n",
      "('4', 'Pvalb') ('4', 'Pvalb') 360 {'A_new': 0.633215339219893, 'sigma': 126.77, 'gradient': nan, 'intercept': nan, 'nsyn_range': [3, 8], 'src_ei': 'i', 'trg_ei': 'i'}\n",
      "('4', 'Pvalb') ('4', 'Pvalb') 360 {'A_new': 0.633215339219893, 'sigma': 126.77, 'gradient': nan, 'intercept': nan, 'nsyn_range': [3, 8], 'src_ei': 'i', 'trg_ei': 'i'}\n",
      "('4', 'Pvalb') ('4', 'Pvalb') 360 {'A_new': 0.633215339219893, 'sigma': 126.77, 'gradient': nan, 'intercept': nan, 'nsyn_range': [3, 8], 'src_ei': 'i', 'trg_ei': 'i'}\n",
      "('4', 'Pvalb') ('4', 'Pvalb') 360 {'A_new': 0.633215339219893, 'sigma': 126.77, 'gradient': nan, 'intercept': nan, 'nsyn_range': [3, 8], 'src_ei': 'i', 'trg_ei': 'i'}\n",
      "('4', 'Pvalb') ('4', 'Pvalb') 360 {'A_new': 0.633215339219893, 'sigma': 126.77, 'gradient': nan, 'intercept': nan, 'nsyn_range': [3, 8], 'src_ei': 'i', 'trg_ei': 'i'}\n",
      "('4', 'Pvalb') ('4', 'Pvalb') 360 {'A_new': 0.633215339219893, 'sigma': 126.77, 'gradient': nan, 'intercept': nan, 'nsyn_range': [3, 8], 'src_ei': 'i', 'trg_ei': 'i'}\n",
      "('4', 'Pvalb') ('4', 'Pvalb') 360 {'A_new': 0.633215339219893, 'sigma': 126.77, 'gradient': nan, 'intercept': nan, 'nsyn_range': [3, 8], 'src_ei': 'i', 'trg_ei': 'i'}\n",
      "('4', 'Pvalb') ('4', 'Sst') 360 {'A_new': 0.388413662252793, 'sigma': 126.77, 'gradient': nan, 'intercept': nan, 'nsyn_range': [3, 8], 'src_ei': 'i', 'trg_ei': 'i'}\n",
      "('4', 'Pvalb') ('4', 'Sst') 360 {'A_new': 0.388413662252793, 'sigma': 126.77, 'gradient': nan, 'intercept': nan, 'nsyn_range': [3, 8], 'src_ei': 'i', 'trg_ei': 'i'}\n",
      "('4', 'Pvalb') ('4', 'Sst') 360 {'A_new': 0.388413662252793, 'sigma': 126.77, 'gradient': nan, 'intercept': nan, 'nsyn_range': [3, 8], 'src_ei': 'i', 'trg_ei': 'i'}\n",
      "('4', 'Pvalb') ('4', 'Sst') 360 {'A_new': 0.388413662252793, 'sigma': 126.77, 'gradient': nan, 'intercept': nan, 'nsyn_range': [3, 8], 'src_ei': 'i', 'trg_ei': 'i'}\n",
      "('4', 'Pvalb') ('4', 'Sst') 360 {'A_new': 0.388413662252793, 'sigma': 126.77, 'gradient': nan, 'intercept': nan, 'nsyn_range': [3, 8], 'src_ei': 'i', 'trg_ei': 'i'}\n",
      "('4', 'Pvalb') ('4', 'Sst') 360 {'A_new': 0.388413662252793, 'sigma': 126.77, 'gradient': nan, 'intercept': nan, 'nsyn_range': [3, 8], 'src_ei': 'i', 'trg_ei': 'i'}\n",
      "('4', 'Pvalb') ('4', 'Vip') 360 {'A_new': 0.194864242166707, 'sigma': 126.77, 'gradient': nan, 'intercept': nan, 'nsyn_range': [3, 8], 'src_ei': 'i', 'trg_ei': 'i'}\n",
      "('4', 'Pvalb') ('4', 'Vip') 360 {'A_new': 0.194864242166707, 'sigma': 126.77, 'gradient': nan, 'intercept': nan, 'nsyn_range': [3, 8], 'src_ei': 'i', 'trg_ei': 'i'}\n",
      "('4', 'Pvalb') ('4', 'Vip') 360 {'A_new': 0.194864242166707, 'sigma': 126.77, 'gradient': nan, 'intercept': nan, 'nsyn_range': [3, 8], 'src_ei': 'i', 'trg_ei': 'i'}\n",
      "('4', 'Pvalb') ('4', 'Vip') 360 {'A_new': 0.194864242166707, 'sigma': 126.77, 'gradient': nan, 'intercept': nan, 'nsyn_range': [3, 8], 'src_ei': 'i', 'trg_ei': 'i'}\n",
      "('4', 'Pvalb') ('4', 'Vip') 360 {'A_new': 0.194864242166707, 'sigma': 126.77, 'gradient': nan, 'intercept': nan, 'nsyn_range': [3, 8], 'src_ei': 'i', 'trg_ei': 'i'}\n",
      "('4', 'Pvalb') ('4', 'Vip') 360 {'A_new': 0.194864242166707, 'sigma': 126.77, 'gradient': nan, 'intercept': nan, 'nsyn_range': [3, 8], 'src_ei': 'i', 'trg_ei': 'i'}\n",
      "('4', 'Sst') ('4', 'Pvalb') 372 {'A_new': 0.642166594694609, 'sigma': 126.77, 'gradient': nan, 'intercept': nan, 'nsyn_range': [3, 8], 'src_ei': 'i', 'trg_ei': 'i'}\n",
      "('4', 'Sst') ('4', 'Pvalb') 372 {'A_new': 0.642166594694609, 'sigma': 126.77, 'gradient': nan, 'intercept': nan, 'nsyn_range': [3, 8], 'src_ei': 'i', 'trg_ei': 'i'}\n",
      "('4', 'Sst') ('4', 'Pvalb') 372 {'A_new': 0.642166594694609, 'sigma': 126.77, 'gradient': nan, 'intercept': nan, 'nsyn_range': [3, 8], 'src_ei': 'i', 'trg_ei': 'i'}\n",
      "('4', 'Sst') ('4', 'Pvalb') 372 {'A_new': 0.642166594694609, 'sigma': 126.77, 'gradient': nan, 'intercept': nan, 'nsyn_range': [3, 8], 'src_ei': 'i', 'trg_ei': 'i'}\n",
      "('4', 'Sst') ('4', 'Pvalb') 372 {'A_new': 0.642166594694609, 'sigma': 126.77, 'gradient': nan, 'intercept': nan, 'nsyn_range': [3, 8], 'src_ei': 'i', 'trg_ei': 'i'}\n",
      "('4', 'Sst') ('4', 'Pvalb') 372 {'A_new': 0.642166594694609, 'sigma': 126.77, 'gradient': nan, 'intercept': nan, 'nsyn_range': [3, 8], 'src_ei': 'i', 'trg_ei': 'i'}\n",
      "('4', 'Sst') ('4', 'Pvalb') 372 {'A_new': 0.642166594694609, 'sigma': 126.77, 'gradient': nan, 'intercept': nan, 'nsyn_range': [3, 8], 'src_ei': 'i', 'trg_ei': 'i'}\n",
      "('4', 'Sst') ('4', 'Pvalb') 372 {'A_new': 0.642166594694609, 'sigma': 126.77, 'gradient': nan, 'intercept': nan, 'nsyn_range': [3, 8], 'src_ei': 'i', 'trg_ei': 'i'}\n",
      "('4', 'Sst') ('4', 'Pvalb') 372 {'A_new': 0.642166594694609, 'sigma': 126.77, 'gradient': nan, 'intercept': nan, 'nsyn_range': [3, 8], 'src_ei': 'i', 'trg_ei': 'i'}\n",
      "('4', 'Sst') ('4', 'Pvalb') 372 {'A_new': 0.642166594694609, 'sigma': 126.77, 'gradient': nan, 'intercept': nan, 'nsyn_range': [3, 8], 'src_ei': 'i', 'trg_ei': 'i'}\n",
      "('4', 'Sst') ('4', 'Pvalb') 372 {'A_new': 0.642166594694609, 'sigma': 126.77, 'gradient': nan, 'intercept': nan, 'nsyn_range': [3, 8], 'src_ei': 'i', 'trg_ei': 'i'}\n",
      "('4', 'Sst') ('4', 'Sst') 372 {'A_new': 0.389532543636401, 'sigma': 126.77, 'gradient': nan, 'intercept': nan, 'nsyn_range': [3, 8], 'src_ei': 'i', 'trg_ei': 'i'}\n",
      "('4', 'Sst') ('4', 'Sst') 372 {'A_new': 0.389532543636401, 'sigma': 126.77, 'gradient': nan, 'intercept': nan, 'nsyn_range': [3, 8], 'src_ei': 'i', 'trg_ei': 'i'}\n",
      "('4', 'Sst') ('4', 'Sst') 372 {'A_new': 0.389532543636401, 'sigma': 126.77, 'gradient': nan, 'intercept': nan, 'nsyn_range': [3, 8], 'src_ei': 'i', 'trg_ei': 'i'}\n",
      "('4', 'Sst') ('4', 'Sst') 372 {'A_new': 0.389532543636401, 'sigma': 126.77, 'gradient': nan, 'intercept': nan, 'nsyn_range': [3, 8], 'src_ei': 'i', 'trg_ei': 'i'}\n",
      "('4', 'Sst') ('4', 'Sst') 372 {'A_new': 0.389532543636401, 'sigma': 126.77, 'gradient': nan, 'intercept': nan, 'nsyn_range': [3, 8], 'src_ei': 'i', 'trg_ei': 'i'}\n",
      "('4', 'Sst') ('4', 'Sst') 372 {'A_new': 0.389532543636401, 'sigma': 126.77, 'gradient': nan, 'intercept': nan, 'nsyn_range': [3, 8], 'src_ei': 'i', 'trg_ei': 'i'}\n",
      "('4', 'Sst') ('4', 'Vip') 372 {'A_new': 0.283881768687639, 'sigma': 126.77, 'gradient': nan, 'intercept': nan, 'nsyn_range': [3, 8], 'src_ei': 'i', 'trg_ei': 'i'}\n",
      "('4', 'Sst') ('4', 'Vip') 372 {'A_new': 0.283881768687639, 'sigma': 126.77, 'gradient': nan, 'intercept': nan, 'nsyn_range': [3, 8], 'src_ei': 'i', 'trg_ei': 'i'}\n",
      "('4', 'Sst') ('4', 'Vip') 372 {'A_new': 0.283881768687639, 'sigma': 126.77, 'gradient': nan, 'intercept': nan, 'nsyn_range': [3, 8], 'src_ei': 'i', 'trg_ei': 'i'}\n",
      "('4', 'Sst') ('4', 'Vip') 372 {'A_new': 0.283881768687639, 'sigma': 126.77, 'gradient': nan, 'intercept': nan, 'nsyn_range': [3, 8], 'src_ei': 'i', 'trg_ei': 'i'}\n",
      "('4', 'Sst') ('4', 'Vip') 372 {'A_new': 0.283881768687639, 'sigma': 126.77, 'gradient': nan, 'intercept': nan, 'nsyn_range': [3, 8], 'src_ei': 'i', 'trg_ei': 'i'}\n",
      "('4', 'Sst') ('4', 'Vip') 372 {'A_new': 0.283881768687639, 'sigma': 126.77, 'gradient': nan, 'intercept': nan, 'nsyn_range': [3, 8], 'src_ei': 'i', 'trg_ei': 'i'}\n",
      "('4', 'Vip') ('4', 'Pvalb') 90 {'A_new': 0.160877014664453, 'sigma': 126.77, 'gradient': nan, 'intercept': nan, 'nsyn_range': [3, 8], 'src_ei': 'i', 'trg_ei': 'i'}\n",
      "('4', 'Vip') ('4', 'Pvalb') 90 {'A_new': 0.160877014664453, 'sigma': 126.77, 'gradient': nan, 'intercept': nan, 'nsyn_range': [3, 8], 'src_ei': 'i', 'trg_ei': 'i'}\n",
      "('4', 'Vip') ('4', 'Pvalb') 90 {'A_new': 0.160877014664453, 'sigma': 126.77, 'gradient': nan, 'intercept': nan, 'nsyn_range': [3, 8], 'src_ei': 'i', 'trg_ei': 'i'}\n",
      "('4', 'Vip') ('4', 'Pvalb') 90 {'A_new': 0.160877014664453, 'sigma': 126.77, 'gradient': nan, 'intercept': nan, 'nsyn_range': [3, 8], 'src_ei': 'i', 'trg_ei': 'i'}\n",
      "('4', 'Vip') ('4', 'Pvalb') 90 {'A_new': 0.160877014664453, 'sigma': 126.77, 'gradient': nan, 'intercept': nan, 'nsyn_range': [3, 8], 'src_ei': 'i', 'trg_ei': 'i'}\n",
      "('4', 'Vip') ('4', 'Pvalb') 90 {'A_new': 0.160877014664453, 'sigma': 126.77, 'gradient': nan, 'intercept': nan, 'nsyn_range': [3, 8], 'src_ei': 'i', 'trg_ei': 'i'}\n",
      "('4', 'Vip') ('4', 'Pvalb') 90 {'A_new': 0.160877014664453, 'sigma': 126.77, 'gradient': nan, 'intercept': nan, 'nsyn_range': [3, 8], 'src_ei': 'i', 'trg_ei': 'i'}\n",
      "('4', 'Vip') ('4', 'Pvalb') 90 {'A_new': 0.160877014664453, 'sigma': 126.77, 'gradient': nan, 'intercept': nan, 'nsyn_range': [3, 8], 'src_ei': 'i', 'trg_ei': 'i'}\n",
      "('4', 'Vip') ('4', 'Pvalb') 90 {'A_new': 0.160877014664453, 'sigma': 126.77, 'gradient': nan, 'intercept': nan, 'nsyn_range': [3, 8], 'src_ei': 'i', 'trg_ei': 'i'}\n",
      "('4', 'Vip') ('4', 'Pvalb') 90 {'A_new': 0.160877014664453, 'sigma': 126.77, 'gradient': nan, 'intercept': nan, 'nsyn_range': [3, 8], 'src_ei': 'i', 'trg_ei': 'i'}\n",
      "('4', 'Vip') ('4', 'Pvalb') 90 {'A_new': 0.160877014664453, 'sigma': 126.77, 'gradient': nan, 'intercept': nan, 'nsyn_range': [3, 8], 'src_ei': 'i', 'trg_ei': 'i'}\n",
      "('4', 'Vip') ('4', 'Sst') 90 {'A_new': 0.401398109859421, 'sigma': 126.77, 'gradient': nan, 'intercept': nan, 'nsyn_range': [3, 8], 'src_ei': 'i', 'trg_ei': 'i'}\n",
      "('4', 'Vip') ('4', 'Sst') 90 {'A_new': 0.401398109859421, 'sigma': 126.77, 'gradient': nan, 'intercept': nan, 'nsyn_range': [3, 8], 'src_ei': 'i', 'trg_ei': 'i'}\n",
      "('4', 'Vip') ('4', 'Sst') 90 {'A_new': 0.401398109859421, 'sigma': 126.77, 'gradient': nan, 'intercept': nan, 'nsyn_range': [3, 8], 'src_ei': 'i', 'trg_ei': 'i'}\n",
      "('4', 'Vip') ('4', 'Sst') 90 {'A_new': 0.401398109859421, 'sigma': 126.77, 'gradient': nan, 'intercept': nan, 'nsyn_range': [3, 8], 'src_ei': 'i', 'trg_ei': 'i'}\n",
      "('4', 'Vip') ('4', 'Sst') 90 {'A_new': 0.401398109859421, 'sigma': 126.77, 'gradient': nan, 'intercept': nan, 'nsyn_range': [3, 8], 'src_ei': 'i', 'trg_ei': 'i'}\n",
      "('4', 'Vip') ('4', 'Sst') 90 {'A_new': 0.401398109859421, 'sigma': 126.77, 'gradient': nan, 'intercept': nan, 'nsyn_range': [3, 8], 'src_ei': 'i', 'trg_ei': 'i'}\n",
      "('4', 'Vip') ('4', 'Vip') 90 {'A_new': 0.262676504817764, 'sigma': 126.77, 'gradient': nan, 'intercept': nan, 'nsyn_range': [3, 8], 'src_ei': 'i', 'trg_ei': 'i'}\n",
      "('4', 'Vip') ('4', 'Vip') 90 {'A_new': 0.262676504817764, 'sigma': 126.77, 'gradient': nan, 'intercept': nan, 'nsyn_range': [3, 8], 'src_ei': 'i', 'trg_ei': 'i'}\n",
      "('4', 'Vip') ('4', 'Vip') 90 {'A_new': 0.262676504817764, 'sigma': 126.77, 'gradient': nan, 'intercept': nan, 'nsyn_range': [3, 8], 'src_ei': 'i', 'trg_ei': 'i'}\n",
      "('4', 'Vip') ('4', 'Vip') 90 {'A_new': 0.262676504817764, 'sigma': 126.77, 'gradient': nan, 'intercept': nan, 'nsyn_range': [3, 8], 'src_ei': 'i', 'trg_ei': 'i'}\n",
      "('4', 'Vip') ('4', 'Vip') 90 {'A_new': 0.262676504817764, 'sigma': 126.77, 'gradient': nan, 'intercept': nan, 'nsyn_range': [3, 8], 'src_ei': 'i', 'trg_ei': 'i'}\n",
      "('4', 'Vip') ('4', 'Vip') 90 {'A_new': 0.262676504817764, 'sigma': 126.77, 'gradient': nan, 'intercept': nan, 'nsyn_range': [3, 8], 'src_ei': 'i', 'trg_ei': 'i'}\n",
      "('4', 'Rorb') ('4', 'Rorb') 2775 {'A_new': 0.0305413259819695, 'sigma': 127.0, 'gradient': -0.007407407407407407, 'intercept': 1.3333333333333333, 'nsyn_range': [3, 8], 'src_ei': 'e', 'trg_ei': 'e'}\n",
      "('4', 'Rorb') ('4', 'Rorb') 2775 {'A_new': 0.0305413259819695, 'sigma': 127.0, 'gradient': -0.007407407407407407, 'intercept': 1.3333333333333333, 'nsyn_range': [3, 8], 'src_ei': 'e', 'trg_ei': 'e'}\n",
      "('4', 'Rorb') ('4', 'Rorb') 2775 {'A_new': 0.0305413259819695, 'sigma': 127.0, 'gradient': -0.007407407407407407, 'intercept': 1.3333333333333333, 'nsyn_range': [3, 8], 'src_ei': 'e', 'trg_ei': 'e'}\n",
      "('4', 'Rorb') ('4', 'Rorb') 2775 {'A_new': 0.0305413259819695, 'sigma': 127.0, 'gradient': -0.007407407407407407, 'intercept': 1.3333333333333333, 'nsyn_range': [3, 8], 'src_ei': 'e', 'trg_ei': 'e'}\n",
      "('4', 'Rorb') ('4', 'Rorb') 2775 {'A_new': 0.0305413259819695, 'sigma': 127.0, 'gradient': -0.007407407407407407, 'intercept': 1.3333333333333333, 'nsyn_range': [3, 8], 'src_ei': 'e', 'trg_ei': 'e'}\n",
      "('4', 'Rorb') ('4', 'Rorb') 2775 {'A_new': 0.0305413259819695, 'sigma': 127.0, 'gradient': -0.007407407407407407, 'intercept': 1.3333333333333333, 'nsyn_range': [3, 8], 'src_ei': 'e', 'trg_ei': 'e'}\n",
      "('4', 'Rorb') ('4', 'Rorb') 2775 {'A_new': 0.0305413259819695, 'sigma': 127.0, 'gradient': -0.007407407407407407, 'intercept': 1.3333333333333333, 'nsyn_range': [3, 8], 'src_ei': 'e', 'trg_ei': 'e'}\n",
      "('4', 'Rorb') ('4', 'Rorb') 2775 {'A_new': 0.0305413259819695, 'sigma': 127.0, 'gradient': -0.007407407407407407, 'intercept': 1.3333333333333333, 'nsyn_range': [3, 8], 'src_ei': 'e', 'trg_ei': 'e'}\n",
      "('4', 'Rorb') ('4', 'Rorb') 2775 {'A_new': 0.0305413259819695, 'sigma': 127.0, 'gradient': -0.007407407407407407, 'intercept': 1.3333333333333333, 'nsyn_range': [3, 8], 'src_ei': 'e', 'trg_ei': 'e'}\n",
      "('4', 'Rorb') ('4', 'Rorb') 2775 {'A_new': 0.0305413259819695, 'sigma': 127.0, 'gradient': -0.007407407407407407, 'intercept': 1.3333333333333333, 'nsyn_range': [3, 8], 'src_ei': 'e', 'trg_ei': 'e'}\n",
      "('4', 'Rorb') ('4', 'Rorb') 2775 {'A_new': 0.0305413259819695, 'sigma': 127.0, 'gradient': -0.007407407407407407, 'intercept': 1.3333333333333333, 'nsyn_range': [3, 8], 'src_ei': 'e', 'trg_ei': 'e'}\n",
      "('4', 'Rorb') ('4', 'Rorb') 2775 {'A_new': 0.0305413259819695, 'sigma': 127.0, 'gradient': -0.007407407407407407, 'intercept': 1.3333333333333333, 'nsyn_range': [3, 8], 'src_ei': 'e', 'trg_ei': 'e'}\n",
      "('4', 'Rorb') ('4', 'Rorb') 2775 {'A_new': 0.0305413259819695, 'sigma': 127.0, 'gradient': -0.007407407407407407, 'intercept': 1.3333333333333333, 'nsyn_range': [3, 8], 'src_ei': 'e', 'trg_ei': 'e'}\n",
      "('4', 'Rorb') ('4', 'Rorb') 2775 {'A_new': 0.0305413259819695, 'sigma': 127.0, 'gradient': -0.007407407407407407, 'intercept': 1.3333333333333333, 'nsyn_range': [3, 8], 'src_ei': 'e', 'trg_ei': 'e'}\n",
      "('4', 'Rorb') ('4', 'Rorb') 2775 {'A_new': 0.0305413259819695, 'sigma': 127.0, 'gradient': -0.007407407407407407, 'intercept': 1.3333333333333333, 'nsyn_range': [3, 8], 'src_ei': 'e', 'trg_ei': 'e'}\n",
      "('4', 'Rorb') ('4', 'Rorb') 2775 {'A_new': 0.0305413259819695, 'sigma': 127.0, 'gradient': -0.007407407407407407, 'intercept': 1.3333333333333333, 'nsyn_range': [3, 8], 'src_ei': 'e', 'trg_ei': 'e'}\n",
      "('4', 'Rorb') ('4', 'Rorb') 2775 {'A_new': 0.0305413259819695, 'sigma': 127.0, 'gradient': -0.007407407407407407, 'intercept': 1.3333333333333333, 'nsyn_range': [3, 8], 'src_ei': 'e', 'trg_ei': 'e'}\n",
      "('4', 'Rorb') ('4', 'Rorb') 2775 {'A_new': 0.0305413259819695, 'sigma': 127.0, 'gradient': -0.007407407407407407, 'intercept': 1.3333333333333333, 'nsyn_range': [3, 8], 'src_ei': 'e', 'trg_ei': 'e'}\n",
      "('4', 'Rorb') ('4', 'Rorb') 2775 {'A_new': 0.0305413259819695, 'sigma': 127.0, 'gradient': -0.007407407407407407, 'intercept': 1.3333333333333333, 'nsyn_range': [3, 8], 'src_ei': 'e', 'trg_ei': 'e'}\n",
      "('4', 'Rorb') ('4', 'Rorb') 2775 {'A_new': 0.0305413259819695, 'sigma': 127.0, 'gradient': -0.007407407407407407, 'intercept': 1.3333333333333333, 'nsyn_range': [3, 8], 'src_ei': 'e', 'trg_ei': 'e'}\n",
      "('4', 'Rorb') ('4', 'Rorb') 2775 {'A_new': 0.0305413259819695, 'sigma': 127.0, 'gradient': -0.007407407407407407, 'intercept': 1.3333333333333333, 'nsyn_range': [3, 8], 'src_ei': 'e', 'trg_ei': 'e'}\n",
      "('4', 'Rorb') ('4', 'Scnn1a') 2775 {'A_new': 0.0305413259819695, 'sigma': 127.0, 'gradient': -0.007407407407407407, 'intercept': 1.3333333333333333, 'nsyn_range': [3, 8], 'src_ei': 'e', 'trg_ei': 'e'}\n",
      "('4', 'Rorb') ('4', 'Scnn1a') 2775 {'A_new': 0.0305413259819695, 'sigma': 127.0, 'gradient': -0.007407407407407407, 'intercept': 1.3333333333333333, 'nsyn_range': [3, 8], 'src_ei': 'e', 'trg_ei': 'e'}\n",
      "('4', 'Rorb') ('4', 'Scnn1a') 2775 {'A_new': 0.0305413259819695, 'sigma': 127.0, 'gradient': -0.007407407407407407, 'intercept': 1.3333333333333333, 'nsyn_range': [3, 8], 'src_ei': 'e', 'trg_ei': 'e'}\n",
      "('4', 'Rorb') ('4', 'Scnn1a') 2775 {'A_new': 0.0305413259819695, 'sigma': 127.0, 'gradient': -0.007407407407407407, 'intercept': 1.3333333333333333, 'nsyn_range': [3, 8], 'src_ei': 'e', 'trg_ei': 'e'}\n",
      "('4', 'Rorb') ('4', 'Scnn1a') 2775 {'A_new': 0.0305413259819695, 'sigma': 127.0, 'gradient': -0.007407407407407407, 'intercept': 1.3333333333333333, 'nsyn_range': [3, 8], 'src_ei': 'e', 'trg_ei': 'e'}\n",
      "('4', 'Rorb') ('4', 'Vip') 2775 {'A_new': 0.0845196761302092, 'sigma': 99.84, 'gradient': nan, 'intercept': nan, 'nsyn_range': [3, 8], 'src_ei': 'e', 'trg_ei': 'i'}\n",
      "('4', 'Rorb') ('4', 'Vip') 2775 {'A_new': 0.0845196761302092, 'sigma': 99.84, 'gradient': nan, 'intercept': nan, 'nsyn_range': [3, 8], 'src_ei': 'e', 'trg_ei': 'i'}\n",
      "('4', 'Rorb') ('4', 'Vip') 2775 {'A_new': 0.0845196761302092, 'sigma': 99.84, 'gradient': nan, 'intercept': nan, 'nsyn_range': [3, 8], 'src_ei': 'e', 'trg_ei': 'i'}\n",
      "('4', 'Rorb') ('4', 'Vip') 2775 {'A_new': 0.0845196761302092, 'sigma': 99.84, 'gradient': nan, 'intercept': nan, 'nsyn_range': [3, 8], 'src_ei': 'e', 'trg_ei': 'i'}\n",
      "('4', 'Rorb') ('4', 'Vip') 2775 {'A_new': 0.0845196761302092, 'sigma': 99.84, 'gradient': nan, 'intercept': nan, 'nsyn_range': [3, 8], 'src_ei': 'e', 'trg_ei': 'i'}\n",
      "('4', 'Rorb') ('4', 'Vip') 2775 {'A_new': 0.0845196761302092, 'sigma': 99.84, 'gradient': nan, 'intercept': nan, 'nsyn_range': [3, 8], 'src_ei': 'e', 'trg_ei': 'i'}\n",
      "('4', 'Rorb') ('4', 'Pvalb') 2775 {'A_new': 0.315678465282962, 'sigma': 99.84, 'gradient': nan, 'intercept': nan, 'nsyn_range': [3, 8], 'src_ei': 'e', 'trg_ei': 'i'}\n",
      "('4', 'Rorb') ('4', 'Pvalb') 2775 {'A_new': 0.315678465282962, 'sigma': 99.84, 'gradient': nan, 'intercept': nan, 'nsyn_range': [3, 8], 'src_ei': 'e', 'trg_ei': 'i'}\n",
      "('4', 'Rorb') ('4', 'Pvalb') 2775 {'A_new': 0.315678465282962, 'sigma': 99.84, 'gradient': nan, 'intercept': nan, 'nsyn_range': [3, 8], 'src_ei': 'e', 'trg_ei': 'i'}\n",
      "('4', 'Rorb') ('4', 'Pvalb') 2775 {'A_new': 0.315678465282962, 'sigma': 99.84, 'gradient': nan, 'intercept': nan, 'nsyn_range': [3, 8], 'src_ei': 'e', 'trg_ei': 'i'}\n",
      "('4', 'Rorb') ('4', 'Pvalb') 2775 {'A_new': 0.315678465282962, 'sigma': 99.84, 'gradient': nan, 'intercept': nan, 'nsyn_range': [3, 8], 'src_ei': 'e', 'trg_ei': 'i'}\n",
      "('4', 'Rorb') ('4', 'Pvalb') 2775 {'A_new': 0.315678465282962, 'sigma': 99.84, 'gradient': nan, 'intercept': nan, 'nsyn_range': [3, 8], 'src_ei': 'e', 'trg_ei': 'i'}\n",
      "('4', 'Rorb') ('4', 'Pvalb') 2775 {'A_new': 0.315678465282962, 'sigma': 99.84, 'gradient': nan, 'intercept': nan, 'nsyn_range': [3, 8], 'src_ei': 'e', 'trg_ei': 'i'}\n",
      "('4', 'Rorb') ('4', 'Pvalb') 2775 {'A_new': 0.315678465282962, 'sigma': 99.84, 'gradient': nan, 'intercept': nan, 'nsyn_range': [3, 8], 'src_ei': 'e', 'trg_ei': 'i'}\n",
      "('4', 'Rorb') ('4', 'Pvalb') 2775 {'A_new': 0.315678465282962, 'sigma': 99.84, 'gradient': nan, 'intercept': nan, 'nsyn_range': [3, 8], 'src_ei': 'e', 'trg_ei': 'i'}\n",
      "('4', 'Rorb') ('4', 'Pvalb') 2775 {'A_new': 0.315678465282962, 'sigma': 99.84, 'gradient': nan, 'intercept': nan, 'nsyn_range': [3, 8], 'src_ei': 'e', 'trg_ei': 'i'}\n",
      "('4', 'Rorb') ('4', 'Pvalb') 2775 {'A_new': 0.315678465282962, 'sigma': 99.84, 'gradient': nan, 'intercept': nan, 'nsyn_range': [3, 8], 'src_ei': 'e', 'trg_ei': 'i'}\n",
      "('4', 'Rorb') ('4', 'Sst') 2775 {'A_new': 0.324284555241534, 'sigma': 99.84, 'gradient': nan, 'intercept': nan, 'nsyn_range': [3, 8], 'src_ei': 'e', 'trg_ei': 'i'}\n",
      "('4', 'Rorb') ('4', 'Sst') 2775 {'A_new': 0.324284555241534, 'sigma': 99.84, 'gradient': nan, 'intercept': nan, 'nsyn_range': [3, 8], 'src_ei': 'e', 'trg_ei': 'i'}\n",
      "('4', 'Rorb') ('4', 'Sst') 2775 {'A_new': 0.324284555241534, 'sigma': 99.84, 'gradient': nan, 'intercept': nan, 'nsyn_range': [3, 8], 'src_ei': 'e', 'trg_ei': 'i'}\n",
      "('4', 'Rorb') ('4', 'Sst') 2775 {'A_new': 0.324284555241534, 'sigma': 99.84, 'gradient': nan, 'intercept': nan, 'nsyn_range': [3, 8], 'src_ei': 'e', 'trg_ei': 'i'}\n",
      "('4', 'Rorb') ('4', 'Sst') 2775 {'A_new': 0.324284555241534, 'sigma': 99.84, 'gradient': nan, 'intercept': nan, 'nsyn_range': [3, 8], 'src_ei': 'e', 'trg_ei': 'i'}\n",
      "('4', 'Rorb') ('4', 'Sst') 2775 {'A_new': 0.324284555241534, 'sigma': 99.84, 'gradient': nan, 'intercept': nan, 'nsyn_range': [3, 8], 'src_ei': 'e', 'trg_ei': 'i'}\n",
      "('4', 'Scnn1a') ('4', 'Rorb') 2790 {'A_new': 0.0305413259819695, 'sigma': 127.0, 'gradient': -0.007407407407407407, 'intercept': 1.3333333333333333, 'nsyn_range': [3, 8], 'src_ei': 'e', 'trg_ei': 'e'}\n",
      "('4', 'Scnn1a') ('4', 'Rorb') 2790 {'A_new': 0.0305413259819695, 'sigma': 127.0, 'gradient': -0.007407407407407407, 'intercept': 1.3333333333333333, 'nsyn_range': [3, 8], 'src_ei': 'e', 'trg_ei': 'e'}\n",
      "('4', 'Scnn1a') ('4', 'Rorb') 2790 {'A_new': 0.0305413259819695, 'sigma': 127.0, 'gradient': -0.007407407407407407, 'intercept': 1.3333333333333333, 'nsyn_range': [3, 8], 'src_ei': 'e', 'trg_ei': 'e'}\n",
      "('4', 'Scnn1a') ('4', 'Rorb') 2790 {'A_new': 0.0305413259819695, 'sigma': 127.0, 'gradient': -0.007407407407407407, 'intercept': 1.3333333333333333, 'nsyn_range': [3, 8], 'src_ei': 'e', 'trg_ei': 'e'}\n",
      "('4', 'Scnn1a') ('4', 'Rorb') 2790 {'A_new': 0.0305413259819695, 'sigma': 127.0, 'gradient': -0.007407407407407407, 'intercept': 1.3333333333333333, 'nsyn_range': [3, 8], 'src_ei': 'e', 'trg_ei': 'e'}\n",
      "('4', 'Scnn1a') ('4', 'Rorb') 2790 {'A_new': 0.0305413259819695, 'sigma': 127.0, 'gradient': -0.007407407407407407, 'intercept': 1.3333333333333333, 'nsyn_range': [3, 8], 'src_ei': 'e', 'trg_ei': 'e'}\n",
      "('4', 'Scnn1a') ('4', 'Rorb') 2790 {'A_new': 0.0305413259819695, 'sigma': 127.0, 'gradient': -0.007407407407407407, 'intercept': 1.3333333333333333, 'nsyn_range': [3, 8], 'src_ei': 'e', 'trg_ei': 'e'}\n",
      "('4', 'Scnn1a') ('4', 'Rorb') 2790 {'A_new': 0.0305413259819695, 'sigma': 127.0, 'gradient': -0.007407407407407407, 'intercept': 1.3333333333333333, 'nsyn_range': [3, 8], 'src_ei': 'e', 'trg_ei': 'e'}\n",
      "('4', 'Scnn1a') ('4', 'Rorb') 2790 {'A_new': 0.0305413259819695, 'sigma': 127.0, 'gradient': -0.007407407407407407, 'intercept': 1.3333333333333333, 'nsyn_range': [3, 8], 'src_ei': 'e', 'trg_ei': 'e'}\n",
      "('4', 'Scnn1a') ('4', 'Rorb') 2790 {'A_new': 0.0305413259819695, 'sigma': 127.0, 'gradient': -0.007407407407407407, 'intercept': 1.3333333333333333, 'nsyn_range': [3, 8], 'src_ei': 'e', 'trg_ei': 'e'}\n",
      "('4', 'Scnn1a') ('4', 'Rorb') 2790 {'A_new': 0.0305413259819695, 'sigma': 127.0, 'gradient': -0.007407407407407407, 'intercept': 1.3333333333333333, 'nsyn_range': [3, 8], 'src_ei': 'e', 'trg_ei': 'e'}\n",
      "('4', 'Scnn1a') ('4', 'Rorb') 2790 {'A_new': 0.0305413259819695, 'sigma': 127.0, 'gradient': -0.007407407407407407, 'intercept': 1.3333333333333333, 'nsyn_range': [3, 8], 'src_ei': 'e', 'trg_ei': 'e'}\n",
      "('4', 'Scnn1a') ('4', 'Rorb') 2790 {'A_new': 0.0305413259819695, 'sigma': 127.0, 'gradient': -0.007407407407407407, 'intercept': 1.3333333333333333, 'nsyn_range': [3, 8], 'src_ei': 'e', 'trg_ei': 'e'}\n",
      "('4', 'Scnn1a') ('4', 'Rorb') 2790 {'A_new': 0.0305413259819695, 'sigma': 127.0, 'gradient': -0.007407407407407407, 'intercept': 1.3333333333333333, 'nsyn_range': [3, 8], 'src_ei': 'e', 'trg_ei': 'e'}\n",
      "('4', 'Scnn1a') ('4', 'Rorb') 2790 {'A_new': 0.0305413259819695, 'sigma': 127.0, 'gradient': -0.007407407407407407, 'intercept': 1.3333333333333333, 'nsyn_range': [3, 8], 'src_ei': 'e', 'trg_ei': 'e'}\n",
      "('4', 'Scnn1a') ('4', 'Rorb') 2790 {'A_new': 0.0305413259819695, 'sigma': 127.0, 'gradient': -0.007407407407407407, 'intercept': 1.3333333333333333, 'nsyn_range': [3, 8], 'src_ei': 'e', 'trg_ei': 'e'}\n",
      "('4', 'Scnn1a') ('4', 'Rorb') 2790 {'A_new': 0.0305413259819695, 'sigma': 127.0, 'gradient': -0.007407407407407407, 'intercept': 1.3333333333333333, 'nsyn_range': [3, 8], 'src_ei': 'e', 'trg_ei': 'e'}\n",
      "('4', 'Scnn1a') ('4', 'Rorb') 2790 {'A_new': 0.0305413259819695, 'sigma': 127.0, 'gradient': -0.007407407407407407, 'intercept': 1.3333333333333333, 'nsyn_range': [3, 8], 'src_ei': 'e', 'trg_ei': 'e'}\n",
      "('4', 'Scnn1a') ('4', 'Rorb') 2790 {'A_new': 0.0305413259819695, 'sigma': 127.0, 'gradient': -0.007407407407407407, 'intercept': 1.3333333333333333, 'nsyn_range': [3, 8], 'src_ei': 'e', 'trg_ei': 'e'}\n",
      "('4', 'Scnn1a') ('4', 'Rorb') 2790 {'A_new': 0.0305413259819695, 'sigma': 127.0, 'gradient': -0.007407407407407407, 'intercept': 1.3333333333333333, 'nsyn_range': [3, 8], 'src_ei': 'e', 'trg_ei': 'e'}\n",
      "('4', 'Scnn1a') ('4', 'Rorb') 2790 {'A_new': 0.0305413259819695, 'sigma': 127.0, 'gradient': -0.007407407407407407, 'intercept': 1.3333333333333333, 'nsyn_range': [3, 8], 'src_ei': 'e', 'trg_ei': 'e'}\n",
      "('4', 'Scnn1a') ('4', 'Scnn1a') 2790 {'A_new': 0.0305413259819695, 'sigma': 127.0, 'gradient': -0.007407407407407407, 'intercept': 1.3333333333333333, 'nsyn_range': [3, 8], 'src_ei': 'e', 'trg_ei': 'e'}\n",
      "('4', 'Scnn1a') ('4', 'Scnn1a') 2790 {'A_new': 0.0305413259819695, 'sigma': 127.0, 'gradient': -0.007407407407407407, 'intercept': 1.3333333333333333, 'nsyn_range': [3, 8], 'src_ei': 'e', 'trg_ei': 'e'}\n",
      "('4', 'Scnn1a') ('4', 'Scnn1a') 2790 {'A_new': 0.0305413259819695, 'sigma': 127.0, 'gradient': -0.007407407407407407, 'intercept': 1.3333333333333333, 'nsyn_range': [3, 8], 'src_ei': 'e', 'trg_ei': 'e'}\n",
      "('4', 'Scnn1a') ('4', 'Scnn1a') 2790 {'A_new': 0.0305413259819695, 'sigma': 127.0, 'gradient': -0.007407407407407407, 'intercept': 1.3333333333333333, 'nsyn_range': [3, 8], 'src_ei': 'e', 'trg_ei': 'e'}\n",
      "('4', 'Scnn1a') ('4', 'Scnn1a') 2790 {'A_new': 0.0305413259819695, 'sigma': 127.0, 'gradient': -0.007407407407407407, 'intercept': 1.3333333333333333, 'nsyn_range': [3, 8], 'src_ei': 'e', 'trg_ei': 'e'}\n",
      "('4', 'Scnn1a') ('4', 'Vip') 2790 {'A_new': 0.0845196761302092, 'sigma': 99.84, 'gradient': nan, 'intercept': nan, 'nsyn_range': [3, 8], 'src_ei': 'e', 'trg_ei': 'i'}\n",
      "('4', 'Scnn1a') ('4', 'Vip') 2790 {'A_new': 0.0845196761302092, 'sigma': 99.84, 'gradient': nan, 'intercept': nan, 'nsyn_range': [3, 8], 'src_ei': 'e', 'trg_ei': 'i'}\n",
      "('4', 'Scnn1a') ('4', 'Vip') 2790 {'A_new': 0.0845196761302092, 'sigma': 99.84, 'gradient': nan, 'intercept': nan, 'nsyn_range': [3, 8], 'src_ei': 'e', 'trg_ei': 'i'}\n",
      "('4', 'Scnn1a') ('4', 'Vip') 2790 {'A_new': 0.0845196761302092, 'sigma': 99.84, 'gradient': nan, 'intercept': nan, 'nsyn_range': [3, 8], 'src_ei': 'e', 'trg_ei': 'i'}\n",
      "('4', 'Scnn1a') ('4', 'Vip') 2790 {'A_new': 0.0845196761302092, 'sigma': 99.84, 'gradient': nan, 'intercept': nan, 'nsyn_range': [3, 8], 'src_ei': 'e', 'trg_ei': 'i'}\n",
      "('4', 'Scnn1a') ('4', 'Vip') 2790 {'A_new': 0.0845196761302092, 'sigma': 99.84, 'gradient': nan, 'intercept': nan, 'nsyn_range': [3, 8], 'src_ei': 'e', 'trg_ei': 'i'}\n",
      "('4', 'Scnn1a') ('4', 'Pvalb') 2790 {'A_new': 0.315678465282962, 'sigma': 99.84, 'gradient': nan, 'intercept': nan, 'nsyn_range': [3, 8], 'src_ei': 'e', 'trg_ei': 'i'}\n",
      "('4', 'Scnn1a') ('4', 'Pvalb') 2790 {'A_new': 0.315678465282962, 'sigma': 99.84, 'gradient': nan, 'intercept': nan, 'nsyn_range': [3, 8], 'src_ei': 'e', 'trg_ei': 'i'}\n",
      "('4', 'Scnn1a') ('4', 'Pvalb') 2790 {'A_new': 0.315678465282962, 'sigma': 99.84, 'gradient': nan, 'intercept': nan, 'nsyn_range': [3, 8], 'src_ei': 'e', 'trg_ei': 'i'}\n",
      "('4', 'Scnn1a') ('4', 'Pvalb') 2790 {'A_new': 0.315678465282962, 'sigma': 99.84, 'gradient': nan, 'intercept': nan, 'nsyn_range': [3, 8], 'src_ei': 'e', 'trg_ei': 'i'}\n",
      "('4', 'Scnn1a') ('4', 'Pvalb') 2790 {'A_new': 0.315678465282962, 'sigma': 99.84, 'gradient': nan, 'intercept': nan, 'nsyn_range': [3, 8], 'src_ei': 'e', 'trg_ei': 'i'}\n",
      "('4', 'Scnn1a') ('4', 'Pvalb') 2790 {'A_new': 0.315678465282962, 'sigma': 99.84, 'gradient': nan, 'intercept': nan, 'nsyn_range': [3, 8], 'src_ei': 'e', 'trg_ei': 'i'}\n",
      "('4', 'Scnn1a') ('4', 'Pvalb') 2790 {'A_new': 0.315678465282962, 'sigma': 99.84, 'gradient': nan, 'intercept': nan, 'nsyn_range': [3, 8], 'src_ei': 'e', 'trg_ei': 'i'}\n",
      "('4', 'Scnn1a') ('4', 'Pvalb') 2790 {'A_new': 0.315678465282962, 'sigma': 99.84, 'gradient': nan, 'intercept': nan, 'nsyn_range': [3, 8], 'src_ei': 'e', 'trg_ei': 'i'}\n",
      "('4', 'Scnn1a') ('4', 'Pvalb') 2790 {'A_new': 0.315678465282962, 'sigma': 99.84, 'gradient': nan, 'intercept': nan, 'nsyn_range': [3, 8], 'src_ei': 'e', 'trg_ei': 'i'}\n",
      "('4', 'Scnn1a') ('4', 'Pvalb') 2790 {'A_new': 0.315678465282962, 'sigma': 99.84, 'gradient': nan, 'intercept': nan, 'nsyn_range': [3, 8], 'src_ei': 'e', 'trg_ei': 'i'}\n",
      "('4', 'Scnn1a') ('4', 'Pvalb') 2790 {'A_new': 0.315678465282962, 'sigma': 99.84, 'gradient': nan, 'intercept': nan, 'nsyn_range': [3, 8], 'src_ei': 'e', 'trg_ei': 'i'}\n",
      "('4', 'Scnn1a') ('4', 'Sst') 2790 {'A_new': 0.324284555241534, 'sigma': 99.84, 'gradient': nan, 'intercept': nan, 'nsyn_range': [3, 8], 'src_ei': 'e', 'trg_ei': 'i'}\n",
      "('4', 'Scnn1a') ('4', 'Sst') 2790 {'A_new': 0.324284555241534, 'sigma': 99.84, 'gradient': nan, 'intercept': nan, 'nsyn_range': [3, 8], 'src_ei': 'e', 'trg_ei': 'i'}\n",
      "('4', 'Scnn1a') ('4', 'Sst') 2790 {'A_new': 0.324284555241534, 'sigma': 99.84, 'gradient': nan, 'intercept': nan, 'nsyn_range': [3, 8], 'src_ei': 'e', 'trg_ei': 'i'}\n",
      "('4', 'Scnn1a') ('4', 'Sst') 2790 {'A_new': 0.324284555241534, 'sigma': 99.84, 'gradient': nan, 'intercept': nan, 'nsyn_range': [3, 8], 'src_ei': 'e', 'trg_ei': 'i'}\n",
      "('4', 'Scnn1a') ('4', 'Sst') 2790 {'A_new': 0.324284555241534, 'sigma': 99.84, 'gradient': nan, 'intercept': nan, 'nsyn_range': [3, 8], 'src_ei': 'e', 'trg_ei': 'i'}\n",
      "('4', 'Scnn1a') ('4', 'Sst') 2790 {'A_new': 0.324284555241534, 'sigma': 99.84, 'gradient': nan, 'intercept': nan, 'nsyn_range': [3, 8], 'src_ei': 'e', 'trg_ei': 'i'}\n",
      "('4', 'Vip') ('4', 'Rorb') 90 {'A_new': 0.0090387251730265, 'sigma': 96.6, 'gradient': nan, 'intercept': nan, 'nsyn_range': [3, 8], 'src_ei': 'i', 'trg_ei': 'e'}\n",
      "('4', 'Vip') ('4', 'Rorb') 90 {'A_new': 0.0090387251730265, 'sigma': 96.6, 'gradient': nan, 'intercept': nan, 'nsyn_range': [3, 8], 'src_ei': 'i', 'trg_ei': 'e'}\n",
      "('4', 'Vip') ('4', 'Rorb') 90 {'A_new': 0.0090387251730265, 'sigma': 96.6, 'gradient': nan, 'intercept': nan, 'nsyn_range': [3, 8], 'src_ei': 'i', 'trg_ei': 'e'}\n",
      "('4', 'Vip') ('4', 'Rorb') 90 {'A_new': 0.0090387251730265, 'sigma': 96.6, 'gradient': nan, 'intercept': nan, 'nsyn_range': [3, 8], 'src_ei': 'i', 'trg_ei': 'e'}\n",
      "('4', 'Vip') ('4', 'Rorb') 90 {'A_new': 0.0090387251730265, 'sigma': 96.6, 'gradient': nan, 'intercept': nan, 'nsyn_range': [3, 8], 'src_ei': 'i', 'trg_ei': 'e'}\n",
      "('4', 'Vip') ('4', 'Rorb') 90 {'A_new': 0.0090387251730265, 'sigma': 96.6, 'gradient': nan, 'intercept': nan, 'nsyn_range': [3, 8], 'src_ei': 'i', 'trg_ei': 'e'}\n",
      "('4', 'Vip') ('4', 'Rorb') 90 {'A_new': 0.0090387251730265, 'sigma': 96.6, 'gradient': nan, 'intercept': nan, 'nsyn_range': [3, 8], 'src_ei': 'i', 'trg_ei': 'e'}\n",
      "('4', 'Vip') ('4', 'Rorb') 90 {'A_new': 0.0090387251730265, 'sigma': 96.6, 'gradient': nan, 'intercept': nan, 'nsyn_range': [3, 8], 'src_ei': 'i', 'trg_ei': 'e'}\n",
      "('4', 'Vip') ('4', 'Rorb') 90 {'A_new': 0.0090387251730265, 'sigma': 96.6, 'gradient': nan, 'intercept': nan, 'nsyn_range': [3, 8], 'src_ei': 'i', 'trg_ei': 'e'}\n",
      "('4', 'Vip') ('4', 'Rorb') 90 {'A_new': 0.0090387251730265, 'sigma': 96.6, 'gradient': nan, 'intercept': nan, 'nsyn_range': [3, 8], 'src_ei': 'i', 'trg_ei': 'e'}\n",
      "('4', 'Vip') ('4', 'Rorb') 90 {'A_new': 0.0090387251730265, 'sigma': 96.6, 'gradient': nan, 'intercept': nan, 'nsyn_range': [3, 8], 'src_ei': 'i', 'trg_ei': 'e'}\n",
      "('4', 'Vip') ('4', 'Rorb') 90 {'A_new': 0.0090387251730265, 'sigma': 96.6, 'gradient': nan, 'intercept': nan, 'nsyn_range': [3, 8], 'src_ei': 'i', 'trg_ei': 'e'}\n",
      "('4', 'Vip') ('4', 'Rorb') 90 {'A_new': 0.0090387251730265, 'sigma': 96.6, 'gradient': nan, 'intercept': nan, 'nsyn_range': [3, 8], 'src_ei': 'i', 'trg_ei': 'e'}\n",
      "('4', 'Vip') ('4', 'Rorb') 90 {'A_new': 0.0090387251730265, 'sigma': 96.6, 'gradient': nan, 'intercept': nan, 'nsyn_range': [3, 8], 'src_ei': 'i', 'trg_ei': 'e'}\n",
      "('4', 'Vip') ('4', 'Rorb') 90 {'A_new': 0.0090387251730265, 'sigma': 96.6, 'gradient': nan, 'intercept': nan, 'nsyn_range': [3, 8], 'src_ei': 'i', 'trg_ei': 'e'}\n",
      "('4', 'Vip') ('4', 'Rorb') 90 {'A_new': 0.0090387251730265, 'sigma': 96.6, 'gradient': nan, 'intercept': nan, 'nsyn_range': [3, 8], 'src_ei': 'i', 'trg_ei': 'e'}\n",
      "('4', 'Vip') ('4', 'Rorb') 90 {'A_new': 0.0090387251730265, 'sigma': 96.6, 'gradient': nan, 'intercept': nan, 'nsyn_range': [3, 8], 'src_ei': 'i', 'trg_ei': 'e'}\n",
      "('4', 'Vip') ('4', 'Rorb') 90 {'A_new': 0.0090387251730265, 'sigma': 96.6, 'gradient': nan, 'intercept': nan, 'nsyn_range': [3, 8], 'src_ei': 'i', 'trg_ei': 'e'}\n",
      "('4', 'Vip') ('4', 'Rorb') 90 {'A_new': 0.0090387251730265, 'sigma': 96.6, 'gradient': nan, 'intercept': nan, 'nsyn_range': [3, 8], 'src_ei': 'i', 'trg_ei': 'e'}\n",
      "('4', 'Vip') ('4', 'Rorb') 90 {'A_new': 0.0090387251730265, 'sigma': 96.6, 'gradient': nan, 'intercept': nan, 'nsyn_range': [3, 8], 'src_ei': 'i', 'trg_ei': 'e'}\n",
      "('4', 'Vip') ('4', 'Rorb') 90 {'A_new': 0.0090387251730265, 'sigma': 96.6, 'gradient': nan, 'intercept': nan, 'nsyn_range': [3, 8], 'src_ei': 'i', 'trg_ei': 'e'}\n",
      "('4', 'Vip') ('4', 'Scnn1a') 90 {'A_new': 0.0090387251730265, 'sigma': 96.6, 'gradient': nan, 'intercept': nan, 'nsyn_range': [3, 8], 'src_ei': 'i', 'trg_ei': 'e'}\n",
      "('4', 'Vip') ('4', 'Scnn1a') 90 {'A_new': 0.0090387251730265, 'sigma': 96.6, 'gradient': nan, 'intercept': nan, 'nsyn_range': [3, 8], 'src_ei': 'i', 'trg_ei': 'e'}\n",
      "('4', 'Vip') ('4', 'Scnn1a') 90 {'A_new': 0.0090387251730265, 'sigma': 96.6, 'gradient': nan, 'intercept': nan, 'nsyn_range': [3, 8], 'src_ei': 'i', 'trg_ei': 'e'}\n",
      "('4', 'Vip') ('4', 'Scnn1a') 90 {'A_new': 0.0090387251730265, 'sigma': 96.6, 'gradient': nan, 'intercept': nan, 'nsyn_range': [3, 8], 'src_ei': 'i', 'trg_ei': 'e'}\n",
      "('4', 'Vip') ('4', 'Scnn1a') 90 {'A_new': 0.0090387251730265, 'sigma': 96.6, 'gradient': nan, 'intercept': nan, 'nsyn_range': [3, 8], 'src_ei': 'i', 'trg_ei': 'e'}\n",
      "('4', 'Pvalb') ('4', 'Rorb') 360 {'A_new': 0.488046931160011, 'sigma': 96.6, 'gradient': nan, 'intercept': nan, 'nsyn_range': [3, 8], 'src_ei': 'i', 'trg_ei': 'e'}\n",
      "('4', 'Pvalb') ('4', 'Rorb') 360 {'A_new': 0.488046931160011, 'sigma': 96.6, 'gradient': nan, 'intercept': nan, 'nsyn_range': [3, 8], 'src_ei': 'i', 'trg_ei': 'e'}\n",
      "('4', 'Pvalb') ('4', 'Rorb') 360 {'A_new': 0.488046931160011, 'sigma': 96.6, 'gradient': nan, 'intercept': nan, 'nsyn_range': [3, 8], 'src_ei': 'i', 'trg_ei': 'e'}\n",
      "('4', 'Pvalb') ('4', 'Rorb') 360 {'A_new': 0.488046931160011, 'sigma': 96.6, 'gradient': nan, 'intercept': nan, 'nsyn_range': [3, 8], 'src_ei': 'i', 'trg_ei': 'e'}\n",
      "('4', 'Pvalb') ('4', 'Rorb') 360 {'A_new': 0.488046931160011, 'sigma': 96.6, 'gradient': nan, 'intercept': nan, 'nsyn_range': [3, 8], 'src_ei': 'i', 'trg_ei': 'e'}\n",
      "('4', 'Pvalb') ('4', 'Rorb') 360 {'A_new': 0.488046931160011, 'sigma': 96.6, 'gradient': nan, 'intercept': nan, 'nsyn_range': [3, 8], 'src_ei': 'i', 'trg_ei': 'e'}\n",
      "('4', 'Pvalb') ('4', 'Rorb') 360 {'A_new': 0.488046931160011, 'sigma': 96.6, 'gradient': nan, 'intercept': nan, 'nsyn_range': [3, 8], 'src_ei': 'i', 'trg_ei': 'e'}\n",
      "('4', 'Pvalb') ('4', 'Rorb') 360 {'A_new': 0.488046931160011, 'sigma': 96.6, 'gradient': nan, 'intercept': nan, 'nsyn_range': [3, 8], 'src_ei': 'i', 'trg_ei': 'e'}\n",
      "('4', 'Pvalb') ('4', 'Rorb') 360 {'A_new': 0.488046931160011, 'sigma': 96.6, 'gradient': nan, 'intercept': nan, 'nsyn_range': [3, 8], 'src_ei': 'i', 'trg_ei': 'e'}\n",
      "('4', 'Pvalb') ('4', 'Rorb') 360 {'A_new': 0.488046931160011, 'sigma': 96.6, 'gradient': nan, 'intercept': nan, 'nsyn_range': [3, 8], 'src_ei': 'i', 'trg_ei': 'e'}\n",
      "('4', 'Pvalb') ('4', 'Rorb') 360 {'A_new': 0.488046931160011, 'sigma': 96.6, 'gradient': nan, 'intercept': nan, 'nsyn_range': [3, 8], 'src_ei': 'i', 'trg_ei': 'e'}\n",
      "('4', 'Pvalb') ('4', 'Rorb') 360 {'A_new': 0.488046931160011, 'sigma': 96.6, 'gradient': nan, 'intercept': nan, 'nsyn_range': [3, 8], 'src_ei': 'i', 'trg_ei': 'e'}\n",
      "('4', 'Pvalb') ('4', 'Rorb') 360 {'A_new': 0.488046931160011, 'sigma': 96.6, 'gradient': nan, 'intercept': nan, 'nsyn_range': [3, 8], 'src_ei': 'i', 'trg_ei': 'e'}\n",
      "('4', 'Pvalb') ('4', 'Rorb') 360 {'A_new': 0.488046931160011, 'sigma': 96.6, 'gradient': nan, 'intercept': nan, 'nsyn_range': [3, 8], 'src_ei': 'i', 'trg_ei': 'e'}\n",
      "('4', 'Pvalb') ('4', 'Rorb') 360 {'A_new': 0.488046931160011, 'sigma': 96.6, 'gradient': nan, 'intercept': nan, 'nsyn_range': [3, 8], 'src_ei': 'i', 'trg_ei': 'e'}\n",
      "('4', 'Pvalb') ('4', 'Rorb') 360 {'A_new': 0.488046931160011, 'sigma': 96.6, 'gradient': nan, 'intercept': nan, 'nsyn_range': [3, 8], 'src_ei': 'i', 'trg_ei': 'e'}\n",
      "('4', 'Pvalb') ('4', 'Rorb') 360 {'A_new': 0.488046931160011, 'sigma': 96.6, 'gradient': nan, 'intercept': nan, 'nsyn_range': [3, 8], 'src_ei': 'i', 'trg_ei': 'e'}\n",
      "('4', 'Pvalb') ('4', 'Rorb') 360 {'A_new': 0.488046931160011, 'sigma': 96.6, 'gradient': nan, 'intercept': nan, 'nsyn_range': [3, 8], 'src_ei': 'i', 'trg_ei': 'e'}\n",
      "('4', 'Pvalb') ('4', 'Rorb') 360 {'A_new': 0.488046931160011, 'sigma': 96.6, 'gradient': nan, 'intercept': nan, 'nsyn_range': [3, 8], 'src_ei': 'i', 'trg_ei': 'e'}\n",
      "('4', 'Pvalb') ('4', 'Rorb') 360 {'A_new': 0.488046931160011, 'sigma': 96.6, 'gradient': nan, 'intercept': nan, 'nsyn_range': [3, 8], 'src_ei': 'i', 'trg_ei': 'e'}\n",
      "('4', 'Pvalb') ('4', 'Rorb') 360 {'A_new': 0.488046931160011, 'sigma': 96.6, 'gradient': nan, 'intercept': nan, 'nsyn_range': [3, 8], 'src_ei': 'i', 'trg_ei': 'e'}\n",
      "('4', 'Pvalb') ('4', 'Scnn1a') 360 {'A_new': 0.488046931160011, 'sigma': 96.6, 'gradient': nan, 'intercept': nan, 'nsyn_range': [3, 8], 'src_ei': 'i', 'trg_ei': 'e'}\n",
      "('4', 'Pvalb') ('4', 'Scnn1a') 360 {'A_new': 0.488046931160011, 'sigma': 96.6, 'gradient': nan, 'intercept': nan, 'nsyn_range': [3, 8], 'src_ei': 'i', 'trg_ei': 'e'}\n",
      "('4', 'Pvalb') ('4', 'Scnn1a') 360 {'A_new': 0.488046931160011, 'sigma': 96.6, 'gradient': nan, 'intercept': nan, 'nsyn_range': [3, 8], 'src_ei': 'i', 'trg_ei': 'e'}\n",
      "('4', 'Pvalb') ('4', 'Scnn1a') 360 {'A_new': 0.488046931160011, 'sigma': 96.6, 'gradient': nan, 'intercept': nan, 'nsyn_range': [3, 8], 'src_ei': 'i', 'trg_ei': 'e'}\n",
      "('4', 'Pvalb') ('4', 'Scnn1a') 360 {'A_new': 0.488046931160011, 'sigma': 96.6, 'gradient': nan, 'intercept': nan, 'nsyn_range': [3, 8], 'src_ei': 'i', 'trg_ei': 'e'}\n",
      "('4', 'Sst') ('4', 'Rorb') 372 {'A_new': 0.476772423992245, 'sigma': 96.6, 'gradient': nan, 'intercept': nan, 'nsyn_range': [3, 8], 'src_ei': 'i', 'trg_ei': 'e'}\n",
      "('4', 'Sst') ('4', 'Rorb') 372 {'A_new': 0.476772423992245, 'sigma': 96.6, 'gradient': nan, 'intercept': nan, 'nsyn_range': [3, 8], 'src_ei': 'i', 'trg_ei': 'e'}\n",
      "('4', 'Sst') ('4', 'Rorb') 372 {'A_new': 0.476772423992245, 'sigma': 96.6, 'gradient': nan, 'intercept': nan, 'nsyn_range': [3, 8], 'src_ei': 'i', 'trg_ei': 'e'}\n",
      "('4', 'Sst') ('4', 'Rorb') 372 {'A_new': 0.476772423992245, 'sigma': 96.6, 'gradient': nan, 'intercept': nan, 'nsyn_range': [3, 8], 'src_ei': 'i', 'trg_ei': 'e'}\n",
      "('4', 'Sst') ('4', 'Rorb') 372 {'A_new': 0.476772423992245, 'sigma': 96.6, 'gradient': nan, 'intercept': nan, 'nsyn_range': [3, 8], 'src_ei': 'i', 'trg_ei': 'e'}\n",
      "('4', 'Sst') ('4', 'Rorb') 372 {'A_new': 0.476772423992245, 'sigma': 96.6, 'gradient': nan, 'intercept': nan, 'nsyn_range': [3, 8], 'src_ei': 'i', 'trg_ei': 'e'}\n",
      "('4', 'Sst') ('4', 'Rorb') 372 {'A_new': 0.476772423992245, 'sigma': 96.6, 'gradient': nan, 'intercept': nan, 'nsyn_range': [3, 8], 'src_ei': 'i', 'trg_ei': 'e'}\n",
      "('4', 'Sst') ('4', 'Rorb') 372 {'A_new': 0.476772423992245, 'sigma': 96.6, 'gradient': nan, 'intercept': nan, 'nsyn_range': [3, 8], 'src_ei': 'i', 'trg_ei': 'e'}\n",
      "('4', 'Sst') ('4', 'Rorb') 372 {'A_new': 0.476772423992245, 'sigma': 96.6, 'gradient': nan, 'intercept': nan, 'nsyn_range': [3, 8], 'src_ei': 'i', 'trg_ei': 'e'}\n",
      "('4', 'Sst') ('4', 'Rorb') 372 {'A_new': 0.476772423992245, 'sigma': 96.6, 'gradient': nan, 'intercept': nan, 'nsyn_range': [3, 8], 'src_ei': 'i', 'trg_ei': 'e'}\n",
      "('4', 'Sst') ('4', 'Rorb') 372 {'A_new': 0.476772423992245, 'sigma': 96.6, 'gradient': nan, 'intercept': nan, 'nsyn_range': [3, 8], 'src_ei': 'i', 'trg_ei': 'e'}\n",
      "('4', 'Sst') ('4', 'Rorb') 372 {'A_new': 0.476772423992245, 'sigma': 96.6, 'gradient': nan, 'intercept': nan, 'nsyn_range': [3, 8], 'src_ei': 'i', 'trg_ei': 'e'}\n",
      "('4', 'Sst') ('4', 'Rorb') 372 {'A_new': 0.476772423992245, 'sigma': 96.6, 'gradient': nan, 'intercept': nan, 'nsyn_range': [3, 8], 'src_ei': 'i', 'trg_ei': 'e'}\n",
      "('4', 'Sst') ('4', 'Rorb') 372 {'A_new': 0.476772423992245, 'sigma': 96.6, 'gradient': nan, 'intercept': nan, 'nsyn_range': [3, 8], 'src_ei': 'i', 'trg_ei': 'e'}\n",
      "('4', 'Sst') ('4', 'Rorb') 372 {'A_new': 0.476772423992245, 'sigma': 96.6, 'gradient': nan, 'intercept': nan, 'nsyn_range': [3, 8], 'src_ei': 'i', 'trg_ei': 'e'}\n",
      "('4', 'Sst') ('4', 'Rorb') 372 {'A_new': 0.476772423992245, 'sigma': 96.6, 'gradient': nan, 'intercept': nan, 'nsyn_range': [3, 8], 'src_ei': 'i', 'trg_ei': 'e'}\n",
      "('4', 'Sst') ('4', 'Rorb') 372 {'A_new': 0.476772423992245, 'sigma': 96.6, 'gradient': nan, 'intercept': nan, 'nsyn_range': [3, 8], 'src_ei': 'i', 'trg_ei': 'e'}\n",
      "('4', 'Sst') ('4', 'Rorb') 372 {'A_new': 0.476772423992245, 'sigma': 96.6, 'gradient': nan, 'intercept': nan, 'nsyn_range': [3, 8], 'src_ei': 'i', 'trg_ei': 'e'}\n",
      "('4', 'Sst') ('4', 'Rorb') 372 {'A_new': 0.476772423992245, 'sigma': 96.6, 'gradient': nan, 'intercept': nan, 'nsyn_range': [3, 8], 'src_ei': 'i', 'trg_ei': 'e'}\n",
      "('4', 'Sst') ('4', 'Rorb') 372 {'A_new': 0.476772423992245, 'sigma': 96.6, 'gradient': nan, 'intercept': nan, 'nsyn_range': [3, 8], 'src_ei': 'i', 'trg_ei': 'e'}\n",
      "('4', 'Sst') ('4', 'Rorb') 372 {'A_new': 0.476772423992245, 'sigma': 96.6, 'gradient': nan, 'intercept': nan, 'nsyn_range': [3, 8], 'src_ei': 'i', 'trg_ei': 'e'}\n",
      "('4', 'Sst') ('4', 'Scnn1a') 372 {'A_new': 0.476772423992245, 'sigma': 96.6, 'gradient': nan, 'intercept': nan, 'nsyn_range': [3, 8], 'src_ei': 'i', 'trg_ei': 'e'}\n",
      "('4', 'Sst') ('4', 'Scnn1a') 372 {'A_new': 0.476772423992245, 'sigma': 96.6, 'gradient': nan, 'intercept': nan, 'nsyn_range': [3, 8], 'src_ei': 'i', 'trg_ei': 'e'}\n",
      "('4', 'Sst') ('4', 'Scnn1a') 372 {'A_new': 0.476772423992245, 'sigma': 96.6, 'gradient': nan, 'intercept': nan, 'nsyn_range': [3, 8], 'src_ei': 'i', 'trg_ei': 'e'}\n",
      "('4', 'Sst') ('4', 'Scnn1a') 372 {'A_new': 0.476772423992245, 'sigma': 96.6, 'gradient': nan, 'intercept': nan, 'nsyn_range': [3, 8], 'src_ei': 'i', 'trg_ei': 'e'}\n",
      "('4', 'Sst') ('4', 'Scnn1a') 372 {'A_new': 0.476772423992245, 'sigma': 96.6, 'gradient': nan, 'intercept': nan, 'nsyn_range': [3, 8], 'src_ei': 'i', 'trg_ei': 'e'}\n",
      "bkg (('bkg', ''), ('4', 'Rorb')) 322723785 {'nsyns': 1, 'unitary_PSP': 0.0600000000000022, 'syn_weight': 7.090524410229e-08, 'target_median_fr': 2.12, 'syn_weight_psp': 1.1817540683714552e-06} 100 111\n",
      "bkg (('bkg', ''), ('4', 'Rorb')) 322761772 {'nsyns': 1, 'unitary_PSP': 0.0580000000000069, 'syn_weight': 7.090524410229e-08, 'target_median_fr': 2.12, 'syn_weight_psp': 1.2225042086600262e-06} 100 111\n",
      "bkg (('bkg', ''), ('4', 'Rorb')) 324065524 {'nsyns': 1, 'unitary_PSP': 0.0809999999999888, 'syn_weight': 7.090524410229e-08, 'target_median_fr': 2.12, 'syn_weight_psp': 8.753733839790093e-07} 100 111\n",
      "bkg (('bkg', ''), ('4', 'Rorb')) 329550277 {'nsyns': 1, 'unitary_PSP': 0.0619999999999976, 'syn_weight': 7.090524410229e-08, 'target_median_fr': 2.12, 'syn_weight_psp': 1.1436329693918182e-06} 100 111\n",
      "bkg (('bkg', ''), ('4', 'Rorb')) 466378900 {'nsyns': 1, 'unitary_PSP': 0.0930000000000035, 'syn_weight': 7.090524410229e-08, 'target_median_fr': 2.12, 'syn_weight_psp': 7.624219795944872e-07} 100 111\n",
      "bkg (('bkg', ''), ('4', 'Rorb')) 467003163 {'nsyns': 1, 'unitary_PSP': 0.0609999999999928, 'syn_weight': 7.090524410229e-08, 'target_median_fr': 2.12, 'syn_weight_psp': 1.1623810508573496e-06} 100 111\n",
      "bkg (('bkg', ''), ('4', 'Rorb')) 467357834 {'nsyns': 1, 'unitary_PSP': 0.054000000000002, 'syn_weight': 7.090524410229e-08, 'target_median_fr': 2.12, 'syn_weight_psp': 1.3130600759682837e-06} 100 111\n",
      "bkg (('bkg', ''), ('4', 'Rorb')) 469763389 {'nsyns': 1, 'unitary_PSP': 0.0659999999999882, 'syn_weight': 7.090524410229e-08, 'target_median_fr': 2.12, 'syn_weight_psp': 1.074321880337918e-06} 100 111\n",
      "bkg (('bkg', ''), ('4', 'Rorb')) 473020156 {'nsyns': 1, 'unitary_PSP': 0.0769999999999981, 'syn_weight': 7.090524410229e-08, 'target_median_fr': 2.12, 'syn_weight_psp': 9.20847326003788e-07} 100 111\n",
      "bkg (('bkg', ''), ('4', 'Rorb')) 476562817 {'nsyns': 1, 'unitary_PSP': 0.0609999999999928, 'syn_weight': 7.090524410229e-08, 'target_median_fr': 2.12, 'syn_weight_psp': 1.1623810508573496e-06} 100 111\n",
      "bkg (('bkg', ''), ('4', 'Rorb')) 478586425 {'nsyns': 1, 'unitary_PSP': 0.0670000000000072, 'syn_weight': 7.090524410229e-08, 'target_median_fr': 2.12, 'syn_weight_psp': 1.0582872254071984e-06} 100 111\n",
      "bkg (('bkg', ''), ('4', 'Rorb')) 479179020 {'nsyns': 1, 'unitary_PSP': 0.0570000000000021, 'syn_weight': 7.090524410229e-08, 'target_median_fr': 2.12, 'syn_weight_psp': 1.2439516509173212e-06} 100 111\n",
      "bkg (('bkg', ''), ('4', 'Rorb')) 484679812 {'nsyns': 1, 'unitary_PSP': 0.0769999999999981, 'syn_weight': 7.090524410229e-08, 'target_median_fr': 2.12, 'syn_weight_psp': 9.20847326003788e-07} 100 111\n",
      "bkg (('bkg', ''), ('4', 'Rorb')) 484770879 {'nsyns': 1, 'unitary_PSP': 0.0589999999999975, 'syn_weight': 7.090524410229e-08, 'target_median_fr': 2.12, 'syn_weight_psp': 1.2017837983439491e-06} 100 111\n",
      "bkg (('bkg', ''), ('4', 'Rorb')) 485836906 {'nsyns': 1, 'unitary_PSP': 0.0489999999999923, 'syn_weight': 7.090524410229e-08, 'target_median_fr': 2.12, 'syn_weight_psp': 1.4470457980061433e-06} 100 111\n",
      "bkg (('bkg', ''), ('4', 'Rorb')) 486472847 {'nsyns': 1, 'unitary_PSP': 0.0799999999999983, 'syn_weight': 7.090524410229e-08, 'target_median_fr': 2.12, 'syn_weight_psp': 8.863155512786438e-07} 100 111\n",
      "bkg (('bkg', ''), ('4', 'Rorb')) 486500736 {'nsyns': 1, 'unitary_PSP': 0.0409999999999968, 'syn_weight': 7.090524410229e-08, 'target_median_fr': 2.12, 'syn_weight_psp': 1.7293961976169635e-06} 100 111\n",
      "bkg (('bkg', ''), ('4', 'Rorb')) 490626718 {'nsyns': 1, 'unitary_PSP': 0.0709999999999979, 'syn_weight': 7.090524410229e-08, 'target_median_fr': 2.12, 'syn_weight_psp': 9.986654098914372e-07} 100 111\n",
      "bkg (('bkg', ''), ('4', 'Rorb')) 490626827 {'nsyns': 1, 'unitary_PSP': 0.0670000000000072, 'syn_weight': 7.090524410229e-08, 'target_median_fr': 2.12, 'syn_weight_psp': 1.0582872254071984e-06} 100 111\n",
      "bkg (('bkg', ''), ('4', 'Rorb')) 500859045 {'nsyns': 1, 'unitary_PSP': 0.061000000000007, 'syn_weight': 7.090524410229e-08, 'target_median_fr': 2.12, 'syn_weight_psp': 1.1623810508570787e-06} 100 111\n",
      "bkg (('bkg', ''), ('4', 'Rorb')) 500894271 {'nsyns': 1, 'unitary_PSP': 0.061000000000007, 'syn_weight': 7.090524410229e-08, 'target_median_fr': 2.12, 'syn_weight_psp': 1.1623810508570787e-06} 100 111\n",
      "bkg (('bkg', ''), ('4', 'Scnn1a')) 320207387 {'nsyns': 1, 'unitary_PSP': 0.0539999999999878, 'syn_weight': 8.59391427069e-11, 'target_median_fr': 2.12, 'syn_weight_psp': 1.5914656056836915e-09} 100 310\n",
      "bkg (('bkg', ''), ('4', 'Scnn1a')) 323838579 {'nsyns': 1, 'unitary_PSP': 0.0609999999999928, 'syn_weight': 8.59391427069e-11, 'target_median_fr': 2.12, 'syn_weight_psp': 1.4088384050313126e-09} 100 310\n",
      "bkg (('bkg', ''), ('4', 'Scnn1a')) 476266853 {'nsyns': 1, 'unitary_PSP': 0.0600000000000022, 'syn_weight': 8.59391427069e-11, 'target_median_fr': 2.12, 'syn_weight_psp': 1.4323190451149455e-09} 100 310\n",
      "bkg (('bkg', ''), ('4', 'Scnn1a')) 500964358 {'nsyns': 1, 'unitary_PSP': 0.0550000000000068, 'syn_weight': 8.59391427069e-11, 'target_median_fr': 2.12, 'syn_weight_psp': 1.562529867397988e-09} 100 310\n",
      "bkg (('bkg', ''), ('4', 'Scnn1a')) 517647182 {'nsyns': 1, 'unitary_PSP': 0.0559999999999973, 'syn_weight': 8.59391427069e-11, 'target_median_fr': 2.12, 'syn_weight_psp': 1.5346275483375714e-09} 100 310\n",
      "bkg (('bkg', ''), ('4', 'Vip')) 501570114 {'nsyns': 1, 'unitary_PSP': 0.0889999999999986, 'syn_weight': 0.793264203462, 'target_median_fr': 3.13, 'syn_weight_psp': 8.913080937775417} 100 15\n",
      "bkg (('bkg', ''), ('4', 'Vip')) 531121585 {'nsyns': 1, 'unitary_PSP': 0.0730000000000075, 'syn_weight': 0.793264203462, 'target_median_fr': 3.13, 'syn_weight_psp': 10.86663292413587} 100 15\n",
      "bkg (('bkg', ''), ('4', 'Vip')) 535728342 {'nsyns': 1, 'unitary_PSP': 0.1059999999999945, 'syn_weight': 0.793264203462, 'target_median_fr': 3.13, 'syn_weight_psp': 7.4836245609626495} 100 15\n",
      "bkg (('bkg', ''), ('4', 'Vip')) 560690291 {'nsyns': 1, 'unitary_PSP': 0.0709999999999979, 'syn_weight': 0.793264203462, 'target_median_fr': 3.13, 'syn_weight_psp': 11.17273526002849} 100 15\n",
      "bkg (('bkg', ''), ('4', 'Vip')) 561934585 {'nsyns': 1, 'unitary_PSP': 0.0450000000000017, 'syn_weight': 0.793264203462, 'target_median_fr': 3.13, 'syn_weight_psp': 17.628093410265997} 100 15\n",
      "bkg (('bkg', ''), ('4', 'Vip')) 562540395 {'nsyns': 1, 'unitary_PSP': 0.0690000000000026, 'syn_weight': 0.793264203462, 'target_median_fr': 3.13, 'syn_weight_psp': 11.49658265886913} 100 15\n",
      "bkg (('bkg', ''), ('4', 'Pvalb')) 478793814 {'nsyns': 1, 'unitary_PSP': 0.0309999999999917, 'syn_weight': 7.481130099256e-26, 'target_median_fr': 8.86, 'syn_weight_psp': 2.4132677739541942e-24} 100 24\n",
      "bkg (('bkg', ''), ('4', 'Pvalb')) 478958894 {'nsyns': 1, 'unitary_PSP': 0.0299999999999869, 'syn_weight': 7.481130099256e-26, 'target_median_fr': 8.86, 'syn_weight_psp': 2.4937100330864203e-24} 100 24\n",
      "bkg (('bkg', ''), ('4', 'Pvalb')) 481127173 {'nsyns': 1, 'unitary_PSP': 0.0360000000000013, 'syn_weight': 7.481130099256e-26, 'target_median_fr': 8.86, 'syn_weight_psp': 2.078091694237699e-24} 100 24\n",
      "bkg (('bkg', ''), ('4', 'Pvalb')) 481127348 {'nsyns': 1, 'unitary_PSP': 0.0460000000000064, 'syn_weight': 7.481130099256e-26, 'target_median_fr': 8.86, 'syn_weight_psp': 1.6263326302728143e-24} 100 24\n",
      "bkg (('bkg', ''), ('4', 'Pvalb')) 487405644 {'nsyns': 1, 'unitary_PSP': 0.0550000000000068, 'syn_weight': 7.481130099256e-26, 'target_median_fr': 8.86, 'syn_weight_psp': 1.3602054725918314e-24} 100 24\n",
      "bkg (('bkg', ''), ('4', 'Pvalb')) 487667205 {'nsyns': 1, 'unitary_PSP': 0.0370000000000061, 'syn_weight': 7.481130099256e-26, 'target_median_fr': 8.86, 'syn_weight_psp': 2.021927053852637e-24} 100 24\n",
      "bkg (('bkg', ''), ('4', 'Pvalb')) 491038812 {'nsyns': 1, 'unitary_PSP': 0.0289999999999963, 'syn_weight': 7.481130099256e-26, 'target_median_fr': 8.86, 'syn_weight_psp': 2.5797000342265305e-24} 100 24\n",
      "bkg (('bkg', ''), ('4', 'Pvalb')) 569997187 {'nsyns': 1, 'unitary_PSP': 0.0430000000000063, 'syn_weight': 7.481130099256e-26, 'target_median_fr': 8.86, 'syn_weight_psp': 1.739797697501138e-24} 100 24\n",
      "bkg (('bkg', ''), ('4', 'Pvalb')) 571314481 {'nsyns': 1, 'unitary_PSP': 0.0459999999999922, 'syn_weight': 7.481130099256e-26, 'target_median_fr': 8.86, 'syn_weight_psp': 1.6263326302733168e-24} 100 24\n",
      "bkg (('bkg', ''), ('4', 'Pvalb')) 572375809 {'nsyns': 1, 'unitary_PSP': 0.0349999999999965, 'syn_weight': 7.481130099256e-26, 'target_median_fr': 8.86, 'syn_weight_psp': 2.13746574264478e-24} 100 24\n",
      "bkg (('bkg', ''), ('4', 'Pvalb')) 579414994 {'nsyns': 1, 'unitary_PSP': 0.0290000000000034, 'syn_weight': 7.481130099256e-26, 'target_median_fr': 8.86, 'syn_weight_psp': 2.5797000342258983e-24} 100 24\n",
      "bkg (('bkg', ''), ('4', 'Sst')) 476099282 {'nsyns': 1, 'unitary_PSP': 0.0830000000000126, 'syn_weight': 3.657252909984, 'target_median_fr': 3.82, 'syn_weight_psp': 44.06328807208968} 100 62\n",
      "bkg (('bkg', ''), ('4', 'Sst')) 476753465 {'nsyns': 1, 'unitary_PSP': 0.0769999999999981, 'syn_weight': 3.657252909984, 'target_median_fr': 3.82, 'syn_weight_psp': 47.49679103875437} 100 62\n",
      "bkg (('bkg', ''), ('4', 'Sst')) 485061364 {'nsyns': 1, 'unitary_PSP': 0.0609999999999928, 'syn_weight': 3.657252909984, 'target_median_fr': 3.82, 'syn_weight_psp': 59.95496573744966} 100 62\n",
      "bkg (('bkg', ''), ('4', 'Sst')) 501280518 {'nsyns': 1, 'unitary_PSP': 0.0600000000000022, 'syn_weight': 3.657252909984, 'target_median_fr': 3.82, 'syn_weight_psp': 60.95421516639769} 100 62\n",
      "bkg (('bkg', ''), ('4', 'Sst')) 501282204 {'nsyns': 1, 'unitary_PSP': 0.0310000000000059, 'syn_weight': 3.657252909984, 'target_median_fr': 3.82, 'syn_weight_psp': 117.975900322042} 100 62\n",
      "bkg (('bkg', ''), ('4', 'Sst')) 573622646 {'nsyns': 1, 'unitary_PSP': 0.0490000000000065, 'syn_weight': 3.657252909984, 'target_median_fr': 3.82, 'syn_weight_psp': 74.63781448945934} 100 62\n"
     ]
    }
   ],
   "source": [
    "bmtk_net_builder = mousev1.V1BMTKNetworkBuilder(model_recipe.network_struct)\n",
    "bmtk_net = bmtk_net_builder.build()"
   ]
  },
  {
   "cell_type": "code",
   "execution_count": 18,
   "id": "55fd3483-9fca-48b4-9c53-68110a2600b2",
   "metadata": {},
   "outputs": [],
   "source": [
    "bmtk_net_builder.net.save(str(mdr_setup.network_dir))\n",
    "bmtk_net_builder.bkg_net.save(str(mdr_setup.network_dir))"
   ]
  },
  {
   "cell_type": "markdown",
   "id": "25b39224-a18f-4969-9df3-cbcacd04db52",
   "metadata": {},
   "source": [
    "## Running the SONATA Network in NEST\n",
    "\n",
    "1. Convert downloaded models to NEST confirmed models\n",
    "2. Load SONATA network in NEST\n",
    "3. Run Simulation"
   ]
  },
  {
   "cell_type": "code",
   "execution_count": 19,
   "id": "03924a47-6d1d-4daf-8417-f412ec0b536d",
   "metadata": {},
   "outputs": [],
   "source": [
    "# Converting to \n",
    "import mousev1.operations as mousev1ops\n",
    "import nest\n",
    "import matplotlib.pyplot as plt\n",
    "\n",
    "mousev1ops.convert_ctdb_models_to_nest(\n",
    "    \"./v1l4/components/point_neuron_models/\",\n",
    "    \"./v1l4/components/cell_models/\"\n",
    ")"
   ]
  },
  {
   "cell_type": "code",
   "execution_count": 20,
   "id": "6da88fea-873c-45d4-bedc-8c5c1eac8ad3",
   "metadata": {},
   "outputs": [
    {
     "name": "stdout",
     "output_type": "stream",
     "text": [
      "\n",
      "Apr 06 16:04:38 correlospinmatrix_detector [Info]: \n",
      "    Default for delta_tau changed from 0.1 to 0.25 ms\n",
      "\n",
      "Apr 06 16:04:38 SimulationManager::set_status [Info]: \n",
      "    Temporal resolution changed from 0.1 to 0.25 ms.\n",
      "Node Collections dict_keys(['v1l4', 'bkg'])\n"
     ]
    }
   ],
   "source": [
    "\n",
    "config_file = \"./v1l4/config_nest.json\"\n",
    "# Instantiate SonataNetwork\n",
    "sonata_net = nest.SonataNetwork(config_file)\n",
    "\n",
    "# Create and connect nodes\n",
    "node_collections = sonata_net.BuildNetwork()\n",
    "print(\"Node Collections\", node_collections.keys())\n"
   ]
  },
  {
   "cell_type": "code",
   "execution_count": 21,
   "id": "57bc5d3b-62cf-435b-8a3f-ce8bbbb5f471",
   "metadata": {},
   "outputs": [
    {
     "name": "stdout",
     "output_type": "stream",
     "text": [
      "\n",
      "Apr 06 16:04:46 NodeManager::prepare_nodes [Info]: \n",
      "    Preparing 6489 nodes for simulation.\n",
      "\n",
      "Apr 06 16:04:46 SimulationManager::start_updating_ [Info]: \n",
      "    Number of local nodes: 6489\n",
      "    Simulation time (ms): 3000\n",
      "    Number of OpenMP threads: 1\n",
      "    Not using MPI\n",
      "\n",
      "Apr 06 16:04:57 SimulationManager::run [Info]: \n",
      "    Simulation finished.\n"
     ]
    }
   ],
   "source": [
    "# Connect spike recorder to a population\n",
    "spike_rec = nest.Create(\"spike_recorder\")\n",
    "nest.Connect(node_collections[\"v1l4\"], spike_rec)\n",
    "\n",
    "# Attach Multimeter\n",
    "multi_meter = nest.Create(\n",
    "    \"multimeter\",\n",
    "    params={\n",
    "        # \"interval\": 0.05,\n",
    "        \"record_from\": [\"V_m\", \"I\", \"I_syn\", \"threshold\", \"threshold_spike\", \"threshold_voltage\", \"ASCurrents_sum\"],\n",
    "    },\n",
    ")\n",
    "nest.Connect(multi_meter, node_collections[\"v1l4\"])\n",
    "\n",
    "# Simulate the network\n",
    "sonata_net.Simulate()"
   ]
  },
  {
   "cell_type": "code",
   "execution_count": 22,
   "id": "0e2df10f-430e-400b-8196-74c51715cd40",
   "metadata": {},
   "outputs": [
    {
     "data": {
      "text/plain": [
       "[<matplotlib.lines.Line2D at 0x7ffeb1851d80>]"
      ]
     },
     "execution_count": 22,
     "metadata": {},
     "output_type": "execute_result"
    },
    {
     "data": {
      "image/png": "[encoded data removed]",
      "text/plain": [
       "<Figure size 640x480 with 1 Axes>"
      ]
     },
     "metadata": {},
     "output_type": "display_data"
    }
   ],
   "source": [
    "dmm = multi_meter.get()\n",
    "Vms = dmm[\"events\"][\"V_m\"]\n",
    "ts = dmm[\"events\"][\"times\"]\n",
    "#\n",
    "plt.figure(1)\n",
    "plt.plot(ts, Vms)"
   ]
  },
  {
   "cell_type": "code",
   "execution_count": 23,
   "id": "dfb68d0f-196e-4b6a-bc5e-86f11a5bd6e3",
   "metadata": {},
   "outputs": [
    {
     "data": {
      "image/png": "[encoded data removed]",
      "text/plain": [
       "<Figure size 640x480 with 1 Axes>"
      ]
     },
     "metadata": {},
     "output_type": "display_data"
    }
   ],
   "source": [
    "spike_data = spike_rec.events\n",
    "spike_senders = spike_data[\"senders\"]\n",
    "ts = spike_data[\"times\"]\n",
    "plt.figure(2)\n",
    "plt.plot(ts, spike_senders, \".\")\n",
    "plt.show()"
   ]
  },
  {
   "cell_type": "code",
   "execution_count": null,
   "id": "e98cb3ed-db6a-4ce8-870e-8aeb77eb765b",
   "metadata": {},
   "outputs": [],
   "source": []
  }
 ],
 "metadata": {
  "kernelspec": {
   "display_name": "Python 3 (ipykernel)",
   "language": "python",
   "name": "python3"
  },
  "language_info": {
   "codemirror_mode": {
    "name": "ipython",
    "version": 3
   },
   "file_extension": ".py",
   "mimetype": "text/x-python",
   "name": "python",
   "nbconvert_exporter": "python",
   "pygments_lexer": "ipython3",
   "version": "3.10.16"
  }
 },
 "nbformat": 4,
 "nbformat_minor": 5
}
